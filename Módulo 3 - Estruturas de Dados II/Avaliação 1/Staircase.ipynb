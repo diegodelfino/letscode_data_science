{
 "cells": [
  {
   "cell_type": "markdown",
   "id": "32a71fe1-d900-496b-ab44-9a53f1fcf724",
   "metadata": {
    "tags": []
   },
   "source": [
    "# Aluno Diego Delfino de Araujo\n",
    "\n",
    "# Avaliação 1, Turma 814  | Staircase"
   ]
  },
  {
   "cell_type": "code",
   "execution_count": null,
   "id": "dedecb52-ed64-4812-8204-b63fea589dcd",
   "metadata": {
    "tags": []
   },
   "outputs": [],
   "source": [
    "#!/bin/python3\n",
    "\n",
    "import math\n",
    "import os\n",
    "import random\n",
    "import re\n",
    "import sys\n",
    "\n",
    "#\n",
    "# Complete the 'staircase' function below.\n",
    "#\n",
    "# The function accepts INTEGER n as parameter.\n",
    "#\n",
    "\n",
    "def staircase(n):\n",
    "    # Write your code here\n",
    "    for i in range(1, 1+n):\n",
    "        s = '#' * i\n",
    "        i += 1\n",
    "        print(s.rjust(n))\n",
    "\n",
    "if __name__ == '__main__':\n",
    "    n = int(input().strip())\n",
    "\n",
    "    staircase(n)"
   ]
  },
  {
   "cell_type": "code",
   "execution_count": null,
   "id": "d30c2318-2a2d-49c7-b05a-cc86f216559c",
   "metadata": {},
   "outputs": [],
   "source": []
  }
 ],
 "metadata": {
  "kernelspec": {
   "display_name": "Python 3 (ipykernel)",
   "language": "python",
   "name": "python3"
  },
  "language_info": {
   "codemirror_mode": {
    "name": "ipython",
    "version": 3
   },
   "file_extension": ".py",
   "mimetype": "text/x-python",
   "name": "python",
   "nbconvert_exporter": "python",
   "pygments_lexer": "ipython3",
   "version": "3.9.7"
  }
 },
 "nbformat": 4,
 "nbformat_minor": 5
}
