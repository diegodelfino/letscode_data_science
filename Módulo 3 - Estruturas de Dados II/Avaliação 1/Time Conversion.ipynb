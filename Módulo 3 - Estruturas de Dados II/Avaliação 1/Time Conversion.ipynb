{
 "cells": [
  {
   "cell_type": "markdown",
   "id": "1d403bfe-0b6d-4141-9767-c5bd35bb2937",
   "metadata": {
    "tags": []
   },
   "source": [
    "# Aluno Diego Delfino de Araujo\n",
    "\n",
    "# Avaliação 1, Turma 814  | Time Conversion"
   ]
  },
  {
   "cell_type": "code",
   "execution_count": null,
   "id": "13d6f5a4-ce68-457b-a3f5-2b5f16a4c68b",
   "metadata": {},
   "outputs": [],
   "source": [
    "#!/bin/python3\n",
    "\n",
    "import math\n",
    "import os\n",
    "import random\n",
    "import re\n",
    "import sys\n",
    "\n",
    "#\n",
    "# Complete the 'timeConversion' function below.\n",
    "#\n",
    "# The function is expected to return a STRING.\n",
    "# The function accepts STRING s as parameter.\n",
    "#\n",
    "\n",
    "def timeConversion(s):\n",
    "    # Write your code here\n",
    "    conversao = s[-2:]\n",
    "    if conversao == 'PM' and s[:2] != '12':\n",
    "        s = str( 12 + int(s[:2])) + s[2:]\n",
    "\n",
    "    if conversao == 'AM' and s[:2] == '12':\n",
    "        s = '00' + s[2:]\n",
    "    \n",
    "    return s[:-2]\n",
    "        \n",
    "if __name__ == '__main__':\n",
    "    fptr = open(os.environ['OUTPUT_PATH'], 'w')\n",
    "\n",
    "    s = input()\n",
    "\n",
    "    result = timeConversion(s)\n",
    "\n",
    "    fptr.write(result + '\\n')\n",
    "\n",
    "    fptr.close()"
   ]
  },
  {
   "cell_type": "code",
   "execution_count": null,
   "id": "ae5f3a39-f2ce-4d4d-8f3c-81bd8f028a13",
   "metadata": {},
   "outputs": [],
   "source": []
  }
 ],
 "metadata": {
  "kernelspec": {
   "display_name": "Python 3 (ipykernel)",
   "language": "python",
   "name": "python3"
  },
  "language_info": {
   "codemirror_mode": {
    "name": "ipython",
    "version": 3
   },
   "file_extension": ".py",
   "mimetype": "text/x-python",
   "name": "python",
   "nbconvert_exporter": "python",
   "pygments_lexer": "ipython3",
   "version": "3.9.7"
  }
 },
 "nbformat": 4,
 "nbformat_minor": 5
}
