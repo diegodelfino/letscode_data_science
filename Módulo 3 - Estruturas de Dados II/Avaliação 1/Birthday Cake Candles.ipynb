{
 "cells": [
  {
   "cell_type": "markdown",
   "id": "96d65c2f-e81d-4b44-bf99-8b1cd5c2e58b",
   "metadata": {
    "tags": []
   },
   "source": [
    "# Aluno Diego Delfino de Araujo\n",
    "\n",
    "# Avaliação 1, Turma 814 | Birthday Cake Candles"
   ]
  },
  {
   "cell_type": "code",
   "execution_count": null,
   "id": "7bb3b09e-764c-4ef5-aa05-a1457894553d",
   "metadata": {},
   "outputs": [],
   "source": [
    "#!/bin/python3\n",
    "\n",
    "import math\n",
    "import os\n",
    "import random\n",
    "import re\n",
    "import sys\n",
    "\n",
    "#\n",
    "# Complete the 'birthdayCakeCandles' function below.\n",
    "#\n",
    "# The function is expected to return an INTEGER.\n",
    "# The function accepts INTEGER_ARRAY candles as parameter.\n",
    "#\n",
    "\n",
    "def birthdayCakeCandles(candles):\n",
    "    m = max(candles) #verifica o maior valor dentro da lista de velas, ou seja, eh 3\n",
    "    count = 0 # inicializa um contador\n",
    "    \n",
    "    for i in candles: # para cada index dentro da lista de velas\n",
    "        if i == m: # se o index tiver valor igual ao maior dentro da lista de velas, o 3 aparece 2x\n",
    "            count += 1 # incrementa +1 no contador\n",
    "    return count # retorna a quantidade de vezes que o 3 aparece na lista\n",
    "            \n",
    "\n",
    "if __name__ == '__main__':\n",
    "    fptr = open(os.environ['OUTPUT_PATH'], 'w')\n",
    "\n",
    "    candles_count = int(input().strip())\n",
    "\n",
    "    candles = list(map(int, input().rstrip().split()))\n",
    "\n",
    "    result = birthdayCakeCandles(candles)\n",
    "\n",
    "    fptr.write(str(result) + '\\n')\n",
    "\n",
    "    fptr.close()"
   ]
  },
  {
   "cell_type": "code",
   "execution_count": null,
   "id": "df50d2e3-4eff-4503-9fe9-a330da4e223c",
   "metadata": {},
   "outputs": [],
   "source": []
  }
 ],
 "metadata": {
  "kernelspec": {
   "display_name": "Python 3 (ipykernel)",
   "language": "python",
   "name": "python3"
  },
  "language_info": {
   "codemirror_mode": {
    "name": "ipython",
    "version": 3
   },
   "file_extension": ".py",
   "mimetype": "text/x-python",
   "name": "python",
   "nbconvert_exporter": "python",
   "pygments_lexer": "ipython3",
   "version": "3.9.7"
  }
 },
 "nbformat": 4,
 "nbformat_minor": 5
}
