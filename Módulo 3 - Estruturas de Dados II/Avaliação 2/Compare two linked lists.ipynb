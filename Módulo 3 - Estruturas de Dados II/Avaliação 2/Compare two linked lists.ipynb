{
 "cells": [
  {
   "cell_type": "markdown",
   "id": "0e5b1f23-5af8-4f69-8d72-8e71c1becb9a",
   "metadata": {},
   "source": [
    "# Aluno Diego Delfino de Araujo\n",
    "\n",
    "# Avaliação 2, Turma 814  | Compare two linked lists"
   ]
  },
  {
   "cell_type": "code",
   "execution_count": null,
   "id": "73f76962-1032-4a45-98bf-2ca16a3d8551",
   "metadata": {},
   "outputs": [],
   "source": [
    "# Complete the compare_lists function below.\n",
    "\n",
    "#\n",
    "# For your reference:\n",
    "#\n",
    "# SinglyLinkedListNode:\n",
    "#     int data\n",
    "#     SinglyLinkedListNode next\n",
    "#\n",
    "#\n",
    "def compare_lists(llist1, llist2):\n",
    "    head1 = llist1\n",
    "    head2 = llist2\n",
    "    \n",
    "#while head1 != None and head2 != None:\n",
    "    while head1 and head2:\n",
    "        if head1.data == head2.data:\n",
    "            head1 = head1.next\n",
    "            head2 = head2.next\n",
    "        else:\n",
    "            return 0\n",
    "    \n",
    "    if head1 == None and head2 == None:\n",
    "        return 1\n",
    "    else:\n",
    "        return 0"
   ]
  }
 ],
 "metadata": {
  "kernelspec": {
   "display_name": "Python 3 (ipykernel)",
   "language": "python",
   "name": "python3"
  },
  "language_info": {
   "codemirror_mode": {
    "name": "ipython",
    "version": 3
   },
   "file_extension": ".py",
   "mimetype": "text/x-python",
   "name": "python",
   "nbconvert_exporter": "python",
   "pygments_lexer": "ipython3",
   "version": "3.9.7"
  }
 },
 "nbformat": 4,
 "nbformat_minor": 5
}
