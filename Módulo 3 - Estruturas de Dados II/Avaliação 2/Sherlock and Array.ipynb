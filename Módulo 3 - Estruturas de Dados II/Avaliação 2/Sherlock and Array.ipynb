{
 "cells": [
  {
   "cell_type": "markdown",
   "id": "7565e56e-4793-495c-ae0b-ce108045997c",
   "metadata": {},
   "source": [
    "# Aluno Diego Delfino de Araujo\n",
    "\n",
    "# Avaliação 2, Turma 814  | Sherlock and Array"
   ]
  },
  {
   "cell_type": "code",
   "execution_count": null,
   "id": "7110e8a6-8b18-4018-8af1-b7db35f3ea42",
   "metadata": {},
   "outputs": [],
   "source": [
    "#!/bin/python3\n",
    "\n",
    "import math\n",
    "import os\n",
    "import random\n",
    "import re\n",
    "import sys\n",
    "\n",
    "#\n",
    "# Complete the 'balancedSums' function below.\n",
    "#\n",
    "# The function is expected to return a STRING.\n",
    "# The function accepts INTEGER_ARRAY arr as parameter.\n",
    "#\n",
    "\n",
    "def balancedSums(arr):\n",
    "    # Write your code here\n",
    "    right = sum(arr)\n",
    "    left = 0\n",
    "    \n",
    "    for num in arr:\n",
    "        right -= num\n",
    "        if left == right:\n",
    "            return \"YES\"\n",
    "        left += num\n",
    "    return \"NO\"\n",
    "    \n",
    "\n",
    "if __name__ == '__main__':\n",
    "    fptr = open(os.environ['OUTPUT_PATH'], 'w')\n",
    "\n",
    "    T = int(input().strip())\n",
    "\n",
    "    for T_itr in range(T):\n",
    "        n = int(input().strip())\n",
    "\n",
    "        arr = list(map(int, input().rstrip().split()))\n",
    "\n",
    "        result = balancedSums(arr)\n",
    "\n",
    "        fptr.write(result + '\\n')\n",
    "\n",
    "    fptr.close()"
   ]
  }
 ],
 "metadata": {
  "kernelspec": {
   "display_name": "Python 3 (ipykernel)",
   "language": "python",
   "name": "python3"
  },
  "language_info": {
   "codemirror_mode": {
    "name": "ipython",
    "version": 3
   },
   "file_extension": ".py",
   "mimetype": "text/x-python",
   "name": "python",
   "nbconvert_exporter": "python",
   "pygments_lexer": "ipython3",
   "version": "3.9.7"
  }
 },
 "nbformat": 4,
 "nbformat_minor": 5
}
