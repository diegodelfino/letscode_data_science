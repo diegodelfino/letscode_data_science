{
 "cells": [
  {
   "cell_type": "markdown",
   "id": "6aeb48e3",
   "metadata": {},
   "source": [
    "# 1 - ANÁLISE POPULANDO OS NaN's"
   ]
  },
  {
   "cell_type": "markdown",
   "id": "0b4a50eb-27ca-4947-ad51-71be6b2804fb",
   "metadata": {},
   "source": [
    "Importando as bibliotecas e selecionando as colunas no dataframe com o import"
   ]
  },
  {
   "cell_type": "code",
   "execution_count": 1,
   "id": "373c11e6-9fe3-4857-a2c6-7e2b01c112ce",
   "metadata": {},
   "outputs": [],
   "source": [
    "import pandas as pd\n",
    "import numpy as np\n",
    "import warnings\n",
    "pd.options.display.float_format= \"{:,.2f}\".format\n",
    "warnings.filterwarnings(\"ignore\")"
   ]
  },
  {
   "cell_type": "code",
   "execution_count": 2,
   "id": "28e003aa-0023-42d8-a2d3-da08923078fc",
   "metadata": {},
   "outputs": [],
   "source": [
    "cols=['SG_UF_RESIDENCIA','SG_UF_NASCIMENTO','NU_IDADE','TP_SEXO','TP_COR_RACA','TP_ESCOLA','CO_ESCOLA','TP_PRESENCA_CN','TP_PRESENCA_CH',\n",
    "     'TP_PRESENCA_LC','TP_PRESENCA_MT','NU_NOTA_CN','NU_NOTA_CH','NU_NOTA_LC','NU_NOTA_MT','TP_LINGUA','NU_NOTA_REDACAO','Q006','Q025']\n",
    "df = pd.read_csv('./microdados_enem_2019/DADOS/MICRODADOS_ENEM_2019.csv', encoding='latin-1', sep=\";\", usecols=cols)"
   ]
  },
  {
   "cell_type": "code",
   "execution_count": 3,
   "id": "d6d8763f",
   "metadata": {},
   "outputs": [
    {
     "data": {
      "text/html": [
       "<div>\n",
       "<style scoped>\n",
       "    .dataframe tbody tr th:only-of-type {\n",
       "        vertical-align: middle;\n",
       "    }\n",
       "\n",
       "    .dataframe tbody tr th {\n",
       "        vertical-align: top;\n",
       "    }\n",
       "\n",
       "    .dataframe thead th {\n",
       "        text-align: right;\n",
       "    }\n",
       "</style>\n",
       "<table border=\"1\" class=\"dataframe\">\n",
       "  <thead>\n",
       "    <tr style=\"text-align: right;\">\n",
       "      <th></th>\n",
       "      <th>SG_UF_RESIDENCIA</th>\n",
       "      <th>NU_IDADE</th>\n",
       "      <th>TP_SEXO</th>\n",
       "      <th>TP_COR_RACA</th>\n",
       "      <th>SG_UF_NASCIMENTO</th>\n",
       "      <th>TP_ESCOLA</th>\n",
       "      <th>CO_ESCOLA</th>\n",
       "      <th>TP_PRESENCA_CN</th>\n",
       "      <th>TP_PRESENCA_CH</th>\n",
       "      <th>TP_PRESENCA_LC</th>\n",
       "      <th>TP_PRESENCA_MT</th>\n",
       "      <th>NU_NOTA_CN</th>\n",
       "      <th>NU_NOTA_CH</th>\n",
       "      <th>NU_NOTA_LC</th>\n",
       "      <th>NU_NOTA_MT</th>\n",
       "      <th>TP_LINGUA</th>\n",
       "      <th>NU_NOTA_REDACAO</th>\n",
       "      <th>Q006</th>\n",
       "      <th>Q025</th>\n",
       "    </tr>\n",
       "  </thead>\n",
       "  <tbody>\n",
       "    <tr>\n",
       "      <th>0</th>\n",
       "      <td>SP</td>\n",
       "      <td>36.00</td>\n",
       "      <td>M</td>\n",
       "      <td>3</td>\n",
       "      <td>BA</td>\n",
       "      <td>1</td>\n",
       "      <td>NaN</td>\n",
       "      <td>0</td>\n",
       "      <td>0</td>\n",
       "      <td>0</td>\n",
       "      <td>0</td>\n",
       "      <td>NaN</td>\n",
       "      <td>NaN</td>\n",
       "      <td>NaN</td>\n",
       "      <td>NaN</td>\n",
       "      <td>0</td>\n",
       "      <td>NaN</td>\n",
       "      <td>A</td>\n",
       "      <td>B</td>\n",
       "    </tr>\n",
       "    <tr>\n",
       "      <th>1</th>\n",
       "      <td>BA</td>\n",
       "      <td>23.00</td>\n",
       "      <td>M</td>\n",
       "      <td>1</td>\n",
       "      <td>BA</td>\n",
       "      <td>1</td>\n",
       "      <td>NaN</td>\n",
       "      <td>0</td>\n",
       "      <td>0</td>\n",
       "      <td>0</td>\n",
       "      <td>0</td>\n",
       "      <td>NaN</td>\n",
       "      <td>NaN</td>\n",
       "      <td>NaN</td>\n",
       "      <td>NaN</td>\n",
       "      <td>0</td>\n",
       "      <td>NaN</td>\n",
       "      <td>C</td>\n",
       "      <td>B</td>\n",
       "    </tr>\n",
       "    <tr>\n",
       "      <th>2</th>\n",
       "      <td>CE</td>\n",
       "      <td>39.00</td>\n",
       "      <td>F</td>\n",
       "      <td>3</td>\n",
       "      <td>CE</td>\n",
       "      <td>1</td>\n",
       "      <td>NaN</td>\n",
       "      <td>0</td>\n",
       "      <td>0</td>\n",
       "      <td>0</td>\n",
       "      <td>0</td>\n",
       "      <td>NaN</td>\n",
       "      <td>NaN</td>\n",
       "      <td>NaN</td>\n",
       "      <td>NaN</td>\n",
       "      <td>1</td>\n",
       "      <td>NaN</td>\n",
       "      <td>B</td>\n",
       "      <td>B</td>\n",
       "    </tr>\n",
       "    <tr>\n",
       "      <th>3</th>\n",
       "      <td>TO</td>\n",
       "      <td>25.00</td>\n",
       "      <td>F</td>\n",
       "      <td>1</td>\n",
       "      <td>TO</td>\n",
       "      <td>1</td>\n",
       "      <td>NaN</td>\n",
       "      <td>1</td>\n",
       "      <td>1</td>\n",
       "      <td>1</td>\n",
       "      <td>1</td>\n",
       "      <td>483.80</td>\n",
       "      <td>503.60</td>\n",
       "      <td>537.30</td>\n",
       "      <td>392.00</td>\n",
       "      <td>1</td>\n",
       "      <td>460.00</td>\n",
       "      <td>E</td>\n",
       "      <td>B</td>\n",
       "    </tr>\n",
       "    <tr>\n",
       "      <th>4</th>\n",
       "      <td>MG</td>\n",
       "      <td>22.00</td>\n",
       "      <td>F</td>\n",
       "      <td>1</td>\n",
       "      <td>MG</td>\n",
       "      <td>1</td>\n",
       "      <td>NaN</td>\n",
       "      <td>1</td>\n",
       "      <td>1</td>\n",
       "      <td>1</td>\n",
       "      <td>1</td>\n",
       "      <td>513.60</td>\n",
       "      <td>575.50</td>\n",
       "      <td>570.70</td>\n",
       "      <td>677.00</td>\n",
       "      <td>0</td>\n",
       "      <td>860.00</td>\n",
       "      <td>G</td>\n",
       "      <td>B</td>\n",
       "    </tr>\n",
       "    <tr>\n",
       "      <th>...</th>\n",
       "      <td>...</td>\n",
       "      <td>...</td>\n",
       "      <td>...</td>\n",
       "      <td>...</td>\n",
       "      <td>...</td>\n",
       "      <td>...</td>\n",
       "      <td>...</td>\n",
       "      <td>...</td>\n",
       "      <td>...</td>\n",
       "      <td>...</td>\n",
       "      <td>...</td>\n",
       "      <td>...</td>\n",
       "      <td>...</td>\n",
       "      <td>...</td>\n",
       "      <td>...</td>\n",
       "      <td>...</td>\n",
       "      <td>...</td>\n",
       "      <td>...</td>\n",
       "      <td>...</td>\n",
       "    </tr>\n",
       "    <tr>\n",
       "      <th>5095265</th>\n",
       "      <td>DF</td>\n",
       "      <td>41.00</td>\n",
       "      <td>F</td>\n",
       "      <td>3</td>\n",
       "      <td>PA</td>\n",
       "      <td>1</td>\n",
       "      <td>NaN</td>\n",
       "      <td>0</td>\n",
       "      <td>0</td>\n",
       "      <td>0</td>\n",
       "      <td>0</td>\n",
       "      <td>NaN</td>\n",
       "      <td>NaN</td>\n",
       "      <td>NaN</td>\n",
       "      <td>NaN</td>\n",
       "      <td>0</td>\n",
       "      <td>NaN</td>\n",
       "      <td>C</td>\n",
       "      <td>B</td>\n",
       "    </tr>\n",
       "    <tr>\n",
       "      <th>5095266</th>\n",
       "      <td>AM</td>\n",
       "      <td>20.00</td>\n",
       "      <td>M</td>\n",
       "      <td>3</td>\n",
       "      <td>AM</td>\n",
       "      <td>1</td>\n",
       "      <td>NaN</td>\n",
       "      <td>0</td>\n",
       "      <td>1</td>\n",
       "      <td>1</td>\n",
       "      <td>0</td>\n",
       "      <td>NaN</td>\n",
       "      <td>578.90</td>\n",
       "      <td>555.50</td>\n",
       "      <td>NaN</td>\n",
       "      <td>1</td>\n",
       "      <td>500.00</td>\n",
       "      <td>C</td>\n",
       "      <td>B</td>\n",
       "    </tr>\n",
       "    <tr>\n",
       "      <th>5095267</th>\n",
       "      <td>RS</td>\n",
       "      <td>21.00</td>\n",
       "      <td>M</td>\n",
       "      <td>0</td>\n",
       "      <td>RS</td>\n",
       "      <td>1</td>\n",
       "      <td>NaN</td>\n",
       "      <td>0</td>\n",
       "      <td>0</td>\n",
       "      <td>0</td>\n",
       "      <td>0</td>\n",
       "      <td>NaN</td>\n",
       "      <td>NaN</td>\n",
       "      <td>NaN</td>\n",
       "      <td>NaN</td>\n",
       "      <td>0</td>\n",
       "      <td>NaN</td>\n",
       "      <td>C</td>\n",
       "      <td>B</td>\n",
       "    </tr>\n",
       "    <tr>\n",
       "      <th>5095268</th>\n",
       "      <td>RS</td>\n",
       "      <td>22.00</td>\n",
       "      <td>M</td>\n",
       "      <td>0</td>\n",
       "      <td>RS</td>\n",
       "      <td>1</td>\n",
       "      <td>NaN</td>\n",
       "      <td>0</td>\n",
       "      <td>0</td>\n",
       "      <td>0</td>\n",
       "      <td>0</td>\n",
       "      <td>NaN</td>\n",
       "      <td>NaN</td>\n",
       "      <td>NaN</td>\n",
       "      <td>NaN</td>\n",
       "      <td>0</td>\n",
       "      <td>NaN</td>\n",
       "      <td>A</td>\n",
       "      <td>B</td>\n",
       "    </tr>\n",
       "    <tr>\n",
       "      <th>5095269</th>\n",
       "      <td>RS</td>\n",
       "      <td>21.00</td>\n",
       "      <td>F</td>\n",
       "      <td>0</td>\n",
       "      <td>SC</td>\n",
       "      <td>1</td>\n",
       "      <td>NaN</td>\n",
       "      <td>0</td>\n",
       "      <td>0</td>\n",
       "      <td>0</td>\n",
       "      <td>0</td>\n",
       "      <td>NaN</td>\n",
       "      <td>NaN</td>\n",
       "      <td>NaN</td>\n",
       "      <td>NaN</td>\n",
       "      <td>1</td>\n",
       "      <td>NaN</td>\n",
       "      <td>C</td>\n",
       "      <td>B</td>\n",
       "    </tr>\n",
       "  </tbody>\n",
       "</table>\n",
       "<p>5095270 rows × 19 columns</p>\n",
       "</div>"
      ],
      "text/plain": [
       "        SG_UF_RESIDENCIA  NU_IDADE TP_SEXO  TP_COR_RACA SG_UF_NASCIMENTO  \\\n",
       "0                     SP     36.00       M            3               BA   \n",
       "1                     BA     23.00       M            1               BA   \n",
       "2                     CE     39.00       F            3               CE   \n",
       "3                     TO     25.00       F            1               TO   \n",
       "4                     MG     22.00       F            1               MG   \n",
       "...                  ...       ...     ...          ...              ...   \n",
       "5095265               DF     41.00       F            3               PA   \n",
       "5095266               AM     20.00       M            3               AM   \n",
       "5095267               RS     21.00       M            0               RS   \n",
       "5095268               RS     22.00       M            0               RS   \n",
       "5095269               RS     21.00       F            0               SC   \n",
       "\n",
       "         TP_ESCOLA  CO_ESCOLA  TP_PRESENCA_CN  TP_PRESENCA_CH  TP_PRESENCA_LC  \\\n",
       "0                1        NaN               0               0               0   \n",
       "1                1        NaN               0               0               0   \n",
       "2                1        NaN               0               0               0   \n",
       "3                1        NaN               1               1               1   \n",
       "4                1        NaN               1               1               1   \n",
       "...            ...        ...             ...             ...             ...   \n",
       "5095265          1        NaN               0               0               0   \n",
       "5095266          1        NaN               0               1               1   \n",
       "5095267          1        NaN               0               0               0   \n",
       "5095268          1        NaN               0               0               0   \n",
       "5095269          1        NaN               0               0               0   \n",
       "\n",
       "         TP_PRESENCA_MT  NU_NOTA_CN  NU_NOTA_CH  NU_NOTA_LC  NU_NOTA_MT  \\\n",
       "0                     0         NaN         NaN         NaN         NaN   \n",
       "1                     0         NaN         NaN         NaN         NaN   \n",
       "2                     0         NaN         NaN         NaN         NaN   \n",
       "3                     1      483.80      503.60      537.30      392.00   \n",
       "4                     1      513.60      575.50      570.70      677.00   \n",
       "...                 ...         ...         ...         ...         ...   \n",
       "5095265               0         NaN         NaN         NaN         NaN   \n",
       "5095266               0         NaN      578.90      555.50         NaN   \n",
       "5095267               0         NaN         NaN         NaN         NaN   \n",
       "5095268               0         NaN         NaN         NaN         NaN   \n",
       "5095269               0         NaN         NaN         NaN         NaN   \n",
       "\n",
       "         TP_LINGUA  NU_NOTA_REDACAO Q006 Q025  \n",
       "0                0              NaN    A    B  \n",
       "1                0              NaN    C    B  \n",
       "2                1              NaN    B    B  \n",
       "3                1           460.00    E    B  \n",
       "4                0           860.00    G    B  \n",
       "...            ...              ...  ...  ...  \n",
       "5095265          0              NaN    C    B  \n",
       "5095266          1           500.00    C    B  \n",
       "5095267          0              NaN    C    B  \n",
       "5095268          0              NaN    A    B  \n",
       "5095269          1              NaN    C    B  \n",
       "\n",
       "[5095270 rows x 19 columns]"
      ]
     },
     "execution_count": 3,
     "metadata": {},
     "output_type": "execute_result"
    }
   ],
   "source": [
    "df"
   ]
  },
  {
   "cell_type": "code",
   "execution_count": 4,
   "id": "fe006f71",
   "metadata": {
    "scrolled": true
   },
   "outputs": [
    {
     "data": {
      "text/plain": [
       "SG_UF_RESIDENCIA          0\n",
       "NU_IDADE                 69\n",
       "TP_SEXO                   0\n",
       "TP_COR_RACA               0\n",
       "SG_UF_NASCIMENTO     145249\n",
       "TP_ESCOLA                 0\n",
       "CO_ESCOLA           3947858\n",
       "TP_PRESENCA_CN            0\n",
       "TP_PRESENCA_CH            0\n",
       "TP_PRESENCA_LC            0\n",
       "TP_PRESENCA_MT            0\n",
       "NU_NOTA_CN          1384837\n",
       "NU_NOTA_CH          1172125\n",
       "NU_NOTA_LC          1172125\n",
       "NU_NOTA_MT          1384837\n",
       "TP_LINGUA                 0\n",
       "NU_NOTA_REDACAO     1172126\n",
       "Q006                      0\n",
       "Q025                      0\n",
       "dtype: int64"
      ]
     },
     "execution_count": 4,
     "metadata": {},
     "output_type": "execute_result"
    }
   ],
   "source": [
    "df.isna().sum()"
   ]
  },
  {
   "cell_type": "markdown",
   "id": "eef07431",
   "metadata": {},
   "source": [
    "As notas NaN são as abstenções e serão mantidos para a análise."
   ]
  },
  {
   "cell_type": "markdown",
   "id": "c62d8d0b",
   "metadata": {},
   "source": [
    "Alterando os nomes das colunas:"
   ]
  },
  {
   "cell_type": "code",
   "execution_count": 5,
   "id": "5afcbb56",
   "metadata": {},
   "outputs": [
    {
     "ename": "ValueError",
     "evalue": "Length mismatch: Expected axis has 19 elements, new values have 10 elements",
     "output_type": "error",
     "traceback": [
      "\u001b[1;31m---------------------------------------------------------------------------\u001b[0m",
      "\u001b[1;31mValueError\u001b[0m                                Traceback (most recent call last)",
      "\u001b[1;32m~\\AppData\\Local\\Temp/ipykernel_8336/1282983184.py\u001b[0m in \u001b[0;36m<module>\u001b[1;34m\u001b[0m\n\u001b[1;32m----> 1\u001b[1;33m \u001b[0mdf\u001b[0m\u001b[1;33m.\u001b[0m\u001b[0mcolumns\u001b[0m \u001b[1;33m=\u001b[0m \u001b[1;33m[\u001b[0m\u001b[1;34m\"UF_RESIDENCIA\"\u001b[0m\u001b[1;33m,\u001b[0m \u001b[1;34m\"IDADE\"\u001b[0m\u001b[1;33m,\u001b[0m \u001b[1;34m\"SEXO\"\u001b[0m\u001b[1;33m,\u001b[0m \u001b[1;34m\"COR\"\u001b[0m\u001b[1;33m,\u001b[0m \u001b[1;34m\"UF_NASCIMENTO\"\u001b[0m\u001b[1;33m,\u001b[0m \u001b[1;34m\"TIPO_ESCOLA\"\u001b[0m\u001b[1;33m,\u001b[0m \u001b[1;34m\"LINGUA_ESTRANGEIRA\"\u001b[0m\u001b[1;33m,\u001b[0m \u001b[1;34m\"RENDA_MENSAL_FAMILIAR\"\u001b[0m\u001b[1;33m,\u001b[0m \u001b[1;34m\"INTERNET\"\u001b[0m\u001b[1;33m,\u001b[0m \u001b[1;34m\"NOTA\"\u001b[0m\u001b[1;33m]\u001b[0m\u001b[1;33m\u001b[0m\u001b[1;33m\u001b[0m\u001b[0m\n\u001b[0m\u001b[0;32m      2\u001b[0m \u001b[0mdf\u001b[0m\u001b[1;33m.\u001b[0m\u001b[0mcolumns\u001b[0m\u001b[1;33m\u001b[0m\u001b[1;33m\u001b[0m\u001b[0m\n",
      "\u001b[1;32mC:\\ProgramData\\Anaconda3\\lib\\site-packages\\pandas\\core\\generic.py\u001b[0m in \u001b[0;36m__setattr__\u001b[1;34m(self, name, value)\u001b[0m\n\u001b[0;32m   5498\u001b[0m         \u001b[1;32mtry\u001b[0m\u001b[1;33m:\u001b[0m\u001b[1;33m\u001b[0m\u001b[1;33m\u001b[0m\u001b[0m\n\u001b[0;32m   5499\u001b[0m             \u001b[0mobject\u001b[0m\u001b[1;33m.\u001b[0m\u001b[0m__getattribute__\u001b[0m\u001b[1;33m(\u001b[0m\u001b[0mself\u001b[0m\u001b[1;33m,\u001b[0m \u001b[0mname\u001b[0m\u001b[1;33m)\u001b[0m\u001b[1;33m\u001b[0m\u001b[1;33m\u001b[0m\u001b[0m\n\u001b[1;32m-> 5500\u001b[1;33m             \u001b[1;32mreturn\u001b[0m \u001b[0mobject\u001b[0m\u001b[1;33m.\u001b[0m\u001b[0m__setattr__\u001b[0m\u001b[1;33m(\u001b[0m\u001b[0mself\u001b[0m\u001b[1;33m,\u001b[0m \u001b[0mname\u001b[0m\u001b[1;33m,\u001b[0m \u001b[0mvalue\u001b[0m\u001b[1;33m)\u001b[0m\u001b[1;33m\u001b[0m\u001b[1;33m\u001b[0m\u001b[0m\n\u001b[0m\u001b[0;32m   5501\u001b[0m         \u001b[1;32mexcept\u001b[0m \u001b[0mAttributeError\u001b[0m\u001b[1;33m:\u001b[0m\u001b[1;33m\u001b[0m\u001b[1;33m\u001b[0m\u001b[0m\n\u001b[0;32m   5502\u001b[0m             \u001b[1;32mpass\u001b[0m\u001b[1;33m\u001b[0m\u001b[1;33m\u001b[0m\u001b[0m\n",
      "\u001b[1;32mC:\\ProgramData\\Anaconda3\\lib\\site-packages\\pandas\\_libs\\properties.pyx\u001b[0m in \u001b[0;36mpandas._libs.properties.AxisProperty.__set__\u001b[1;34m()\u001b[0m\n",
      "\u001b[1;32mC:\\ProgramData\\Anaconda3\\lib\\site-packages\\pandas\\core\\generic.py\u001b[0m in \u001b[0;36m_set_axis\u001b[1;34m(self, axis, labels)\u001b[0m\n\u001b[0;32m    764\u001b[0m     \u001b[1;32mdef\u001b[0m \u001b[0m_set_axis\u001b[0m\u001b[1;33m(\u001b[0m\u001b[0mself\u001b[0m\u001b[1;33m,\u001b[0m \u001b[0maxis\u001b[0m\u001b[1;33m:\u001b[0m \u001b[0mint\u001b[0m\u001b[1;33m,\u001b[0m \u001b[0mlabels\u001b[0m\u001b[1;33m:\u001b[0m \u001b[0mIndex\u001b[0m\u001b[1;33m)\u001b[0m \u001b[1;33m->\u001b[0m \u001b[1;32mNone\u001b[0m\u001b[1;33m:\u001b[0m\u001b[1;33m\u001b[0m\u001b[1;33m\u001b[0m\u001b[0m\n\u001b[0;32m    765\u001b[0m         \u001b[0mlabels\u001b[0m \u001b[1;33m=\u001b[0m \u001b[0mensure_index\u001b[0m\u001b[1;33m(\u001b[0m\u001b[0mlabels\u001b[0m\u001b[1;33m)\u001b[0m\u001b[1;33m\u001b[0m\u001b[1;33m\u001b[0m\u001b[0m\n\u001b[1;32m--> 766\u001b[1;33m         \u001b[0mself\u001b[0m\u001b[1;33m.\u001b[0m\u001b[0m_mgr\u001b[0m\u001b[1;33m.\u001b[0m\u001b[0mset_axis\u001b[0m\u001b[1;33m(\u001b[0m\u001b[0maxis\u001b[0m\u001b[1;33m,\u001b[0m \u001b[0mlabels\u001b[0m\u001b[1;33m)\u001b[0m\u001b[1;33m\u001b[0m\u001b[1;33m\u001b[0m\u001b[0m\n\u001b[0m\u001b[0;32m    767\u001b[0m         \u001b[0mself\u001b[0m\u001b[1;33m.\u001b[0m\u001b[0m_clear_item_cache\u001b[0m\u001b[1;33m(\u001b[0m\u001b[1;33m)\u001b[0m\u001b[1;33m\u001b[0m\u001b[1;33m\u001b[0m\u001b[0m\n\u001b[0;32m    768\u001b[0m \u001b[1;33m\u001b[0m\u001b[0m\n",
      "\u001b[1;32mC:\\ProgramData\\Anaconda3\\lib\\site-packages\\pandas\\core\\internals\\managers.py\u001b[0m in \u001b[0;36mset_axis\u001b[1;34m(self, axis, new_labels)\u001b[0m\n\u001b[0;32m    214\u001b[0m     \u001b[1;32mdef\u001b[0m \u001b[0mset_axis\u001b[0m\u001b[1;33m(\u001b[0m\u001b[0mself\u001b[0m\u001b[1;33m,\u001b[0m \u001b[0maxis\u001b[0m\u001b[1;33m:\u001b[0m \u001b[0mint\u001b[0m\u001b[1;33m,\u001b[0m \u001b[0mnew_labels\u001b[0m\u001b[1;33m:\u001b[0m \u001b[0mIndex\u001b[0m\u001b[1;33m)\u001b[0m \u001b[1;33m->\u001b[0m \u001b[1;32mNone\u001b[0m\u001b[1;33m:\u001b[0m\u001b[1;33m\u001b[0m\u001b[1;33m\u001b[0m\u001b[0m\n\u001b[0;32m    215\u001b[0m         \u001b[1;31m# Caller is responsible for ensuring we have an Index object.\u001b[0m\u001b[1;33m\u001b[0m\u001b[1;33m\u001b[0m\u001b[0m\n\u001b[1;32m--> 216\u001b[1;33m         \u001b[0mself\u001b[0m\u001b[1;33m.\u001b[0m\u001b[0m_validate_set_axis\u001b[0m\u001b[1;33m(\u001b[0m\u001b[0maxis\u001b[0m\u001b[1;33m,\u001b[0m \u001b[0mnew_labels\u001b[0m\u001b[1;33m)\u001b[0m\u001b[1;33m\u001b[0m\u001b[1;33m\u001b[0m\u001b[0m\n\u001b[0m\u001b[0;32m    217\u001b[0m         \u001b[0mself\u001b[0m\u001b[1;33m.\u001b[0m\u001b[0maxes\u001b[0m\u001b[1;33m[\u001b[0m\u001b[0maxis\u001b[0m\u001b[1;33m]\u001b[0m \u001b[1;33m=\u001b[0m \u001b[0mnew_labels\u001b[0m\u001b[1;33m\u001b[0m\u001b[1;33m\u001b[0m\u001b[0m\n\u001b[0;32m    218\u001b[0m \u001b[1;33m\u001b[0m\u001b[0m\n",
      "\u001b[1;32mC:\\ProgramData\\Anaconda3\\lib\\site-packages\\pandas\\core\\internals\\base.py\u001b[0m in \u001b[0;36m_validate_set_axis\u001b[1;34m(self, axis, new_labels)\u001b[0m\n\u001b[0;32m     55\u001b[0m \u001b[1;33m\u001b[0m\u001b[0m\n\u001b[0;32m     56\u001b[0m         \u001b[1;32melif\u001b[0m \u001b[0mnew_len\u001b[0m \u001b[1;33m!=\u001b[0m \u001b[0mold_len\u001b[0m\u001b[1;33m:\u001b[0m\u001b[1;33m\u001b[0m\u001b[1;33m\u001b[0m\u001b[0m\n\u001b[1;32m---> 57\u001b[1;33m             raise ValueError(\n\u001b[0m\u001b[0;32m     58\u001b[0m                 \u001b[1;34mf\"Length mismatch: Expected axis has {old_len} elements, new \"\u001b[0m\u001b[1;33m\u001b[0m\u001b[1;33m\u001b[0m\u001b[0m\n\u001b[0;32m     59\u001b[0m                 \u001b[1;34mf\"values have {new_len} elements\"\u001b[0m\u001b[1;33m\u001b[0m\u001b[1;33m\u001b[0m\u001b[0m\n",
      "\u001b[1;31mValueError\u001b[0m: Length mismatch: Expected axis has 19 elements, new values have 10 elements"
     ]
    }
   ],
   "source": [
    "df.columns = [\"UF_RESIDENCIA\", \"IDADE\", \"SEXO\", \"COR\", \"UF_NASCIMENTO\", \"TIPO_ESCOLA\", \"LINGUA_ESTRANGEIRA\", \"RENDA_MENSAL_FAMILIAR\", \"INTERNET\", \"NOTA\"]\n",
    "df.columns"
   ]
  },
  {
   "cell_type": "code",
   "execution_count": null,
   "id": "ad26b064",
   "metadata": {},
   "outputs": [],
   "source": [
    "df.head(10)"
   ]
  },
  {
   "cell_type": "markdown",
   "id": "868a0a85",
   "metadata": {},
   "source": [
    "Substituindo os valores originais para facilitar a leitura do DataFrame:"
   ]
  },
  {
   "cell_type": "code",
   "execution_count": null,
   "id": "b124ae3a",
   "metadata": {},
   "outputs": [],
   "source": [
    "df.COR.replace({1:\"Branco (a)\", 2:\"Preto (a)\", 3: \"Pardo (a)\",  4: \"Amarelo (a)\", 5: \"Indígena\"}, inplace = True)\n",
    "df.TIPO_ESCOLA.replace({2:\"Pública\", 3:\"Privada\", 4: \"Exterior\"}, inplace = True)\n",
    "df.LINGUA_ESTRANGEIRA.replace({0:'Inglês', 1:'Espanhol'}, inplace = True)\n",
    "df.RENDA_MENSAL_FAMILIAR.replace({'A':\"classe_E\", 'B':\"classe_E\", 'C':\"classe_E\", 'D':\"classe_E\", 'E':\"classe_D\", 'F':\"classe_D\", 'G':\"classe_D\", 'H':\"classe_C\", 'I':\"classe_C\", 'J':\"classe_C\", 'K':\"classe_C\", 'L':\"classe_C\", 'M':\"classe_C\", 'N':\"classe_B\", 'O':\"classe_B\", 'P':\"classe_B\", 'Q':\"classe_A\"}, inplace = True)\n",
    "df.INTERNET.replace({'A':'Não', 'B':'Sim'}, inplace = True)\n",
    "\n",
    "df.head(5)"
   ]
  },
  {
   "cell_type": "markdown",
   "id": "9f963687",
   "metadata": {},
   "source": [
    "Acrescentando a coluna \"REGIAO_BR\""
   ]
  },
  {
   "cell_type": "code",
   "execution_count": null,
   "id": "35a6f28f",
   "metadata": {},
   "outputs": [],
   "source": [
    "df[\"REGIAO_BR\"] = df.UF_RESIDENCIA"
   ]
  },
  {
   "cell_type": "code",
   "execution_count": null,
   "id": "f4a8278a",
   "metadata": {},
   "outputs": [],
   "source": [
    "df.head(10)"
   ]
  },
  {
   "cell_type": "markdown",
   "id": "b95ef995",
   "metadata": {},
   "source": [
    "Repopulando os valores da nova coluna com as regiões correspondentes de cada Estado:"
   ]
  },
  {
   "cell_type": "code",
   "execution_count": null,
   "id": "44f162f5",
   "metadata": {},
   "outputs": [],
   "source": [
    "df.REGIAO_BR.replace({'PR': \"Sul\", 'SP': \"Sudeste\", 'PA': \"Norte\", 'TO': \"Norte\", 'RS': \"Sul\", 'AL': \"Nordeste\", 'BA': \"Nordeste\", 'AP': \"Norte\", 'MG': \"Sudeste\", 'AM': \"Norte\", 'GO': \"Centro-Oeste\",\n",
    "       'MA': \"Nordeste\", 'RJ': \"Sudeste\", 'CE': \"Nordeste\", 'RO': \"Norte\", 'MT': \"Centro-Oeste\", 'PE': \"Nordeste\", 'RN': \"Nordeste\", 'AC': \"Norte\", 'ES': \"Sudeste\", 'PI': \"Nordeste\", 'SE': \"Nordeste\",\n",
    "       'DF': \"Centro-Oeste\", 'SC': \"Sul\", 'PB': \"Nordeste\", 'MS': \"Centro-Oeste\", 'RR': \"Norte\"}, inplace = True)\n",
    "df"
   ]
  },
  {
   "cell_type": "markdown",
   "id": "aa21d30e",
   "metadata": {},
   "source": [
    "**ANÁLISES**"
   ]
  },
  {
   "cell_type": "code",
   "execution_count": null,
   "id": "05b15a70",
   "metadata": {},
   "outputs": [],
   "source": [
    "# Quantidade de pessoas do sexo masculino e feminino que tiveram nota final do Enem 2019"
   ]
  },
  {
   "cell_type": "code",
   "execution_count": null,
   "id": "acab5961",
   "metadata": {},
   "outputs": [],
   "source": [
    "df.SEXO.value_counts()"
   ]
  },
  {
   "cell_type": "code",
   "execution_count": null,
   "id": "20454099",
   "metadata": {},
   "outputs": [],
   "source": [
    "fem = (2930229 / (2930229 + 2013989)) * 100\n",
    "fem"
   ]
  },
  {
   "cell_type": "code",
   "execution_count": null,
   "id": "b543e5dc",
   "metadata": {
    "scrolled": true
   },
   "outputs": [],
   "source": [
    "masc = (2013989 / (2930229 + 2013989)) * 100\n",
    "masc"
   ]
  },
  {
   "cell_type": "code",
   "execution_count": null,
   "id": "0a96e781",
   "metadata": {},
   "outputs": [],
   "source": [
    "# Pessoas do sexo feminino são maioria, representando quase 60%;\n",
    "# Enquanto indivíduos do sexo masculino representam pouco mais de 40%."
   ]
  },
  {
   "cell_type": "code",
   "execution_count": null,
   "id": "4d2a1702",
   "metadata": {},
   "outputs": [],
   "source": [
    "# Média de idade"
   ]
  },
  {
   "cell_type": "code",
   "execution_count": null,
   "id": "94442c76",
   "metadata": {},
   "outputs": [],
   "source": [
    "df.IDADE.mean()"
   ]
  },
  {
   "cell_type": "code",
   "execution_count": null,
   "id": "2433805d",
   "metadata": {},
   "outputs": [],
   "source": [
    "# Média de idades das pessoas que fizeram Enem em 2019 é de 22,18 anos."
   ]
  },
  {
   "cell_type": "code",
   "execution_count": null,
   "id": "dd0680ab",
   "metadata": {},
   "outputs": [],
   "source": [
    "# Média de idade por sexo:"
   ]
  },
  {
   "cell_type": "code",
   "execution_count": null,
   "id": "7478249d",
   "metadata": {},
   "outputs": [],
   "source": [
    "df.groupby(['SEXO']).IDADE.mean()"
   ]
  },
  {
   "cell_type": "code",
   "execution_count": null,
   "id": "284e7dfc",
   "metadata": {},
   "outputs": [],
   "source": [
    "# Idades médias muito próximas (meninos 22,20 e meninas 22,06)."
   ]
  },
  {
   "cell_type": "code",
   "execution_count": null,
   "id": "50751e74",
   "metadata": {},
   "outputs": [],
   "source": [
    "# Média de idade por sexo, cor e tipo de escola:"
   ]
  },
  {
   "cell_type": "code",
   "execution_count": null,
   "id": "eb60cdbb",
   "metadata": {},
   "outputs": [],
   "source": [
    "df.groupby(['SEXO', \"COR\", \"TIPO_ESCOLA\"]).IDADE.mean()"
   ]
  },
  {
   "cell_type": "code",
   "execution_count": null,
   "id": "d190c637",
   "metadata": {},
   "outputs": [],
   "source": [
    "# Tanto pessoas do sexo feminino, quanto masculino, \n",
    "# percebe-se que entre os índigenas e pessoas pretas possuem \n",
    "# média de idade maior.\n",
    "# Isso pode indicar algum tipo de dificuldade de acesso a educação e \n",
    "# melhores qualidades de vida por # parte dessas pessoas e, talvez, \n",
    "# até algum tipo de discriminação (podendo ser vividas por ele ou por seus ascendentes)."
   ]
  },
  {
   "cell_type": "markdown",
   "id": "044e433a",
   "metadata": {},
   "source": [
    "Pretos(as), Pardos(as) e Indígenas com médias levemente superiores comparadas às médias de Brancos(as) e Amarelos(as)."
   ]
  },
  {
   "cell_type": "markdown",
   "id": "791ed2ed",
   "metadata": {},
   "source": [
    "**Análise: Nota final do Enem 2019 por sexo e tipo de escola**"
   ]
  },
  {
   "cell_type": "code",
   "execution_count": null,
   "id": "ab646050",
   "metadata": {},
   "outputs": [],
   "source": [
    "df.groupby(['SEXO', \"TIPO_ESCOLA\"])['NOTA'].mean()"
   ]
  },
  {
   "cell_type": "code",
   "execution_count": null,
   "id": "4c2d2016",
   "metadata": {},
   "outputs": [],
   "source": [
    "df.groupby(['SEXO', \"TIPO_ESCOLA\"])['NOTA'].min()"
   ]
  },
  {
   "cell_type": "code",
   "execution_count": null,
   "id": "ec0c6de5",
   "metadata": {},
   "outputs": [],
   "source": [
    "df.groupby(['SEXO', \"TIPO_ESCOLA\"])['NOTA'].max()"
   ]
  },
  {
   "cell_type": "code",
   "execution_count": null,
   "id": "8d361611",
   "metadata": {},
   "outputs": [],
   "source": [
    "df.groupby(['SEXO', \"TIPO_ESCOLA\"])['NOTA'].std()"
   ]
  },
  {
   "cell_type": "code",
   "execution_count": null,
   "id": "fa0f11dd",
   "metadata": {},
   "outputs": [],
   "source": [
    "# Em relação a média, percebe-se que as médias dos alunos de escolas privadas\n",
    "# são maiores quando comparados com alunos de escolas públicas.\n",
    "# Isso pode indicar problemas na educação.\n",
    "\n",
    "# Ao olhar a maior nota, mais uma vez, os alunos de escola particular\n",
    "# apresentaram notas maiores quando comparados com os alunos da escola pública."
   ]
  },
  {
   "cell_type": "code",
   "execution_count": null,
   "id": "9c68ff2b",
   "metadata": {},
   "outputs": [],
   "source": [
    "# Nota final do Enem 2019 por sexo, cor e tipo de escola:"
   ]
  },
  {
   "cell_type": "code",
   "execution_count": null,
   "id": "fd79244b",
   "metadata": {},
   "outputs": [],
   "source": [
    "df.groupby(['SEXO', 'COR', \"TIPO_ESCOLA\"])['NOTA'].mean()"
   ]
  },
  {
   "cell_type": "code",
   "execution_count": null,
   "id": "3b36dc3c",
   "metadata": {},
   "outputs": [],
   "source": [
    "# Mais uma vez, os indígenas e pessoas da cor preta possuem as menores notas.\n",
    "# Indivíduos de escolas particulares evidenciam as maiores notas."
   ]
  },
  {
   "cell_type": "code",
   "execution_count": null,
   "id": "22420814",
   "metadata": {},
   "outputs": [],
   "source": [
    "# Média da nota final por classe:"
   ]
  },
  {
   "cell_type": "code",
   "execution_count": null,
   "id": "1e5120d0",
   "metadata": {
    "scrolled": true
   },
   "outputs": [],
   "source": [
    "df.groupby([\"RENDA_MENSAL_FAMILIAR\"])[[\"NOTA\"]].mean().sort_values(ascending = False, by = \"NOTA\")"
   ]
  },
  {
   "cell_type": "code",
   "execution_count": null,
   "id": "75139281",
   "metadata": {},
   "outputs": [],
   "source": [
    "# Pessoas de classes mais altas, apresentaram as maiores médias.\n",
    "# Isso pode evidenciar melhores condições de acesso a N fatores."
   ]
  },
  {
   "cell_type": "code",
   "execution_count": null,
   "id": "685b5641",
   "metadata": {},
   "outputs": [],
   "source": [
    "# Média da nota final por classe e sexo:"
   ]
  },
  {
   "cell_type": "code",
   "execution_count": null,
   "id": "06d4964f",
   "metadata": {},
   "outputs": [],
   "source": [
    "df.groupby([\"RENDA_MENSAL_FAMILIAR\", \"SEXO\"])['NOTA'].mean()"
   ]
  },
  {
   "cell_type": "code",
   "execution_count": null,
   "id": "3c914ee2",
   "metadata": {},
   "outputs": [],
   "source": [
    "# Mais uma vez, rendas maiores permitem acesso a educação de melhor qualidade.\n",
    "# As notas dos meninos e das meninas, para cada faixa de renda, são bem parecidas."
   ]
  },
  {
   "cell_type": "code",
   "execution_count": null,
   "id": "7b7b0e42",
   "metadata": {},
   "outputs": [],
   "source": [
    "# Média da nota final comparando candidatos que têm e os que não têm internet em casa:"
   ]
  },
  {
   "cell_type": "code",
   "execution_count": null,
   "id": "0ae38a62",
   "metadata": {
    "scrolled": false
   },
   "outputs": [],
   "source": [
    "df.groupby([\"INTERNET\"])[[\"NOTA\"]].mean().sort_values(ascending = False, by = \"NOTA\")"
   ]
  },
  {
   "cell_type": "code",
   "execution_count": null,
   "id": "35f424cf",
   "metadata": {},
   "outputs": [],
   "source": [
    "# Percebe-se que quem possui acesso à internet apresenta um desempenho melhor na nota.\n",
    "# Isso pode ser explicado pelo fato de melhores condições de estudo."
   ]
  },
  {
   "cell_type": "code",
   "execution_count": null,
   "id": "839b0992",
   "metadata": {},
   "outputs": [],
   "source": [
    "# Tipo escola vs Renda mensal familiar vs Nota final:"
   ]
  },
  {
   "cell_type": "code",
   "execution_count": null,
   "id": "6a9700be",
   "metadata": {
    "scrolled": true
   },
   "outputs": [],
   "source": [
    "df.groupby([\"TIPO_ESCOLA\", \"RENDA_MENSAL_FAMILIAR\"])['NOTA'].mean()"
   ]
  },
  {
   "cell_type": "code",
   "execution_count": null,
   "id": "f7d8f503",
   "metadata": {},
   "outputs": [],
   "source": [
    "# Quem possui maior renda, tende a apresentar notas maiores,\n",
    "# especialmente quando estudam em colégios privados.\n",
    "# Além disso, pessoas que possuem rendas maiores e que estudam \n",
    "# em colégios públicos, também possuem um desempenho melhor,\n",
    "# quando comparados com demais alunos de colégios públicos.\n",
    "# Um dos motivos que podem explicar esse fato, é que pessoas\n",
    "# com maiores poderes aquisitivos possuem melhores condições e, tendem\n",
    "# a possuir famílias mais estruturadas."
   ]
  },
  {
   "cell_type": "code",
   "execution_count": null,
   "id": "4631a73e",
   "metadata": {},
   "outputs": [],
   "source": [
    "# Nota final na prova por região brasileira"
   ]
  },
  {
   "cell_type": "code",
   "execution_count": null,
   "id": "48d21cf7",
   "metadata": {
    "scrolled": true
   },
   "outputs": [],
   "source": [
    "df.groupby([\"REGIAO_BR\"])[[\"NOTA\"]].mean().sort_values(ascending = False, by = \"NOTA\")"
   ]
  },
  {
   "cell_type": "code",
   "execution_count": null,
   "id": "70c919ee",
   "metadata": {},
   "outputs": [],
   "source": [
    "# A região Sudeste apresenta a maior nota final, seguida pela região Sul.\n",
    "# Isso pode evidenciar disparidades na educação entre as regiões brasileiras.\n",
    "# Além disso, dependendo da localidade, o acesso a educação\n",
    "# tende a ser mais difícil, principalmente na região norte,\n",
    "# que apresentou a menor nota."
   ]
  },
  {
   "cell_type": "code",
   "execution_count": null,
   "id": "9aaf0f8b",
   "metadata": {},
   "outputs": [],
   "source": [
    "# Nota final na prova por região brasileira e tipo de escola:"
   ]
  },
  {
   "cell_type": "code",
   "execution_count": null,
   "id": "660007cd",
   "metadata": {},
   "outputs": [],
   "source": [
    "df.groupby([\"REGIAO_BR\", \"TIPO_ESCOLA\"])['NOTA'].mean()"
   ]
  },
  {
   "cell_type": "code",
   "execution_count": null,
   "id": "ed4ae50f",
   "metadata": {},
   "outputs": [],
   "source": [
    "# Quando analisamos as notas por região e tipo de escola, \n",
    "# é possível verificar que, novamente, as notas de alunos\n",
    "# de escola pública tendem a ser menores quando comparados com colégios particulares.\n",
    "# A nota da região Sudeste segue liderando, seguido\n",
    "# pelas regiões sul e centro-oeste."
   ]
  },
  {
   "cell_type": "code",
   "execution_count": null,
   "id": "8e8b5353",
   "metadata": {},
   "outputs": [],
   "source": [
    "# Preferência de língua estrangeira por tipo de escola:"
   ]
  },
  {
   "cell_type": "code",
   "execution_count": null,
   "id": "5a7c4bc0",
   "metadata": {
    "scrolled": true
   },
   "outputs": [],
   "source": [
    "df.groupby([\"TIPO_ESCOLA\", \"LINGUA_ESTRANGEIRA\"])[[\"LINGUA_ESTRANGEIRA\"]].count()"
   ]
  },
  {
   "cell_type": "code",
   "execution_count": null,
   "id": "3bab9a77",
   "metadata": {},
   "outputs": [],
   "source": [
    "# Podemos observar que nas escolas particulares temos uma preferência pela prova de Inglês,\n",
    "# enquanto que nas escolas públicas, a preferência é pelo Espanhol.\n",
    "# Uma hipótese é que o ensino do Inglês nas escolas particulares é contínuo e presente desde cedo,\n",
    "# enquanto que nas escolas públicas o ensino do Inglês seja falho e a preferência pelo Espanhol\n",
    "# dá-se pela similaridade com a língua Portuguesa, induzindo os alunos de escolas públicas a optarem\n",
    "# pelo Espanhol"
   ]
  },
  {
   "cell_type": "code",
   "execution_count": null,
   "id": "c459b494",
   "metadata": {},
   "outputs": [],
   "source": [
    "# Análise de candidatos por tipo de escola e renda:"
   ]
  },
  {
   "cell_type": "code",
   "execution_count": null,
   "id": "d64101dc",
   "metadata": {},
   "outputs": [],
   "source": [
    "df[[\"TIPO_ESCOLA\", \"RENDA_MENSAL_FAMILIAR\" ]].value_counts()"
   ]
  },
  {
   "cell_type": "code",
   "execution_count": null,
   "id": "d7c9b7ff",
   "metadata": {},
   "outputs": [],
   "source": [
    "# Candidatos das classes C, D e E são maioria analisando o todo. Entre escolas públicas e privadas,\n",
    "# notamos que as mesmas classes de escolas públicas são maioria em relação às escolas privadas."
   ]
  },
  {
   "cell_type": "code",
   "execution_count": null,
   "id": "b10fb726",
   "metadata": {},
   "outputs": [],
   "source": [
    "# Quantidade de alunos em escolas públicas e particulares:"
   ]
  },
  {
   "cell_type": "code",
   "execution_count": null,
   "id": "bf425b55",
   "metadata": {},
   "outputs": [],
   "source": [
    "df[[\"TIPO_ESCOLA\"]].value_counts()"
   ]
  },
  {
   "cell_type": "code",
   "execution_count": null,
   "id": "1a9592b1",
   "metadata": {},
   "outputs": [],
   "source": [
    "# Quantidade de alunos em escolas públicas e particulares, separados por sexo:"
   ]
  },
  {
   "cell_type": "code",
   "execution_count": null,
   "id": "a3c8e1d3",
   "metadata": {},
   "outputs": [],
   "source": [
    "df.groupby(['SEXO'])['TIPO_ESCOLA'].value_counts()"
   ]
  },
  {
   "cell_type": "code",
   "execution_count": null,
   "id": "af88d0d9",
   "metadata": {},
   "outputs": [],
   "source": [
    "# Como esperado, temos mais pessoas de escolas públicas, tanto do sexo masculino\n",
    "# quanto do sexo feminino."
   ]
  },
  {
   "cell_type": "code",
   "execution_count": null,
   "id": "8bb4128d",
   "metadata": {},
   "outputs": [],
   "source": [
    "# Análise de estudandes classe A:"
   ]
  },
  {
   "cell_type": "code",
   "execution_count": null,
   "id": "45d17d5e",
   "metadata": {},
   "outputs": [],
   "source": [
    "df.groupby(['TIPO_ESCOLA'])['RENDA_MENSAL_FAMILIAR'].value_counts()"
   ]
  },
  {
   "cell_type": "code",
   "execution_count": null,
   "id": "a8d12f2f",
   "metadata": {},
   "outputs": [],
   "source": [
    "# temos mais indivíduos da classe A em colégios privados\n",
    "# quanto comparados em escola pública."
   ]
  },
  {
   "cell_type": "markdown",
   "id": "4b02db4d",
   "metadata": {},
   "source": [
    "**Análise: Qual Estado possui maior quantidade de abstenções?**"
   ]
  },
  {
   "cell_type": "code",
   "execution_count": null,
   "id": "8c297c0b",
   "metadata": {},
   "outputs": [],
   "source": [
    "# criando uma cópia do df1 e selecionando apenas as linhas com \"Nota\" == NaN\n",
    "df_2 = df.copy()\n",
    "df_2 = df_2[df_2[\"NOTA\"].isna()]\n",
    "df_2"
   ]
  },
  {
   "cell_type": "code",
   "execution_count": null,
   "id": "c1fa99a8",
   "metadata": {},
   "outputs": [],
   "source": [
    "df_2 = df_2[['UF_RESIDENCIA']].value_counts()"
   ]
  },
  {
   "cell_type": "code",
   "execution_count": null,
   "id": "d3353d55",
   "metadata": {},
   "outputs": [],
   "source": [
    "df_3 = df[['UF_RESIDENCIA']].value_counts()"
   ]
  },
  {
   "cell_type": "code",
   "execution_count": null,
   "id": "9a95e9a0",
   "metadata": {},
   "outputs": [],
   "source": [
    "df_3"
   ]
  },
  {
   "cell_type": "code",
   "execution_count": null,
   "id": "cf9d8567",
   "metadata": {},
   "outputs": [],
   "source": [
    "# criando um df4 (auxiliar) para comparar totalidade vs abstenções:\n",
    "df_4 = pd.concat([df_3, df_2], axis = 1, join = \"outer\")"
   ]
  },
  {
   "cell_type": "code",
   "execution_count": null,
   "id": "0e522740",
   "metadata": {},
   "outputs": [],
   "source": [
    "df_4"
   ]
  },
  {
   "cell_type": "code",
   "execution_count": null,
   "id": "54d13581",
   "metadata": {
    "scrolled": true
   },
   "outputs": [],
   "source": [
    "# renoamenado as colunas:\n",
    "df_4.columns = [\"TOTAL_CANDIDATOS\", \"ABSTENCOES\"]\n",
    "df_4"
   ]
  },
  {
   "cell_type": "code",
   "execution_count": null,
   "id": "cf741a98",
   "metadata": {
    "scrolled": false
   },
   "outputs": [],
   "source": [
    "# calculando as abstenções em percentual:\n",
    "df_4[\"PERCENTUAL\"] = (df_4.ABSTENCOES / df_4.TOTAL_CANDIDATOS) * 100\n",
    "df_4"
   ]
  },
  {
   "cell_type": "code",
   "execution_count": null,
   "id": "1bd36cf3",
   "metadata": {},
   "outputs": [],
   "source": [
    "# ordenando descending:\n",
    "df_4[[\"PERCENTUAL\"]].sort_values(ascending = False, by = \"PERCENTUAL\")"
   ]
  },
  {
   "cell_type": "code",
   "execution_count": null,
   "id": "916025eb",
   "metadata": {},
   "outputs": [],
   "source": [
    "# calculando a média de abstenções:\n",
    "df_4[\"PERCENTUAL\"].mean()"
   ]
  },
  {
   "cell_type": "code",
   "execution_count": null,
   "id": "15a71e01",
   "metadata": {},
   "outputs": [],
   "source": [
    "# TEMOS UMA MÉDIA GERAL DE 27,72% DE ABSTENÇÕES"
   ]
  },
  {
   "cell_type": "markdown",
   "id": "4866a74a",
   "metadata": {},
   "source": [
    "**Análise: Qual Estado (residência) possui a maior nota (na média)?**"
   ]
  },
  {
   "cell_type": "code",
   "execution_count": null,
   "id": "201747bd",
   "metadata": {},
   "outputs": [],
   "source": [
    "df.groupby([\"UF_RESIDENCIA\"])[[\"NOTA\"]].mean().sort_values(ascending = False, by = \"NOTA\")"
   ]
  },
  {
   "cell_type": "markdown",
   "id": "30fdacfb",
   "metadata": {},
   "source": [
    "**Análise: Qual Estado (nascimento) possui a maior nota (na média)?**"
   ]
  },
  {
   "cell_type": "code",
   "execution_count": null,
   "id": "0bcc0854",
   "metadata": {},
   "outputs": [],
   "source": [
    "df.groupby([\"UF_NASCIMENTO\"])[[\"NOTA\"]].mean().sort_values(ascending = False, by = \"NOTA\")"
   ]
  },
  {
   "cell_type": "code",
   "execution_count": null,
   "id": "93369d03",
   "metadata": {},
   "outputs": [],
   "source": [
    "# podemos perceber que SP lidera nas duas ocasiões, com algumas alterações de posição\n",
    "# no decorrer da tabela"
   ]
  },
  {
   "cell_type": "markdown",
   "id": "3d3c7ca0",
   "metadata": {},
   "source": [
    "# 2 - ANÁLISE REMOVENDO OS NaN's"
   ]
  },
  {
   "cell_type": "markdown",
   "id": "47c9f974",
   "metadata": {},
   "source": [
    "# PARTE I"
   ]
  },
  {
   "cell_type": "code",
   "execution_count": null,
   "id": "58c274e8",
   "metadata": {},
   "outputs": [],
   "source": [
    "# Carregando os dados e viualizando\n",
    "df = pd.read_csv(\"D:\\OneDrive\\LetsCode\\DS_Degree\\Modulo_04\\Projeto\\DADOS\\MICRODADOS_ENEM_2019.csv\", encoding='latin-1', sep=\";\")\n",
    "df"
   ]
  },
  {
   "cell_type": "code",
   "execution_count": null,
   "id": "c60de7d4",
   "metadata": {},
   "outputs": [],
   "source": [
    "# Tipo\n",
    "type(df)"
   ]
  },
  {
   "cell_type": "code",
   "execution_count": null,
   "id": "b38d6a3d",
   "metadata": {},
   "outputs": [],
   "source": [
    "# Dimensões\n",
    "print(df.ndim)"
   ]
  },
  {
   "cell_type": "code",
   "execution_count": null,
   "id": "899bad63",
   "metadata": {},
   "outputs": [],
   "source": [
    "print(df.shape)"
   ]
  },
  {
   "cell_type": "code",
   "execution_count": null,
   "id": "96a7b843",
   "metadata": {},
   "outputs": [],
   "source": [
    "print(df.size)"
   ]
  },
  {
   "cell_type": "code",
   "execution_count": null,
   "id": "43818f3e",
   "metadata": {},
   "outputs": [],
   "source": [
    "# ìndice\n",
    "df.index"
   ]
  },
  {
   "cell_type": "code",
   "execution_count": null,
   "id": "c21e7ed2",
   "metadata": {},
   "outputs": [],
   "source": [
    "# Tipo de variáveis\n",
    "df.dtypes"
   ]
  },
  {
   "cell_type": "code",
   "execution_count": null,
   "id": "d3fa7878",
   "metadata": {},
   "outputs": [],
   "source": [
    "# Visualização de dados\n",
    "df.head(10)"
   ]
  },
  {
   "cell_type": "code",
   "execution_count": null,
   "id": "9a85c4bc",
   "metadata": {},
   "outputs": [],
   "source": [
    "df.tail(10)"
   ]
  },
  {
   "cell_type": "code",
   "execution_count": null,
   "id": "448749e8",
   "metadata": {},
   "outputs": [],
   "source": [
    "# Análise\n",
    "df.describe()"
   ]
  },
  {
   "cell_type": "code",
   "execution_count": null,
   "id": "0c0b66b5",
   "metadata": {},
   "outputs": [],
   "source": [
    "df.describe(include='all')"
   ]
  },
  {
   "cell_type": "code",
   "execution_count": null,
   "id": "47e6186a",
   "metadata": {},
   "outputs": [],
   "source": [
    "df.info()"
   ]
  },
  {
   "cell_type": "code",
   "execution_count": null,
   "id": "628299f7",
   "metadata": {},
   "outputs": [],
   "source": [
    "# Nome das colunas\n",
    "df.columns"
   ]
  },
  {
   "cell_type": "code",
   "execution_count": null,
   "id": "54c80b15",
   "metadata": {},
   "outputs": [],
   "source": [
    "# Verificando total de valores NA (missing) por variável\n",
    "df.isna().sum()"
   ]
  },
  {
   "cell_type": "code",
   "execution_count": null,
   "id": "583b1998",
   "metadata": {},
   "outputs": [],
   "source": [
    "# Drop de colunas que não interessam\n",
    "df.drop([\"TP_ANO_CONCLUIU\", \"IN_TREINEIRO\", \"CO_UF_NASCIMENTO\", \"SG_UF_NASCIMENTO\", \"CO_MUNICIPIO_RESIDENCIA\", \"CO_UF_RESIDENCIA\", \"CO_ESCOLA\", \"CO_UF_ESC\", \"CO_UF_PROVA\", 'NU_INSCRICAO', 'NU_ANO', 'TP_NACIONALIDADE', 'CO_MUNICIPIO_NASCIMENTO', 'NO_MUNICIPIO_NASCIMENTO', 'CO_MUNICIPIO_ESC', 'NO_MUNICIPIO_ESC', 'CO_UF_ESC', 'SG_UF_ESC', 'TP_DEPENDENCIA_ADM_ESC', 'TP_LOCALIZACAO_ESC', 'TP_SIT_FUNC_ESC', \"IN_SURDEZ\", 'IN_BAIXA_VISAO', 'IN_CEGUEIRA', \"IN_DEFICIENCIA_AUDITIVA\", \"IN_SURDO_CEGUEIRA\", \"IN_DEFICIENCIA_FISICA\", \"IN_DEFICIENCIA_MENTAL\", \"IN_DEFICIT_ATENCAO\", \"IN_DISLEXIA\", \"IN_DISCALCULIA\", \"IN_AUTISMO\", \"IN_VISAO_MONOCULAR\", \"IN_OUTRA_DEF\", \"IN_GESTANTE\", \"IN_LACTANTE\", \"IN_IDOSO\", \"IN_ESTUDA_CLASSE_HOSPITALAR\", \"IN_SEM_RECURSO\", \"IN_BRAILLE\", \"IN_AMPLIADA_24\", \"IN_AMPLIADA_18\", \"IN_LEDOR\", \"IN_ACESSO\", \"IN_TRANSCRICAO\", \"IN_LIBRAS\", \"IN_TEMPO_ADICIONAL\", \"IN_LEITURA_LABIAL\", \"IN_MESA_CADEIRA_RODAS\", \"IN_MESA_CADEIRA_SEPARADA\", \"IN_APOIO_PERNA\", \"IN_GUIA_INTERPRETE\", \"IN_COMPUTADOR\", \"IN_CADEIRA_ESPECIAL\", \"IN_CADEIRA_CANHOTO\", \"IN_CADEIRA_ACOLCHOADA\", \"IN_PROVA_DEITADO\", \"IN_MOBILIARIO_OBESO\", \"IN_LAMINA_OVERLAY\", \"IN_PROTETOR_AURICULAR\", \"IN_MEDIDOR_GLICOSE\", \"IN_MAQUINA_BRAILE\", \"IN_SOROBAN\", \"IN_MARCA_PASSO\", \"IN_SONDA\", \"IN_MEDICAMENTOS\", \"IN_SALA_INDIVIDUAL\", \"IN_SALA_ESPECIAL\", \"IN_SALA_ACOMPANHANTE\", \"IN_MOBILIARIO_ESPECIFICO\", \"IN_MATERIAL_ESPECIFICO\", \"CO_MUNICIPIO_PROVA\", \"NO_MUNICIPIO_PROVA\", \"CO_UF_PROVA\", \"CO_PROVA_CN\", \"CO_PROVA_CH\", \"CO_PROVA_LC\", \"CO_PROVA_MT\", \"TX_RESPOSTAS_CN\", \"TX_RESPOSTAS_CH\", \"TX_RESPOSTAS_LC\", \"TX_RESPOSTAS_MT\", \"TX_GABARITO_CN\", \"TX_GABARITO_CH\", \"TX_GABARITO_LC\", \"TX_GABARITO_MT\", \"NU_NOTA_COMP1\", \"NU_NOTA_COMP2\", \"NU_NOTA_COMP3\", \"NU_NOTA_COMP4\", \"NU_NOTA_COMP5\", \"Q007\", \"Q010\", \"Q011\", \"Q013\", \"Q014\", \"Q015\", \"Q016\", \"Q017\", \"Q018\", \"Q020\", \"Q021\", \"Q023\", \"TP_ENSINO\", \"TP_PRESENCA_CN\", \"TP_PRESENCA_CH\", \"TP_PRESENCA_LC\", \"TP_PRESENCA_MT\", \"TP_STATUS_REDACAO\", \"TP_ST_CONCLUSAO\"], axis=1, inplace = True)\n",
    "df\n",
    "# TP_ANO_CONCLUIU\n",
    "# IN_TREINEIRO"
   ]
  },
  {
   "cell_type": "code",
   "execution_count": null,
   "id": "ac0776e5",
   "metadata": {},
   "outputs": [],
   "source": [
    "df.memory_usage()"
   ]
  },
  {
   "cell_type": "code",
   "execution_count": null,
   "id": "58a5ef5c",
   "metadata": {},
   "outputs": [],
   "source": [
    "df.info()"
   ]
  },
  {
   "cell_type": "code",
   "execution_count": null,
   "id": "15d0ff99",
   "metadata": {},
   "outputs": [],
   "source": [
    "# Renomeando colunas\n",
    "df.columns = [ \"nom_mun_res\", \"sig_uf_res\", \"idade\", \"sexo\", \"est_civil\", \"cor\", \"tip_esc\", \"nom_social\", \"uf_esc\", \"nota_cien_nat\", \"nota_cien_hum\", \"nota_ling\", \"nota_mat\", \"idioma\", \"nota_red\", \"pai_esc\", \"mae_esc\", \"ocup_pai\", \"ocup_mae\", \"qtde_pes_casa\", \"renda_men\", \"tem_wc\", \"tem_quartos\", \"tem_geladeira\", \"tem_tv\", \"tem_cel\", \"tem_pc\", \"tem_net\"]\n",
    "df.columns\n",
    "# \"cor\", \"ano_concl_em\", \"tip_esc\"\n",
    "# \"tip_esc\", \"treino\", \"nom_social\""
   ]
  },
  {
   "cell_type": "code",
   "execution_count": null,
   "id": "4721f34f",
   "metadata": {},
   "outputs": [],
   "source": [
    "df"
   ]
  },
  {
   "cell_type": "code",
   "execution_count": null,
   "id": "4a47d8ce",
   "metadata": {},
   "outputs": [],
   "source": [
    "df.isna()"
   ]
  },
  {
   "cell_type": "code",
   "execution_count": null,
   "id": "c0f9cc42",
   "metadata": {},
   "outputs": [],
   "source": [
    "# Verificando total de valores NA (missing) por variável\n",
    "df.isna().sum()"
   ]
  },
  {
   "cell_type": "code",
   "execution_count": null,
   "id": "5eb36a13",
   "metadata": {},
   "outputs": [],
   "source": [
    "# Em idade, temos poucos valores ausentes. \n",
    "# Dessa forma, vamos verificar a média e mediana para imputar valores.\n",
    "# Optou-se pela mediana devido aos \"outliers\".\n",
    "# Além de ter poucos NAs."
   ]
  },
  {
   "cell_type": "code",
   "execution_count": null,
   "id": "2815704b",
   "metadata": {},
   "outputs": [],
   "source": [
    "df.idade.max()"
   ]
  },
  {
   "cell_type": "code",
   "execution_count": null,
   "id": "b1ef0168",
   "metadata": {},
   "outputs": [],
   "source": [
    "df.idade.min()"
   ]
  },
  {
   "cell_type": "code",
   "execution_count": null,
   "id": "862943df",
   "metadata": {},
   "outputs": [],
   "source": [
    "df.idade.mean()"
   ]
  },
  {
   "cell_type": "code",
   "execution_count": null,
   "id": "84aa55ff",
   "metadata": {},
   "outputs": [],
   "source": [
    "df.idade.median()"
   ]
  },
  {
   "cell_type": "code",
   "execution_count": null,
   "id": "7a55a2fc",
   "metadata": {},
   "outputs": [],
   "source": [
    "mediana = df.idade.median()\n",
    "media = df.idade.mean()"
   ]
  },
  {
   "cell_type": "code",
   "execution_count": null,
   "id": "3bd0ddca",
   "metadata": {},
   "outputs": [],
   "source": [
    "df['idade'].fillna(mediana, inplace = True)\n",
    "df.isna().sum()"
   ]
  },
  {
   "cell_type": "code",
   "execution_count": null,
   "id": "12f5a79d",
   "metadata": {},
   "outputs": [],
   "source": [
    "# Criando as regiões do Brasil\n",
    "df[\"regiao_br\"] = df.sig_uf_res"
   ]
  },
  {
   "cell_type": "code",
   "execution_count": null,
   "id": "2e1535ee",
   "metadata": {},
   "outputs": [],
   "source": [
    "df[\"regiao_br\"].unique()"
   ]
  },
  {
   "cell_type": "code",
   "execution_count": null,
   "id": "abf71189",
   "metadata": {},
   "outputs": [],
   "source": [
    "df.regiao_br.replace({'PR': \"sul\", 'SP': \"sudeste\", 'PA': \"norte\", 'TO': \"norte\", 'RS': \"sul\", 'AL': \"nordeste\", 'BA': \"nordeste\", 'AP': \"norte\", 'MG': \"sudeste\", 'AM': \"norte\", 'GO': \"centro-oeste\",\n",
    "       'MA': \"nordeste\", 'RJ': \"sudeste\", 'CE': \"nordeste\", 'RO': \"norte\", 'MT': \"centro-oeste\", 'PE': \"nordeste\", 'RN': \"nordeste\", 'AC': \"norte\", 'ES': \"sudeste\", 'PI': \"nordeste\", 'SE': \"nordeste\",\n",
    "       'DF': \"centro-oeste\", 'SC': \"sul\", 'PB': \"nordeste\", 'MS': \"centro-oeste\", 'RR': \"norte\"}, inplace = True)"
   ]
  },
  {
   "cell_type": "code",
   "execution_count": null,
   "id": "ceeda5a6",
   "metadata": {},
   "outputs": [],
   "source": [
    "df[\"regiao_br\"].unique()"
   ]
  },
  {
   "cell_type": "code",
   "execution_count": null,
   "id": "ba458640",
   "metadata": {},
   "outputs": [],
   "source": [
    "# Criando a nota final do Enem\n",
    "df[\"nota_final\"] = ((df.nota_red + df.nota_cien_nat + df.nota_cien_hum + df.nota_ling + df.nota_mat) / 5)\n",
    "df"
   ]
  },
  {
   "cell_type": "code",
   "execution_count": null,
   "id": "14679b45",
   "metadata": {},
   "outputs": [],
   "source": [
    "df.isna().sum()"
   ]
  },
  {
   "cell_type": "code",
   "execution_count": null,
   "id": "c7e8fa11",
   "metadata": {},
   "outputs": [],
   "source": [
    "# Verificando número de faltosos/eliminados:\n",
    "# Total de dados: 5,095,270\n",
    "# Total de nota_final = nan: 1,393,263\n",
    "# Em termos %: (1,393,263 / 5,095,270) * 100 = 27.344242797732015 %\n",
    "faltosos = (1393263 / 5095270) * 100\n",
    "faltosos"
   ]
  },
  {
   "cell_type": "code",
   "execution_count": null,
   "id": "cf2eda6d",
   "metadata": {},
   "outputs": [],
   "source": [
    "df.reset_index(inplace = True)\n",
    "df"
   ]
  },
  {
   "cell_type": "code",
   "execution_count": null,
   "id": "0e0fbe59",
   "metadata": {},
   "outputs": [],
   "source": [
    "df.drop(['index'], axis = 1, inplace = True)\n",
    "df"
   ]
  },
  {
   "cell_type": "code",
   "execution_count": null,
   "id": "3225ca0c",
   "metadata": {},
   "outputs": [],
   "source": [
    "# Agora, salvando os dados:\n",
    "# Salvando em csv\n",
    "# df.to_csv('D:\\OneDrive\\LetsCode\\DS_Degree\\Modulo_04\\Projeto\\DADOS\\df_trabalhando_I.csv', sep=';', index=False)"
   ]
  },
  {
   "cell_type": "markdown",
   "id": "87da4345",
   "metadata": {},
   "source": [
    "# PARTE II"
   ]
  },
  {
   "cell_type": "code",
   "execution_count": null,
   "id": "e3f491e7",
   "metadata": {},
   "outputs": [],
   "source": [
    "# df = pd.read_csv(\"D:\\OneDrive\\LetsCode\\DS_Degree\\Modulo_04\\Projeto\\DADOS\\df_trabalhando_I.csv\", encoding='utf-8', sep=\";\")\n",
    "# df"
   ]
  },
  {
   "cell_type": "code",
   "execution_count": null,
   "id": "a6f58bf4",
   "metadata": {},
   "outputs": [],
   "source": [
    "# Removendo linhas que não interessam:\n",
    "# Estado civil \"não informado\"\n",
    "index_names = df[df['est_civil'] == 0 ].index\n",
    "index_names\n",
    "# Deletando as linhas com esses índices do DataFrame\n",
    "df.drop(index_names , inplace=True)\n",
    "df.head(25)"
   ]
  },
  {
   "cell_type": "code",
   "execution_count": null,
   "id": "090ca7f3",
   "metadata": {},
   "outputs": [],
   "source": [
    "# Cor \"não declarado\"\n",
    "index_names = df[df['cor'] == 0 ].index\n",
    "# Deletando as linhas com esses índices do DataFrame\n",
    "df.drop(index_names , inplace=True)"
   ]
  },
  {
   "cell_type": "code",
   "execution_count": null,
   "id": "91f3daef",
   "metadata": {},
   "outputs": [],
   "source": [
    "# Tipo de escola \"não respondeu\"\n",
    "index_names = df[df['tip_esc'] == 0 ].index\n",
    "# Deletando as linhas com esses índices do DataFrame\n",
    "df.drop(index_names , inplace=True)"
   ]
  },
  {
   "cell_type": "code",
   "execution_count": null,
   "id": "c5f07cce",
   "metadata": {},
   "outputs": [],
   "source": [
    "# Escolaridade da mãe \"não sei\"\n",
    "index_names = df[df['mae_esc'] == \"H\" ].index\n",
    "# Deletando as linhas com esses índices do DataFrame\n",
    "df.drop(index_names , inplace=True)"
   ]
  },
  {
   "cell_type": "code",
   "execution_count": null,
   "id": "97b5a019",
   "metadata": {},
   "outputs": [],
   "source": [
    "# Escolaridade do pai \"não sei\"\n",
    "index_names = df[df['pai_esc'] == \"H\" ].index\n",
    "# Deletando as linhas com esses índices do DataFrame\n",
    "df.drop(index_names , inplace=True)"
   ]
  },
  {
   "cell_type": "code",
   "execution_count": null,
   "id": "fb27814b",
   "metadata": {},
   "outputs": [],
   "source": [
    "# Ocupação do pai \"não sei\"\n",
    "index_names = df[df['ocup_pai'] == \"F\" ].index\n",
    "# Deletando as linhas com esses índices do DataFrame\n",
    "df.drop(index_names , inplace=True)"
   ]
  },
  {
   "cell_type": "code",
   "execution_count": null,
   "id": "edb4621a",
   "metadata": {},
   "outputs": [],
   "source": [
    "# Ocupação da mãe \"não sei\"\n",
    "index_names = df[df['ocup_mae'] == \"F\" ].index\n",
    "# Deletando as linhas com esses índices do DataFrame\n",
    "df.drop(index_names , inplace=True)"
   ]
  },
  {
   "cell_type": "code",
   "execution_count": null,
   "id": "a17afec4",
   "metadata": {},
   "outputs": [],
   "source": [
    "# Problemático - Excluir: muitos NAs\n",
    "# Ano de conclusão do ensino médio \"não informado\"\n",
    "# index_names = df[df['ano_concl_em'] == 0 ].index\n",
    "# Deletando as linhas com esses índices do DataFrame\n",
    "# df.drop(index_names , inplace=True)"
   ]
  },
  {
   "cell_type": "code",
   "execution_count": null,
   "id": "d1e64dee",
   "metadata": {},
   "outputs": [],
   "source": [
    "# Excluindo a escolaridade incompleta dos pais\n",
    "index_names = df[df['pai_esc'] == \"B\" ].index\n",
    "# Deletando as linhas com esses índices do DataFrame\n",
    "df.drop(index_names , inplace=True)"
   ]
  },
  {
   "cell_type": "code",
   "execution_count": null,
   "id": "4e7d1f63",
   "metadata": {},
   "outputs": [],
   "source": [
    "index_names = df[df['pai_esc'] == \"C\" ].index\n",
    "# Deletando as linhas com esses índices do DataFrame\n",
    "df.drop(index_names , inplace=True)"
   ]
  },
  {
   "cell_type": "code",
   "execution_count": null,
   "id": "eff4c834",
   "metadata": {},
   "outputs": [],
   "source": [
    "index_names = df[df['mae_esc'] == \"B\" ].index\n",
    "# Deletando as linhas com esses índices do DataFrame\n",
    "df.drop(index_names , inplace=True)"
   ]
  },
  {
   "cell_type": "code",
   "execution_count": null,
   "id": "2c8cc6ec",
   "metadata": {},
   "outputs": [],
   "source": [
    "index_names = df[df['mae_esc'] == \"C\" ].index\n",
    "# Deletando as linhas com esses índices do DataFrame\n",
    "df.drop(index_names , inplace=True)"
   ]
  },
  {
   "cell_type": "code",
   "execution_count": null,
   "id": "e5b5b3ab",
   "metadata": {},
   "outputs": [],
   "source": [
    "index_names = df[df['tip_esc'] == 1 ].index\n",
    "index_names\n",
    "# Deletando as linhas com esses índices do DataFrame\n",
    "df.drop(index_names , inplace=True)"
   ]
  },
  {
   "cell_type": "code",
   "execution_count": null,
   "id": "3298ab6d",
   "metadata": {},
   "outputs": [],
   "source": [
    "# Criando classes pela renda mensal, ocupação e escolaridade (completa) dos pais\n",
    "df.renda_men.replace({'A':\"classe_E\", 'B':\"classe_E\", 'C':\"classe_E\", 'D':\"classe_E\", 'E':\"classe_D\", 'F':\"classe_D\", 'G':\"classe_D\", 'H':\"classe_C\", 'I':\"classe_C\", 'J':\"classe_C\", 'K':\"classe_C\", 'L':\"classe_C\", 'M':\"classe_C\", 'N':\"classe_B\", 'O':\"classe_B\", 'P':\"classe_B\", 'Q':\"classe_A\"}, inplace = True)\n",
    "df.ocup_mae.replace({'A':\"ocup_mae_bai_qua\", 'B':\"ocup_mae_bai_qua\", 'C':\"ocup_mae_med_qual\", 'D':\"ocup_mae_med_qual\", 'E':\"ocup_mae_alt_qual\"}, inplace = True)\n",
    "df.ocup_pai.replace({'A':\"ocup_pai_bai_qua\", 'B':\"ocup_pai_bai_qua\", 'C':\"ocup_pai_med_qual\", 'D':\"ocup_pai_med_qual\", 'E':\"ocup_pai_alt_qual\"}, inplace = True)\n",
    "df.mae_esc.replace({'A':\"mae_analf\", 'D':\"mae_fund_compl\", 'E':\"mae_med_compl\", 'F':\"mae_grad_compl\", 'G':\"mae_pos_compl\"}, inplace = True)\n",
    "df.pai_esc.replace({'A':\"pai_analf\", 'D':\"pai_fund_compl\", 'E':\"pai_med_compl\", 'F':\"pai_grad_compl\", 'G':\"pai_pos_compl\"}, inplace = True)\n",
    "df"
   ]
  },
  {
   "cell_type": "code",
   "execution_count": null,
   "id": "b2a4e8a9",
   "metadata": {},
   "outputs": [],
   "source": [
    "# Transformando diversas variáveis\n",
    "df.idioma.replace({0:\"ingles\", 1:\"espanhol\" }, inplace = True)\n",
    "# df.treino.replace({1:\"sim\", 0:\"não\" }, inplace = True)\n",
    "df.cor.replace({1:\"branca\", 2:\"preta\", 3: \"parda\",  4: \"amarela\", 5: \"indígena\"}, inplace = True)\n",
    "df.est_civil.replace({1:\"solteiro\", 2:\"casado\", 3: \"separado\",  4: \"viúvo\"}, inplace = True)\n",
    "df.nom_social.replace({1:\"sim\", 0:\"não\"}, inplace = True)\n",
    "df.tip_esc.replace({2:\"pública\", 3:\"privada\", 4: \"exterior\"}, inplace = True)\n",
    "df"
   ]
  },
  {
   "cell_type": "code",
   "execution_count": null,
   "id": "b105a183",
   "metadata": {},
   "outputs": [],
   "source": [
    "# Transformando mais variáveis\n",
    "df.tem_net.replace({'A':0, 'B':1}, inplace = True)\n",
    "df.tem_pc.replace({'A':0, 'B':1, 'C':1, 'D':1, 'E':1}, inplace = True)\n",
    "df.tem_cel.replace({'A':0, 'B':1, 'C':1, 'D':1, 'E':1}, inplace = True)\n",
    "df.tem_tv.replace({'A':0, 'B':1, 'C':1, 'D':1, 'E':1}, inplace = True)\n",
    "df.tem_geladeira.replace({'A':0, 'B':1, 'C':1, 'D':1, 'E':1}, inplace = True)\n",
    "df.tem_quartos.replace({'A':0, 'B':1, 'C':1, 'D':1, 'E':1}, inplace = True)\n",
    "df.tem_wc.replace({'A':0, 'B':1, 'C':1, 'D':1, 'E':1}, inplace = True)\n",
    "df"
   ]
  },
  {
   "cell_type": "code",
   "execution_count": null,
   "id": "2055b853",
   "metadata": {},
   "outputs": [],
   "source": [
    "df.tem_net.replace({0: \"não\", 1: \"sim\"}, inplace = True)\n",
    "df.tem_pc.replace({0: \"não\", 1: \"sim\"}, inplace = True)\n",
    "df.tem_cel.replace({0: \"não\", 1: \"sim\"}, inplace = True)\n",
    "df.tem_tv.replace({0: \"não\", 1: \"sim\"}, inplace = True)\n",
    "df.tem_geladeira.replace({0: \"não\", 1: \"sim\"}, inplace = True)\n",
    "df.tem_quartos.replace({0: \"não\", 1: \"sim\"}, inplace = True)\n",
    "df.tem_wc.replace({0: \"não\", 1: \"sim\"}, inplace = True)\n",
    "df"
   ]
  },
  {
   "cell_type": "code",
   "execution_count": null,
   "id": "87084b11",
   "metadata": {},
   "outputs": [],
   "source": [
    "df.isna().sum()"
   ]
  },
  {
   "cell_type": "code",
   "execution_count": null,
   "id": "783f86b2",
   "metadata": {},
   "outputs": [],
   "source": [
    "# Dropando valores NAs (linhas)\n",
    "df.dropna(axis = 0, inplace = True)\n",
    "df"
   ]
  },
  {
   "cell_type": "code",
   "execution_count": null,
   "id": "4f97c5d6",
   "metadata": {},
   "outputs": [],
   "source": [
    "df.isna().sum()"
   ]
  },
  {
   "cell_type": "code",
   "execution_count": null,
   "id": "f4f525c2",
   "metadata": {},
   "outputs": [],
   "source": [
    "df.reset_index(inplace = True)\n",
    "df"
   ]
  },
  {
   "cell_type": "code",
   "execution_count": null,
   "id": "0e4442ea",
   "metadata": {},
   "outputs": [],
   "source": [
    "df.drop(['index'], axis = 1, inplace = True)\n",
    "df"
   ]
  },
  {
   "cell_type": "code",
   "execution_count": null,
   "id": "2e308562",
   "metadata": {},
   "outputs": [],
   "source": [
    "# Agora, salvando os dados:\n",
    "# Salvando em csv\n",
    "# df.to_csv('D:\\OneDrive\\LetsCode\\DS_Degree\\Modulo_04\\Projeto\\DADOS\\df_trabalhando_II.csv', sep=';', index=False)"
   ]
  },
  {
   "cell_type": "markdown",
   "id": "572c264c",
   "metadata": {},
   "source": [
    "# PARTE III"
   ]
  },
  {
   "cell_type": "markdown",
   "id": "a9f763be",
   "metadata": {},
   "source": [
    "Análises."
   ]
  },
  {
   "cell_type": "code",
   "execution_count": null,
   "id": "baa12331",
   "metadata": {},
   "outputs": [],
   "source": [
    "# df = pd.read_csv(\"D:\\OneDrive\\LetsCode\\DS_Degree\\Modulo_04\\Projeto\\DADOS\\df_trabalhando_II.csv\", encoding='utf-8', sep=\";\")\n",
    "# df"
   ]
  },
  {
   "cell_type": "code",
   "execution_count": null,
   "id": "eb1962f9",
   "metadata": {},
   "outputs": [],
   "source": [
    "df.isna().sum()"
   ]
  },
  {
   "cell_type": "code",
   "execution_count": null,
   "id": "b73284ea",
   "metadata": {},
   "outputs": [],
   "source": [
    "df.info()"
   ]
  },
  {
   "cell_type": "code",
   "execution_count": null,
   "id": "738f7124",
   "metadata": {},
   "outputs": [],
   "source": [
    "# Quantidade de pessoas do sexo masculino e feminino que tiveram nota final do Enem 2019\n",
    "\n",
    "# Pessoas do sexo feminino são maioria, representando quase 56%;\n",
    "# Enquanto indivíduos do sexo masculino representam pouco mais de 44%."
   ]
  },
  {
   "cell_type": "code",
   "execution_count": null,
   "id": "4b40e62d",
   "metadata": {},
   "outputs": [],
   "source": [
    "df.sexo.value_counts()"
   ]
  },
  {
   "cell_type": "code",
   "execution_count": null,
   "id": "a4f942ae",
   "metadata": {},
   "outputs": [],
   "source": [
    "fem = (295808 / (295808 + 235827)) * 100\n",
    "fem"
   ]
  },
  {
   "cell_type": "code",
   "execution_count": null,
   "id": "d372a7c7",
   "metadata": {},
   "outputs": [],
   "source": [
    "masc = (235827 / (295808 + 235827)) * 100\n",
    "masc"
   ]
  },
  {
   "cell_type": "code",
   "execution_count": null,
   "id": "c62167bd",
   "metadata": {},
   "outputs": [],
   "source": [
    "# Média de idade\n",
    "\n",
    "# Média de idades das pessoas que fizeram Enem em 2019 é de 17,69 anos."
   ]
  },
  {
   "cell_type": "code",
   "execution_count": null,
   "id": "5d82aba7",
   "metadata": {},
   "outputs": [],
   "source": [
    "df.idade.mean()"
   ]
  },
  {
   "cell_type": "code",
   "execution_count": null,
   "id": "b550b06c",
   "metadata": {},
   "outputs": [],
   "source": [
    "# Média de idade por sexo:\n",
    "\n",
    "# Idades médias muito próximas (meninos (17,72) e meninas (17,67))."
   ]
  },
  {
   "cell_type": "code",
   "execution_count": null,
   "id": "a8bb905a",
   "metadata": {},
   "outputs": [],
   "source": [
    "df.groupby(['sexo']).idade.mean()"
   ]
  },
  {
   "cell_type": "code",
   "execution_count": null,
   "id": "aa11e264",
   "metadata": {},
   "outputs": [],
   "source": []
  },
  {
   "cell_type": "code",
   "execution_count": null,
   "id": "e001b739",
   "metadata": {},
   "outputs": [],
   "source": [
    "# Média de idade por sexo, cor e tipo de escola:\n",
    "\n",
    "# Tanto pessoas do sexo feminino, quanto masculino, \n",
    "# percebe-se que entre os índigenas e pessoas pretas possuem \n",
    "# média de idade maior.\n",
    "# Isso pode indicar algum tipo de dificuldade de acesso a educação e \n",
    "# melhores qualidades de vida por # parte dessas pessoas e, talvez, \n",
    "# até algum tipo de discriminação (podendo ser vividas por ele ou por seus ascendentes)."
   ]
  },
  {
   "cell_type": "code",
   "execution_count": null,
   "id": "8d1c326f",
   "metadata": {},
   "outputs": [],
   "source": [
    "df.groupby(['sexo', \"cor\", \"tip_esc\"]).idade.mean()"
   ]
  },
  {
   "cell_type": "code",
   "execution_count": null,
   "id": "7ad83f8d",
   "metadata": {},
   "outputs": [],
   "source": [
    "# Nota final do Enem 2019 por sexo e tipo de escola:\n",
    "\n",
    "# Em relação a média, percebe-se que as médias dos alunos de escolas privadas\n",
    "# são maiores quando comparados com alunos de escolas públicas.\n",
    "# Isso pode indicar problemas na educação.\n",
    "\n",
    "# Quando olhamos para a menor nota dos alunos, novamente\n",
    "# os discentes da escola particular possuem notas maiores.\n",
    "# Novamente, pode indicar problemas na educação.\n",
    "\n",
    "# Ao olhar a maior nota, mais uma vez, os alunos de escola particular\n",
    "# apresentaram notas maiores quando comparados com os alunos da escola pública.\n",
    "# Vale ressaltar que, entre os meninos, essa diferença foi bem menor, quando \n",
    "# comparado com as meninas.\n",
    "\n",
    "# Já o desvio padrão evidencia que existe uma maior variabilidade das notas\n",
    "# dos alunos da escola pública (ao se comparar com discentes de escolas particulares)."
   ]
  },
  {
   "cell_type": "code",
   "execution_count": null,
   "id": "370caadb",
   "metadata": {},
   "outputs": [],
   "source": [
    "df.groupby(['sexo', \"tip_esc\"])['nota_final'].mean()"
   ]
  },
  {
   "cell_type": "code",
   "execution_count": null,
   "id": "d033e8d6",
   "metadata": {},
   "outputs": [],
   "source": [
    "df.groupby(['sexo', \"tip_esc\"])['nota_final'].min()"
   ]
  },
  {
   "cell_type": "code",
   "execution_count": null,
   "id": "fd9b00f3",
   "metadata": {},
   "outputs": [],
   "source": [
    "df.groupby(['sexo', \"tip_esc\"])['nota_final'].max()"
   ]
  },
  {
   "cell_type": "code",
   "execution_count": null,
   "id": "c2dfbeb9",
   "metadata": {},
   "outputs": [],
   "source": [
    "df.groupby(['sexo', \"tip_esc\"])['nota_final'].std()"
   ]
  },
  {
   "cell_type": "code",
   "execution_count": null,
   "id": "2e45b377",
   "metadata": {},
   "outputs": [],
   "source": [
    "# Nota final do Enem 2019 por sexo, cor e tipo de escola:\n",
    "\n",
    "# Mais uma vez, os indígenas e pessoas da cor preta possuem as menores notas.\n",
    "# Indivíduos de escolas particulares evidenciam as maiores notas."
   ]
  },
  {
   "cell_type": "code",
   "execution_count": null,
   "id": "ff467349",
   "metadata": {},
   "outputs": [],
   "source": [
    "df.groupby(['sexo', 'cor', \"tip_esc\"])['nota_final'].mean()"
   ]
  },
  {
   "cell_type": "code",
   "execution_count": null,
   "id": "a10fb970",
   "metadata": {},
   "outputs": [],
   "source": [
    "# Média da nota final por classe:\n",
    "\n",
    "# Pessoas de classes mais altas, apresentaram as maiores médias.\n",
    "# Isso pode evidenciar melhores condições de acesso a n fatores."
   ]
  },
  {
   "cell_type": "code",
   "execution_count": null,
   "id": "8c0e7b6d",
   "metadata": {},
   "outputs": [],
   "source": [
    "df.groupby([\"renda_men\"])['nota_final'].mean()"
   ]
  },
  {
   "cell_type": "code",
   "execution_count": null,
   "id": "4ba1bf0c",
   "metadata": {},
   "outputs": [],
   "source": [
    "# Média da nota final por classe e sexo:\n",
    "\n",
    "# Mais uma vez, rendas maiores permitem acesso a educação de melhor qualidade.\n",
    "# As notas dos meninos e das meninas, para cada faixa de renda, são bem parecidas."
   ]
  },
  {
   "cell_type": "code",
   "execution_count": null,
   "id": "c6c04d54",
   "metadata": {},
   "outputs": [],
   "source": [
    "df.groupby([\"renda_men\", \"sexo\"])['nota_final'].mean()"
   ]
  },
  {
   "cell_type": "code",
   "execution_count": null,
   "id": "32764167",
   "metadata": {},
   "outputs": [],
   "source": [
    "# Desagregando por notas\n",
    "# Nota média por prova do Enem 2019 por sexo e tipo de escola:\n",
    "\n",
    "# Mais uma vez, verificou-se que as notas dos alunos de escolas privadas são maiores\n",
    "# que a dos alunos de escola públicas.\n",
    "# Isso corrobora com as análises anteriores."
   ]
  },
  {
   "cell_type": "code",
   "execution_count": null,
   "id": "d5ed840f",
   "metadata": {},
   "outputs": [],
   "source": [
    "df.groupby(['sexo', \"tip_esc\"])['nota_red', \"nota_cien_nat\", \"nota_cien_hum\", \"nota_ling\", \"nota_mat\"].mean()"
   ]
  },
  {
   "cell_type": "code",
   "execution_count": null,
   "id": "63abb1f9",
   "metadata": {},
   "outputs": [],
   "source": [
    "# Considerando acesso a lazer, saneamento, local adequado para dormir e acesso a geladeira,\n",
    "# na nota média final do Enem 2019.\n",
    "\n",
    "# Percebeu-se que quem possui acesso a esses itens, apresenta um desempenho melhor na nota.\n",
    "# Isso pode ser explicado pelo fato de uma melhor qualidade de vida, além de contribuir \n",
    "# para o capital humano."
   ]
  },
  {
   "cell_type": "code",
   "execution_count": null,
   "id": "ad046b15",
   "metadata": {},
   "outputs": [],
   "source": [
    "df.groupby([\"tem_wc\"])['nota_final'].mean()"
   ]
  },
  {
   "cell_type": "code",
   "execution_count": null,
   "id": "fcd2191c",
   "metadata": {},
   "outputs": [],
   "source": [
    "df.groupby([\"tem_quartos\"])['nota_final'].mean()"
   ]
  },
  {
   "cell_type": "code",
   "execution_count": null,
   "id": "b54d6b7f",
   "metadata": {},
   "outputs": [],
   "source": [
    "df.groupby([\"tem_geladeira\"])['nota_final'].mean()"
   ]
  },
  {
   "cell_type": "code",
   "execution_count": null,
   "id": "a98bf30c",
   "metadata": {},
   "outputs": [],
   "source": [
    "df.groupby([\"tem_tv\"])['nota_final'].mean()"
   ]
  },
  {
   "cell_type": "code",
   "execution_count": null,
   "id": "dce9c4e4",
   "metadata": {},
   "outputs": [],
   "source": [
    "df.groupby([\"tem_cel\"])['nota_final'].mean()"
   ]
  },
  {
   "cell_type": "code",
   "execution_count": null,
   "id": "698c8501",
   "metadata": {},
   "outputs": [],
   "source": [
    "df.groupby([ \"tem_pc\"])['nota_final'].mean()"
   ]
  },
  {
   "cell_type": "code",
   "execution_count": null,
   "id": "4ead51c8",
   "metadata": {},
   "outputs": [],
   "source": [
    "df.groupby([\"tem_net\"])['nota_final'].mean()"
   ]
  },
  {
   "cell_type": "code",
   "execution_count": null,
   "id": "48d8aac9",
   "metadata": {},
   "outputs": [],
   "source": [
    "df.groupby([\"tem_pc\", \"tem_net\"])['nota_final'].mean()"
   ]
  },
  {
   "cell_type": "code",
   "execution_count": null,
   "id": "57230f0b",
   "metadata": {},
   "outputs": [],
   "source": [
    "df.groupby([\"tem_cel\", \"tem_net\"])['nota_final'].mean()"
   ]
  },
  {
   "cell_type": "code",
   "execution_count": null,
   "id": "09d9f921",
   "metadata": {},
   "outputs": [],
   "source": [
    "# Ocupação dos pais e a nota final\n",
    "\n",
    "# Comparando a ocupação dos pais, levando em consideração o seu nível educacional,\n",
    "# é possível verificar que, quanto maior a escolaridade da mãe, maior tende a ser\n",
    "# o desempenho dos filhos na nota do Enem.\n",
    "# Isso pode ser explicado pelo fato das mães incentivarem mais os filhos no campo\n",
    "# educacional.\n",
    "# Além disso, utilizar a escolaridade da mãe como proxy para a escolaridade dos\n",
    "# filhos, é uma prática muito utilizada nas pesquisas científicas. "
   ]
  },
  {
   "cell_type": "code",
   "execution_count": null,
   "id": "a3b278c1",
   "metadata": {},
   "outputs": [],
   "source": [
    "df.groupby([\"ocup_pai\"])['nota_final'].mean()"
   ]
  },
  {
   "cell_type": "code",
   "execution_count": null,
   "id": "1bbd54ef",
   "metadata": {},
   "outputs": [],
   "source": [
    "df.groupby([\"ocup_mae\"])['nota_final'].mean()"
   ]
  },
  {
   "cell_type": "code",
   "execution_count": null,
   "id": "c8749ffe",
   "metadata": {},
   "outputs": [],
   "source": [
    "# Nome social e nota do final\n",
    "\n",
    "# Uma pessoa que adota o nome social, a chance dela ter sofrido algum tipo de \n",
    "# bullying na escola deve ter sido grande.\n",
    "# Dessa forma, quando a pessoa adota o nome social, a mesma tende a se sentir melhor,\n",
    "# um sentimento de pertencimento, pois agora ela começa a ser vista como ela desejou ser.\n",
    "# Psicologicamente, a adoção desse nome social, permite uma espécie de ânimo\n",
    "# para a pessoa e, por isso, ela tende a fazer uma prova melhor.\n",
    "# O mesmo ocorre quando desagregamos a nota final por tipo de prova."
   ]
  },
  {
   "cell_type": "code",
   "execution_count": null,
   "id": "68d16224",
   "metadata": {},
   "outputs": [],
   "source": [
    "df.groupby([\"nom_social\"])['nota_final'].mean()"
   ]
  },
  {
   "cell_type": "code",
   "execution_count": null,
   "id": "172097e8",
   "metadata": {},
   "outputs": [],
   "source": [
    "df.groupby([\"nom_social\"])['nota_red', \"nota_cien_nat\", \"nota_cien_hum\", \"nota_ling\", \"nota_mat\"].mean()"
   ]
  },
  {
   "cell_type": "code",
   "execution_count": null,
   "id": "42ab62b9",
   "metadata": {},
   "outputs": [],
   "source": [
    "# Quem possui maior renda, tende a apresentar notas maiores,\n",
    "# especialmente quando estudam em colégios privados.\n",
    "# Além disso, pessoas que possuem rendas maiores e que estudam \n",
    "# em colégios públicos, também possuem um desempenho melhor,\n",
    "# quando comparados com demais alunos de colégios públicos.\n",
    "# Um dos motivos que podem explicar esse fato, é que pessoas\n",
    "# com maiores poderes aquisitivos possuem melhores condições e, tendem\n",
    "# a possuir famílias mais estruturadas."
   ]
  },
  {
   "cell_type": "code",
   "execution_count": null,
   "id": "b66d5694",
   "metadata": {},
   "outputs": [],
   "source": [
    "df.groupby([\"tip_esc\", \"renda_men\"])['nota_final'].mean()"
   ]
  },
  {
   "cell_type": "code",
   "execution_count": null,
   "id": "570c1239",
   "metadata": {},
   "outputs": [],
   "source": [
    "# Nota final na prova por região brasileira\n",
    "\n",
    "# A região Sudeste apresenta a maior nota final, seguida pela região Sul.\n",
    "# Isso pode evidenciar disparidades na educação entre as regiões brasileiras.\n",
    "# Além disso, dependendo da localidade, o acesso a educação\n",
    "# tende a ser mais difícil, principalmente na região norte,\n",
    "# que apresentou a menor nota."
   ]
  },
  {
   "cell_type": "code",
   "execution_count": null,
   "id": "cf4bcc47",
   "metadata": {},
   "outputs": [],
   "source": [
    "df.groupby([\"regiao_br\"])['nota_final'].mean()"
   ]
  },
  {
   "cell_type": "code",
   "execution_count": null,
   "id": "98a3ea00",
   "metadata": {},
   "outputs": [],
   "source": [
    "# Quando analisamos as notas por região e tipo de escola, \n",
    "# é possível verificar que, novamente, as notas de alunos\n",
    "# de escola pública tendem a ser menores quando comparados com colégios particulares.\n",
    "# Porém, agora, a nota da região centro-oeste torna-se maior, seguidos\n",
    "# pelas regiões sul e sudeste - notas muito próximas."
   ]
  },
  {
   "cell_type": "code",
   "execution_count": null,
   "id": "0d8e0f58",
   "metadata": {},
   "outputs": [],
   "source": [
    "df.groupby([\"regiao_br\", \"tip_esc\"])['nota_final'].mean()"
   ]
  },
  {
   "cell_type": "code",
   "execution_count": null,
   "id": "53c69370",
   "metadata": {},
   "outputs": [],
   "source": [
    "# Língua estrangeira escolhida:"
   ]
  },
  {
   "cell_type": "code",
   "execution_count": null,
   "id": "79ec3c62",
   "metadata": {},
   "outputs": [],
   "source": [
    "df[[\"idioma\" ]].value_counts()"
   ]
  },
  {
   "cell_type": "code",
   "execution_count": null,
   "id": "a1bde1fb",
   "metadata": {},
   "outputs": [],
   "source": [
    "# Temos uma maior quantidade de pessoas realizando a prova de inglês,\n",
    "# quando comparado com o espanhol."
   ]
  },
  {
   "cell_type": "code",
   "execution_count": null,
   "id": "cff7a18f",
   "metadata": {},
   "outputs": [],
   "source": [
    "# Candidatos das classes C, D e E são maioria analisando o todo. Entre escolas públicas e privadas,\n",
    "# notamos que as mesmas classes de escolas públicas são maioria em relação às escolas privadas."
   ]
  },
  {
   "cell_type": "code",
   "execution_count": null,
   "id": "bd63b1d9",
   "metadata": {},
   "outputs": [],
   "source": [
    "df[[\"sexo\", \"tip_esc\", \"renda_men\" ]].value_counts()"
   ]
  },
  {
   "cell_type": "code",
   "execution_count": null,
   "id": "ca6cb8fe",
   "metadata": {},
   "outputs": [],
   "source": [
    "# Como esperado, temos mais pessoas solteiras fazendo a prova.\n",
    "# Isso ainda é corroborado pela idade média."
   ]
  },
  {
   "cell_type": "code",
   "execution_count": null,
   "id": "6fd6ef9d",
   "metadata": {},
   "outputs": [],
   "source": [
    "df[[\"est_civil\" ]].value_counts()"
   ]
  },
  {
   "cell_type": "code",
   "execution_count": null,
   "id": "97fa9ece",
   "metadata": {},
   "outputs": [],
   "source": [
    "# Quantidade de candidatos vindos de escolas públicas vs escolas privadas"
   ]
  },
  {
   "cell_type": "code",
   "execution_count": null,
   "id": "32656e89",
   "metadata": {},
   "outputs": [],
   "source": [
    "df[[\"tip_esc\" ]].value_counts()"
   ]
  },
  {
   "cell_type": "code",
   "execution_count": null,
   "id": "810f6df0",
   "metadata": {},
   "outputs": [],
   "source": [
    "# Quantidade de alunos em escolas públicas, separados por sexo:\n",
    "\n",
    "# Como esperado, temos mais pessoas de escolas públicas, tanto do sexo masculino\n",
    "# quanto do sexo feminino."
   ]
  },
  {
   "cell_type": "code",
   "execution_count": null,
   "id": "8fd655f9",
   "metadata": {},
   "outputs": [],
   "source": [
    "df.groupby(['sexo'])['tip_esc'].value_counts()"
   ]
  },
  {
   "cell_type": "code",
   "execution_count": null,
   "id": "322b3243",
   "metadata": {},
   "outputs": [],
   "source": [
    "# Também esperado, existem mais pessoas de classe mais baixa, quando comparado com classes \n",
    "# mais altas."
   ]
  },
  {
   "cell_type": "code",
   "execution_count": null,
   "id": "5a5a5d68",
   "metadata": {},
   "outputs": [],
   "source": [
    "df.groupby(['sexo'])['renda_men'].value_counts()"
   ]
  },
  {
   "cell_type": "code",
   "execution_count": null,
   "id": "7aac61c9",
   "metadata": {},
   "outputs": [],
   "source": [
    "# Em porcentagem:"
   ]
  },
  {
   "cell_type": "code",
   "execution_count": null,
   "id": "5ee37b26",
   "metadata": {},
   "outputs": [],
   "source": [
    "pes_e = ((93761 + 137568 ) / 531635) * 100\n",
    "pes_d = ((62561 + 75585 ) / 531635) * 100\n",
    "pes_c = ((53607 + 57628 ) / 531635) * 100\n",
    "pes_b = ((18038 + 18035 ) / 531635) * 100\n",
    "pes_a = ((7860 + 6992 ) / 531635) * 100\n",
    "print(pes_e, pes_d, pes_c, pes_b, pes_a)\n",
    "\n",
    "43.5127484082124 + 25.98512137086535 + 20.923189782463535 + 6.785294421924817 + 2.7936460165339003\n"
   ]
  },
  {
   "cell_type": "code",
   "execution_count": null,
   "id": "8fd88cd3",
   "metadata": {},
   "outputs": [],
   "source": [
    "# Em termos percentuais, temos mais indivíduos da classe A em colégios privados\n",
    "# quanto comparados em escola pública."
   ]
  },
  {
   "cell_type": "code",
   "execution_count": null,
   "id": "c71d50e4",
   "metadata": {},
   "outputs": [],
   "source": [
    "df.groupby(['tip_esc'])['renda_men'].value_counts()"
   ]
  },
  {
   "cell_type": "code",
   "execution_count": null,
   "id": "f41c4d76",
   "metadata": {},
   "outputs": [],
   "source": []
  },
  {
   "cell_type": "code",
   "execution_count": null,
   "id": "57020020",
   "metadata": {},
   "outputs": [],
   "source": []
  }
 ],
 "metadata": {
  "kernelspec": {
   "display_name": "Python 3 (ipykernel)",
   "language": "python",
   "name": "python3"
  },
  "language_info": {
   "codemirror_mode": {
    "name": "ipython",
    "version": 3
   },
   "file_extension": ".py",
   "mimetype": "text/x-python",
   "name": "python",
   "nbconvert_exporter": "python",
   "pygments_lexer": "ipython3",
   "version": "3.9.7"
  }
 },
 "nbformat": 4,
 "nbformat_minor": 5
}
