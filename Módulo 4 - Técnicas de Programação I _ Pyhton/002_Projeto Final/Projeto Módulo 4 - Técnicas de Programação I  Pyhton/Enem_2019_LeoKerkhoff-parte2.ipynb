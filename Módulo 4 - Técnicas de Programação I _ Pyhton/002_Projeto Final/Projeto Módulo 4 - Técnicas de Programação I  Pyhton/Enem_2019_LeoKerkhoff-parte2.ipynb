{
 "cells": [
  {
   "cell_type": "markdown",
   "id": "0b4a50eb-27ca-4947-ad51-71be6b2804fb",
   "metadata": {},
   "source": [
    "Importando as bibliotecas:"
   ]
  },
  {
   "cell_type": "code",
   "execution_count": 1,
   "id": "1b1e27c6",
   "metadata": {},
   "outputs": [],
   "source": [
    "import pandas as pd\n",
    "import numpy as np\n",
    "pd.options.display.float_format= \"{:,.2f}\".format"
   ]
  },
  {
   "cell_type": "markdown",
   "id": "b8f78de8",
   "metadata": {},
   "source": [
    "Carregando os dados já pré-tratados (final da parte 1 > dados_populados.csv):"
   ]
  },
  {
   "cell_type": "code",
   "execution_count": 2,
   "id": "5bdafd24",
   "metadata": {},
   "outputs": [
    {
     "ename": "NameError",
     "evalue": "name 'cols' is not defined",
     "output_type": "error",
     "traceback": [
      "\u001b[1;31m---------------------------------------------------------------------------\u001b[0m",
      "\u001b[1;31mNameError\u001b[0m                                 Traceback (most recent call last)",
      "\u001b[1;32m~\\AppData\\Local\\Temp/ipykernel_7044/2460422383.py\u001b[0m in \u001b[0;36m<module>\u001b[1;34m\u001b[0m\n\u001b[1;32m----> 1\u001b[1;33m \u001b[0mdf\u001b[0m \u001b[1;33m=\u001b[0m \u001b[0mpd\u001b[0m\u001b[1;33m.\u001b[0m\u001b[0mread_csv\u001b[0m\u001b[1;33m(\u001b[0m\u001b[1;34m'./microdados_enem_2019/DADOS/MICRODADOS_ENEM_2019.csv'\u001b[0m\u001b[1;33m,\u001b[0m \u001b[0mencoding\u001b[0m\u001b[1;33m=\u001b[0m\u001b[1;34m'latin-1'\u001b[0m\u001b[1;33m,\u001b[0m \u001b[0msep\u001b[0m\u001b[1;33m=\u001b[0m\u001b[1;34m\";\"\u001b[0m\u001b[1;33m,\u001b[0m \u001b[0musecols\u001b[0m\u001b[1;33m=\u001b[0m\u001b[0mcols\u001b[0m\u001b[1;33m)\u001b[0m\u001b[1;33m\u001b[0m\u001b[1;33m\u001b[0m\u001b[0m\n\u001b[0m\u001b[0;32m      2\u001b[0m \u001b[0mdf\u001b[0m\u001b[1;33m\u001b[0m\u001b[1;33m\u001b[0m\u001b[0m\n",
      "\u001b[1;31mNameError\u001b[0m: name 'cols' is not defined"
     ]
    }
   ],
   "source": [
    "df = pd.read_csv(\"./dados_populados.csv\")\n",
    "df"
   ]
  },
  {
   "cell_type": "code",
   "execution_count": null,
   "id": "fe006f71",
   "metadata": {
    "scrolled": true
   },
   "outputs": [],
   "source": [
    "df.isna().sum()"
   ]
  },
  {
   "cell_type": "markdown",
   "id": "eef07431",
   "metadata": {},
   "source": [
    "As notas NaN são as abstenções e serão mantidos para a análise."
   ]
  },
  {
   "cell_type": "markdown",
   "id": "c62d8d0b",
   "metadata": {},
   "source": [
    "Alterando os nomes das colunas:"
   ]
  },
  {
   "cell_type": "code",
   "execution_count": null,
   "id": "5afcbb56",
   "metadata": {},
   "outputs": [],
   "source": [
    "df.columns = [\"UF_RESIDENCIA\", \"IDADE\", \"SEXO\", \"COR\", \"UF_NASCIMENTO\", \"TIPO_ESCOLA\", \"LINGUA_ESTRANGEIRA\", \"RENDA_MENSAL_FAMILIAR\", \"INTERNET\", \"NOTA\"]\n",
    "df.columns"
   ]
  },
  {
   "cell_type": "code",
   "execution_count": null,
   "id": "ad26b064",
   "metadata": {},
   "outputs": [],
   "source": [
    "df.head(10)"
   ]
  },
  {
   "cell_type": "markdown",
   "id": "868a0a85",
   "metadata": {},
   "source": [
    "Substituindo os valores originais para facilitar a leitura do DataFrame:"
   ]
  },
  {
   "cell_type": "code",
   "execution_count": null,
   "id": "b124ae3a",
   "metadata": {},
   "outputs": [],
   "source": [
    "df.COR.replace({1:\"Branco (a)\", 2:\"Preto (a)\", 3: \"Pardo (a)\",  4: \"Amarelo (a)\", 5: \"Indígena\"}, inplace = True)\n",
    "df.TIPO_ESCOLA.replace({2:\"Pública\", 3:\"Privada\", 4: \"Exterior\"}, inplace = True)\n",
    "df.LINGUA_ESTRANGEIRA.replace({0:'Inglês', 1:'Espanhol'}, inplace = True)\n",
    "df.RENDA_MENSAL_FAMILIAR.replace({'A':\"classe_E\", 'B':\"classe_E\", 'C':\"classe_E\", 'D':\"classe_E\", 'E':\"classe_D\", 'F':\"classe_D\", 'G':\"classe_D\", 'H':\"classe_C\", 'I':\"classe_C\", 'J':\"classe_C\", 'K':\"classe_C\", 'L':\"classe_C\", 'M':\"classe_C\", 'N':\"classe_B\", 'O':\"classe_B\", 'P':\"classe_B\", 'Q':\"classe_A\"}, inplace = True)\n",
    "df.INTERNET.replace({'A':'Não', 'B':'Sim'}, inplace = True)\n",
    "\n",
    "df.head(5)"
   ]
  },
  {
   "cell_type": "markdown",
   "id": "9f963687",
   "metadata": {},
   "source": [
    "Acrescentando a coluna \"REGIAO_BR\""
   ]
  },
  {
   "cell_type": "code",
   "execution_count": null,
   "id": "35a6f28f",
   "metadata": {},
   "outputs": [],
   "source": [
    "df[\"REGIAO_BR\"] = df.UF_RESIDENCIA"
   ]
  },
  {
   "cell_type": "code",
   "execution_count": null,
   "id": "f4a8278a",
   "metadata": {},
   "outputs": [],
   "source": [
    "df.head(10)"
   ]
  },
  {
   "cell_type": "markdown",
   "id": "b95ef995",
   "metadata": {},
   "source": [
    "Repopulando os valores da nova coluna com as regiões correspondentes de cada Estado:"
   ]
  },
  {
   "cell_type": "code",
   "execution_count": null,
   "id": "44f162f5",
   "metadata": {},
   "outputs": [],
   "source": [
    "df.REGIAO_BR.replace({'PR': \"Sul\", 'SP': \"Sudeste\", 'PA': \"Norte\", 'TO': \"Norte\", 'RS': \"Sul\", 'AL': \"Nordeste\", 'BA': \"Nordeste\", 'AP': \"Norte\", 'MG': \"Sudeste\", 'AM': \"Norte\", 'GO': \"Centro-Oeste\",\n",
    "       'MA': \"Nordeste\", 'RJ': \"Sudeste\", 'CE': \"Nordeste\", 'RO': \"Norte\", 'MT': \"Centro-Oeste\", 'PE': \"Nordeste\", 'RN': \"Nordeste\", 'AC': \"Norte\", 'ES': \"Sudeste\", 'PI': \"Nordeste\", 'SE': \"Nordeste\",\n",
    "       'DF': \"Centro-Oeste\", 'SC': \"Sul\", 'PB': \"Nordeste\", 'MS': \"Centro-Oeste\", 'RR': \"Norte\"}, inplace = True)\n",
    "df"
   ]
  },
  {
   "cell_type": "markdown",
   "id": "ce274e7a",
   "metadata": {},
   "source": []
  },
  {
   "cell_type": "code",
   "execution_count": null,
   "id": "05b15a70",
   "metadata": {},
   "outputs": [],
   "source": [
    "# Quantidade de pessoas do sexo masculino e feminino que tiveram nota final do Enem 2019"
   ]
  },
  {
   "cell_type": "code",
   "execution_count": null,
   "id": "acab5961",
   "metadata": {},
   "outputs": [],
   "source": [
    "df.SEXO.value_counts()"
   ]
  },
  {
   "cell_type": "code",
   "execution_count": null,
   "id": "20454099",
   "metadata": {},
   "outputs": [],
   "source": [
    "fem = (2930229 / (2930229 + 2013989)) * 100\n",
    "fem"
   ]
  },
  {
   "cell_type": "code",
   "execution_count": null,
   "id": "b543e5dc",
   "metadata": {
    "scrolled": true
   },
   "outputs": [],
   "source": [
    "masc = (2013989 / (2930229 + 2013989)) * 100\n",
    "masc"
   ]
  },
  {
   "cell_type": "code",
   "execution_count": null,
   "id": "0a96e781",
   "metadata": {},
   "outputs": [],
   "source": [
    "# Pessoas do sexo feminino são maioria, representando quase 60%;\n",
    "# Enquanto indivíduos do sexo masculino representam pouco mais de 40%."
   ]
  },
  {
   "cell_type": "code",
   "execution_count": null,
   "id": "4d2a1702",
   "metadata": {},
   "outputs": [],
   "source": [
    "# Média de idade"
   ]
  },
  {
   "cell_type": "code",
   "execution_count": null,
   "id": "94442c76",
   "metadata": {},
   "outputs": [],
   "source": [
    "df.IDADE.mean()"
   ]
  },
  {
   "cell_type": "code",
   "execution_count": null,
   "id": "2433805d",
   "metadata": {},
   "outputs": [],
   "source": [
    "# Média de idades das pessoas que fizeram Enem em 2019 é de 22,18 anos."
   ]
  },
  {
   "cell_type": "code",
   "execution_count": null,
   "id": "dd0680ab",
   "metadata": {},
   "outputs": [],
   "source": [
    "# Média de idade por sexo:"
   ]
  },
  {
   "cell_type": "code",
   "execution_count": null,
   "id": "7478249d",
   "metadata": {},
   "outputs": [],
   "source": [
    "df.groupby(['SEXO']).IDADE.mean()"
   ]
  },
  {
   "cell_type": "code",
   "execution_count": null,
   "id": "284e7dfc",
   "metadata": {},
   "outputs": [],
   "source": [
    "# Idades médias muito próximas (meninos 22,20 e meninas 22,06)."
   ]
  },
  {
   "cell_type": "code",
   "execution_count": null,
   "id": "50751e74",
   "metadata": {},
   "outputs": [],
   "source": [
    "# Média de idade por sexo, cor e tipo de escola:"
   ]
  },
  {
   "cell_type": "code",
   "execution_count": null,
   "id": "eb60cdbb",
   "metadata": {},
   "outputs": [],
   "source": [
    "df.groupby(['SEXO', \"COR\", \"TIPO_ESCOLA\"]).IDADE.mean()"
   ]
  },
  {
   "cell_type": "code",
   "execution_count": null,
   "id": "d190c637",
   "metadata": {},
   "outputs": [],
   "source": [
    "# Tanto pessoas do sexo feminino, quanto masculino, \n",
    "# percebe-se que entre os índigenas e pessoas pretas possuem \n",
    "# média de idade maior.\n",
    "# Isso pode indicar algum tipo de dificuldade de acesso a educação e \n",
    "# melhores qualidades de vida por # parte dessas pessoas e, talvez, \n",
    "# até algum tipo de discriminação (podendo ser vividas por ele ou por seus ascendentes)."
   ]
  },
  {
   "cell_type": "markdown",
   "id": "044e433a",
   "metadata": {},
   "source": [
    "Pretos(as), Pardos(as) e Indígenas com médias levemente superiores comparadas às médias de Brancos(as) e Amarelos(as)."
   ]
  },
  {
   "cell_type": "markdown",
   "id": "791ed2ed",
   "metadata": {},
   "source": [
    "**Análise: Nota final do Enem 2019 por sexo e tipo de escola**"
   ]
  },
  {
   "cell_type": "code",
   "execution_count": null,
   "id": "ab646050",
   "metadata": {},
   "outputs": [],
   "source": [
    "df.groupby(['SEXO', \"TIPO_ESCOLA\"])['NOTA'].mean()"
   ]
  },
  {
   "cell_type": "code",
   "execution_count": null,
   "id": "4c2d2016",
   "metadata": {},
   "outputs": [],
   "source": [
    "df.groupby(['SEXO', \"TIPO_ESCOLA\"])['NOTA'].min()"
   ]
  },
  {
   "cell_type": "code",
   "execution_count": null,
   "id": "ec0c6de5",
   "metadata": {},
   "outputs": [],
   "source": [
    "df.groupby(['SEXO', \"TIPO_ESCOLA\"])['NOTA'].max()"
   ]
  },
  {
   "cell_type": "code",
   "execution_count": null,
   "id": "8d361611",
   "metadata": {},
   "outputs": [],
   "source": [
    "df.groupby(['SEXO', \"TIPO_ESCOLA\"])['NOTA'].std()"
   ]
  },
  {
   "cell_type": "code",
   "execution_count": null,
   "id": "fa0f11dd",
   "metadata": {},
   "outputs": [],
   "source": [
    "# Em relação a média, percebe-se que as médias dos alunos de escolas privadas\n",
    "# são maiores quando comparados com alunos de escolas públicas.\n",
    "# Isso pode indicar problemas na educação.\n",
    "\n",
    "# Ao olhar a maior nota, mais uma vez, os alunos de escola particular\n",
    "# apresentaram notas maiores quando comparados com os alunos da escola pública."
   ]
  },
  {
   "cell_type": "code",
   "execution_count": null,
   "id": "9c68ff2b",
   "metadata": {},
   "outputs": [],
   "source": [
    "# Nota final do Enem 2019 por sexo, cor e tipo de escola:"
   ]
  },
  {
   "cell_type": "code",
   "execution_count": null,
   "id": "fd79244b",
   "metadata": {},
   "outputs": [],
   "source": [
    "df.groupby(['SEXO', 'COR', \"TIPO_ESCOLA\"])['NOTA'].mean()"
   ]
  },
  {
   "cell_type": "code",
   "execution_count": null,
   "id": "3b36dc3c",
   "metadata": {},
   "outputs": [],
   "source": [
    "# Mais uma vez, os indígenas e pessoas da cor preta possuem as menores notas.\n",
    "# Indivíduos de escolas particulares evidenciam as maiores notas."
   ]
  },
  {
   "cell_type": "code",
   "execution_count": null,
   "id": "22420814",
   "metadata": {},
   "outputs": [],
   "source": [
    "# Média da nota final por classe:"
   ]
  },
  {
   "cell_type": "code",
   "execution_count": null,
   "id": "1e5120d0",
   "metadata": {
    "scrolled": true
   },
   "outputs": [],
   "source": [
    "df.groupby([\"RENDA_MENSAL_FAMILIAR\"])[[\"NOTA\"]].mean().sort_values(ascending = False, by = \"NOTA\")"
   ]
  },
  {
   "cell_type": "code",
   "execution_count": null,
   "id": "75139281",
   "metadata": {},
   "outputs": [],
   "source": [
    "# Pessoas de classes mais altas, apresentaram as maiores médias.\n",
    "# Isso pode evidenciar melhores condições de acesso a n fatores."
   ]
  },
  {
   "cell_type": "code",
   "execution_count": null,
   "id": "685b5641",
   "metadata": {},
   "outputs": [],
   "source": [
    "# Média da nota final por classe e sexo:"
   ]
  },
  {
   "cell_type": "code",
   "execution_count": null,
   "id": "06d4964f",
   "metadata": {},
   "outputs": [],
   "source": [
    "df.groupby([\"RENDA_MENSAL_FAMILIAR\", \"SEXO\"])['NOTA'].mean()"
   ]
  },
  {
   "cell_type": "code",
   "execution_count": null,
   "id": "3c914ee2",
   "metadata": {},
   "outputs": [],
   "source": [
    "# Mais uma vez, rendas maiores permitem acesso a educação de melhor qualidade.\n",
    "# As notas dos meninos e das meninas, para cada faixa de renda, são bem parecidas."
   ]
  },
  {
   "cell_type": "code",
   "execution_count": null,
   "id": "7b7b0e42",
   "metadata": {},
   "outputs": [],
   "source": [
    "# Média da nota final comparando candidatos que têm e os que não têm internet em casa:"
   ]
  },
  {
   "cell_type": "code",
   "execution_count": null,
   "id": "0ae38a62",
   "metadata": {
    "scrolled": false
   },
   "outputs": [],
   "source": [
    "df.groupby([\"INTERNET\"])[[\"NOTA\"]].mean().sort_values(ascending = False, by = \"NOTA\")"
   ]
  },
  {
   "cell_type": "code",
   "execution_count": null,
   "id": "35f424cf",
   "metadata": {},
   "outputs": [],
   "source": [
    "# Percebe-se que quem possui acesso à internet apresenta um desempenho melhor na nota.\n",
    "# Isso pode ser explicado pelo fato de melhores condições de estudo."
   ]
  },
  {
   "cell_type": "code",
   "execution_count": null,
   "id": "839b0992",
   "metadata": {},
   "outputs": [],
   "source": [
    "# Tipo escola vs Renda mensal familiar vs Nota final:"
   ]
  },
  {
   "cell_type": "code",
   "execution_count": null,
   "id": "6a9700be",
   "metadata": {
    "scrolled": true
   },
   "outputs": [],
   "source": [
    "df.groupby([\"TIPO_ESCOLA\", \"RENDA_MENSAL_FAMILIAR\"])['NOTA'].mean()"
   ]
  },
  {
   "cell_type": "code",
   "execution_count": null,
   "id": "f7d8f503",
   "metadata": {},
   "outputs": [],
   "source": [
    "# Quem possui maior renda, tende a apresentar notas maiores,\n",
    "# especialmente quando estudam em colégios privados.\n",
    "# Além disso, pessoas que possuem rendas maiores e que estudam \n",
    "# em colégios públicos, também possuem um desempenho melhor,\n",
    "# quando comparados com demais alunos de colégios públicos.\n",
    "# Um dos motivos que podem explicar esse fato, é que pessoas\n",
    "# com maiores poderes aquisitivos possuem melhores condições e, tendem\n",
    "# a possuir famílias mais estruturadas."
   ]
  },
  {
   "cell_type": "code",
   "execution_count": null,
   "id": "4631a73e",
   "metadata": {},
   "outputs": [],
   "source": [
    "# Nota final na prova por região brasileira"
   ]
  },
  {
   "cell_type": "code",
   "execution_count": null,
   "id": "48d21cf7",
   "metadata": {
    "scrolled": true
   },
   "outputs": [],
   "source": [
    "df.groupby([\"REGIAO_BR\"])[[\"NOTA\"]].mean().sort_values(ascending = False, by = \"NOTA\")"
   ]
  },
  {
   "cell_type": "code",
   "execution_count": null,
   "id": "70c919ee",
   "metadata": {},
   "outputs": [],
   "source": [
    "# A região Sudeste apresenta a maior nota final, seguida pela região Sul.\n",
    "# Isso pode evidenciar disparidades na educação entre as regiões brasileiras.\n",
    "# Além disso, dependendo da localidade, o acesso a educação\n",
    "# tende a ser mais difícil, principalmente na região norte,\n",
    "# que apresentou a menor nota."
   ]
  },
  {
   "cell_type": "code",
   "execution_count": null,
   "id": "9aaf0f8b",
   "metadata": {},
   "outputs": [],
   "source": [
    "# Nota final na prova por região brasileira e tipo de escola:"
   ]
  },
  {
   "cell_type": "code",
   "execution_count": null,
   "id": "660007cd",
   "metadata": {},
   "outputs": [],
   "source": [
    "df.groupby([\"REGIAO_BR\", \"TIPO_ESCOLA\"])['NOTA'].mean()"
   ]
  },
  {
   "cell_type": "code",
   "execution_count": null,
   "id": "ed4ae50f",
   "metadata": {},
   "outputs": [],
   "source": [
    "# Quando analisamos as notas por região e tipo de escola, \n",
    "# é possível verificar que, novamente, as notas de alunos\n",
    "# de escola pública tendem a ser menores quando comparados com colégios particulares.\n",
    "# A nota da região Sudeste segue liderando, seguido\n",
    "# pelas regiões sul e centro-oeste."
   ]
  },
  {
   "cell_type": "code",
   "execution_count": null,
   "id": "8e8b5353",
   "metadata": {},
   "outputs": [],
   "source": [
    "# Preferência de língua estrangeira por tipo de escola:"
   ]
  },
  {
   "cell_type": "code",
   "execution_count": null,
   "id": "5a7c4bc0",
   "metadata": {
    "scrolled": true
   },
   "outputs": [],
   "source": [
    "df.groupby([\"TIPO_ESCOLA\", \"LINGUA_ESTRANGEIRA\"])[[\"LINGUA_ESTRANGEIRA\"]].count()"
   ]
  },
  {
   "cell_type": "code",
   "execution_count": null,
   "id": "3bab9a77",
   "metadata": {},
   "outputs": [],
   "source": [
    "# Podemos observar que nas escolas particulares temos uma preferência pela prova de Inglês,\n",
    "# enquanto que nas escolas públicas, a preferência é pelo Espanhol.\n",
    "# Uma hipótese é que o ensino do Inglês nas escolas particulares é contínuo e presente desde cedo,\n",
    "# enquanto que nas escolas públicas o ensino do Inglês seja falho e a preferência pelo Espanhol\n",
    "# dá-se pela similaridade com a língua Portuguesa, induzindo os alunos de escolas públicas a optarem\n",
    "# pelo Espanhol"
   ]
  },
  {
   "cell_type": "code",
   "execution_count": null,
   "id": "c459b494",
   "metadata": {},
   "outputs": [],
   "source": [
    "# Análise de candidatos por tipo de escola e renda:"
   ]
  },
  {
   "cell_type": "code",
   "execution_count": null,
   "id": "d64101dc",
   "metadata": {},
   "outputs": [],
   "source": [
    "df[[\"TIPO_ESCOLA\", \"RENDA_MENSAL_FAMILIAR\" ]].value_counts()"
   ]
  },
  {
   "cell_type": "code",
   "execution_count": null,
   "id": "d7c9b7ff",
   "metadata": {},
   "outputs": [],
   "source": [
    "# Candidatos das classes C, D e E são maioria analisando o todo. Entre escolas públicas e privadas,\n",
    "# notamos que as mesmas classes de escolas públicas são maioria em relação às escolas privadas."
   ]
  },
  {
   "cell_type": "code",
   "execution_count": null,
   "id": "b10fb726",
   "metadata": {},
   "outputs": [],
   "source": [
    "# Quantidade de alunos em escolas públicas e particulares:"
   ]
  },
  {
   "cell_type": "code",
   "execution_count": null,
   "id": "bf425b55",
   "metadata": {},
   "outputs": [],
   "source": [
    "df[[\"TIPO_ESCOLA\"]].value_counts()"
   ]
  },
  {
   "cell_type": "code",
   "execution_count": null,
   "id": "1a9592b1",
   "metadata": {},
   "outputs": [],
   "source": [
    "# Quantidade de alunos em escolas públicas e particulares, separados por sexo:"
   ]
  },
  {
   "cell_type": "code",
   "execution_count": null,
   "id": "a3c8e1d3",
   "metadata": {},
   "outputs": [],
   "source": [
    "df.groupby(['SEXO'])['TIPO_ESCOLA'].value_counts()"
   ]
  },
  {
   "cell_type": "code",
   "execution_count": null,
   "id": "af88d0d9",
   "metadata": {},
   "outputs": [],
   "source": [
    "# Como esperado, temos mais pessoas de escolas públicas, tanto do sexo masculino\n",
    "# quanto do sexo feminino."
   ]
  },
  {
   "cell_type": "code",
   "execution_count": null,
   "id": "8bb4128d",
   "metadata": {},
   "outputs": [],
   "source": [
    "# Análise de estudandes classe A:"
   ]
  },
  {
   "cell_type": "code",
   "execution_count": null,
   "id": "45d17d5e",
   "metadata": {},
   "outputs": [],
   "source": [
    "df.groupby(['TIPO_ESCOLA'])['RENDA_MENSAL_FAMILIAR'].value_counts()"
   ]
  },
  {
   "cell_type": "code",
   "execution_count": null,
   "id": "a8d12f2f",
   "metadata": {},
   "outputs": [],
   "source": [
    "# temos mais indivíduos da classe A em colégios privados\n",
    "# quanto comparados em escola pública."
   ]
  },
  {
   "cell_type": "markdown",
   "id": "4b02db4d",
   "metadata": {},
   "source": [
    "**Análise: Qual Estado possui maior quantidade de abstenções?**"
   ]
  },
  {
   "cell_type": "code",
   "execution_count": null,
   "id": "8c297c0b",
   "metadata": {},
   "outputs": [],
   "source": [
    "# criando uma cópia do df1 e selecionando apenas as linhas com \"Nota\" == NaN\n",
    "df_2 = df.copy()\n",
    "df_2 = df_2[df_2[\"NOTA\"].isna()]\n",
    "df_2"
   ]
  },
  {
   "cell_type": "code",
   "execution_count": null,
   "id": "c1fa99a8",
   "metadata": {},
   "outputs": [],
   "source": [
    "df_2 = df_2[['UF_RESIDENCIA']].value_counts()"
   ]
  },
  {
   "cell_type": "code",
   "execution_count": null,
   "id": "d3353d55",
   "metadata": {},
   "outputs": [],
   "source": [
    "df_3 = df[['UF_RESIDENCIA']].value_counts()"
   ]
  },
  {
   "cell_type": "code",
   "execution_count": null,
   "id": "9a95e9a0",
   "metadata": {},
   "outputs": [],
   "source": [
    "df_3"
   ]
  },
  {
   "cell_type": "code",
   "execution_count": null,
   "id": "cf9d8567",
   "metadata": {},
   "outputs": [],
   "source": [
    "# criando um df4 (auxiliar) para comparar totalidade vs abstenções:\n",
    "df_4 = pd.concat([df_3, df_2], axis = 1, join = \"outer\")"
   ]
  },
  {
   "cell_type": "code",
   "execution_count": null,
   "id": "0e522740",
   "metadata": {},
   "outputs": [],
   "source": [
    "df_4"
   ]
  },
  {
   "cell_type": "code",
   "execution_count": null,
   "id": "54d13581",
   "metadata": {
    "scrolled": true
   },
   "outputs": [],
   "source": [
    "# renoamenado as colunas:\n",
    "df_4.columns = [\"TOTAL_CANDIDATOS\", \"ABSTENCOES\"]\n",
    "df_4"
   ]
  },
  {
   "cell_type": "code",
   "execution_count": null,
   "id": "cf741a98",
   "metadata": {
    "scrolled": false
   },
   "outputs": [],
   "source": [
    "# calculando as abstenções em percentual:\n",
    "df_4[\"PERCENTUAL\"] = (df_4.ABSTENCOES / df_4.TOTAL_CANDIDATOS) * 100\n",
    "df_4"
   ]
  },
  {
   "cell_type": "code",
   "execution_count": null,
   "id": "1bd36cf3",
   "metadata": {},
   "outputs": [],
   "source": [
    "# ordenando descending:\n",
    "df_4[[\"PERCENTUAL\"]].sort_values(ascending = False, by = \"PERCENTUAL\")"
   ]
  },
  {
   "cell_type": "code",
   "execution_count": null,
   "id": "916025eb",
   "metadata": {},
   "outputs": [],
   "source": [
    "# calculando a média de abstenções:\n",
    "df_4[\"PERCENTUAL\"].mean()"
   ]
  },
  {
   "cell_type": "code",
   "execution_count": null,
   "id": "15a71e01",
   "metadata": {},
   "outputs": [],
   "source": [
    "# TEMOS UMA MÉDIA GERAL DE 27,72% DE ABSTENÇÕES"
   ]
  },
  {
   "cell_type": "markdown",
   "id": "4866a74a",
   "metadata": {},
   "source": [
    "**Análise: Qual Estado (residência) possui a maior nota (na média)?**"
   ]
  },
  {
   "cell_type": "code",
   "execution_count": null,
   "id": "201747bd",
   "metadata": {},
   "outputs": [],
   "source": [
    "df.groupby([\"UF_RESIDENCIA\"])[[\"NOTA\"]].mean().sort_values(ascending = False, by = \"NOTA\")"
   ]
  },
  {
   "cell_type": "markdown",
   "id": "30fdacfb",
   "metadata": {},
   "source": [
    "**Análise: Qual Estado (nascimento) possui a maior nota (na média)?**"
   ]
  },
  {
   "cell_type": "code",
   "execution_count": null,
   "id": "0bcc0854",
   "metadata": {},
   "outputs": [],
   "source": [
    "df.groupby([\"UF_NASCIMENTO\"])[[\"NOTA\"]].mean().sort_values(ascending = False, by = \"NOTA\")"
   ]
  },
  {
   "cell_type": "code",
   "execution_count": null,
   "id": "93369d03",
   "metadata": {},
   "outputs": [],
   "source": [
    "# podemos perceber que SP lidera nas duas ocasiões, com algumas alterações de posição\n",
    "# no decorrer da tabela"
   ]
  }
 ],
 "metadata": {
  "kernelspec": {
   "display_name": "Python 3 (ipykernel)",
   "language": "python",
   "name": "python3"
  },
  "language_info": {
   "codemirror_mode": {
    "name": "ipython",
    "version": 3
   },
   "file_extension": ".py",
   "mimetype": "text/x-python",
   "name": "python",
   "nbconvert_exporter": "python",
   "pygments_lexer": "ipython3",
   "version": "3.9.7"
  }
 },
 "nbformat": 4,
 "nbformat_minor": 5
}
