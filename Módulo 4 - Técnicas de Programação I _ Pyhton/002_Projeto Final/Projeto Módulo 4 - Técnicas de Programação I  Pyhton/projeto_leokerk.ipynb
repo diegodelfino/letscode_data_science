{
 "cells": [
  {
   "cell_type": "markdown",
   "id": "0b4a50eb-27ca-4947-ad51-71be6b2804fb",
   "metadata": {},
   "source": [
    "Importando as bibliotecas e selecionando as colunas no dataframe com o import"
   ]
  },
  {
   "cell_type": "code",
   "execution_count": 1,
   "id": "373c11e6-9fe3-4857-a2c6-7e2b01c112ce",
   "metadata": {},
   "outputs": [],
   "source": [
    "import pandas as pd\n",
    "import numpy as np"
   ]
  },
  {
   "cell_type": "code",
   "execution_count": 5,
   "id": "28e003aa-0023-42d8-a2d3-da08923078fc",
   "metadata": {},
   "outputs": [],
   "source": [
    "cols=['SG_UF_RESIDENCIA','NU_IDADE','TP_SEXO','TP_ESTADO_CIVIL','TP_COR_RACA','TP_ESCOLA','IN_TREINEIRO','CO_ESCOLA','TP_PRESENCA_CN','TP_PRESENCA_CH',\n",
    "     'TP_PRESENCA_LC','TP_PRESENCA_MT','NU_NOTA_CN','NU_NOTA_CH','NU_NOTA_LC','NU_NOTA_MT','TP_LINGUA','NU_NOTA_REDACAO','Q006','Q025']\n",
    "df = pd.read_csv('./microdados_enem_2019/DADOS/MICRODADOS_ENEM_2019.csv', encoding='latin-1', sep=\";\", usecols=cols)"
   ]
  },
  {
   "cell_type": "markdown",
   "id": "a24644cc-0640-45c9-9972-83a9205efb20",
   "metadata": {},
   "source": [
    "Verificando os dados vazios:"
   ]
  },
  {
   "cell_type": "code",
   "execution_count": 6,
   "id": "5c38da39-6daf-4d12-9ff3-995ac1bedc06",
   "metadata": {},
   "outputs": [
    {
     "data": {
      "text/plain": [
       "SG_UF_RESIDENCIA          0\n",
       "NU_IDADE                 69\n",
       "TP_SEXO                   0\n",
       "TP_ESTADO_CIVIL           0\n",
       "TP_COR_RACA               0\n",
       "TP_ESCOLA                 0\n",
       "IN_TREINEIRO              0\n",
       "CO_ESCOLA           3947858\n",
       "TP_PRESENCA_CN            0\n",
       "TP_PRESENCA_CH            0\n",
       "TP_PRESENCA_LC            0\n",
       "TP_PRESENCA_MT            0\n",
       "NU_NOTA_CN          1384837\n",
       "NU_NOTA_CH          1172125\n",
       "NU_NOTA_LC          1172125\n",
       "NU_NOTA_MT          1384837\n",
       "TP_LINGUA                 0\n",
       "NU_NOTA_REDACAO     1172126\n",
       "Q006                      0\n",
       "Q025                      0\n",
       "dtype: int64"
      ]
     },
     "execution_count": 6,
     "metadata": {},
     "output_type": "execute_result"
    }
   ],
   "source": [
    "df.isna().sum()"
   ]
  },
  {
   "cell_type": "markdown",
   "id": "a6123b26-cd2a-4e9d-8e75-f9d3e9fc3839",
   "metadata": {},
   "source": [
    "Neste caso, os dados faltantes na idade podem ser tratados, pela baixa quantidade em relação à base (será utilizada a mediana, pela interferência dos outliers na média). Os vazios em notas são as abstenções e serão mantidos para a análise. Os vazios no campo de escolas são escolas sem cadastro ou com informações erradas, e devido à grande quantidade a coluna vai ser dropada."
   ]
  },
  {
   "cell_type": "code",
   "execution_count": 7,
   "id": "6f01163a-1044-40ac-81a0-2dcfd1c0d8ad",
   "metadata": {},
   "outputs": [],
   "source": [
    "df.drop(['CO_ESCOLA'], axis=1, inplace=True)\n",
    "df['NU_IDADE']=df.NU_IDADE.fillna(df.NU_IDADE.median())"
   ]
  },
  {
   "cell_type": "markdown",
   "id": "a5b68d5f-4d38-4414-8d86-35052481a5ba",
   "metadata": {},
   "source": [
    "Serão verificados os candidatos eliminados nas provas. Estes serão dropados."
   ]
  },
  {
   "cell_type": "code",
   "execution_count": 8,
   "id": "5cecd8e5-7efb-46b7-9100-ad226e4ca1c8",
   "metadata": {},
   "outputs": [],
   "source": [
    "df.drop(df[df.TP_PRESENCA_CN == 2].index, inplace=True)\n",
    "df.drop(df[df.TP_PRESENCA_CH == 2].index, inplace=True)"
   ]
  },
  {
   "cell_type": "code",
   "execution_count": null,
   "id": "7848a518",
   "metadata": {},
   "outputs": [],
   "source": []
  },
  {
   "cell_type": "code",
   "execution_count": null,
   "id": "038905a1",
   "metadata": {},
   "outputs": [],
   "source": []
  }
 ],
 "metadata": {
  "kernelspec": {
   "display_name": "Python 3 (ipykernel)",
   "language": "python",
   "name": "python3"
  },
  "language_info": {
   "codemirror_mode": {
    "name": "ipython",
    "version": 3
   },
   "file_extension": ".py",
   "mimetype": "text/x-python",
   "name": "python",
   "nbconvert_exporter": "python",
   "pygments_lexer": "ipython3",
   "version": "3.9.7"
  }
 },
 "nbformat": 4,
 "nbformat_minor": 5
}
