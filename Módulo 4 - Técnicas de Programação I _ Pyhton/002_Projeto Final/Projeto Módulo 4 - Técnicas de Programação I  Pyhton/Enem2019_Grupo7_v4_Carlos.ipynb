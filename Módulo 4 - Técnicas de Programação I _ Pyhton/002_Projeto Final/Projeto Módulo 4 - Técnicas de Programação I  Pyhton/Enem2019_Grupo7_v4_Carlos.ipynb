{
 "cells": [
  {
   "cell_type": "markdown",
   "id": "572c264c",
   "metadata": {},
   "source": [
    "# PARTE III"
   ]
  },
  {
   "cell_type": "markdown",
   "id": "a9f763be",
   "metadata": {},
   "source": [
    "Análises precisam ser melhoradas.\n",
    "\n",
    "Para comparar com os dados missing populados."
   ]
  },
  {
   "cell_type": "code",
   "execution_count": 1,
   "id": "ba1c2fa5",
   "metadata": {},
   "outputs": [],
   "source": [
    "# Importação\n",
    "import numpy as pd\n",
    "import pandas as pd\n",
    "import pandas_profiling as pp\n",
    "import warnings"
   ]
  },
  {
   "cell_type": "code",
   "execution_count": 2,
   "id": "b3e5c911",
   "metadata": {},
   "outputs": [],
   "source": [
    "# Formatando para 2 casas após a vírgula\n",
    "pd.options.display.float_format= \"{:,.2f}\".format\n",
    "# Ignorando warnings\n",
    "warnings.filterwarnings(\"ignore\")"
   ]
  },
  {
   "cell_type": "code",
   "execution_count": 3,
   "id": "baa12331",
   "metadata": {},
   "outputs": [
    {
     "data": {
      "text/html": [
       "<div>\n",
       "<style scoped>\n",
       "    .dataframe tbody tr th:only-of-type {\n",
       "        vertical-align: middle;\n",
       "    }\n",
       "\n",
       "    .dataframe tbody tr th {\n",
       "        vertical-align: top;\n",
       "    }\n",
       "\n",
       "    .dataframe thead th {\n",
       "        text-align: right;\n",
       "    }\n",
       "</style>\n",
       "<table border=\"1\" class=\"dataframe\">\n",
       "  <thead>\n",
       "    <tr style=\"text-align: right;\">\n",
       "      <th></th>\n",
       "      <th>nom_mun_res</th>\n",
       "      <th>sig_uf_res</th>\n",
       "      <th>idade</th>\n",
       "      <th>sexo</th>\n",
       "      <th>est_civil</th>\n",
       "      <th>cor</th>\n",
       "      <th>tip_esc</th>\n",
       "      <th>nom_social</th>\n",
       "      <th>uf_esc</th>\n",
       "      <th>nota_cien_nat</th>\n",
       "      <th>...</th>\n",
       "      <th>renda_men</th>\n",
       "      <th>tem_wc</th>\n",
       "      <th>tem_quartos</th>\n",
       "      <th>tem_geladeira</th>\n",
       "      <th>tem_tv</th>\n",
       "      <th>tem_cel</th>\n",
       "      <th>tem_pc</th>\n",
       "      <th>tem_net</th>\n",
       "      <th>regiao_br</th>\n",
       "      <th>nota_final</th>\n",
       "    </tr>\n",
       "  </thead>\n",
       "  <tbody>\n",
       "    <tr>\n",
       "      <th>0</th>\n",
       "      <td>São Paulo</td>\n",
       "      <td>SP</td>\n",
       "      <td>17.00</td>\n",
       "      <td>M</td>\n",
       "      <td>solteiro</td>\n",
       "      <td>branca</td>\n",
       "      <td>pública</td>\n",
       "      <td>não</td>\n",
       "      <td>SP</td>\n",
       "      <td>543.90</td>\n",
       "      <td>...</td>\n",
       "      <td>classe_D</td>\n",
       "      <td>sim</td>\n",
       "      <td>sim</td>\n",
       "      <td>sim</td>\n",
       "      <td>sim</td>\n",
       "      <td>sim</td>\n",
       "      <td>sim</td>\n",
       "      <td>sim</td>\n",
       "      <td>sudeste</td>\n",
       "      <td>495.04</td>\n",
       "    </tr>\n",
       "    <tr>\n",
       "      <th>1</th>\n",
       "      <td>Apucarana</td>\n",
       "      <td>PR</td>\n",
       "      <td>17.00</td>\n",
       "      <td>F</td>\n",
       "      <td>solteiro</td>\n",
       "      <td>branca</td>\n",
       "      <td>privada</td>\n",
       "      <td>não</td>\n",
       "      <td>PR</td>\n",
       "      <td>618.20</td>\n",
       "      <td>...</td>\n",
       "      <td>classe_D</td>\n",
       "      <td>sim</td>\n",
       "      <td>sim</td>\n",
       "      <td>sim</td>\n",
       "      <td>sim</td>\n",
       "      <td>sim</td>\n",
       "      <td>sim</td>\n",
       "      <td>sim</td>\n",
       "      <td>sul</td>\n",
       "      <td>722.58</td>\n",
       "    </tr>\n",
       "    <tr>\n",
       "      <th>2</th>\n",
       "      <td>Itaquaquecetuba</td>\n",
       "      <td>SP</td>\n",
       "      <td>17.00</td>\n",
       "      <td>F</td>\n",
       "      <td>solteiro</td>\n",
       "      <td>preta</td>\n",
       "      <td>pública</td>\n",
       "      <td>não</td>\n",
       "      <td>SP</td>\n",
       "      <td>371.80</td>\n",
       "      <td>...</td>\n",
       "      <td>classe_E</td>\n",
       "      <td>sim</td>\n",
       "      <td>sim</td>\n",
       "      <td>sim</td>\n",
       "      <td>não</td>\n",
       "      <td>sim</td>\n",
       "      <td>não</td>\n",
       "      <td>sim</td>\n",
       "      <td>sudeste</td>\n",
       "      <td>498.76</td>\n",
       "    </tr>\n",
       "    <tr>\n",
       "      <th>3</th>\n",
       "      <td>Santa Rita</td>\n",
       "      <td>PB</td>\n",
       "      <td>18.00</td>\n",
       "      <td>M</td>\n",
       "      <td>casado</td>\n",
       "      <td>parda</td>\n",
       "      <td>pública</td>\n",
       "      <td>não</td>\n",
       "      <td>PB</td>\n",
       "      <td>373.20</td>\n",
       "      <td>...</td>\n",
       "      <td>classe_E</td>\n",
       "      <td>sim</td>\n",
       "      <td>sim</td>\n",
       "      <td>sim</td>\n",
       "      <td>sim</td>\n",
       "      <td>sim</td>\n",
       "      <td>não</td>\n",
       "      <td>sim</td>\n",
       "      <td>nordeste</td>\n",
       "      <td>422.28</td>\n",
       "    </tr>\n",
       "    <tr>\n",
       "      <th>4</th>\n",
       "      <td>Belém</td>\n",
       "      <td>PA</td>\n",
       "      <td>17.00</td>\n",
       "      <td>F</td>\n",
       "      <td>solteiro</td>\n",
       "      <td>preta</td>\n",
       "      <td>pública</td>\n",
       "      <td>não</td>\n",
       "      <td>PA</td>\n",
       "      <td>510.90</td>\n",
       "      <td>...</td>\n",
       "      <td>classe_E</td>\n",
       "      <td>sim</td>\n",
       "      <td>sim</td>\n",
       "      <td>sim</td>\n",
       "      <td>sim</td>\n",
       "      <td>sim</td>\n",
       "      <td>sim</td>\n",
       "      <td>sim</td>\n",
       "      <td>norte</td>\n",
       "      <td>631.98</td>\n",
       "    </tr>\n",
       "    <tr>\n",
       "      <th>...</th>\n",
       "      <td>...</td>\n",
       "      <td>...</td>\n",
       "      <td>...</td>\n",
       "      <td>...</td>\n",
       "      <td>...</td>\n",
       "      <td>...</td>\n",
       "      <td>...</td>\n",
       "      <td>...</td>\n",
       "      <td>...</td>\n",
       "      <td>...</td>\n",
       "      <td>...</td>\n",
       "      <td>...</td>\n",
       "      <td>...</td>\n",
       "      <td>...</td>\n",
       "      <td>...</td>\n",
       "      <td>...</td>\n",
       "      <td>...</td>\n",
       "      <td>...</td>\n",
       "      <td>...</td>\n",
       "      <td>...</td>\n",
       "      <td>...</td>\n",
       "    </tr>\n",
       "    <tr>\n",
       "      <th>531630</th>\n",
       "      <td>São Paulo</td>\n",
       "      <td>SP</td>\n",
       "      <td>17.00</td>\n",
       "      <td>M</td>\n",
       "      <td>solteiro</td>\n",
       "      <td>branca</td>\n",
       "      <td>pública</td>\n",
       "      <td>não</td>\n",
       "      <td>SP</td>\n",
       "      <td>502.50</td>\n",
       "      <td>...</td>\n",
       "      <td>classe_C</td>\n",
       "      <td>sim</td>\n",
       "      <td>sim</td>\n",
       "      <td>sim</td>\n",
       "      <td>sim</td>\n",
       "      <td>sim</td>\n",
       "      <td>sim</td>\n",
       "      <td>sim</td>\n",
       "      <td>sudeste</td>\n",
       "      <td>609.52</td>\n",
       "    </tr>\n",
       "    <tr>\n",
       "      <th>531631</th>\n",
       "      <td>Nova Iguaçu</td>\n",
       "      <td>RJ</td>\n",
       "      <td>18.00</td>\n",
       "      <td>F</td>\n",
       "      <td>solteiro</td>\n",
       "      <td>branca</td>\n",
       "      <td>pública</td>\n",
       "      <td>não</td>\n",
       "      <td>RJ</td>\n",
       "      <td>484.60</td>\n",
       "      <td>...</td>\n",
       "      <td>classe_C</td>\n",
       "      <td>sim</td>\n",
       "      <td>sim</td>\n",
       "      <td>sim</td>\n",
       "      <td>sim</td>\n",
       "      <td>sim</td>\n",
       "      <td>sim</td>\n",
       "      <td>sim</td>\n",
       "      <td>sudeste</td>\n",
       "      <td>567.34</td>\n",
       "    </tr>\n",
       "    <tr>\n",
       "      <th>531632</th>\n",
       "      <td>São Paulo</td>\n",
       "      <td>SP</td>\n",
       "      <td>17.00</td>\n",
       "      <td>M</td>\n",
       "      <td>solteiro</td>\n",
       "      <td>parda</td>\n",
       "      <td>pública</td>\n",
       "      <td>não</td>\n",
       "      <td>SP</td>\n",
       "      <td>459.00</td>\n",
       "      <td>...</td>\n",
       "      <td>classe_E</td>\n",
       "      <td>sim</td>\n",
       "      <td>sim</td>\n",
       "      <td>sim</td>\n",
       "      <td>sim</td>\n",
       "      <td>sim</td>\n",
       "      <td>não</td>\n",
       "      <td>sim</td>\n",
       "      <td>sudeste</td>\n",
       "      <td>421.66</td>\n",
       "    </tr>\n",
       "    <tr>\n",
       "      <th>531633</th>\n",
       "      <td>São Paulo</td>\n",
       "      <td>SP</td>\n",
       "      <td>17.00</td>\n",
       "      <td>F</td>\n",
       "      <td>solteiro</td>\n",
       "      <td>parda</td>\n",
       "      <td>pública</td>\n",
       "      <td>não</td>\n",
       "      <td>SP</td>\n",
       "      <td>433.70</td>\n",
       "      <td>...</td>\n",
       "      <td>classe_C</td>\n",
       "      <td>sim</td>\n",
       "      <td>sim</td>\n",
       "      <td>sim</td>\n",
       "      <td>sim</td>\n",
       "      <td>sim</td>\n",
       "      <td>não</td>\n",
       "      <td>sim</td>\n",
       "      <td>sudeste</td>\n",
       "      <td>473.16</td>\n",
       "    </tr>\n",
       "    <tr>\n",
       "      <th>531634</th>\n",
       "      <td>São Paulo</td>\n",
       "      <td>SP</td>\n",
       "      <td>17.00</td>\n",
       "      <td>F</td>\n",
       "      <td>solteiro</td>\n",
       "      <td>branca</td>\n",
       "      <td>pública</td>\n",
       "      <td>não</td>\n",
       "      <td>SP</td>\n",
       "      <td>370.30</td>\n",
       "      <td>...</td>\n",
       "      <td>classe_E</td>\n",
       "      <td>sim</td>\n",
       "      <td>sim</td>\n",
       "      <td>sim</td>\n",
       "      <td>sim</td>\n",
       "      <td>sim</td>\n",
       "      <td>não</td>\n",
       "      <td>não</td>\n",
       "      <td>sudeste</td>\n",
       "      <td>427.02</td>\n",
       "    </tr>\n",
       "  </tbody>\n",
       "</table>\n",
       "<p>531635 rows × 30 columns</p>\n",
       "</div>"
      ],
      "text/plain": [
       "            nom_mun_res sig_uf_res  idade sexo est_civil     cor  tip_esc  \\\n",
       "0             São Paulo         SP  17.00    M  solteiro  branca  pública   \n",
       "1             Apucarana         PR  17.00    F  solteiro  branca  privada   \n",
       "2       Itaquaquecetuba         SP  17.00    F  solteiro   preta  pública   \n",
       "3            Santa Rita         PB  18.00    M    casado   parda  pública   \n",
       "4                 Belém         PA  17.00    F  solteiro   preta  pública   \n",
       "...                 ...        ...    ...  ...       ...     ...      ...   \n",
       "531630        São Paulo         SP  17.00    M  solteiro  branca  pública   \n",
       "531631      Nova Iguaçu         RJ  18.00    F  solteiro  branca  pública   \n",
       "531632        São Paulo         SP  17.00    M  solteiro   parda  pública   \n",
       "531633        São Paulo         SP  17.00    F  solteiro   parda  pública   \n",
       "531634        São Paulo         SP  17.00    F  solteiro  branca  pública   \n",
       "\n",
       "       nom_social uf_esc  nota_cien_nat  ...  renda_men  tem_wc  tem_quartos  \\\n",
       "0             não     SP         543.90  ...   classe_D     sim          sim   \n",
       "1             não     PR         618.20  ...   classe_D     sim          sim   \n",
       "2             não     SP         371.80  ...   classe_E     sim          sim   \n",
       "3             não     PB         373.20  ...   classe_E     sim          sim   \n",
       "4             não     PA         510.90  ...   classe_E     sim          sim   \n",
       "...           ...    ...            ...  ...        ...     ...          ...   \n",
       "531630        não     SP         502.50  ...   classe_C     sim          sim   \n",
       "531631        não     RJ         484.60  ...   classe_C     sim          sim   \n",
       "531632        não     SP         459.00  ...   classe_E     sim          sim   \n",
       "531633        não     SP         433.70  ...   classe_C     sim          sim   \n",
       "531634        não     SP         370.30  ...   classe_E     sim          sim   \n",
       "\n",
       "       tem_geladeira  tem_tv tem_cel tem_pc tem_net regiao_br  nota_final  \n",
       "0                sim     sim     sim    sim     sim   sudeste      495.04  \n",
       "1                sim     sim     sim    sim     sim       sul      722.58  \n",
       "2                sim     não     sim    não     sim   sudeste      498.76  \n",
       "3                sim     sim     sim    não     sim  nordeste      422.28  \n",
       "4                sim     sim     sim    sim     sim     norte      631.98  \n",
       "...              ...     ...     ...    ...     ...       ...         ...  \n",
       "531630           sim     sim     sim    sim     sim   sudeste      609.52  \n",
       "531631           sim     sim     sim    sim     sim   sudeste      567.34  \n",
       "531632           sim     sim     sim    não     sim   sudeste      421.66  \n",
       "531633           sim     sim     sim    não     sim   sudeste      473.16  \n",
       "531634           sim     sim     sim    não     não   sudeste      427.02  \n",
       "\n",
       "[531635 rows x 30 columns]"
      ]
     },
     "execution_count": 3,
     "metadata": {},
     "output_type": "execute_result"
    }
   ],
   "source": [
    "df = pd.read_csv(\"D:\\OneDrive\\LetsCode\\DS_Degree\\Modulo_04\\Projeto\\DADOS\\df_trabalhando_II.csv\", encoding='utf-8', sep=\";\")\n",
    "df"
   ]
  },
  {
   "cell_type": "code",
   "execution_count": 4,
   "id": "a10fb970",
   "metadata": {},
   "outputs": [],
   "source": [
    "# Média da nota final por classe:\n",
    "\n",
    "# Pessoas de classes mais altas, apresentaram as maiores médias.\n",
    "# Isso pode evidenciar melhores condições de acesso a n fatores."
   ]
  },
  {
   "cell_type": "code",
   "execution_count": 5,
   "id": "8c0e7b6d",
   "metadata": {},
   "outputs": [
    {
     "data": {
      "text/plain": [
       "renda_men\n",
       "classe_A   655.21\n",
       "classe_B   630.76\n",
       "classe_C   589.77\n",
       "classe_D   549.47\n",
       "classe_E   508.70\n",
       "Name: nota_final, dtype: float64"
      ]
     },
     "execution_count": 5,
     "metadata": {},
     "output_type": "execute_result"
    }
   ],
   "source": [
    "df.groupby([\"renda_men\"])['nota_final'].mean()"
   ]
  },
  {
   "cell_type": "code",
   "execution_count": 6,
   "id": "63abb1f9",
   "metadata": {},
   "outputs": [],
   "source": [
    "# Considerando acesso a lazer, saneamento, local adequado para dormir e acesso a geladeira,\n",
    "# na nota média final do Enem 2019.\n",
    "\n",
    "# Percebeu-se que quem possui acesso a esses itens, apresenta um desempenho melhor na nota.\n",
    "# Isso pode ser explicado pelo fato de uma melhor qualidade de vida, além de contribuir \n",
    "# para o capital humano."
   ]
  },
  {
   "cell_type": "code",
   "execution_count": 7,
   "id": "ad046b15",
   "metadata": {},
   "outputs": [
    {
     "data": {
      "text/plain": [
       "tem_wc\n",
       "não   476.86\n",
       "sim   549.07\n",
       "Name: nota_final, dtype: float64"
      ]
     },
     "execution_count": 7,
     "metadata": {},
     "output_type": "execute_result"
    }
   ],
   "source": [
    "df.groupby([\"tem_wc\"])['nota_final'].mean()"
   ]
  },
  {
   "cell_type": "code",
   "execution_count": 8,
   "id": "fcd2191c",
   "metadata": {},
   "outputs": [
    {
     "data": {
      "text/plain": [
       "tem_quartos\n",
       "não   488.85\n",
       "sim   548.88\n",
       "Name: nota_final, dtype: float64"
      ]
     },
     "execution_count": 8,
     "metadata": {},
     "output_type": "execute_result"
    }
   ],
   "source": [
    "df.groupby([\"tem_quartos\"])['nota_final'].mean()"
   ]
  },
  {
   "cell_type": "code",
   "execution_count": 9,
   "id": "b54d6b7f",
   "metadata": {},
   "outputs": [
    {
     "data": {
      "text/plain": [
       "tem_geladeira\n",
       "não   487.67\n",
       "sim   549.25\n",
       "Name: nota_final, dtype: float64"
      ]
     },
     "execution_count": 9,
     "metadata": {},
     "output_type": "execute_result"
    }
   ],
   "source": [
    "df.groupby([\"tem_geladeira\"])['nota_final'].mean()"
   ]
  },
  {
   "cell_type": "code",
   "execution_count": 10,
   "id": "a98bf30c",
   "metadata": {},
   "outputs": [
    {
     "data": {
      "text/plain": [
       "tem_tv\n",
       "não   507.87\n",
       "sim   549.75\n",
       "Name: nota_final, dtype: float64"
      ]
     },
     "execution_count": 10,
     "metadata": {},
     "output_type": "execute_result"
    }
   ],
   "source": [
    "df.groupby([\"tem_tv\"])['nota_final'].mean()"
   ]
  },
  {
   "cell_type": "code",
   "execution_count": 11,
   "id": "dce9c4e4",
   "metadata": {},
   "outputs": [
    {
     "data": {
      "text/plain": [
       "tem_cel\n",
       "não   507.65\n",
       "sim   549.41\n",
       "Name: nota_final, dtype: float64"
      ]
     },
     "execution_count": 11,
     "metadata": {},
     "output_type": "execute_result"
    }
   ],
   "source": [
    "df.groupby([\"tem_cel\"])['nota_final'].mean()"
   ]
  },
  {
   "cell_type": "code",
   "execution_count": 12,
   "id": "698c8501",
   "metadata": {},
   "outputs": [
    {
     "data": {
      "text/plain": [
       "tem_pc\n",
       "não   504.19\n",
       "sim   569.61\n",
       "Name: nota_final, dtype: float64"
      ]
     },
     "execution_count": 12,
     "metadata": {},
     "output_type": "execute_result"
    }
   ],
   "source": [
    "df.groupby([ \"tem_pc\"])['nota_final'].mean()"
   ]
  },
  {
   "cell_type": "code",
   "execution_count": 13,
   "id": "4ead51c8",
   "metadata": {},
   "outputs": [
    {
     "data": {
      "text/plain": [
       "tem_net\n",
       "não   489.16\n",
       "sim   557.01\n",
       "Name: nota_final, dtype: float64"
      ]
     },
     "execution_count": 13,
     "metadata": {},
     "output_type": "execute_result"
    }
   ],
   "source": [
    "df.groupby([\"tem_net\"])['nota_final'].mean()"
   ]
  },
  {
   "cell_type": "code",
   "execution_count": 14,
   "id": "48d8aac9",
   "metadata": {},
   "outputs": [
    {
     "data": {
      "text/plain": [
       "tem_pc  tem_net\n",
       "não     não       484.29\n",
       "        sim       514.00\n",
       "sim     não       518.36\n",
       "        sim       570.98\n",
       "Name: nota_final, dtype: float64"
      ]
     },
     "execution_count": 14,
     "metadata": {},
     "output_type": "execute_result"
    }
   ],
   "source": [
    "df.groupby([\"tem_pc\", \"tem_net\"])['nota_final'].mean()"
   ]
  },
  {
   "cell_type": "code",
   "execution_count": 15,
   "id": "57230f0b",
   "metadata": {},
   "outputs": [
    {
     "data": {
      "text/plain": [
       "tem_cel  tem_net\n",
       "não      não       467.54\n",
       "         sim       537.64\n",
       "sim      não       490.65\n",
       "         sim       557.25\n",
       "Name: nota_final, dtype: float64"
      ]
     },
     "execution_count": 15,
     "metadata": {},
     "output_type": "execute_result"
    }
   ],
   "source": [
    "df.groupby([\"tem_cel\", \"tem_net\"])['nota_final'].mean()"
   ]
  },
  {
   "cell_type": "code",
   "execution_count": 16,
   "id": "09d9f921",
   "metadata": {},
   "outputs": [],
   "source": [
    "# Ocupação dos pais e a nota final\n",
    "\n",
    "# Comparando a ocupação dos pais, levando em consideração o seu nível educacional,\n",
    "# é possível verificar que, quanto maior a escolaridade da mãe, maior tende a ser\n",
    "# o desempenho dos filhos na nota do Enem.\n",
    "# Isso pode ser explicado pelo fato das mães incentivarem mais os filhos no campo\n",
    "# educacional.\n",
    "# Além disso, utilizar a escolaridade da mãe como proxy para a escolaridade dos\n",
    "# filhos, é uma prática muito utilizada nas pesquisas científicas. "
   ]
  },
  {
   "cell_type": "code",
   "execution_count": 17,
   "id": "a3b278c1",
   "metadata": {},
   "outputs": [
    {
     "data": {
      "text/plain": [
       "ocup_pai\n",
       "ocup_pai_alt_qual   617.61\n",
       "ocup_pai_bai_qua    510.53\n",
       "ocup_pai_med_qual   553.77\n",
       "Name: nota_final, dtype: float64"
      ]
     },
     "execution_count": 17,
     "metadata": {},
     "output_type": "execute_result"
    }
   ],
   "source": [
    "df.groupby([\"ocup_pai\"])['nota_final'].mean()"
   ]
  },
  {
   "cell_type": "code",
   "execution_count": 18,
   "id": "1bbd54ef",
   "metadata": {},
   "outputs": [
    {
     "data": {
      "text/plain": [
       "ocup_mae\n",
       "ocup_mae_alt_qual   621.89\n",
       "ocup_mae_bai_qua    518.61\n",
       "ocup_mae_med_qual   565.08\n",
       "Name: nota_final, dtype: float64"
      ]
     },
     "execution_count": 18,
     "metadata": {},
     "output_type": "execute_result"
    }
   ],
   "source": [
    "df.groupby([\"ocup_mae\"])['nota_final'].mean()"
   ]
  },
  {
   "cell_type": "code",
   "execution_count": 19,
   "id": "c8749ffe",
   "metadata": {},
   "outputs": [],
   "source": [
    "# Nome social e nota do final\n",
    "\n",
    "# Uma pessoa que adota o nome social, a chance dela ter sofrido algum tipo de \n",
    "# bullying na escola deve ter sido grande.\n",
    "# Dessa forma, quando a pessoa adota o nome social, a mesma tende a se sentir melhor,\n",
    "# um sentimento de pertencimento, pois agora ela começa a ser vista como ela desejou ser.\n",
    "# Psicologicamente, a adoção desse nome social, permite uma espécie de ânimo\n",
    "# para a pessoa e, por isso, ela tende a fazer uma prova melhor.\n",
    "# O mesmo ocorre quando desagregamos a nota final por tipo de prova."
   ]
  },
  {
   "cell_type": "code",
   "execution_count": 20,
   "id": "68d16224",
   "metadata": {},
   "outputs": [
    {
     "data": {
      "text/plain": [
       "nom_social\n",
       "não   548.63\n",
       "sim   609.35\n",
       "Name: nota_final, dtype: float64"
      ]
     },
     "execution_count": 20,
     "metadata": {},
     "output_type": "execute_result"
    }
   ],
   "source": [
    "df.groupby([\"nom_social\"])['nota_final'].mean()"
   ]
  }
 ],
 "metadata": {
  "kernelspec": {
   "display_name": "Python 3 (ipykernel)",
   "language": "python",
   "name": "python3"
  },
  "language_info": {
   "codemirror_mode": {
    "name": "ipython",
    "version": 3
   },
   "file_extension": ".py",
   "mimetype": "text/x-python",
   "name": "python",
   "nbconvert_exporter": "python",
   "pygments_lexer": "ipython3",
   "version": "3.9.7"
  },
  "varInspector": {
   "cols": {
    "lenName": 16,
    "lenType": 16,
    "lenVar": 40
   },
   "kernels_config": {
    "python": {
     "delete_cmd_postfix": "",
     "delete_cmd_prefix": "del ",
     "library": "var_list.py",
     "varRefreshCmd": "print(var_dic_list())"
    },
    "r": {
     "delete_cmd_postfix": ") ",
     "delete_cmd_prefix": "rm(",
     "library": "var_list.r",
     "varRefreshCmd": "cat(var_dic_list()) "
    }
   },
   "types_to_exclude": [
    "module",
    "function",
    "builtin_function_or_method",
    "instance",
    "_Feature"
   ],
   "window_display": false
  }
 },
 "nbformat": 4,
 "nbformat_minor": 5
}
