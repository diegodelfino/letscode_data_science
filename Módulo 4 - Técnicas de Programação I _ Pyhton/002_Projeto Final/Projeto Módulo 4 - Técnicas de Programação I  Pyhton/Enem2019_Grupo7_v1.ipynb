{
 "cells": [
  {
   "cell_type": "markdown",
   "id": "b3c08acf",
   "metadata": {},
   "source": [
    "# Projeto Final Módulo 4 \n",
    "### Trabalho final Módulo 4 | Técnicas de Programação I | Phyton | Degree Let´s Code, turma 814\n",
    "\n",
    "* `Objetivo`: **Realizar uma EDA (Exploratory Data Analysis) utilizando as bibliotecas do numpy e pandas.**\n",
    "    * O grupo poderá escolher uma base entre as fornecidas pelos professores ou escolherem uma outra base de dados que possa ser compartilhada.\n",
    "    * Teremos 10 grupos com 4 pessoas e 3 grupos com 5 pessoas.\n",
    "    * Grupos devem preencher o nome do participante e a base de dados escolhida no [link](https://docs.google.com/spreadsheets/d/1lWuWHb_d0_rz2wZaPPfDIwdFG3Xn2tf5CywFBhheI38/edit?usp=sharing)\n",
    "    * Sugestão de [base de dados](https://docs.google.com/spreadsheets/d/1C5KinYE4wAuKvM_Vc1t5HK16n92B_7zoeT8v7ASVP6A/edit?usp=sharing)\n",
    "    * A apresentação poderá ser construída em um jupyter notebook ou em slides\n",
    "    * Storytelling\n",
    "    * **Cada grupo terá no máximo 10 minutos para apresentar a EDA.**\n",
    "\n",
    "\n",
    "* `Pontos esperados`:\n",
    "    * Apresente as características do conjunto de dados fornecido, destacando sua visão geral acerca do conjunto de dados e tecendo críticas e comentários;\n",
    "    * Faça uma análise detalhada das variáveis numéricas e categóricas da base de dados, discutindo sua distribuição e outras características relevantes;\n",
    "    * Limpeza de dados: Considere a avaliação da existência de valores ausentes e de possíveis outliers, discutindo como estes podem ser tratados ou eliminados;\n",
    "    * Feature engineering: Quais variáveis você poderia criar para enriquecer a análise?\n",
    "    * Enriquecimento da base: Inclua qualquer outra informação/análise que achar importante.\n",
    "    * Que outras bases externas ou internas voce buscaria para enriquecer as análises?"
   ]
  },
  {
   "cell_type": "markdown",
   "id": "614cadeb",
   "metadata": {},
   "source": [
    "* `Integrantes`:\n",
    "    * Carlos Eduardo Gomes\n",
    "    * Diego Delfino\n",
    "    * Felipe Wakami\n",
    "    * Leonardo Kerkhoff\n",
    "    \n",
    "    \n",
    "* `Base escolhida`: **Microdados do Enem 2019** (Atualizado em 20/05/2021). \n",
    "    * Disponível em [enem 2019](https://www.gov.br/inep/pt-br/acesso-a-informacao/dados-abertos/microdados/enem), extraído em 25/jan/2022.    "
   ]
  },
  {
   "cell_type": "markdown",
   "id": "6aeb48e3",
   "metadata": {},
   "source": [
    "## Etapa 1 - ANÁLISE POPULANDO OS NaN's"
   ]
  },
  {
   "cell_type": "markdown",
   "id": "4d4aac77",
   "metadata": {},
   "source": [
    "#### Instalando as bibliotecas necessárias: pandas, numpy e pandas_profiling"
   ]
  },
  {
   "cell_type": "code",
   "execution_count": 1,
   "id": "98453022",
   "metadata": {},
   "outputs": [],
   "source": [
    "#!pip install pandas\n",
    "#!pip install numpy\n",
    "#!pip install pandas-profiling"
   ]
  },
  {
   "cell_type": "markdown",
   "id": "0b4a50eb-27ca-4947-ad51-71be6b2804fb",
   "metadata": {},
   "source": [
    "#### Importando as bibliotecas e selecionando as colunas no dataframe com o import"
   ]
  },
  {
   "cell_type": "code",
   "execution_count": 2,
   "id": "373c11e6-9fe3-4857-a2c6-7e2b01c112ce",
   "metadata": {},
   "outputs": [],
   "source": [
    "import pandas as pd\n",
    "import numpy as np\n",
    "pd.options.display.float_format= \"{:,.2f}\".format"
   ]
  },
  {
   "cell_type": "markdown",
   "id": "88e289c1",
   "metadata": {},
   "source": [
    "#### Selecionamos 19 colunas das 136 disponíveis na base Enem 2019. O df de estudo possui 5.095.270 de linhas e 19 linhas."
   ]
  },
  {
   "cell_type": "code",
   "execution_count": 3,
   "id": "28e003aa-0023-42d8-a2d3-da08923078fc",
   "metadata": {},
   "outputs": [],
   "source": [
    "# selecionando as colunas na variável cols \n",
    "# lendo o csv pelo read_csv, separados ; usecols pela variável cols, enconding do alfabeto latino\n",
    "\n",
    "cols=['SG_UF_RESIDENCIA','SG_UF_NASCIMENTO','NU_IDADE','TP_SEXO','TP_COR_RACA','TP_ESCOLA','CO_ESCOLA','TP_PRESENCA_CN','TP_PRESENCA_CH',\n",
    "     'TP_PRESENCA_LC','TP_PRESENCA_MT','NU_NOTA_CN','NU_NOTA_CH','NU_NOTA_LC','NU_NOTA_MT','TP_LINGUA','NU_NOTA_REDACAO','Q006','Q025']\n",
    "df = pd.read_csv('./microdados_enem_2019/DADOS/MICRODADOS_ENEM_2019.csv', encoding='latin-1', sep=\";\", usecols=cols)"
   ]
  },
  {
   "cell_type": "code",
   "execution_count": 4,
   "id": "d6d8763f",
   "metadata": {},
   "outputs": [
    {
     "data": {
      "text/html": [
       "<div>\n",
       "<style scoped>\n",
       "    .dataframe tbody tr th:only-of-type {\n",
       "        vertical-align: middle;\n",
       "    }\n",
       "\n",
       "    .dataframe tbody tr th {\n",
       "        vertical-align: top;\n",
       "    }\n",
       "\n",
       "    .dataframe thead th {\n",
       "        text-align: right;\n",
       "    }\n",
       "</style>\n",
       "<table border=\"1\" class=\"dataframe\">\n",
       "  <thead>\n",
       "    <tr style=\"text-align: right;\">\n",
       "      <th></th>\n",
       "      <th>SG_UF_RESIDENCIA</th>\n",
       "      <th>NU_IDADE</th>\n",
       "      <th>TP_SEXO</th>\n",
       "      <th>TP_COR_RACA</th>\n",
       "      <th>SG_UF_NASCIMENTO</th>\n",
       "      <th>TP_ESCOLA</th>\n",
       "      <th>CO_ESCOLA</th>\n",
       "      <th>TP_PRESENCA_CN</th>\n",
       "      <th>TP_PRESENCA_CH</th>\n",
       "      <th>TP_PRESENCA_LC</th>\n",
       "      <th>TP_PRESENCA_MT</th>\n",
       "      <th>NU_NOTA_CN</th>\n",
       "      <th>NU_NOTA_CH</th>\n",
       "      <th>NU_NOTA_LC</th>\n",
       "      <th>NU_NOTA_MT</th>\n",
       "      <th>TP_LINGUA</th>\n",
       "      <th>NU_NOTA_REDACAO</th>\n",
       "      <th>Q006</th>\n",
       "      <th>Q025</th>\n",
       "    </tr>\n",
       "  </thead>\n",
       "  <tbody>\n",
       "    <tr>\n",
       "      <th>0</th>\n",
       "      <td>SP</td>\n",
       "      <td>36.00</td>\n",
       "      <td>M</td>\n",
       "      <td>3</td>\n",
       "      <td>BA</td>\n",
       "      <td>1</td>\n",
       "      <td>NaN</td>\n",
       "      <td>0</td>\n",
       "      <td>0</td>\n",
       "      <td>0</td>\n",
       "      <td>0</td>\n",
       "      <td>NaN</td>\n",
       "      <td>NaN</td>\n",
       "      <td>NaN</td>\n",
       "      <td>NaN</td>\n",
       "      <td>0</td>\n",
       "      <td>NaN</td>\n",
       "      <td>A</td>\n",
       "      <td>B</td>\n",
       "    </tr>\n",
       "    <tr>\n",
       "      <th>1</th>\n",
       "      <td>BA</td>\n",
       "      <td>23.00</td>\n",
       "      <td>M</td>\n",
       "      <td>1</td>\n",
       "      <td>BA</td>\n",
       "      <td>1</td>\n",
       "      <td>NaN</td>\n",
       "      <td>0</td>\n",
       "      <td>0</td>\n",
       "      <td>0</td>\n",
       "      <td>0</td>\n",
       "      <td>NaN</td>\n",
       "      <td>NaN</td>\n",
       "      <td>NaN</td>\n",
       "      <td>NaN</td>\n",
       "      <td>0</td>\n",
       "      <td>NaN</td>\n",
       "      <td>C</td>\n",
       "      <td>B</td>\n",
       "    </tr>\n",
       "    <tr>\n",
       "      <th>2</th>\n",
       "      <td>CE</td>\n",
       "      <td>39.00</td>\n",
       "      <td>F</td>\n",
       "      <td>3</td>\n",
       "      <td>CE</td>\n",
       "      <td>1</td>\n",
       "      <td>NaN</td>\n",
       "      <td>0</td>\n",
       "      <td>0</td>\n",
       "      <td>0</td>\n",
       "      <td>0</td>\n",
       "      <td>NaN</td>\n",
       "      <td>NaN</td>\n",
       "      <td>NaN</td>\n",
       "      <td>NaN</td>\n",
       "      <td>1</td>\n",
       "      <td>NaN</td>\n",
       "      <td>B</td>\n",
       "      <td>B</td>\n",
       "    </tr>\n",
       "    <tr>\n",
       "      <th>3</th>\n",
       "      <td>TO</td>\n",
       "      <td>25.00</td>\n",
       "      <td>F</td>\n",
       "      <td>1</td>\n",
       "      <td>TO</td>\n",
       "      <td>1</td>\n",
       "      <td>NaN</td>\n",
       "      <td>1</td>\n",
       "      <td>1</td>\n",
       "      <td>1</td>\n",
       "      <td>1</td>\n",
       "      <td>483.80</td>\n",
       "      <td>503.60</td>\n",
       "      <td>537.30</td>\n",
       "      <td>392.00</td>\n",
       "      <td>1</td>\n",
       "      <td>460.00</td>\n",
       "      <td>E</td>\n",
       "      <td>B</td>\n",
       "    </tr>\n",
       "    <tr>\n",
       "      <th>4</th>\n",
       "      <td>MG</td>\n",
       "      <td>22.00</td>\n",
       "      <td>F</td>\n",
       "      <td>1</td>\n",
       "      <td>MG</td>\n",
       "      <td>1</td>\n",
       "      <td>NaN</td>\n",
       "      <td>1</td>\n",
       "      <td>1</td>\n",
       "      <td>1</td>\n",
       "      <td>1</td>\n",
       "      <td>513.60</td>\n",
       "      <td>575.50</td>\n",
       "      <td>570.70</td>\n",
       "      <td>677.00</td>\n",
       "      <td>0</td>\n",
       "      <td>860.00</td>\n",
       "      <td>G</td>\n",
       "      <td>B</td>\n",
       "    </tr>\n",
       "    <tr>\n",
       "      <th>...</th>\n",
       "      <td>...</td>\n",
       "      <td>...</td>\n",
       "      <td>...</td>\n",
       "      <td>...</td>\n",
       "      <td>...</td>\n",
       "      <td>...</td>\n",
       "      <td>...</td>\n",
       "      <td>...</td>\n",
       "      <td>...</td>\n",
       "      <td>...</td>\n",
       "      <td>...</td>\n",
       "      <td>...</td>\n",
       "      <td>...</td>\n",
       "      <td>...</td>\n",
       "      <td>...</td>\n",
       "      <td>...</td>\n",
       "      <td>...</td>\n",
       "      <td>...</td>\n",
       "      <td>...</td>\n",
       "    </tr>\n",
       "    <tr>\n",
       "      <th>5095265</th>\n",
       "      <td>DF</td>\n",
       "      <td>41.00</td>\n",
       "      <td>F</td>\n",
       "      <td>3</td>\n",
       "      <td>PA</td>\n",
       "      <td>1</td>\n",
       "      <td>NaN</td>\n",
       "      <td>0</td>\n",
       "      <td>0</td>\n",
       "      <td>0</td>\n",
       "      <td>0</td>\n",
       "      <td>NaN</td>\n",
       "      <td>NaN</td>\n",
       "      <td>NaN</td>\n",
       "      <td>NaN</td>\n",
       "      <td>0</td>\n",
       "      <td>NaN</td>\n",
       "      <td>C</td>\n",
       "      <td>B</td>\n",
       "    </tr>\n",
       "    <tr>\n",
       "      <th>5095266</th>\n",
       "      <td>AM</td>\n",
       "      <td>20.00</td>\n",
       "      <td>M</td>\n",
       "      <td>3</td>\n",
       "      <td>AM</td>\n",
       "      <td>1</td>\n",
       "      <td>NaN</td>\n",
       "      <td>0</td>\n",
       "      <td>1</td>\n",
       "      <td>1</td>\n",
       "      <td>0</td>\n",
       "      <td>NaN</td>\n",
       "      <td>578.90</td>\n",
       "      <td>555.50</td>\n",
       "      <td>NaN</td>\n",
       "      <td>1</td>\n",
       "      <td>500.00</td>\n",
       "      <td>C</td>\n",
       "      <td>B</td>\n",
       "    </tr>\n",
       "    <tr>\n",
       "      <th>5095267</th>\n",
       "      <td>RS</td>\n",
       "      <td>21.00</td>\n",
       "      <td>M</td>\n",
       "      <td>0</td>\n",
       "      <td>RS</td>\n",
       "      <td>1</td>\n",
       "      <td>NaN</td>\n",
       "      <td>0</td>\n",
       "      <td>0</td>\n",
       "      <td>0</td>\n",
       "      <td>0</td>\n",
       "      <td>NaN</td>\n",
       "      <td>NaN</td>\n",
       "      <td>NaN</td>\n",
       "      <td>NaN</td>\n",
       "      <td>0</td>\n",
       "      <td>NaN</td>\n",
       "      <td>C</td>\n",
       "      <td>B</td>\n",
       "    </tr>\n",
       "    <tr>\n",
       "      <th>5095268</th>\n",
       "      <td>RS</td>\n",
       "      <td>22.00</td>\n",
       "      <td>M</td>\n",
       "      <td>0</td>\n",
       "      <td>RS</td>\n",
       "      <td>1</td>\n",
       "      <td>NaN</td>\n",
       "      <td>0</td>\n",
       "      <td>0</td>\n",
       "      <td>0</td>\n",
       "      <td>0</td>\n",
       "      <td>NaN</td>\n",
       "      <td>NaN</td>\n",
       "      <td>NaN</td>\n",
       "      <td>NaN</td>\n",
       "      <td>0</td>\n",
       "      <td>NaN</td>\n",
       "      <td>A</td>\n",
       "      <td>B</td>\n",
       "    </tr>\n",
       "    <tr>\n",
       "      <th>5095269</th>\n",
       "      <td>RS</td>\n",
       "      <td>21.00</td>\n",
       "      <td>F</td>\n",
       "      <td>0</td>\n",
       "      <td>SC</td>\n",
       "      <td>1</td>\n",
       "      <td>NaN</td>\n",
       "      <td>0</td>\n",
       "      <td>0</td>\n",
       "      <td>0</td>\n",
       "      <td>0</td>\n",
       "      <td>NaN</td>\n",
       "      <td>NaN</td>\n",
       "      <td>NaN</td>\n",
       "      <td>NaN</td>\n",
       "      <td>1</td>\n",
       "      <td>NaN</td>\n",
       "      <td>C</td>\n",
       "      <td>B</td>\n",
       "    </tr>\n",
       "  </tbody>\n",
       "</table>\n",
       "<p>5095270 rows × 19 columns</p>\n",
       "</div>"
      ],
      "text/plain": [
       "        SG_UF_RESIDENCIA  NU_IDADE TP_SEXO  TP_COR_RACA SG_UF_NASCIMENTO  \\\n",
       "0                     SP     36.00       M            3               BA   \n",
       "1                     BA     23.00       M            1               BA   \n",
       "2                     CE     39.00       F            3               CE   \n",
       "3                     TO     25.00       F            1               TO   \n",
       "4                     MG     22.00       F            1               MG   \n",
       "...                  ...       ...     ...          ...              ...   \n",
       "5095265               DF     41.00       F            3               PA   \n",
       "5095266               AM     20.00       M            3               AM   \n",
       "5095267               RS     21.00       M            0               RS   \n",
       "5095268               RS     22.00       M            0               RS   \n",
       "5095269               RS     21.00       F            0               SC   \n",
       "\n",
       "         TP_ESCOLA  CO_ESCOLA  TP_PRESENCA_CN  TP_PRESENCA_CH  TP_PRESENCA_LC  \\\n",
       "0                1        NaN               0               0               0   \n",
       "1                1        NaN               0               0               0   \n",
       "2                1        NaN               0               0               0   \n",
       "3                1        NaN               1               1               1   \n",
       "4                1        NaN               1               1               1   \n",
       "...            ...        ...             ...             ...             ...   \n",
       "5095265          1        NaN               0               0               0   \n",
       "5095266          1        NaN               0               1               1   \n",
       "5095267          1        NaN               0               0               0   \n",
       "5095268          1        NaN               0               0               0   \n",
       "5095269          1        NaN               0               0               0   \n",
       "\n",
       "         TP_PRESENCA_MT  NU_NOTA_CN  NU_NOTA_CH  NU_NOTA_LC  NU_NOTA_MT  \\\n",
       "0                     0         NaN         NaN         NaN         NaN   \n",
       "1                     0         NaN         NaN         NaN         NaN   \n",
       "2                     0         NaN         NaN         NaN         NaN   \n",
       "3                     1      483.80      503.60      537.30      392.00   \n",
       "4                     1      513.60      575.50      570.70      677.00   \n",
       "...                 ...         ...         ...         ...         ...   \n",
       "5095265               0         NaN         NaN         NaN         NaN   \n",
       "5095266               0         NaN      578.90      555.50         NaN   \n",
       "5095267               0         NaN         NaN         NaN         NaN   \n",
       "5095268               0         NaN         NaN         NaN         NaN   \n",
       "5095269               0         NaN         NaN         NaN         NaN   \n",
       "\n",
       "         TP_LINGUA  NU_NOTA_REDACAO Q006 Q025  \n",
       "0                0              NaN    A    B  \n",
       "1                0              NaN    C    B  \n",
       "2                1              NaN    B    B  \n",
       "3                1           460.00    E    B  \n",
       "4                0           860.00    G    B  \n",
       "...            ...              ...  ...  ...  \n",
       "5095265          0              NaN    C    B  \n",
       "5095266          1           500.00    C    B  \n",
       "5095267          0              NaN    C    B  \n",
       "5095268          0              NaN    A    B  \n",
       "5095269          1              NaN    C    B  \n",
       "\n",
       "[5095270 rows x 19 columns]"
      ]
     },
     "execution_count": 4,
     "metadata": {},
     "output_type": "execute_result"
    }
   ],
   "source": [
    "df"
   ]
  },
  {
   "cell_type": "markdown",
   "id": "4d8f4fd2-d789-4a98-8245-15760fd63d35",
   "metadata": {},
   "source": [
    "### Etapa 1.1 - TRATANDO OS DADOS:"
   ]
  },
  {
   "cell_type": "markdown",
   "id": "a24644cc-0640-45c9-9972-83a9205efb20",
   "metadata": {},
   "source": [
    "#### Verificando os dados vazios"
   ]
  },
  {
   "cell_type": "code",
   "execution_count": 5,
   "id": "5c38da39-6daf-4d12-9ff3-995ac1bedc06",
   "metadata": {},
   "outputs": [
    {
     "data": {
      "text/plain": [
       "SG_UF_RESIDENCIA          0\n",
       "NU_IDADE                 69\n",
       "TP_SEXO                   0\n",
       "TP_COR_RACA               0\n",
       "SG_UF_NASCIMENTO     145249\n",
       "TP_ESCOLA                 0\n",
       "CO_ESCOLA           3947858\n",
       "TP_PRESENCA_CN            0\n",
       "TP_PRESENCA_CH            0\n",
       "TP_PRESENCA_LC            0\n",
       "TP_PRESENCA_MT            0\n",
       "NU_NOTA_CN          1384837\n",
       "NU_NOTA_CH          1172125\n",
       "NU_NOTA_LC          1172125\n",
       "NU_NOTA_MT          1384837\n",
       "TP_LINGUA                 0\n",
       "NU_NOTA_REDACAO     1172126\n",
       "Q006                      0\n",
       "Q025                      0\n",
       "dtype: int64"
      ]
     },
     "execution_count": 5,
     "metadata": {},
     "output_type": "execute_result"
    }
   ],
   "source": [
    "# utilizando a função isna para detectar valores ausentes\n",
    "df.isna().sum()"
   ]
  },
  {
   "cell_type": "markdown",
   "id": "a6123b26-cd2a-4e9d-8e75-f9d3e9fc3839",
   "metadata": {},
   "source": [
    "#### Notas\n",
    "Os vazios em notas são as abstenções e serão mantidos para a análise. \n",
    "\n",
    "    * NU_NOTA_CN\t    Nota da prova de Ciências da Natureza\n",
    "    * NU_NOTA_CH\t    Nota da prova de Ciências Humanas\n",
    "    * NU_NOTA_LC\t    Nota da prova de Linguagens e Códigos\n",
    "    * NU_NOTA_MT\t    Nota da prova de Matemática\n",
    "    * NU_NOTA_REDACAO   Nota da prova de redação\n",
    "\n",
    "#### Código da Escola: CO_ESCOLA \n",
    "Os vazios no campo de escolas são escolas sem cadastro ou com informações erradas, e devido à grande quantidade a coluna vai ser dropada.\n",
    "\n",
    "###  Feature engineering\n",
    "#### Idade: NU_IDADE \n",
    "Apresentou 69 campos não populados. Neste caso, os dados faltantes na idade podem ser tratados, pela baixa quantidade em relação à base (será utilizada a mediana, pela interferência dos outliers na média). "
   ]
  },
  {
   "cell_type": "code",
   "execution_count": 6,
   "id": "48625988",
   "metadata": {},
   "outputs": [
    {
     "data": {
      "text/plain": [
       "19.0"
      ]
     },
     "execution_count": 6,
     "metadata": {},
     "output_type": "execute_result"
    }
   ],
   "source": [
    "# a mediana da idade é 19, ou seja, é o valor que está exatamente no meio do conjunto de dados.\n",
    "df.NU_IDADE.median()"
   ]
  },
  {
   "cell_type": "code",
   "execution_count": 7,
   "id": "6f01163a-1044-40ac-81a0-2dcfd1c0d8ad",
   "metadata": {},
   "outputs": [
    {
     "data": {
      "text/plain": [
       "SG_UF_RESIDENCIA          0\n",
       "NU_IDADE                  0\n",
       "TP_SEXO                   0\n",
       "TP_COR_RACA               0\n",
       "SG_UF_NASCIMENTO     145249\n",
       "TP_ESCOLA                 0\n",
       "TP_PRESENCA_CN            0\n",
       "TP_PRESENCA_CH            0\n",
       "TP_PRESENCA_LC            0\n",
       "TP_PRESENCA_MT            0\n",
       "NU_NOTA_CN          1384837\n",
       "NU_NOTA_CH          1172125\n",
       "NU_NOTA_LC          1172125\n",
       "NU_NOTA_MT          1384837\n",
       "TP_LINGUA                 0\n",
       "NU_NOTA_REDACAO     1172126\n",
       "Q006                      0\n",
       "Q025                      0\n",
       "dtype: int64"
      ]
     },
     "execution_count": 7,
     "metadata": {},
     "output_type": "execute_result"
    }
   ],
   "source": [
    "# dropando a coluna Código da Escola\n",
    "# substituindo os valores NaN em Idade com função fillna a partir da mediana obtido pelo median()\n",
    "\n",
    "df.drop(['CO_ESCOLA'], axis=1, inplace=True)\n",
    "df['NU_IDADE']=df.NU_IDADE.fillna(df.NU_IDADE.median())\n",
    "df.isna().sum()"
   ]
  },
  {
   "cell_type": "markdown",
   "id": "a5b68d5f-4d38-4414-8d86-35052481a5ba",
   "metadata": {},
   "source": [
    "#### Candidatos eliminados\n",
    "Serão verificados os candidatos eliminados nas provas. Estes serão dropados. 0: Faltou à prova, 1: Presente na prova e 2: Eliminado na prova\n",
    "\n",
    "    * TP_PRESENCA_CN: Presença na prova objetiva de Ciências da Natureza\n",
    "    * TP_PRESENCA_CH: Presença na prova objetiva de Ciências Humanas\n",
    "    * TP_PRESENCA_LC: Presença na prova objetiva de Linguagens e Códigos\n",
    "    * TP_PRESENCA_MT: Presença na prova objetiva de Matemática"
   ]
  },
  {
   "cell_type": "code",
   "execution_count": 8,
   "id": "5cecd8e5-7efb-46b7-9100-ad226e4ca1c8",
   "metadata": {},
   "outputs": [],
   "source": [
    "df.drop(df[df.TP_PRESENCA_CN == 2].index, inplace=True)\n",
    "df.drop(df[df.TP_PRESENCA_CH == 2].index, inplace=True)\n",
    "df.drop(df[df.TP_PRESENCA_LC == 2].index, inplace=True)\n",
    "df.drop(df[df.TP_PRESENCA_MT == 2].index, inplace=True)"
   ]
  },
  {
   "cell_type": "markdown",
   "id": "02dcd84a-d42d-4ae5-be76-ff55744cdffc",
   "metadata": {},
   "source": [
    "## Enriquecimento da base\n",
    "#### Cálculo da nota final: Total\n",
    " \n",
    "* `Memória de Cálculo`: Basta somar as 5 notas (Ciências da Natureza, Ciências Humanas, Linguagens e Códigos, Matemática e Redação) e depois dividir o resultado por 5.\n",
    "\n",
    "Será criada uma coluna com a nota total dos alunos, e após isso as notas individuais por prova e as colunas de presença serão dropadas"
   ]
  },
  {
   "cell_type": "code",
   "execution_count": 9,
   "id": "638cf8d5-69ee-4637-b0be-4af452fa8de6",
   "metadata": {},
   "outputs": [],
   "source": [
    "df['Total']=(df['NU_NOTA_CN']+df['NU_NOTA_CH']+df['NU_NOTA_LC']+df['NU_NOTA_MT']+df['NU_NOTA_REDACAO'])/5\n",
    "df.drop(['TP_PRESENCA_CN','TP_PRESENCA_CH','TP_PRESENCA_LC','TP_PRESENCA_MT','NU_NOTA_CN','NU_NOTA_CH','NU_NOTA_LC',\n",
    "         'NU_NOTA_MT','NU_NOTA_REDACAO'], axis=1, inplace=True)"
   ]
  },
  {
   "cell_type": "code",
   "execution_count": 10,
   "id": "bb394e0f",
   "metadata": {},
   "outputs": [
    {
     "data": {
      "text/html": [
       "<div>\n",
       "<style scoped>\n",
       "    .dataframe tbody tr th:only-of-type {\n",
       "        vertical-align: middle;\n",
       "    }\n",
       "\n",
       "    .dataframe tbody tr th {\n",
       "        vertical-align: top;\n",
       "    }\n",
       "\n",
       "    .dataframe thead th {\n",
       "        text-align: right;\n",
       "    }\n",
       "</style>\n",
       "<table border=\"1\" class=\"dataframe\">\n",
       "  <thead>\n",
       "    <tr style=\"text-align: right;\">\n",
       "      <th></th>\n",
       "      <th>SG_UF_RESIDENCIA</th>\n",
       "      <th>NU_IDADE</th>\n",
       "      <th>TP_SEXO</th>\n",
       "      <th>TP_COR_RACA</th>\n",
       "      <th>SG_UF_NASCIMENTO</th>\n",
       "      <th>TP_ESCOLA</th>\n",
       "      <th>TP_LINGUA</th>\n",
       "      <th>Q006</th>\n",
       "      <th>Q025</th>\n",
       "      <th>Total</th>\n",
       "    </tr>\n",
       "  </thead>\n",
       "  <tbody>\n",
       "    <tr>\n",
       "      <th>0</th>\n",
       "      <td>SP</td>\n",
       "      <td>36.00</td>\n",
       "      <td>M</td>\n",
       "      <td>3</td>\n",
       "      <td>BA</td>\n",
       "      <td>1</td>\n",
       "      <td>0</td>\n",
       "      <td>A</td>\n",
       "      <td>B</td>\n",
       "      <td>NaN</td>\n",
       "    </tr>\n",
       "    <tr>\n",
       "      <th>1</th>\n",
       "      <td>BA</td>\n",
       "      <td>23.00</td>\n",
       "      <td>M</td>\n",
       "      <td>1</td>\n",
       "      <td>BA</td>\n",
       "      <td>1</td>\n",
       "      <td>0</td>\n",
       "      <td>C</td>\n",
       "      <td>B</td>\n",
       "      <td>NaN</td>\n",
       "    </tr>\n",
       "    <tr>\n",
       "      <th>2</th>\n",
       "      <td>CE</td>\n",
       "      <td>39.00</td>\n",
       "      <td>F</td>\n",
       "      <td>3</td>\n",
       "      <td>CE</td>\n",
       "      <td>1</td>\n",
       "      <td>1</td>\n",
       "      <td>B</td>\n",
       "      <td>B</td>\n",
       "      <td>NaN</td>\n",
       "    </tr>\n",
       "    <tr>\n",
       "      <th>3</th>\n",
       "      <td>TO</td>\n",
       "      <td>25.00</td>\n",
       "      <td>F</td>\n",
       "      <td>1</td>\n",
       "      <td>TO</td>\n",
       "      <td>1</td>\n",
       "      <td>1</td>\n",
       "      <td>E</td>\n",
       "      <td>B</td>\n",
       "      <td>475.34</td>\n",
       "    </tr>\n",
       "    <tr>\n",
       "      <th>4</th>\n",
       "      <td>MG</td>\n",
       "      <td>22.00</td>\n",
       "      <td>F</td>\n",
       "      <td>1</td>\n",
       "      <td>MG</td>\n",
       "      <td>1</td>\n",
       "      <td>0</td>\n",
       "      <td>G</td>\n",
       "      <td>B</td>\n",
       "      <td>639.36</td>\n",
       "    </tr>\n",
       "    <tr>\n",
       "      <th>...</th>\n",
       "      <td>...</td>\n",
       "      <td>...</td>\n",
       "      <td>...</td>\n",
       "      <td>...</td>\n",
       "      <td>...</td>\n",
       "      <td>...</td>\n",
       "      <td>...</td>\n",
       "      <td>...</td>\n",
       "      <td>...</td>\n",
       "      <td>...</td>\n",
       "    </tr>\n",
       "    <tr>\n",
       "      <th>5095265</th>\n",
       "      <td>DF</td>\n",
       "      <td>41.00</td>\n",
       "      <td>F</td>\n",
       "      <td>3</td>\n",
       "      <td>PA</td>\n",
       "      <td>1</td>\n",
       "      <td>0</td>\n",
       "      <td>C</td>\n",
       "      <td>B</td>\n",
       "      <td>NaN</td>\n",
       "    </tr>\n",
       "    <tr>\n",
       "      <th>5095266</th>\n",
       "      <td>AM</td>\n",
       "      <td>20.00</td>\n",
       "      <td>M</td>\n",
       "      <td>3</td>\n",
       "      <td>AM</td>\n",
       "      <td>1</td>\n",
       "      <td>1</td>\n",
       "      <td>C</td>\n",
       "      <td>B</td>\n",
       "      <td>NaN</td>\n",
       "    </tr>\n",
       "    <tr>\n",
       "      <th>5095267</th>\n",
       "      <td>RS</td>\n",
       "      <td>21.00</td>\n",
       "      <td>M</td>\n",
       "      <td>0</td>\n",
       "      <td>RS</td>\n",
       "      <td>1</td>\n",
       "      <td>0</td>\n",
       "      <td>C</td>\n",
       "      <td>B</td>\n",
       "      <td>NaN</td>\n",
       "    </tr>\n",
       "    <tr>\n",
       "      <th>5095268</th>\n",
       "      <td>RS</td>\n",
       "      <td>22.00</td>\n",
       "      <td>M</td>\n",
       "      <td>0</td>\n",
       "      <td>RS</td>\n",
       "      <td>1</td>\n",
       "      <td>0</td>\n",
       "      <td>A</td>\n",
       "      <td>B</td>\n",
       "      <td>NaN</td>\n",
       "    </tr>\n",
       "    <tr>\n",
       "      <th>5095269</th>\n",
       "      <td>RS</td>\n",
       "      <td>21.00</td>\n",
       "      <td>F</td>\n",
       "      <td>0</td>\n",
       "      <td>SC</td>\n",
       "      <td>1</td>\n",
       "      <td>1</td>\n",
       "      <td>C</td>\n",
       "      <td>B</td>\n",
       "      <td>NaN</td>\n",
       "    </tr>\n",
       "  </tbody>\n",
       "</table>\n",
       "<p>5089290 rows × 10 columns</p>\n",
       "</div>"
      ],
      "text/plain": [
       "        SG_UF_RESIDENCIA  NU_IDADE TP_SEXO  TP_COR_RACA SG_UF_NASCIMENTO  \\\n",
       "0                     SP     36.00       M            3               BA   \n",
       "1                     BA     23.00       M            1               BA   \n",
       "2                     CE     39.00       F            3               CE   \n",
       "3                     TO     25.00       F            1               TO   \n",
       "4                     MG     22.00       F            1               MG   \n",
       "...                  ...       ...     ...          ...              ...   \n",
       "5095265               DF     41.00       F            3               PA   \n",
       "5095266               AM     20.00       M            3               AM   \n",
       "5095267               RS     21.00       M            0               RS   \n",
       "5095268               RS     22.00       M            0               RS   \n",
       "5095269               RS     21.00       F            0               SC   \n",
       "\n",
       "         TP_ESCOLA  TP_LINGUA Q006 Q025  Total  \n",
       "0                1          0    A    B    NaN  \n",
       "1                1          0    C    B    NaN  \n",
       "2                1          1    B    B    NaN  \n",
       "3                1          1    E    B 475.34  \n",
       "4                1          0    G    B 639.36  \n",
       "...            ...        ...  ...  ...    ...  \n",
       "5095265          1          0    C    B    NaN  \n",
       "5095266          1          1    C    B    NaN  \n",
       "5095267          1          0    C    B    NaN  \n",
       "5095268          1          0    A    B    NaN  \n",
       "5095269          1          1    C    B    NaN  \n",
       "\n",
       "[5089290 rows x 10 columns]"
      ]
     },
     "execution_count": 10,
     "metadata": {},
     "output_type": "execute_result"
    }
   ],
   "source": [
    "df.head(10)\n",
    "df"
   ]
  },
  {
   "cell_type": "markdown",
   "id": "f79f95dc-fffd-4bef-a159-c347d7b5a674",
   "metadata": {},
   "source": [
    "#### Dados ausentes no estado de nascimento\n",
    "\n",
    "Serão verificados os impactos dos dados faltantes no estado de nascimento:"
   ]
  },
  {
   "cell_type": "code",
   "execution_count": 11,
   "id": "5dd9c2ea",
   "metadata": {},
   "outputs": [
    {
     "data": {
      "text/plain": [
       "SG_UF_RESIDENCIA          0\n",
       "NU_IDADE                  0\n",
       "TP_SEXO                   0\n",
       "TP_COR_RACA               0\n",
       "SG_UF_NASCIMENTO     145072\n",
       "TP_ESCOLA                 0\n",
       "TP_LINGUA                 0\n",
       "Q006                      0\n",
       "Q025                      0\n",
       "Total               1387283\n",
       "dtype: int64"
      ]
     },
     "execution_count": 11,
     "metadata": {},
     "output_type": "execute_result"
    }
   ],
   "source": [
    "df.isna().sum()"
   ]
  },
  {
   "cell_type": "code",
   "execution_count": 12,
   "id": "37f7f2bb",
   "metadata": {},
   "outputs": [
    {
     "data": {
      "text/plain": [
       "count   106,197.00\n",
       "mean        492.01\n",
       "std          72.85\n",
       "min           0.00\n",
       "25%         444.72\n",
       "50%         485.50\n",
       "75%         533.18\n",
       "max         806.24\n",
       "Name: Total, dtype: float64"
      ]
     },
     "execution_count": 12,
     "metadata": {},
     "output_type": "execute_result"
    }
   ],
   "source": [
    "# utilizando a função describe() que informa sobre os dados estatísticos da coluna SG_UF_NASCIMENTO: Sigla da Unidade da Federação de nascimento\n",
    "df[df.SG_UF_NASCIMENTO.isna()]['Total'].describe()"
   ]
  },
  {
   "cell_type": "code",
   "execution_count": 13,
   "id": "688d3e6f",
   "metadata": {},
   "outputs": [
    {
     "data": {
      "text/plain": [
       "count   3,702,007.00\n",
       "mean          522.62\n",
       "std            83.65\n",
       "min             0.00\n",
       "25%           464.04\n",
       "50%           515.02\n",
       "75%           576.76\n",
       "max           850.82\n",
       "Name: Total, dtype: float64"
      ]
     },
     "execution_count": 13,
     "metadata": {},
     "output_type": "execute_result"
    }
   ],
   "source": [
    "# utilizando a função describe() que informa sobre os dados estatísticos do dataframe\n",
    "df['Total'].describe()"
   ]
  },
  {
   "cell_type": "markdown",
   "id": "42741f69",
   "metadata": {},
   "source": [
    "* `Conclusão`: \n",
    "A nota máxima no grupo selecionado (estado de nascimento) não está entre as máximas do data frame total. Assim, é possível dropar os nulos desta coluna, sem que isso modifique as análises posteriores."
   ]
  },
  {
   "cell_type": "code",
   "execution_count": 14,
   "id": "10b07bfd-79d5-4ac1-b429-b7630f9b7f07",
   "metadata": {},
   "outputs": [],
   "source": [
    "# dropando a coluna SG_UF_NASCIMENTO\n",
    "df.dropna(subset=['SG_UF_NASCIMENTO'], inplace=True)"
   ]
  },
  {
   "cell_type": "markdown",
   "id": "9a676f04",
   "metadata": {},
   "source": [
    "#### DataFrame sem dados ausentes, mas com campos populados com dados não declarados\n",
    "\n",
    "#### Cor/raça: TP_COR_RACA\n",
    "    * 0\tNão declarado\n",
    "    * 1\tBranca\n",
    "    * 2\tPreta\n",
    "    * 3\tParda\n",
    "    * 4\tAmarela\n",
    "    * 5\tIndígena \n",
    "    \n",
    "#### Tipo de escola do Ensino Médio: TP_ESCOLA  \n",
    "    * 1\tNão Respondeu\n",
    "    * 2\tPública\n",
    "    * 3\tPrivada\n",
    "    * 4\tExterior"
   ]
  },
  {
   "cell_type": "code",
   "execution_count": 15,
   "id": "f935224a",
   "metadata": {},
   "outputs": [
    {
     "data": {
      "text/plain": [
       "SG_UF_RESIDENCIA          0\n",
       "NU_IDADE                  0\n",
       "TP_SEXO                   0\n",
       "TP_COR_RACA               0\n",
       "SG_UF_NASCIMENTO          0\n",
       "TP_ESCOLA                 0\n",
       "TP_LINGUA                 0\n",
       "Q006                      0\n",
       "Q025                      0\n",
       "Total               1348408\n",
       "dtype: int64"
      ]
     },
     "execution_count": 15,
     "metadata": {},
     "output_type": "execute_result"
    }
   ],
   "source": [
    "df.isna().sum()"
   ]
  },
  {
   "cell_type": "code",
   "execution_count": 16,
   "id": "97e70b7f",
   "metadata": {},
   "outputs": [
    {
     "data": {
      "text/html": [
       "<div>\n",
       "<style scoped>\n",
       "    .dataframe tbody tr th:only-of-type {\n",
       "        vertical-align: middle;\n",
       "    }\n",
       "\n",
       "    .dataframe tbody tr th {\n",
       "        vertical-align: top;\n",
       "    }\n",
       "\n",
       "    .dataframe thead th {\n",
       "        text-align: right;\n",
       "    }\n",
       "</style>\n",
       "<table border=\"1\" class=\"dataframe\">\n",
       "  <thead>\n",
       "    <tr style=\"text-align: right;\">\n",
       "      <th></th>\n",
       "      <th>SG_UF_RESIDENCIA</th>\n",
       "      <th>NU_IDADE</th>\n",
       "      <th>TP_SEXO</th>\n",
       "      <th>TP_COR_RACA</th>\n",
       "      <th>SG_UF_NASCIMENTO</th>\n",
       "      <th>TP_ESCOLA</th>\n",
       "      <th>TP_LINGUA</th>\n",
       "      <th>Q006</th>\n",
       "      <th>Q025</th>\n",
       "      <th>Total</th>\n",
       "    </tr>\n",
       "  </thead>\n",
       "  <tbody>\n",
       "    <tr>\n",
       "      <th>2610914</th>\n",
       "      <td>MG</td>\n",
       "      <td>17.00</td>\n",
       "      <td>M</td>\n",
       "      <td>1</td>\n",
       "      <td>MG</td>\n",
       "      <td>3</td>\n",
       "      <td>0</td>\n",
       "      <td>N</td>\n",
       "      <td>B</td>\n",
       "      <td>850.82</td>\n",
       "    </tr>\n",
       "    <tr>\n",
       "      <th>2406179</th>\n",
       "      <td>MG</td>\n",
       "      <td>17.00</td>\n",
       "      <td>M</td>\n",
       "      <td>1</td>\n",
       "      <td>MG</td>\n",
       "      <td>2</td>\n",
       "      <td>0</td>\n",
       "      <td>N</td>\n",
       "      <td>B</td>\n",
       "      <td>846.26</td>\n",
       "    </tr>\n",
       "    <tr>\n",
       "      <th>494733</th>\n",
       "      <td>PI</td>\n",
       "      <td>18.00</td>\n",
       "      <td>M</td>\n",
       "      <td>1</td>\n",
       "      <td>PI</td>\n",
       "      <td>3</td>\n",
       "      <td>0</td>\n",
       "      <td>J</td>\n",
       "      <td>B</td>\n",
       "      <td>845.00</td>\n",
       "    </tr>\n",
       "    <tr>\n",
       "      <th>1813970</th>\n",
       "      <td>MA</td>\n",
       "      <td>18.00</td>\n",
       "      <td>M</td>\n",
       "      <td>3</td>\n",
       "      <td>PI</td>\n",
       "      <td>1</td>\n",
       "      <td>0</td>\n",
       "      <td>J</td>\n",
       "      <td>B</td>\n",
       "      <td>843.28</td>\n",
       "    </tr>\n",
       "    <tr>\n",
       "      <th>2184026</th>\n",
       "      <td>GO</td>\n",
       "      <td>17.00</td>\n",
       "      <td>F</td>\n",
       "      <td>1</td>\n",
       "      <td>GO</td>\n",
       "      <td>3</td>\n",
       "      <td>0</td>\n",
       "      <td>P</td>\n",
       "      <td>B</td>\n",
       "      <td>842.70</td>\n",
       "    </tr>\n",
       "    <tr>\n",
       "      <th>2464215</th>\n",
       "      <td>GO</td>\n",
       "      <td>18.00</td>\n",
       "      <td>M</td>\n",
       "      <td>3</td>\n",
       "      <td>GO</td>\n",
       "      <td>3</td>\n",
       "      <td>0</td>\n",
       "      <td>H</td>\n",
       "      <td>B</td>\n",
       "      <td>840.56</td>\n",
       "    </tr>\n",
       "    <tr>\n",
       "      <th>3048302</th>\n",
       "      <td>GO</td>\n",
       "      <td>17.00</td>\n",
       "      <td>F</td>\n",
       "      <td>1</td>\n",
       "      <td>GO</td>\n",
       "      <td>3</td>\n",
       "      <td>0</td>\n",
       "      <td>N</td>\n",
       "      <td>B</td>\n",
       "      <td>838.56</td>\n",
       "    </tr>\n",
       "    <tr>\n",
       "      <th>2250347</th>\n",
       "      <td>MG</td>\n",
       "      <td>19.00</td>\n",
       "      <td>M</td>\n",
       "      <td>1</td>\n",
       "      <td>MG</td>\n",
       "      <td>1</td>\n",
       "      <td>0</td>\n",
       "      <td>Q</td>\n",
       "      <td>B</td>\n",
       "      <td>837.48</td>\n",
       "    </tr>\n",
       "    <tr>\n",
       "      <th>2689723</th>\n",
       "      <td>SP</td>\n",
       "      <td>22.00</td>\n",
       "      <td>F</td>\n",
       "      <td>1</td>\n",
       "      <td>SP</td>\n",
       "      <td>1</td>\n",
       "      <td>0</td>\n",
       "      <td>J</td>\n",
       "      <td>B</td>\n",
       "      <td>835.90</td>\n",
       "    </tr>\n",
       "    <tr>\n",
       "      <th>3140139</th>\n",
       "      <td>GO</td>\n",
       "      <td>18.00</td>\n",
       "      <td>M</td>\n",
       "      <td>1</td>\n",
       "      <td>GO</td>\n",
       "      <td>1</td>\n",
       "      <td>0</td>\n",
       "      <td>K</td>\n",
       "      <td>B</td>\n",
       "      <td>833.58</td>\n",
       "    </tr>\n",
       "  </tbody>\n",
       "</table>\n",
       "</div>"
      ],
      "text/plain": [
       "        SG_UF_RESIDENCIA  NU_IDADE TP_SEXO  TP_COR_RACA SG_UF_NASCIMENTO  \\\n",
       "2610914               MG     17.00       M            1               MG   \n",
       "2406179               MG     17.00       M            1               MG   \n",
       "494733                PI     18.00       M            1               PI   \n",
       "1813970               MA     18.00       M            3               PI   \n",
       "2184026               GO     17.00       F            1               GO   \n",
       "2464215               GO     18.00       M            3               GO   \n",
       "3048302               GO     17.00       F            1               GO   \n",
       "2250347               MG     19.00       M            1               MG   \n",
       "2689723               SP     22.00       F            1               SP   \n",
       "3140139               GO     18.00       M            1               GO   \n",
       "\n",
       "         TP_ESCOLA  TP_LINGUA Q006 Q025  Total  \n",
       "2610914          3          0    N    B 850.82  \n",
       "2406179          2          0    N    B 846.26  \n",
       "494733           3          0    J    B 845.00  \n",
       "1813970          1          0    J    B 843.28  \n",
       "2184026          3          0    P    B 842.70  \n",
       "2464215          3          0    H    B 840.56  \n",
       "3048302          3          0    N    B 838.56  \n",
       "2250347          1          0    Q    B 837.48  \n",
       "2689723          1          0    J    B 835.90  \n",
       "3140139          1          0    K    B 833.58  "
      ]
     },
     "execution_count": 16,
     "metadata": {},
     "output_type": "execute_result"
    }
   ],
   "source": [
    "# organizando os dados pela nota final 'Total' de forma decrescente\n",
    "df.sort_values(by='Total', ascending=False).head(10)"
   ]
  },
  {
   "cell_type": "markdown",
   "id": "2accd477-37ab-4918-b3bd-7e55bc40aa51",
   "metadata": {},
   "source": [
    "## Feature engineering\n",
    "#### Cor/raça: TP_COR_RACA\n",
    "\n",
    "Para o tratamento dos dados faltantes no campo de cor/raça, serão considerados os estados de nascimento para a estimativa."
   ]
  },
  {
   "cell_type": "code",
   "execution_count": 17,
   "id": "8d7cbb5f-b608-40e7-b252-637dd388d468",
   "metadata": {},
   "outputs": [],
   "source": [
    "# copiando o dataframe para df2\n",
    "# dropando os que não declararam Cor/raça\n",
    "# groupby por Estado de Nascimento x Cor/raça\n",
    "# reapresentado os valores em dados relativos (%).\n",
    "\n",
    "df2=df.copy()\n",
    "df2.drop(df2[df2.TP_COR_RACA == 0].index, inplace=True)\n",
    "porcentagens=df2.groupby(['SG_UF_NASCIMENTO','TP_COR_RACA']).agg({'TP_COR_RACA':'count'}).groupby(level=0).apply(lambda x:100*x/float(x.sum()))"
   ]
  },
  {
   "cell_type": "code",
   "execution_count": 18,
   "id": "05924ed3",
   "metadata": {},
   "outputs": [
    {
     "data": {
      "text/html": [
       "<div>\n",
       "<style scoped>\n",
       "    .dataframe tbody tr th:only-of-type {\n",
       "        vertical-align: middle;\n",
       "    }\n",
       "\n",
       "    .dataframe tbody tr th {\n",
       "        vertical-align: top;\n",
       "    }\n",
       "\n",
       "    .dataframe thead th {\n",
       "        text-align: right;\n",
       "    }\n",
       "</style>\n",
       "<table border=\"1\" class=\"dataframe\">\n",
       "  <thead>\n",
       "    <tr style=\"text-align: right;\">\n",
       "      <th></th>\n",
       "      <th></th>\n",
       "      <th>TP_COR_RACA</th>\n",
       "    </tr>\n",
       "    <tr>\n",
       "      <th>SG_UF_NASCIMENTO</th>\n",
       "      <th>TP_COR_RACA</th>\n",
       "      <th></th>\n",
       "    </tr>\n",
       "  </thead>\n",
       "  <tbody>\n",
       "    <tr>\n",
       "      <th rowspan=\"5\" valign=\"top\">AC</th>\n",
       "      <th>1</th>\n",
       "      <td>15.33</td>\n",
       "    </tr>\n",
       "    <tr>\n",
       "      <th>2</th>\n",
       "      <td>11.27</td>\n",
       "    </tr>\n",
       "    <tr>\n",
       "      <th>3</th>\n",
       "      <td>69.34</td>\n",
       "    </tr>\n",
       "    <tr>\n",
       "      <th>4</th>\n",
       "      <td>3.26</td>\n",
       "    </tr>\n",
       "    <tr>\n",
       "      <th>5</th>\n",
       "      <td>0.80</td>\n",
       "    </tr>\n",
       "    <tr>\n",
       "      <th>...</th>\n",
       "      <th>...</th>\n",
       "      <td>...</td>\n",
       "    </tr>\n",
       "    <tr>\n",
       "      <th rowspan=\"5\" valign=\"top\">TO</th>\n",
       "      <th>1</th>\n",
       "      <td>18.52</td>\n",
       "    </tr>\n",
       "    <tr>\n",
       "      <th>2</th>\n",
       "      <td>16.52</td>\n",
       "    </tr>\n",
       "    <tr>\n",
       "      <th>3</th>\n",
       "      <td>60.72</td>\n",
       "    </tr>\n",
       "    <tr>\n",
       "      <th>4</th>\n",
       "      <td>3.58</td>\n",
       "    </tr>\n",
       "    <tr>\n",
       "      <th>5</th>\n",
       "      <td>0.67</td>\n",
       "    </tr>\n",
       "  </tbody>\n",
       "</table>\n",
       "<p>135 rows × 1 columns</p>\n",
       "</div>"
      ],
      "text/plain": [
       "                              TP_COR_RACA\n",
       "SG_UF_NASCIMENTO TP_COR_RACA             \n",
       "AC               1                  15.33\n",
       "                 2                  11.27\n",
       "                 3                  69.34\n",
       "                 4                   3.26\n",
       "                 5                   0.80\n",
       "...                                   ...\n",
       "TO               1                  18.52\n",
       "                 2                  16.52\n",
       "                 3                  60.72\n",
       "                 4                   3.58\n",
       "                 5                   0.67\n",
       "\n",
       "[135 rows x 1 columns]"
      ]
     },
     "execution_count": 18,
     "metadata": {},
     "output_type": "execute_result"
    }
   ],
   "source": [
    "porcentagens"
   ]
  },
  {
   "cell_type": "code",
   "execution_count": 19,
   "id": "3fd10eeb-cd51-47e6-8f2a-6309b676cd0a",
   "metadata": {},
   "outputs": [
    {
     "data": {
      "text/html": [
       "<div>\n",
       "<style scoped>\n",
       "    .dataframe tbody tr th:only-of-type {\n",
       "        vertical-align: middle;\n",
       "    }\n",
       "\n",
       "    .dataframe tbody tr th {\n",
       "        vertical-align: top;\n",
       "    }\n",
       "\n",
       "    .dataframe thead th {\n",
       "        text-align: right;\n",
       "    }\n",
       "</style>\n",
       "<table border=\"1\" class=\"dataframe\">\n",
       "  <thead>\n",
       "    <tr style=\"text-align: right;\">\n",
       "      <th></th>\n",
       "      <th>TP_COR_RACA</th>\n",
       "    </tr>\n",
       "    <tr>\n",
       "      <th>SG_UF_NASCIMENTO</th>\n",
       "      <th></th>\n",
       "    </tr>\n",
       "  </thead>\n",
       "  <tbody>\n",
       "    <tr>\n",
       "      <th>AC</th>\n",
       "      <td>705</td>\n",
       "    </tr>\n",
       "    <tr>\n",
       "      <th>AL</th>\n",
       "      <td>2096</td>\n",
       "    </tr>\n",
       "    <tr>\n",
       "      <th>AM</th>\n",
       "      <td>2414</td>\n",
       "    </tr>\n",
       "    <tr>\n",
       "      <th>AP</th>\n",
       "      <td>660</td>\n",
       "    </tr>\n",
       "    <tr>\n",
       "      <th>BA</th>\n",
       "      <td>9563</td>\n",
       "    </tr>\n",
       "    <tr>\n",
       "      <th>CE</th>\n",
       "      <td>8059</td>\n",
       "    </tr>\n",
       "    <tr>\n",
       "      <th>DF</th>\n",
       "      <td>2430</td>\n",
       "    </tr>\n",
       "    <tr>\n",
       "      <th>ES</th>\n",
       "      <td>1453</td>\n",
       "    </tr>\n",
       "    <tr>\n",
       "      <th>GO</th>\n",
       "      <td>4227</td>\n",
       "    </tr>\n",
       "    <tr>\n",
       "      <th>MA</th>\n",
       "      <td>3812</td>\n",
       "    </tr>\n",
       "    <tr>\n",
       "      <th>MG</th>\n",
       "      <td>10714</td>\n",
       "    </tr>\n",
       "    <tr>\n",
       "      <th>MS</th>\n",
       "      <td>1198</td>\n",
       "    </tr>\n",
       "    <tr>\n",
       "      <th>MT</th>\n",
       "      <td>1624</td>\n",
       "    </tr>\n",
       "    <tr>\n",
       "      <th>PA</th>\n",
       "      <td>4581</td>\n",
       "    </tr>\n",
       "    <tr>\n",
       "      <th>PB</th>\n",
       "      <td>2769</td>\n",
       "    </tr>\n",
       "    <tr>\n",
       "      <th>PE</th>\n",
       "      <td>6373</td>\n",
       "    </tr>\n",
       "    <tr>\n",
       "      <th>PI</th>\n",
       "      <td>2229</td>\n",
       "    </tr>\n",
       "    <tr>\n",
       "      <th>PR</th>\n",
       "      <td>3415</td>\n",
       "    </tr>\n",
       "    <tr>\n",
       "      <th>RJ</th>\n",
       "      <td>7601</td>\n",
       "    </tr>\n",
       "    <tr>\n",
       "      <th>RN</th>\n",
       "      <td>2025</td>\n",
       "    </tr>\n",
       "    <tr>\n",
       "      <th>RO</th>\n",
       "      <td>1051</td>\n",
       "    </tr>\n",
       "    <tr>\n",
       "      <th>RR</th>\n",
       "      <td>143</td>\n",
       "    </tr>\n",
       "    <tr>\n",
       "      <th>RS</th>\n",
       "      <td>4393</td>\n",
       "    </tr>\n",
       "    <tr>\n",
       "      <th>SC</th>\n",
       "      <td>1813</td>\n",
       "    </tr>\n",
       "    <tr>\n",
       "      <th>SE</th>\n",
       "      <td>1545</td>\n",
       "    </tr>\n",
       "    <tr>\n",
       "      <th>SP</th>\n",
       "      <td>11995</td>\n",
       "    </tr>\n",
       "    <tr>\n",
       "      <th>TO</th>\n",
       "      <td>788</td>\n",
       "    </tr>\n",
       "  </tbody>\n",
       "</table>\n",
       "</div>"
      ],
      "text/plain": [
       "                  TP_COR_RACA\n",
       "SG_UF_NASCIMENTO             \n",
       "AC                        705\n",
       "AL                       2096\n",
       "AM                       2414\n",
       "AP                        660\n",
       "BA                       9563\n",
       "CE                       8059\n",
       "DF                       2430\n",
       "ES                       1453\n",
       "GO                       4227\n",
       "MA                       3812\n",
       "MG                      10714\n",
       "MS                       1198\n",
       "MT                       1624\n",
       "PA                       4581\n",
       "PB                       2769\n",
       "PE                       6373\n",
       "PI                       2229\n",
       "PR                       3415\n",
       "RJ                       7601\n",
       "RN                       2025\n",
       "RO                       1051\n",
       "RR                        143\n",
       "RS                       4393\n",
       "SC                       1813\n",
       "SE                       1545\n",
       "SP                      11995\n",
       "TO                        788"
      ]
     },
     "execution_count": 19,
     "metadata": {},
     "output_type": "execute_result"
    }
   ],
   "source": [
    "# copiando o dataframe para df3\n",
    "# dropando os que declararam Cor/raça (dif 0: Não declarado)\n",
    "# groupby por Estado de Nascimento x Cor/raça e count\n",
    "# reapresentado os valores em dados absolutos \n",
    "\n",
    "df3=df.copy()\n",
    "df3.drop(df3[df3.TP_COR_RACA != 0].index, inplace=True)\n",
    "nulos=df3.groupby(['SG_UF_NASCIMENTO'])[['TP_COR_RACA']].count()\n",
    "nulos"
   ]
  },
  {
   "cell_type": "markdown",
   "id": "5b939f2c",
   "metadata": {},
   "source": [
    "### Concatenando os data frames\n",
    "\n",
    "Mesclando os data frames com merge() entre o df2 (porcentagens) e df3 (nulos) com o OUTER Merger()"
   ]
  },
  {
   "cell_type": "code",
   "execution_count": 20,
   "id": "8a6f46aa-6eac-4f3b-a5f6-87cf625dd6a6",
   "metadata": {},
   "outputs": [],
   "source": [
    "# a mesclagem “OUTER” combina todas as linhas dos dataframes esquerdo e direito \n",
    "# com NaN quando não há valores correspondentes nas linhas\n",
    "# apresenta o total de não declarados de Cor/raça e a representatividade das raças em % por estado de nascimento \n",
    "merged=porcentagens.merge(nulos, how=\"outer\", on=\"SG_UF_NASCIMENTO\")\n",
    "\n",
    "# adicionando a coluna DISTRIBUICAO e populando os não declarados pela representatividade das raças em %\n",
    "merged['DISTRIBUICAO']=round(merged['TP_COR_RACA_y']*(merged['TP_COR_RACA_x']/100)).astype('int32')\n",
    "\n",
    "# adicionando a coluna COR_RACA indicando as 5 categorias de cor/raça\n",
    "merged['COR_RACA']=((merged.groupby('SG_UF_NASCIMENTO').cumcount()%5)+1)\n",
    "\n",
    "# DONE para posterior validação dos dados populados\n",
    "# dropando as colunas adicionadas na DISTRIBUICAO\n",
    "merged['DONE']=0\n",
    "merged.drop(['TP_COR_RACA_x','TP_COR_RACA_y'], axis=1, inplace=True)"
   ]
  },
  {
   "cell_type": "code",
   "execution_count": 21,
   "id": "2c762e68",
   "metadata": {},
   "outputs": [
    {
     "data": {
      "text/html": [
       "<div>\n",
       "<style scoped>\n",
       "    .dataframe tbody tr th:only-of-type {\n",
       "        vertical-align: middle;\n",
       "    }\n",
       "\n",
       "    .dataframe tbody tr th {\n",
       "        vertical-align: top;\n",
       "    }\n",
       "\n",
       "    .dataframe thead th {\n",
       "        text-align: right;\n",
       "    }\n",
       "</style>\n",
       "<table border=\"1\" class=\"dataframe\">\n",
       "  <thead>\n",
       "    <tr style=\"text-align: right;\">\n",
       "      <th></th>\n",
       "      <th>DISTRIBUICAO</th>\n",
       "      <th>COR_RACA</th>\n",
       "      <th>DONE</th>\n",
       "    </tr>\n",
       "    <tr>\n",
       "      <th>SG_UF_NASCIMENTO</th>\n",
       "      <th></th>\n",
       "      <th></th>\n",
       "      <th></th>\n",
       "    </tr>\n",
       "  </thead>\n",
       "  <tbody>\n",
       "    <tr>\n",
       "      <th>AC</th>\n",
       "      <td>108</td>\n",
       "      <td>1</td>\n",
       "      <td>0</td>\n",
       "    </tr>\n",
       "    <tr>\n",
       "      <th>AC</th>\n",
       "      <td>79</td>\n",
       "      <td>2</td>\n",
       "      <td>0</td>\n",
       "    </tr>\n",
       "    <tr>\n",
       "      <th>AC</th>\n",
       "      <td>489</td>\n",
       "      <td>3</td>\n",
       "      <td>0</td>\n",
       "    </tr>\n",
       "    <tr>\n",
       "      <th>AC</th>\n",
       "      <td>23</td>\n",
       "      <td>4</td>\n",
       "      <td>0</td>\n",
       "    </tr>\n",
       "    <tr>\n",
       "      <th>AC</th>\n",
       "      <td>6</td>\n",
       "      <td>5</td>\n",
       "      <td>0</td>\n",
       "    </tr>\n",
       "    <tr>\n",
       "      <th>...</th>\n",
       "      <td>...</td>\n",
       "      <td>...</td>\n",
       "      <td>...</td>\n",
       "    </tr>\n",
       "    <tr>\n",
       "      <th>TO</th>\n",
       "      <td>146</td>\n",
       "      <td>1</td>\n",
       "      <td>0</td>\n",
       "    </tr>\n",
       "    <tr>\n",
       "      <th>TO</th>\n",
       "      <td>130</td>\n",
       "      <td>2</td>\n",
       "      <td>0</td>\n",
       "    </tr>\n",
       "    <tr>\n",
       "      <th>TO</th>\n",
       "      <td>478</td>\n",
       "      <td>3</td>\n",
       "      <td>0</td>\n",
       "    </tr>\n",
       "    <tr>\n",
       "      <th>TO</th>\n",
       "      <td>28</td>\n",
       "      <td>4</td>\n",
       "      <td>0</td>\n",
       "    </tr>\n",
       "    <tr>\n",
       "      <th>TO</th>\n",
       "      <td>5</td>\n",
       "      <td>5</td>\n",
       "      <td>0</td>\n",
       "    </tr>\n",
       "  </tbody>\n",
       "</table>\n",
       "<p>135 rows × 3 columns</p>\n",
       "</div>"
      ],
      "text/plain": [
       "                  DISTRIBUICAO  COR_RACA  DONE\n",
       "SG_UF_NASCIMENTO                              \n",
       "AC                         108         1     0\n",
       "AC                          79         2     0\n",
       "AC                         489         3     0\n",
       "AC                          23         4     0\n",
       "AC                           6         5     0\n",
       "...                        ...       ...   ...\n",
       "TO                         146         1     0\n",
       "TO                         130         2     0\n",
       "TO                         478         3     0\n",
       "TO                          28         4     0\n",
       "TO                           5         5     0\n",
       "\n",
       "[135 rows x 3 columns]"
      ]
     },
     "execution_count": 21,
     "metadata": {},
     "output_type": "execute_result"
    }
   ],
   "source": [
    "# antes da execução\n",
    "merged"
   ]
  },
  {
   "cell_type": "code",
   "execution_count": 22,
   "id": "ffe6a5b2-a7ff-4f65-90c5-42e960fb0657",
   "metadata": {},
   "outputs": [],
   "source": [
    "# criando o df4 e utilizando a função itertuples() iterando em cada linha\n",
    "# populando as 5 categorias de raças ao total de não declarados, a partir da representatividade dos declarados\n",
    "\n",
    "df4=df.copy()\n",
    "for row in df4.itertuples():   \n",
    "    if row[4]==0:\n",
    "        count=1\n",
    "        while True:\n",
    "            state=row[5]\n",
    "            if (merged.loc[(merged.index == state) & (merged['COR_RACA'] == count)]['DISTRIBUICAO'] > merged.loc[(merged.index == state) & (merged['COR_RACA'] == count)]['DONE']).all():\n",
    "                df4.at[row.Index,'TP_COR_RACA'] = count\n",
    "                merged.loc[(merged.index == state) & (merged['COR_RACA'] == count),'DONE']+=1\n",
    "                break\n",
    "            else:\n",
    "                count+=1\n",
    "            if count>5:\n",
    "                df4.at[row.Index,'TP_COR_RACA'] = 3\n",
    "                break"
   ]
  },
  {
   "cell_type": "code",
   "execution_count": 23,
   "id": "f032a159",
   "metadata": {},
   "outputs": [
    {
     "data": {
      "text/html": [
       "<div>\n",
       "<style scoped>\n",
       "    .dataframe tbody tr th:only-of-type {\n",
       "        vertical-align: middle;\n",
       "    }\n",
       "\n",
       "    .dataframe tbody tr th {\n",
       "        vertical-align: top;\n",
       "    }\n",
       "\n",
       "    .dataframe thead th {\n",
       "        text-align: right;\n",
       "    }\n",
       "</style>\n",
       "<table border=\"1\" class=\"dataframe\">\n",
       "  <thead>\n",
       "    <tr style=\"text-align: right;\">\n",
       "      <th></th>\n",
       "      <th>DISTRIBUICAO</th>\n",
       "      <th>COR_RACA</th>\n",
       "      <th>DONE</th>\n",
       "    </tr>\n",
       "    <tr>\n",
       "      <th>SG_UF_NASCIMENTO</th>\n",
       "      <th></th>\n",
       "      <th></th>\n",
       "      <th></th>\n",
       "    </tr>\n",
       "  </thead>\n",
       "  <tbody>\n",
       "    <tr>\n",
       "      <th>AC</th>\n",
       "      <td>108</td>\n",
       "      <td>1</td>\n",
       "      <td>108</td>\n",
       "    </tr>\n",
       "    <tr>\n",
       "      <th>AC</th>\n",
       "      <td>79</td>\n",
       "      <td>2</td>\n",
       "      <td>79</td>\n",
       "    </tr>\n",
       "    <tr>\n",
       "      <th>AC</th>\n",
       "      <td>489</td>\n",
       "      <td>3</td>\n",
       "      <td>489</td>\n",
       "    </tr>\n",
       "    <tr>\n",
       "      <th>AC</th>\n",
       "      <td>23</td>\n",
       "      <td>4</td>\n",
       "      <td>23</td>\n",
       "    </tr>\n",
       "    <tr>\n",
       "      <th>AC</th>\n",
       "      <td>6</td>\n",
       "      <td>5</td>\n",
       "      <td>6</td>\n",
       "    </tr>\n",
       "    <tr>\n",
       "      <th>...</th>\n",
       "      <td>...</td>\n",
       "      <td>...</td>\n",
       "      <td>...</td>\n",
       "    </tr>\n",
       "    <tr>\n",
       "      <th>TO</th>\n",
       "      <td>146</td>\n",
       "      <td>1</td>\n",
       "      <td>146</td>\n",
       "    </tr>\n",
       "    <tr>\n",
       "      <th>TO</th>\n",
       "      <td>130</td>\n",
       "      <td>2</td>\n",
       "      <td>130</td>\n",
       "    </tr>\n",
       "    <tr>\n",
       "      <th>TO</th>\n",
       "      <td>478</td>\n",
       "      <td>3</td>\n",
       "      <td>478</td>\n",
       "    </tr>\n",
       "    <tr>\n",
       "      <th>TO</th>\n",
       "      <td>28</td>\n",
       "      <td>4</td>\n",
       "      <td>28</td>\n",
       "    </tr>\n",
       "    <tr>\n",
       "      <th>TO</th>\n",
       "      <td>5</td>\n",
       "      <td>5</td>\n",
       "      <td>5</td>\n",
       "    </tr>\n",
       "  </tbody>\n",
       "</table>\n",
       "<p>135 rows × 3 columns</p>\n",
       "</div>"
      ],
      "text/plain": [
       "                  DISTRIBUICAO  COR_RACA  DONE\n",
       "SG_UF_NASCIMENTO                              \n",
       "AC                         108         1   108\n",
       "AC                          79         2    79\n",
       "AC                         489         3   489\n",
       "AC                          23         4    23\n",
       "AC                           6         5     6\n",
       "...                        ...       ...   ...\n",
       "TO                         146         1   146\n",
       "TO                         130         2   130\n",
       "TO                         478         3   478\n",
       "TO                          28         4    28\n",
       "TO                           5         5     5\n",
       "\n",
       "[135 rows x 3 columns]"
      ]
     },
     "execution_count": 23,
     "metadata": {},
     "output_type": "execute_result"
    }
   ],
   "source": [
    "# após a execucução\n",
    "merged"
   ]
  },
  {
   "cell_type": "markdown",
   "id": "c634cd4f",
   "metadata": {},
   "source": [
    "#### Comparando total absoluto de Cor/raça entre os dados originais e os populados"
   ]
  },
  {
   "cell_type": "code",
   "execution_count": 24,
   "id": "52419f08",
   "metadata": {
    "scrolled": true
   },
   "outputs": [
    {
     "data": {
      "text/plain": [
       "3    2286853\n",
       "1    1790822\n",
       "2     626954\n",
       "4     109961\n",
       "0      99676\n",
       "5      29952\n",
       "Name: TP_COR_RACA, dtype: int64"
      ]
     },
     "execution_count": 24,
     "metadata": {},
     "output_type": "execute_result"
    }
   ],
   "source": [
    "# original\n",
    "df['TP_COR_RACA'].value_counts()"
   ]
  },
  {
   "cell_type": "code",
   "execution_count": 25,
   "id": "019e858e",
   "metadata": {},
   "outputs": [
    {
     "data": {
      "text/plain": [
       "3    2334750\n",
       "1    1826479\n",
       "2     640140\n",
       "4     112273\n",
       "5      30576\n",
       "Name: TP_COR_RACA, dtype: int64"
      ]
     },
     "execution_count": 25,
     "metadata": {},
     "output_type": "execute_result"
    }
   ],
   "source": [
    "# populado cor/raça\n",
    "df4['TP_COR_RACA'].value_counts()"
   ]
  },
  {
   "cell_type": "markdown",
   "id": "0d04ff41",
   "metadata": {},
   "source": [
    "## Feature engineering\n",
    "#### Tipo de escola do Ensino Médio: TP_ESCOLA"
   ]
  },
  {
   "cell_type": "markdown",
   "id": "bf75bafb-422a-4040-a40a-e00130dc08f1",
   "metadata": {},
   "source": [
    "Tratados os dados de cor/raça, faremos o mesmo procedimento para tratar os dados de escola. Para o tratamento dos dados faltantes no campo Tipo de escola, serão considerados os estados de residência."
   ]
  },
  {
   "cell_type": "code",
   "execution_count": 26,
   "id": "cad1a918-523d-4208-83d7-44522cf99cc3",
   "metadata": {},
   "outputs": [],
   "source": [
    "# copiando o dataframe para df5\n",
    "# dropando os que não declararam tipo da escola\n",
    "# groupby por Estado da residência x Tipo de escola\n",
    "# reapresentado os valores em dados relativos (%).\n",
    "\n",
    "df5=df.copy()\n",
    "df5.drop(df5[df5.TP_ESCOLA == 1].index, inplace=True)\n",
    "porcentagens2=df5.groupby(['SG_UF_RESIDENCIA','TP_ESCOLA']).agg({'TP_ESCOLA':'count'}).groupby(level=0).apply(lambda x:100*x/float(x.sum()))"
   ]
  },
  {
   "cell_type": "code",
   "execution_count": 27,
   "id": "0a5e6ae8",
   "metadata": {
    "scrolled": true
   },
   "outputs": [
    {
     "data": {
      "text/html": [
       "<div>\n",
       "<style scoped>\n",
       "    .dataframe tbody tr th:only-of-type {\n",
       "        vertical-align: middle;\n",
       "    }\n",
       "\n",
       "    .dataframe tbody tr th {\n",
       "        vertical-align: top;\n",
       "    }\n",
       "\n",
       "    .dataframe thead th {\n",
       "        text-align: right;\n",
       "    }\n",
       "</style>\n",
       "<table border=\"1\" class=\"dataframe\">\n",
       "  <thead>\n",
       "    <tr style=\"text-align: right;\">\n",
       "      <th></th>\n",
       "      <th></th>\n",
       "      <th>TP_ESCOLA</th>\n",
       "    </tr>\n",
       "    <tr>\n",
       "      <th>SG_UF_RESIDENCIA</th>\n",
       "      <th>TP_ESCOLA</th>\n",
       "      <th></th>\n",
       "    </tr>\n",
       "  </thead>\n",
       "  <tbody>\n",
       "    <tr>\n",
       "      <th rowspan=\"2\" valign=\"top\">AC</th>\n",
       "      <th>2</th>\n",
       "      <td>94.42</td>\n",
       "    </tr>\n",
       "    <tr>\n",
       "      <th>3</th>\n",
       "      <td>5.58</td>\n",
       "    </tr>\n",
       "    <tr>\n",
       "      <th rowspan=\"2\" valign=\"top\">AL</th>\n",
       "      <th>2</th>\n",
       "      <td>81.16</td>\n",
       "    </tr>\n",
       "    <tr>\n",
       "      <th>3</th>\n",
       "      <td>18.84</td>\n",
       "    </tr>\n",
       "    <tr>\n",
       "      <th rowspan=\"2\" valign=\"top\">AM</th>\n",
       "      <th>2</th>\n",
       "      <td>94.50</td>\n",
       "    </tr>\n",
       "    <tr>\n",
       "      <th>3</th>\n",
       "      <td>5.50</td>\n",
       "    </tr>\n",
       "    <tr>\n",
       "      <th rowspan=\"2\" valign=\"top\">AP</th>\n",
       "      <th>2</th>\n",
       "      <td>92.10</td>\n",
       "    </tr>\n",
       "    <tr>\n",
       "      <th>3</th>\n",
       "      <td>7.90</td>\n",
       "    </tr>\n",
       "    <tr>\n",
       "      <th rowspan=\"2\" valign=\"top\">BA</th>\n",
       "      <th>2</th>\n",
       "      <td>85.37</td>\n",
       "    </tr>\n",
       "    <tr>\n",
       "      <th>3</th>\n",
       "      <td>14.63</td>\n",
       "    </tr>\n",
       "    <tr>\n",
       "      <th rowspan=\"2\" valign=\"top\">CE</th>\n",
       "      <th>2</th>\n",
       "      <td>92.21</td>\n",
       "    </tr>\n",
       "    <tr>\n",
       "      <th>3</th>\n",
       "      <td>7.79</td>\n",
       "    </tr>\n",
       "    <tr>\n",
       "      <th rowspan=\"2\" valign=\"top\">DF</th>\n",
       "      <th>2</th>\n",
       "      <td>75.34</td>\n",
       "    </tr>\n",
       "    <tr>\n",
       "      <th>3</th>\n",
       "      <td>24.66</td>\n",
       "    </tr>\n",
       "    <tr>\n",
       "      <th rowspan=\"2\" valign=\"top\">ES</th>\n",
       "      <th>2</th>\n",
       "      <td>88.87</td>\n",
       "    </tr>\n",
       "    <tr>\n",
       "      <th>3</th>\n",
       "      <td>11.13</td>\n",
       "    </tr>\n",
       "    <tr>\n",
       "      <th rowspan=\"2\" valign=\"top\">GO</th>\n",
       "      <th>2</th>\n",
       "      <td>85.25</td>\n",
       "    </tr>\n",
       "    <tr>\n",
       "      <th>3</th>\n",
       "      <td>14.75</td>\n",
       "    </tr>\n",
       "    <tr>\n",
       "      <th rowspan=\"2\" valign=\"top\">MA</th>\n",
       "      <th>2</th>\n",
       "      <td>93.10</td>\n",
       "    </tr>\n",
       "    <tr>\n",
       "      <th>3</th>\n",
       "      <td>6.90</td>\n",
       "    </tr>\n",
       "    <tr>\n",
       "      <th rowspan=\"2\" valign=\"top\">MG</th>\n",
       "      <th>2</th>\n",
       "      <td>87.95</td>\n",
       "    </tr>\n",
       "    <tr>\n",
       "      <th>3</th>\n",
       "      <td>12.05</td>\n",
       "    </tr>\n",
       "    <tr>\n",
       "      <th rowspan=\"2\" valign=\"top\">MS</th>\n",
       "      <th>2</th>\n",
       "      <td>90.12</td>\n",
       "    </tr>\n",
       "    <tr>\n",
       "      <th>3</th>\n",
       "      <td>9.88</td>\n",
       "    </tr>\n",
       "    <tr>\n",
       "      <th rowspan=\"2\" valign=\"top\">MT</th>\n",
       "      <th>2</th>\n",
       "      <td>90.43</td>\n",
       "    </tr>\n",
       "    <tr>\n",
       "      <th>3</th>\n",
       "      <td>9.57</td>\n",
       "    </tr>\n",
       "    <tr>\n",
       "      <th rowspan=\"2\" valign=\"top\">PA</th>\n",
       "      <th>2</th>\n",
       "      <td>87.79</td>\n",
       "    </tr>\n",
       "    <tr>\n",
       "      <th>3</th>\n",
       "      <td>12.21</td>\n",
       "    </tr>\n",
       "    <tr>\n",
       "      <th rowspan=\"2\" valign=\"top\">PB</th>\n",
       "      <th>2</th>\n",
       "      <td>83.29</td>\n",
       "    </tr>\n",
       "    <tr>\n",
       "      <th>3</th>\n",
       "      <td>16.71</td>\n",
       "    </tr>\n",
       "    <tr>\n",
       "      <th rowspan=\"2\" valign=\"top\">PE</th>\n",
       "      <th>2</th>\n",
       "      <td>86.07</td>\n",
       "    </tr>\n",
       "    <tr>\n",
       "      <th>3</th>\n",
       "      <td>13.93</td>\n",
       "    </tr>\n",
       "    <tr>\n",
       "      <th rowspan=\"2\" valign=\"top\">PI</th>\n",
       "      <th>2</th>\n",
       "      <td>86.49</td>\n",
       "    </tr>\n",
       "    <tr>\n",
       "      <th>3</th>\n",
       "      <td>13.51</td>\n",
       "    </tr>\n",
       "    <tr>\n",
       "      <th rowspan=\"2\" valign=\"top\">PR</th>\n",
       "      <th>2</th>\n",
       "      <td>84.82</td>\n",
       "    </tr>\n",
       "    <tr>\n",
       "      <th>3</th>\n",
       "      <td>15.18</td>\n",
       "    </tr>\n",
       "    <tr>\n",
       "      <th rowspan=\"2\" valign=\"top\">RJ</th>\n",
       "      <th>2</th>\n",
       "      <td>73.49</td>\n",
       "    </tr>\n",
       "    <tr>\n",
       "      <th>3</th>\n",
       "      <td>26.51</td>\n",
       "    </tr>\n",
       "    <tr>\n",
       "      <th rowspan=\"2\" valign=\"top\">RN</th>\n",
       "      <th>2</th>\n",
       "      <td>83.95</td>\n",
       "    </tr>\n",
       "    <tr>\n",
       "      <th>3</th>\n",
       "      <td>16.05</td>\n",
       "    </tr>\n",
       "    <tr>\n",
       "      <th rowspan=\"2\" valign=\"top\">RO</th>\n",
       "      <th>2</th>\n",
       "      <td>95.99</td>\n",
       "    </tr>\n",
       "    <tr>\n",
       "      <th>3</th>\n",
       "      <td>4.01</td>\n",
       "    </tr>\n",
       "    <tr>\n",
       "      <th rowspan=\"2\" valign=\"top\">RR</th>\n",
       "      <th>2</th>\n",
       "      <td>91.72</td>\n",
       "    </tr>\n",
       "    <tr>\n",
       "      <th>3</th>\n",
       "      <td>8.28</td>\n",
       "    </tr>\n",
       "    <tr>\n",
       "      <th rowspan=\"2\" valign=\"top\">RS</th>\n",
       "      <th>2</th>\n",
       "      <td>86.46</td>\n",
       "    </tr>\n",
       "    <tr>\n",
       "      <th>3</th>\n",
       "      <td>13.54</td>\n",
       "    </tr>\n",
       "    <tr>\n",
       "      <th rowspan=\"2\" valign=\"top\">SC</th>\n",
       "      <th>2</th>\n",
       "      <td>86.30</td>\n",
       "    </tr>\n",
       "    <tr>\n",
       "      <th>3</th>\n",
       "      <td>13.70</td>\n",
       "    </tr>\n",
       "    <tr>\n",
       "      <th rowspan=\"2\" valign=\"top\">SE</th>\n",
       "      <th>2</th>\n",
       "      <td>78.98</td>\n",
       "    </tr>\n",
       "    <tr>\n",
       "      <th>3</th>\n",
       "      <td>21.02</td>\n",
       "    </tr>\n",
       "    <tr>\n",
       "      <th rowspan=\"2\" valign=\"top\">SP</th>\n",
       "      <th>2</th>\n",
       "      <td>79.18</td>\n",
       "    </tr>\n",
       "    <tr>\n",
       "      <th>3</th>\n",
       "      <td>20.82</td>\n",
       "    </tr>\n",
       "    <tr>\n",
       "      <th rowspan=\"2\" valign=\"top\">TO</th>\n",
       "      <th>2</th>\n",
       "      <td>93.19</td>\n",
       "    </tr>\n",
       "    <tr>\n",
       "      <th>3</th>\n",
       "      <td>6.81</td>\n",
       "    </tr>\n",
       "  </tbody>\n",
       "</table>\n",
       "</div>"
      ],
      "text/plain": [
       "                            TP_ESCOLA\n",
       "SG_UF_RESIDENCIA TP_ESCOLA           \n",
       "AC               2              94.42\n",
       "                 3               5.58\n",
       "AL               2              81.16\n",
       "                 3              18.84\n",
       "AM               2              94.50\n",
       "                 3               5.50\n",
       "AP               2              92.10\n",
       "                 3               7.90\n",
       "BA               2              85.37\n",
       "                 3              14.63\n",
       "CE               2              92.21\n",
       "                 3               7.79\n",
       "DF               2              75.34\n",
       "                 3              24.66\n",
       "ES               2              88.87\n",
       "                 3              11.13\n",
       "GO               2              85.25\n",
       "                 3              14.75\n",
       "MA               2              93.10\n",
       "                 3               6.90\n",
       "MG               2              87.95\n",
       "                 3              12.05\n",
       "MS               2              90.12\n",
       "                 3               9.88\n",
       "MT               2              90.43\n",
       "                 3               9.57\n",
       "PA               2              87.79\n",
       "                 3              12.21\n",
       "PB               2              83.29\n",
       "                 3              16.71\n",
       "PE               2              86.07\n",
       "                 3              13.93\n",
       "PI               2              86.49\n",
       "                 3              13.51\n",
       "PR               2              84.82\n",
       "                 3              15.18\n",
       "RJ               2              73.49\n",
       "                 3              26.51\n",
       "RN               2              83.95\n",
       "                 3              16.05\n",
       "RO               2              95.99\n",
       "                 3               4.01\n",
       "RR               2              91.72\n",
       "                 3               8.28\n",
       "RS               2              86.46\n",
       "                 3              13.54\n",
       "SC               2              86.30\n",
       "                 3              13.70\n",
       "SE               2              78.98\n",
       "                 3              21.02\n",
       "SP               2              79.18\n",
       "                 3              20.82\n",
       "TO               2              93.19\n",
       "                 3               6.81"
      ]
     },
     "execution_count": 27,
     "metadata": {},
     "output_type": "execute_result"
    }
   ],
   "source": [
    "porcentagens2"
   ]
  },
  {
   "cell_type": "code",
   "execution_count": 28,
   "id": "05cd585c-d6cc-40ee-ba7a-c8164d77e50d",
   "metadata": {},
   "outputs": [
    {
     "data": {
      "text/html": [
       "<div>\n",
       "<style scoped>\n",
       "    .dataframe tbody tr th:only-of-type {\n",
       "        vertical-align: middle;\n",
       "    }\n",
       "\n",
       "    .dataframe tbody tr th {\n",
       "        vertical-align: top;\n",
       "    }\n",
       "\n",
       "    .dataframe thead th {\n",
       "        text-align: right;\n",
       "    }\n",
       "</style>\n",
       "<table border=\"1\" class=\"dataframe\">\n",
       "  <thead>\n",
       "    <tr style=\"text-align: right;\">\n",
       "      <th></th>\n",
       "      <th>TP_ESCOLA</th>\n",
       "    </tr>\n",
       "    <tr>\n",
       "      <th>SG_UF_RESIDENCIA</th>\n",
       "      <th></th>\n",
       "    </tr>\n",
       "  </thead>\n",
       "  <tbody>\n",
       "    <tr>\n",
       "      <th>AC</th>\n",
       "      <td>30436</td>\n",
       "    </tr>\n",
       "    <tr>\n",
       "      <th>AL</th>\n",
       "      <td>67129</td>\n",
       "    </tr>\n",
       "    <tr>\n",
       "      <th>AM</th>\n",
       "      <td>84453</td>\n",
       "    </tr>\n",
       "    <tr>\n",
       "      <th>AP</th>\n",
       "      <td>33109</td>\n",
       "    </tr>\n",
       "    <tr>\n",
       "      <th>BA</th>\n",
       "      <td>295670</td>\n",
       "    </tr>\n",
       "    <tr>\n",
       "      <th>CE</th>\n",
       "      <td>173008</td>\n",
       "    </tr>\n",
       "    <tr>\n",
       "      <th>DF</th>\n",
       "      <td>65932</td>\n",
       "    </tr>\n",
       "    <tr>\n",
       "      <th>ES</th>\n",
       "      <td>70827</td>\n",
       "    </tr>\n",
       "    <tr>\n",
       "      <th>GO</th>\n",
       "      <td>117126</td>\n",
       "    </tr>\n",
       "    <tr>\n",
       "      <th>MA</th>\n",
       "      <td>159606</td>\n",
       "    </tr>\n",
       "    <tr>\n",
       "      <th>MG</th>\n",
       "      <td>384600</td>\n",
       "    </tr>\n",
       "    <tr>\n",
       "      <th>MS</th>\n",
       "      <td>47778</td>\n",
       "    </tr>\n",
       "    <tr>\n",
       "      <th>MT</th>\n",
       "      <td>62372</td>\n",
       "    </tr>\n",
       "    <tr>\n",
       "      <th>PA</th>\n",
       "      <td>214251</td>\n",
       "    </tr>\n",
       "    <tr>\n",
       "      <th>PB</th>\n",
       "      <td>110757</td>\n",
       "    </tr>\n",
       "    <tr>\n",
       "      <th>PE</th>\n",
       "      <td>192835</td>\n",
       "    </tr>\n",
       "    <tr>\n",
       "      <th>PI</th>\n",
       "      <td>88517</td>\n",
       "    </tr>\n",
       "    <tr>\n",
       "      <th>PR</th>\n",
       "      <td>133829</td>\n",
       "    </tr>\n",
       "    <tr>\n",
       "      <th>RJ</th>\n",
       "      <td>232849</td>\n",
       "    </tr>\n",
       "    <tr>\n",
       "      <th>RN</th>\n",
       "      <td>91063</td>\n",
       "    </tr>\n",
       "    <tr>\n",
       "      <th>RO</th>\n",
       "      <td>42964</td>\n",
       "    </tr>\n",
       "    <tr>\n",
       "      <th>RR</th>\n",
       "      <td>9525</td>\n",
       "    </tr>\n",
       "    <tr>\n",
       "      <th>RS</th>\n",
       "      <td>153529</td>\n",
       "    </tr>\n",
       "    <tr>\n",
       "      <th>SC</th>\n",
       "      <td>63791</td>\n",
       "    </tr>\n",
       "    <tr>\n",
       "      <th>SE</th>\n",
       "      <td>57041</td>\n",
       "    </tr>\n",
       "    <tr>\n",
       "      <th>SP</th>\n",
       "      <td>511415</td>\n",
       "    </tr>\n",
       "    <tr>\n",
       "      <th>TO</th>\n",
       "      <td>33729</td>\n",
       "    </tr>\n",
       "  </tbody>\n",
       "</table>\n",
       "</div>"
      ],
      "text/plain": [
       "                  TP_ESCOLA\n",
       "SG_UF_RESIDENCIA           \n",
       "AC                    30436\n",
       "AL                    67129\n",
       "AM                    84453\n",
       "AP                    33109\n",
       "BA                   295670\n",
       "CE                   173008\n",
       "DF                    65932\n",
       "ES                    70827\n",
       "GO                   117126\n",
       "MA                   159606\n",
       "MG                   384600\n",
       "MS                    47778\n",
       "MT                    62372\n",
       "PA                   214251\n",
       "PB                   110757\n",
       "PE                   192835\n",
       "PI                    88517\n",
       "PR                   133829\n",
       "RJ                   232849\n",
       "RN                    91063\n",
       "RO                    42964\n",
       "RR                     9525\n",
       "RS                   153529\n",
       "SC                    63791\n",
       "SE                    57041\n",
       "SP                   511415\n",
       "TO                    33729"
      ]
     },
     "execution_count": 28,
     "metadata": {},
     "output_type": "execute_result"
    }
   ],
   "source": [
    "# copiando o dataframe para df6\n",
    "# dropando os que declararam Tipo da escola (dif 1: Não Respondeu)\n",
    "# groupby por Estado da residência x Tipo de escola e count\n",
    "# reapresentado os valores em dados absolutos \n",
    "\n",
    "df6=df.copy()\n",
    "df6.drop(df6[df6.TP_ESCOLA != 1].index, inplace=True)\n",
    "nulos2=df6.groupby(['SG_UF_RESIDENCIA'])[['TP_ESCOLA']].count()\n",
    "nulos2"
   ]
  },
  {
   "cell_type": "markdown",
   "id": "8a88119d",
   "metadata": {},
   "source": [
    "### Concatenando os data frames\n",
    "\n",
    "Mesclando os data frames com merge() entre o df5 (porcentagens2) e df6 (nulos2) com o OUTER Merger()"
   ]
  },
  {
   "cell_type": "code",
   "execution_count": 29,
   "id": "d26123b2",
   "metadata": {},
   "outputs": [],
   "source": [
    "# a mesclagem “OUTER” combina todas as linhas dos dataframes esquerdo e direito \n",
    "# com NaN quando não há valores correspondentes nas linhas\n",
    "# apresenta o total de não declarados de Cor/raça e a representatividade das raças em % por estado de nascimento \n",
    "merged2=porcentagens2.merge(nulos2, how=\"outer\", on=\"SG_UF_RESIDENCIA\")\n",
    "\n",
    "# adicionando a coluna DISTRIBUICAO e populando os não declarados pela representatividade dos Tipos de escola em %\n",
    "merged2['DISTRIBUICAO']=round(merged2['TP_ESCOLA_y']*(merged2['TP_ESCOLA_x']/100)).astype('int64')\n",
    "\n",
    "# adicionando a coluna ESCOLA indicando as categorias de Tipos de escola Pública ou Privada\n",
    "merged2['ESCOLA']=((merged2.groupby('SG_UF_RESIDENCIA').cumcount()%2)+2)\n",
    "\n",
    "# DONE para posterior validação dos dados populados\n",
    "# dropando as colunas adicionadas na DISTRIBUICAO\n",
    "merged2['DONE']=0\n",
    "merged2.drop(['TP_ESCOLA_x','TP_ESCOLA_y'], axis=1, inplace=True)"
   ]
  },
  {
   "cell_type": "code",
   "execution_count": 30,
   "id": "805dbbba",
   "metadata": {
    "scrolled": true
   },
   "outputs": [
    {
     "data": {
      "text/html": [
       "<div>\n",
       "<style scoped>\n",
       "    .dataframe tbody tr th:only-of-type {\n",
       "        vertical-align: middle;\n",
       "    }\n",
       "\n",
       "    .dataframe tbody tr th {\n",
       "        vertical-align: top;\n",
       "    }\n",
       "\n",
       "    .dataframe thead th {\n",
       "        text-align: right;\n",
       "    }\n",
       "</style>\n",
       "<table border=\"1\" class=\"dataframe\">\n",
       "  <thead>\n",
       "    <tr style=\"text-align: right;\">\n",
       "      <th></th>\n",
       "      <th>DISTRIBUICAO</th>\n",
       "      <th>ESCOLA</th>\n",
       "      <th>DONE</th>\n",
       "    </tr>\n",
       "    <tr>\n",
       "      <th>SG_UF_RESIDENCIA</th>\n",
       "      <th></th>\n",
       "      <th></th>\n",
       "      <th></th>\n",
       "    </tr>\n",
       "  </thead>\n",
       "  <tbody>\n",
       "    <tr>\n",
       "      <th>AC</th>\n",
       "      <td>28738</td>\n",
       "      <td>2</td>\n",
       "      <td>0</td>\n",
       "    </tr>\n",
       "    <tr>\n",
       "      <th>AC</th>\n",
       "      <td>1698</td>\n",
       "      <td>3</td>\n",
       "      <td>0</td>\n",
       "    </tr>\n",
       "    <tr>\n",
       "      <th>AL</th>\n",
       "      <td>54485</td>\n",
       "      <td>2</td>\n",
       "      <td>0</td>\n",
       "    </tr>\n",
       "    <tr>\n",
       "      <th>AL</th>\n",
       "      <td>12644</td>\n",
       "      <td>3</td>\n",
       "      <td>0</td>\n",
       "    </tr>\n",
       "    <tr>\n",
       "      <th>AM</th>\n",
       "      <td>79808</td>\n",
       "      <td>2</td>\n",
       "      <td>0</td>\n",
       "    </tr>\n",
       "    <tr>\n",
       "      <th>AM</th>\n",
       "      <td>4645</td>\n",
       "      <td>3</td>\n",
       "      <td>0</td>\n",
       "    </tr>\n",
       "    <tr>\n",
       "      <th>AP</th>\n",
       "      <td>30494</td>\n",
       "      <td>2</td>\n",
       "      <td>0</td>\n",
       "    </tr>\n",
       "    <tr>\n",
       "      <th>AP</th>\n",
       "      <td>2615</td>\n",
       "      <td>3</td>\n",
       "      <td>0</td>\n",
       "    </tr>\n",
       "    <tr>\n",
       "      <th>BA</th>\n",
       "      <td>252422</td>\n",
       "      <td>2</td>\n",
       "      <td>0</td>\n",
       "    </tr>\n",
       "    <tr>\n",
       "      <th>BA</th>\n",
       "      <td>43248</td>\n",
       "      <td>3</td>\n",
       "      <td>0</td>\n",
       "    </tr>\n",
       "    <tr>\n",
       "      <th>CE</th>\n",
       "      <td>159535</td>\n",
       "      <td>2</td>\n",
       "      <td>0</td>\n",
       "    </tr>\n",
       "    <tr>\n",
       "      <th>CE</th>\n",
       "      <td>13473</td>\n",
       "      <td>3</td>\n",
       "      <td>0</td>\n",
       "    </tr>\n",
       "    <tr>\n",
       "      <th>DF</th>\n",
       "      <td>49673</td>\n",
       "      <td>2</td>\n",
       "      <td>0</td>\n",
       "    </tr>\n",
       "    <tr>\n",
       "      <th>DF</th>\n",
       "      <td>16259</td>\n",
       "      <td>3</td>\n",
       "      <td>0</td>\n",
       "    </tr>\n",
       "    <tr>\n",
       "      <th>ES</th>\n",
       "      <td>62941</td>\n",
       "      <td>2</td>\n",
       "      <td>0</td>\n",
       "    </tr>\n",
       "    <tr>\n",
       "      <th>ES</th>\n",
       "      <td>7886</td>\n",
       "      <td>3</td>\n",
       "      <td>0</td>\n",
       "    </tr>\n",
       "    <tr>\n",
       "      <th>GO</th>\n",
       "      <td>99854</td>\n",
       "      <td>2</td>\n",
       "      <td>0</td>\n",
       "    </tr>\n",
       "    <tr>\n",
       "      <th>GO</th>\n",
       "      <td>17272</td>\n",
       "      <td>3</td>\n",
       "      <td>0</td>\n",
       "    </tr>\n",
       "    <tr>\n",
       "      <th>MA</th>\n",
       "      <td>148589</td>\n",
       "      <td>2</td>\n",
       "      <td>0</td>\n",
       "    </tr>\n",
       "    <tr>\n",
       "      <th>MA</th>\n",
       "      <td>11017</td>\n",
       "      <td>3</td>\n",
       "      <td>0</td>\n",
       "    </tr>\n",
       "    <tr>\n",
       "      <th>MG</th>\n",
       "      <td>338242</td>\n",
       "      <td>2</td>\n",
       "      <td>0</td>\n",
       "    </tr>\n",
       "    <tr>\n",
       "      <th>MG</th>\n",
       "      <td>46358</td>\n",
       "      <td>3</td>\n",
       "      <td>0</td>\n",
       "    </tr>\n",
       "    <tr>\n",
       "      <th>MS</th>\n",
       "      <td>43056</td>\n",
       "      <td>2</td>\n",
       "      <td>0</td>\n",
       "    </tr>\n",
       "    <tr>\n",
       "      <th>MS</th>\n",
       "      <td>4722</td>\n",
       "      <td>3</td>\n",
       "      <td>0</td>\n",
       "    </tr>\n",
       "    <tr>\n",
       "      <th>MT</th>\n",
       "      <td>56404</td>\n",
       "      <td>2</td>\n",
       "      <td>0</td>\n",
       "    </tr>\n",
       "    <tr>\n",
       "      <th>MT</th>\n",
       "      <td>5968</td>\n",
       "      <td>3</td>\n",
       "      <td>0</td>\n",
       "    </tr>\n",
       "    <tr>\n",
       "      <th>PA</th>\n",
       "      <td>188094</td>\n",
       "      <td>2</td>\n",
       "      <td>0</td>\n",
       "    </tr>\n",
       "    <tr>\n",
       "      <th>PA</th>\n",
       "      <td>26157</td>\n",
       "      <td>3</td>\n",
       "      <td>0</td>\n",
       "    </tr>\n",
       "    <tr>\n",
       "      <th>PB</th>\n",
       "      <td>92245</td>\n",
       "      <td>2</td>\n",
       "      <td>0</td>\n",
       "    </tr>\n",
       "    <tr>\n",
       "      <th>PB</th>\n",
       "      <td>18512</td>\n",
       "      <td>3</td>\n",
       "      <td>0</td>\n",
       "    </tr>\n",
       "    <tr>\n",
       "      <th>PE</th>\n",
       "      <td>165978</td>\n",
       "      <td>2</td>\n",
       "      <td>0</td>\n",
       "    </tr>\n",
       "    <tr>\n",
       "      <th>PE</th>\n",
       "      <td>26857</td>\n",
       "      <td>3</td>\n",
       "      <td>0</td>\n",
       "    </tr>\n",
       "    <tr>\n",
       "      <th>PI</th>\n",
       "      <td>76562</td>\n",
       "      <td>2</td>\n",
       "      <td>0</td>\n",
       "    </tr>\n",
       "    <tr>\n",
       "      <th>PI</th>\n",
       "      <td>11955</td>\n",
       "      <td>3</td>\n",
       "      <td>0</td>\n",
       "    </tr>\n",
       "    <tr>\n",
       "      <th>PR</th>\n",
       "      <td>113519</td>\n",
       "      <td>2</td>\n",
       "      <td>0</td>\n",
       "    </tr>\n",
       "    <tr>\n",
       "      <th>PR</th>\n",
       "      <td>20310</td>\n",
       "      <td>3</td>\n",
       "      <td>0</td>\n",
       "    </tr>\n",
       "    <tr>\n",
       "      <th>RJ</th>\n",
       "      <td>171132</td>\n",
       "      <td>2</td>\n",
       "      <td>0</td>\n",
       "    </tr>\n",
       "    <tr>\n",
       "      <th>RJ</th>\n",
       "      <td>61717</td>\n",
       "      <td>3</td>\n",
       "      <td>0</td>\n",
       "    </tr>\n",
       "    <tr>\n",
       "      <th>RN</th>\n",
       "      <td>76445</td>\n",
       "      <td>2</td>\n",
       "      <td>0</td>\n",
       "    </tr>\n",
       "    <tr>\n",
       "      <th>RN</th>\n",
       "      <td>14618</td>\n",
       "      <td>3</td>\n",
       "      <td>0</td>\n",
       "    </tr>\n",
       "    <tr>\n",
       "      <th>RO</th>\n",
       "      <td>41241</td>\n",
       "      <td>2</td>\n",
       "      <td>0</td>\n",
       "    </tr>\n",
       "    <tr>\n",
       "      <th>RO</th>\n",
       "      <td>1723</td>\n",
       "      <td>3</td>\n",
       "      <td>0</td>\n",
       "    </tr>\n",
       "    <tr>\n",
       "      <th>RR</th>\n",
       "      <td>8736</td>\n",
       "      <td>2</td>\n",
       "      <td>0</td>\n",
       "    </tr>\n",
       "    <tr>\n",
       "      <th>RR</th>\n",
       "      <td>789</td>\n",
       "      <td>3</td>\n",
       "      <td>0</td>\n",
       "    </tr>\n",
       "    <tr>\n",
       "      <th>RS</th>\n",
       "      <td>132746</td>\n",
       "      <td>2</td>\n",
       "      <td>0</td>\n",
       "    </tr>\n",
       "    <tr>\n",
       "      <th>RS</th>\n",
       "      <td>20783</td>\n",
       "      <td>3</td>\n",
       "      <td>0</td>\n",
       "    </tr>\n",
       "    <tr>\n",
       "      <th>SC</th>\n",
       "      <td>55050</td>\n",
       "      <td>2</td>\n",
       "      <td>0</td>\n",
       "    </tr>\n",
       "    <tr>\n",
       "      <th>SC</th>\n",
       "      <td>8741</td>\n",
       "      <td>3</td>\n",
       "      <td>0</td>\n",
       "    </tr>\n",
       "    <tr>\n",
       "      <th>SE</th>\n",
       "      <td>45053</td>\n",
       "      <td>2</td>\n",
       "      <td>0</td>\n",
       "    </tr>\n",
       "    <tr>\n",
       "      <th>SE</th>\n",
       "      <td>11988</td>\n",
       "      <td>3</td>\n",
       "      <td>0</td>\n",
       "    </tr>\n",
       "    <tr>\n",
       "      <th>SP</th>\n",
       "      <td>404926</td>\n",
       "      <td>2</td>\n",
       "      <td>0</td>\n",
       "    </tr>\n",
       "    <tr>\n",
       "      <th>SP</th>\n",
       "      <td>106489</td>\n",
       "      <td>3</td>\n",
       "      <td>0</td>\n",
       "    </tr>\n",
       "    <tr>\n",
       "      <th>TO</th>\n",
       "      <td>31431</td>\n",
       "      <td>2</td>\n",
       "      <td>0</td>\n",
       "    </tr>\n",
       "    <tr>\n",
       "      <th>TO</th>\n",
       "      <td>2298</td>\n",
       "      <td>3</td>\n",
       "      <td>0</td>\n",
       "    </tr>\n",
       "  </tbody>\n",
       "</table>\n",
       "</div>"
      ],
      "text/plain": [
       "                  DISTRIBUICAO  ESCOLA  DONE\n",
       "SG_UF_RESIDENCIA                            \n",
       "AC                       28738       2     0\n",
       "AC                        1698       3     0\n",
       "AL                       54485       2     0\n",
       "AL                       12644       3     0\n",
       "AM                       79808       2     0\n",
       "AM                        4645       3     0\n",
       "AP                       30494       2     0\n",
       "AP                        2615       3     0\n",
       "BA                      252422       2     0\n",
       "BA                       43248       3     0\n",
       "CE                      159535       2     0\n",
       "CE                       13473       3     0\n",
       "DF                       49673       2     0\n",
       "DF                       16259       3     0\n",
       "ES                       62941       2     0\n",
       "ES                        7886       3     0\n",
       "GO                       99854       2     0\n",
       "GO                       17272       3     0\n",
       "MA                      148589       2     0\n",
       "MA                       11017       3     0\n",
       "MG                      338242       2     0\n",
       "MG                       46358       3     0\n",
       "MS                       43056       2     0\n",
       "MS                        4722       3     0\n",
       "MT                       56404       2     0\n",
       "MT                        5968       3     0\n",
       "PA                      188094       2     0\n",
       "PA                       26157       3     0\n",
       "PB                       92245       2     0\n",
       "PB                       18512       3     0\n",
       "PE                      165978       2     0\n",
       "PE                       26857       3     0\n",
       "PI                       76562       2     0\n",
       "PI                       11955       3     0\n",
       "PR                      113519       2     0\n",
       "PR                       20310       3     0\n",
       "RJ                      171132       2     0\n",
       "RJ                       61717       3     0\n",
       "RN                       76445       2     0\n",
       "RN                       14618       3     0\n",
       "RO                       41241       2     0\n",
       "RO                        1723       3     0\n",
       "RR                        8736       2     0\n",
       "RR                         789       3     0\n",
       "RS                      132746       2     0\n",
       "RS                       20783       3     0\n",
       "SC                       55050       2     0\n",
       "SC                        8741       3     0\n",
       "SE                       45053       2     0\n",
       "SE                       11988       3     0\n",
       "SP                      404926       2     0\n",
       "SP                      106489       3     0\n",
       "TO                       31431       2     0\n",
       "TO                        2298       3     0"
      ]
     },
     "execution_count": 30,
     "metadata": {},
     "output_type": "execute_result"
    }
   ],
   "source": [
    "# antes da execução\n",
    "merged2"
   ]
  },
  {
   "cell_type": "code",
   "execution_count": 31,
   "id": "f3988373",
   "metadata": {},
   "outputs": [],
   "source": [
    "import time\n",
    "tempo_inicial = time.time()"
   ]
  },
  {
   "cell_type": "code",
   "execution_count": null,
   "id": "1b68af9c",
   "metadata": {},
   "outputs": [],
   "source": [
    "# no df4 já criado, utilizando a função itertuples() iterando em cada linha\n",
    "# populando as categorias de Tipos de escola Pública ou Privada ao total de não respondeu, \n",
    "# a partir da representatividade dos respondidos\n",
    "\n",
    "df7=df4.copy()\n",
    "for row in df7.itertuples():   \n",
    "    if row[6]==1:\n",
    "        count=2\n",
    "        while True:\n",
    "            state=row[1]\n",
    "            if (merged2.loc[(merged2.index == state) & (merged2['ESCOLA'] == count)]['DISTRIBUICAO'] > merged2.loc[(merged2.index == state) & (merged2['ESCOLA'] == count)]['DONE']).all():\n",
    "                df7.at[row.Index,'TP_ESCOLA'] = count\n",
    "                merged2.loc[(merged2.index == state) & (merged2['ESCOLA'] == count),'DONE']+=1\n",
    "                break\n",
    "            else:\n",
    "                count+=1\n",
    "            if count>3:\n",
    "                df7.at[row.Index,'TP_ESCOLA'] = 2\n",
    "                break"
   ]
  },
  {
   "cell_type": "code",
   "execution_count": null,
   "id": "86861f8c",
   "metadata": {},
   "outputs": [],
   "source": [
    "# analisando o tempo de processamento\n",
    "tempo_final = time.time()\n",
    "tempo_final - tempo_inicial"
   ]
  },
  {
   "cell_type": "code",
   "execution_count": null,
   "id": "c820b8a7",
   "metadata": {},
   "outputs": [],
   "source": [
    "# após a execucução\n",
    "merged2"
   ]
  },
  {
   "cell_type": "code",
   "execution_count": null,
   "id": "260c863c",
   "metadata": {},
   "outputs": [],
   "source": [
    "#### Comparando total absoluto de Tipos de escola entre os dados originais e os populados"
   ]
  },
  {
   "cell_type": "code",
   "execution_count": null,
   "id": "bb55bf41-1625-49ea-86ec-53624f395a05",
   "metadata": {},
   "outputs": [],
   "source": [
    "# original\n",
    "df['TP_ESCOLA'].value_counts()"
   ]
  },
  {
   "cell_type": "code",
   "execution_count": null,
   "id": "b38d782c-ddd9-4e5d-a327-ebc90b531a7a",
   "metadata": {},
   "outputs": [],
   "source": [
    "# populado Tipo de escola\n",
    "df4['TP_COR_RACA'].value_counts()"
   ]
  },
  {
   "cell_type": "markdown",
   "id": "2514279f",
   "metadata": {},
   "source": [
    "## Novo DataFrame\n",
    "\n",
    "#### Após todo o tratamento, disponibilizando o novo DataFrame em formato CSV via output."
   ]
  },
  {
   "cell_type": "code",
   "execution_count": null,
   "id": "5b898777-d7e6-4d81-9081-ab9197bccd0c",
   "metadata": {},
   "outputs": [],
   "source": [
    "df4.to_csv('dados_populados.csv')"
   ]
  },
  {
   "cell_type": "markdown",
   "id": "e8a2f759-037d-44dd-9de2-ecb9cea5c22e",
   "metadata": {},
   "source": [
    "DADOS TRATADOS"
   ]
  },
  {
   "cell_type": "markdown",
   "id": "0abf9448",
   "metadata": {},
   "source": [
    "Importando as bibliotecas:"
   ]
  },
  {
   "cell_type": "code",
   "execution_count": null,
   "id": "1b1e27c6",
   "metadata": {},
   "outputs": [],
   "source": [
    "import pandas as pd\n",
    "import numpy as np\n",
    "pd.options.display.float_format= \"{:,.2f}\".format"
   ]
  },
  {
   "cell_type": "markdown",
   "id": "b8f78de8",
   "metadata": {},
   "source": [
    "Carregando os dados já pré-tratados (final da parte 1 > dados_populados.csv):"
   ]
  },
  {
   "cell_type": "code",
   "execution_count": null,
   "id": "5bdafd24",
   "metadata": {},
   "outputs": [],
   "source": [
    "df = pd.read_csv(\"./dados_populados.csv\")\n",
    "df"
   ]
  },
  {
   "cell_type": "code",
   "execution_count": null,
   "id": "fe006f71",
   "metadata": {
    "scrolled": true
   },
   "outputs": [],
   "source": [
    "df.isna().sum()"
   ]
  },
  {
   "cell_type": "markdown",
   "id": "eef07431",
   "metadata": {},
   "source": [
    "As notas NaN são as abstenções e serão mantidos para a análise."
   ]
  },
  {
   "cell_type": "markdown",
   "id": "c62d8d0b",
   "metadata": {},
   "source": [
    "Alterando os nomes das colunas:"
   ]
  },
  {
   "cell_type": "code",
   "execution_count": null,
   "id": "5afcbb56",
   "metadata": {},
   "outputs": [],
   "source": [
    "df.columns = [\"UF_RESIDENCIA\", \"IDADE\", \"SEXO\", \"COR\", \"UF_NASCIMENTO\", \"TIPO_ESCOLA\", \"LINGUA_ESTRANGEIRA\", \"RENDA_MENSAL_FAMILIAR\", \"INTERNET\", \"NOTA\"]\n",
    "df.columns"
   ]
  },
  {
   "cell_type": "code",
   "execution_count": null,
   "id": "ad26b064",
   "metadata": {},
   "outputs": [],
   "source": [
    "df.head(10)"
   ]
  },
  {
   "cell_type": "markdown",
   "id": "868a0a85",
   "metadata": {},
   "source": [
    "Substituindo os valores originais para facilitar a leitura do DataFrame:"
   ]
  },
  {
   "cell_type": "code",
   "execution_count": null,
   "id": "b124ae3a",
   "metadata": {},
   "outputs": [],
   "source": [
    "df.COR.replace({1:\"Branco (a)\", 2:\"Preto (a)\", 3: \"Pardo (a)\",  4: \"Amarelo (a)\", 5: \"Indígena\"}, inplace = True)\n",
    "df.TIPO_ESCOLA.replace({2:\"Pública\", 3:\"Privada\", 4: \"Exterior\"}, inplace = True)\n",
    "df.LINGUA_ESTRANGEIRA.replace({0:'Inglês', 1:'Espanhol'}, inplace = True)\n",
    "df.RENDA_MENSAL_FAMILIAR.replace({'A':\"classe_E\", 'B':\"classe_E\", 'C':\"classe_E\", 'D':\"classe_E\", 'E':\"classe_D\", 'F':\"classe_D\", 'G':\"classe_D\", 'H':\"classe_C\", 'I':\"classe_C\", 'J':\"classe_C\", 'K':\"classe_C\", 'L':\"classe_C\", 'M':\"classe_C\", 'N':\"classe_B\", 'O':\"classe_B\", 'P':\"classe_B\", 'Q':\"classe_A\"}, inplace = True)\n",
    "df.INTERNET.replace({'A':'Não', 'B':'Sim'}, inplace = True)\n",
    "\n",
    "df.head(5)"
   ]
  },
  {
   "cell_type": "markdown",
   "id": "9f963687",
   "metadata": {},
   "source": [
    "Acrescentando a coluna \"REGIAO_BR\""
   ]
  },
  {
   "cell_type": "code",
   "execution_count": null,
   "id": "35a6f28f",
   "metadata": {},
   "outputs": [],
   "source": [
    "df[\"REGIAO_BR\"] = df.UF_RESIDENCIA"
   ]
  },
  {
   "cell_type": "code",
   "execution_count": null,
   "id": "f4a8278a",
   "metadata": {},
   "outputs": [],
   "source": [
    "df.head(10)"
   ]
  },
  {
   "cell_type": "markdown",
   "id": "b95ef995",
   "metadata": {},
   "source": [
    "Repopulando os valores da nova coluna com as regiões correspondentes de cada Estado:"
   ]
  },
  {
   "cell_type": "code",
   "execution_count": null,
   "id": "44f162f5",
   "metadata": {},
   "outputs": [],
   "source": [
    "df.REGIAO_BR.replace({'PR': \"Sul\", 'SP': \"Sudeste\", 'PA': \"Norte\", 'TO': \"Norte\", 'RS': \"Sul\", 'AL': \"Nordeste\", 'BA': \"Nordeste\", 'AP': \"Norte\", 'MG': \"Sudeste\", 'AM': \"Norte\", 'GO': \"Centro-Oeste\",\n",
    "       'MA': \"Nordeste\", 'RJ': \"Sudeste\", 'CE': \"Nordeste\", 'RO': \"Norte\", 'MT': \"Centro-Oeste\", 'PE': \"Nordeste\", 'RN': \"Nordeste\", 'AC': \"Norte\", 'ES': \"Sudeste\", 'PI': \"Nordeste\", 'SE': \"Nordeste\",\n",
    "       'DF': \"Centro-Oeste\", 'SC': \"Sul\", 'PB': \"Nordeste\", 'MS': \"Centro-Oeste\", 'RR': \"Norte\"}, inplace = True)\n",
    "df"
   ]
  },
  {
   "cell_type": "markdown",
   "id": "aa21d30e",
   "metadata": {},
   "source": [
    "**ANÁLISES**"
   ]
  },
  {
   "cell_type": "code",
   "execution_count": null,
   "id": "05b15a70",
   "metadata": {},
   "outputs": [],
   "source": [
    "# Quantidade de pessoas do sexo masculino e feminino que tiveram nota final do Enem 2019"
   ]
  },
  {
   "cell_type": "code",
   "execution_count": null,
   "id": "acab5961",
   "metadata": {},
   "outputs": [],
   "source": [
    "df.SEXO.value_counts()"
   ]
  },
  {
   "cell_type": "code",
   "execution_count": null,
   "id": "20454099",
   "metadata": {},
   "outputs": [],
   "source": [
    "fem = (2930229 / (2930229 + 2013989)) * 100\n",
    "fem"
   ]
  },
  {
   "cell_type": "code",
   "execution_count": null,
   "id": "b543e5dc",
   "metadata": {
    "scrolled": true
   },
   "outputs": [],
   "source": [
    "masc = (2013989 / (2930229 + 2013989)) * 100\n",
    "masc"
   ]
  },
  {
   "cell_type": "code",
   "execution_count": null,
   "id": "0a96e781",
   "metadata": {},
   "outputs": [],
   "source": [
    "# Pessoas do sexo feminino são maioria, representando quase 60%;\n",
    "# Enquanto indivíduos do sexo masculino representam pouco mais de 40%."
   ]
  },
  {
   "cell_type": "code",
   "execution_count": null,
   "id": "4d2a1702",
   "metadata": {},
   "outputs": [],
   "source": [
    "# Média de idade"
   ]
  },
  {
   "cell_type": "code",
   "execution_count": null,
   "id": "94442c76",
   "metadata": {},
   "outputs": [],
   "source": [
    "df.IDADE.mean()"
   ]
  },
  {
   "cell_type": "code",
   "execution_count": null,
   "id": "2433805d",
   "metadata": {},
   "outputs": [],
   "source": [
    "# Média de idades das pessoas que fizeram Enem em 2019 é de 22,18 anos."
   ]
  },
  {
   "cell_type": "code",
   "execution_count": null,
   "id": "dd0680ab",
   "metadata": {},
   "outputs": [],
   "source": [
    "# Média de idade por sexo:"
   ]
  },
  {
   "cell_type": "code",
   "execution_count": null,
   "id": "7478249d",
   "metadata": {},
   "outputs": [],
   "source": [
    "df.groupby(['SEXO']).IDADE.mean()"
   ]
  },
  {
   "cell_type": "code",
   "execution_count": null,
   "id": "284e7dfc",
   "metadata": {},
   "outputs": [],
   "source": [
    "# Idades médias muito próximas (meninos 22,20 e meninas 22,06)."
   ]
  },
  {
   "cell_type": "code",
   "execution_count": null,
   "id": "50751e74",
   "metadata": {},
   "outputs": [],
   "source": [
    "# Média de idade por sexo, cor e tipo de escola:"
   ]
  },
  {
   "cell_type": "code",
   "execution_count": null,
   "id": "eb60cdbb",
   "metadata": {},
   "outputs": [],
   "source": [
    "df.groupby(['SEXO', \"COR\", \"TIPO_ESCOLA\"]).IDADE.mean()"
   ]
  },
  {
   "cell_type": "code",
   "execution_count": null,
   "id": "d190c637",
   "metadata": {},
   "outputs": [],
   "source": [
    "# Tanto pessoas do sexo feminino, quanto masculino, \n",
    "# percebe-se que entre os índigenas e pessoas pretas possuem \n",
    "# média de idade maior.\n",
    "# Isso pode indicar algum tipo de dificuldade de acesso a educação e \n",
    "# melhores qualidades de vida por # parte dessas pessoas e, talvez, \n",
    "# até algum tipo de discriminação (podendo ser vividas por ele ou por seus ascendentes)."
   ]
  },
  {
   "cell_type": "markdown",
   "id": "044e433a",
   "metadata": {},
   "source": [
    "Pretos(as), Pardos(as) e Indígenas com médias levemente superiores comparadas às médias de Brancos(as) e Amarelos(as)."
   ]
  },
  {
   "cell_type": "markdown",
   "id": "791ed2ed",
   "metadata": {},
   "source": [
    "**Análise: Nota final do Enem 2019 por sexo e tipo de escola**"
   ]
  },
  {
   "cell_type": "code",
   "execution_count": null,
   "id": "ab646050",
   "metadata": {},
   "outputs": [],
   "source": [
    "df.groupby(['SEXO', \"TIPO_ESCOLA\"])['NOTA'].mean()"
   ]
  },
  {
   "cell_type": "code",
   "execution_count": null,
   "id": "4c2d2016",
   "metadata": {},
   "outputs": [],
   "source": [
    "df.groupby(['SEXO', \"TIPO_ESCOLA\"])['NOTA'].min()"
   ]
  },
  {
   "cell_type": "code",
   "execution_count": null,
   "id": "ec0c6de5",
   "metadata": {},
   "outputs": [],
   "source": [
    "df.groupby(['SEXO', \"TIPO_ESCOLA\"])['NOTA'].max()"
   ]
  },
  {
   "cell_type": "code",
   "execution_count": null,
   "id": "8d361611",
   "metadata": {},
   "outputs": [],
   "source": [
    "df.groupby(['SEXO', \"TIPO_ESCOLA\"])['NOTA'].std()"
   ]
  },
  {
   "cell_type": "code",
   "execution_count": null,
   "id": "fa0f11dd",
   "metadata": {},
   "outputs": [],
   "source": [
    "# Em relação a média, percebe-se que as médias dos alunos de escolas privadas\n",
    "# são maiores quando comparados com alunos de escolas públicas.\n",
    "# Isso pode indicar problemas na educação.\n",
    "\n",
    "# Ao olhar a maior nota, mais uma vez, os alunos de escola particular\n",
    "# apresentaram notas maiores quando comparados com os alunos da escola pública."
   ]
  },
  {
   "cell_type": "code",
   "execution_count": null,
   "id": "9c68ff2b",
   "metadata": {},
   "outputs": [],
   "source": [
    "# Nota final do Enem 2019 por sexo, cor e tipo de escola:"
   ]
  },
  {
   "cell_type": "code",
   "execution_count": null,
   "id": "fd79244b",
   "metadata": {},
   "outputs": [],
   "source": [
    "df.groupby(['SEXO', 'COR', \"TIPO_ESCOLA\"])['NOTA'].mean()"
   ]
  },
  {
   "cell_type": "code",
   "execution_count": null,
   "id": "3b36dc3c",
   "metadata": {},
   "outputs": [],
   "source": [
    "# Mais uma vez, os indígenas e pessoas da cor preta possuem as menores notas.\n",
    "# Indivíduos de escolas particulares evidenciam as maiores notas."
   ]
  },
  {
   "cell_type": "code",
   "execution_count": null,
   "id": "22420814",
   "metadata": {},
   "outputs": [],
   "source": [
    "# Média da nota final por classe:"
   ]
  },
  {
   "cell_type": "code",
   "execution_count": null,
   "id": "1e5120d0",
   "metadata": {
    "scrolled": true
   },
   "outputs": [],
   "source": [
    "df.groupby([\"RENDA_MENSAL_FAMILIAR\"])[[\"NOTA\"]].mean().sort_values(ascending = False, by = \"NOTA\")"
   ]
  },
  {
   "cell_type": "code",
   "execution_count": null,
   "id": "75139281",
   "metadata": {},
   "outputs": [],
   "source": [
    "# Pessoas de classes mais altas, apresentaram as maiores médias.\n",
    "# Isso pode evidenciar melhores condições de acesso a N fatores."
   ]
  },
  {
   "cell_type": "code",
   "execution_count": null,
   "id": "685b5641",
   "metadata": {},
   "outputs": [],
   "source": [
    "# Média da nota final por classe e sexo:"
   ]
  },
  {
   "cell_type": "code",
   "execution_count": null,
   "id": "06d4964f",
   "metadata": {},
   "outputs": [],
   "source": [
    "df.groupby([\"RENDA_MENSAL_FAMILIAR\", \"SEXO\"])['NOTA'].mean()"
   ]
  },
  {
   "cell_type": "code",
   "execution_count": null,
   "id": "3c914ee2",
   "metadata": {},
   "outputs": [],
   "source": [
    "# Mais uma vez, rendas maiores permitem acesso a educação de melhor qualidade.\n",
    "# As notas dos meninos e das meninas, para cada faixa de renda, são bem parecidas."
   ]
  },
  {
   "cell_type": "code",
   "execution_count": null,
   "id": "7b7b0e42",
   "metadata": {},
   "outputs": [],
   "source": [
    "# Média da nota final comparando candidatos que têm e os que não têm internet em casa:"
   ]
  },
  {
   "cell_type": "code",
   "execution_count": null,
   "id": "0ae38a62",
   "metadata": {
    "scrolled": false
   },
   "outputs": [],
   "source": [
    "df.groupby([\"INTERNET\"])[[\"NOTA\"]].mean().sort_values(ascending = False, by = \"NOTA\")"
   ]
  },
  {
   "cell_type": "code",
   "execution_count": null,
   "id": "35f424cf",
   "metadata": {},
   "outputs": [],
   "source": [
    "# Percebe-se que quem possui acesso à internet apresenta um desempenho melhor na nota.\n",
    "# Isso pode ser explicado pelo fato de melhores condições de estudo."
   ]
  },
  {
   "cell_type": "code",
   "execution_count": null,
   "id": "839b0992",
   "metadata": {},
   "outputs": [],
   "source": [
    "# Tipo escola vs Renda mensal familiar vs Nota final:"
   ]
  },
  {
   "cell_type": "code",
   "execution_count": null,
   "id": "6a9700be",
   "metadata": {
    "scrolled": true
   },
   "outputs": [],
   "source": [
    "df.groupby([\"TIPO_ESCOLA\", \"RENDA_MENSAL_FAMILIAR\"])['NOTA'].mean()"
   ]
  },
  {
   "cell_type": "code",
   "execution_count": null,
   "id": "f7d8f503",
   "metadata": {},
   "outputs": [],
   "source": [
    "# Quem possui maior renda, tende a apresentar notas maiores,\n",
    "# especialmente quando estudam em colégios privados.\n",
    "# Além disso, pessoas que possuem rendas maiores e que estudam \n",
    "# em colégios públicos, também possuem um desempenho melhor,\n",
    "# quando comparados com demais alunos de colégios públicos.\n",
    "# Um dos motivos que podem explicar esse fato, é que pessoas\n",
    "# com maiores poderes aquisitivos possuem melhores condições e, tendem\n",
    "# a possuir famílias mais estruturadas."
   ]
  },
  {
   "cell_type": "code",
   "execution_count": null,
   "id": "4631a73e",
   "metadata": {},
   "outputs": [],
   "source": [
    "# Nota final na prova por região brasileira"
   ]
  },
  {
   "cell_type": "code",
   "execution_count": null,
   "id": "48d21cf7",
   "metadata": {
    "scrolled": true
   },
   "outputs": [],
   "source": [
    "df.groupby([\"REGIAO_BR\"])[[\"NOTA\"]].mean().sort_values(ascending = False, by = \"NOTA\")"
   ]
  },
  {
   "cell_type": "code",
   "execution_count": null,
   "id": "70c919ee",
   "metadata": {},
   "outputs": [],
   "source": [
    "# A região Sudeste apresenta a maior nota final, seguida pela região Sul.\n",
    "# Isso pode evidenciar disparidades na educação entre as regiões brasileiras.\n",
    "# Além disso, dependendo da localidade, o acesso a educação\n",
    "# tende a ser mais difícil, principalmente na região norte,\n",
    "# que apresentou a menor nota."
   ]
  },
  {
   "cell_type": "code",
   "execution_count": null,
   "id": "9aaf0f8b",
   "metadata": {},
   "outputs": [],
   "source": [
    "# Nota final na prova por região brasileira e tipo de escola:"
   ]
  },
  {
   "cell_type": "code",
   "execution_count": null,
   "id": "660007cd",
   "metadata": {},
   "outputs": [],
   "source": [
    "df.groupby([\"REGIAO_BR\", \"TIPO_ESCOLA\"])['NOTA'].mean()"
   ]
  },
  {
   "cell_type": "code",
   "execution_count": null,
   "id": "ed4ae50f",
   "metadata": {},
   "outputs": [],
   "source": [
    "# Quando analisamos as notas por região e tipo de escola, \n",
    "# é possível verificar que, novamente, as notas de alunos\n",
    "# de escola pública tendem a ser menores quando comparados com colégios particulares.\n",
    "# A nota da região Sudeste segue liderando, seguido\n",
    "# pelas regiões sul e centro-oeste."
   ]
  },
  {
   "cell_type": "code",
   "execution_count": null,
   "id": "8e8b5353",
   "metadata": {},
   "outputs": [],
   "source": [
    "# Preferência de língua estrangeira por tipo de escola:"
   ]
  },
  {
   "cell_type": "code",
   "execution_count": null,
   "id": "5a7c4bc0",
   "metadata": {
    "scrolled": true
   },
   "outputs": [],
   "source": [
    "df.groupby([\"TIPO_ESCOLA\", \"LINGUA_ESTRANGEIRA\"])[[\"LINGUA_ESTRANGEIRA\"]].count()"
   ]
  },
  {
   "cell_type": "code",
   "execution_count": null,
   "id": "3bab9a77",
   "metadata": {},
   "outputs": [],
   "source": [
    "# Podemos observar que nas escolas particulares temos uma preferência pela prova de Inglês,\n",
    "# enquanto que nas escolas públicas, a preferência é pelo Espanhol.\n",
    "# Uma hipótese é que o ensino do Inglês nas escolas particulares é contínuo e presente desde cedo,\n",
    "# enquanto que nas escolas públicas o ensino do Inglês seja falho e a preferência pelo Espanhol\n",
    "# dá-se pela similaridade com a língua Portuguesa, induzindo os alunos de escolas públicas a optarem\n",
    "# pelo Espanhol"
   ]
  },
  {
   "cell_type": "code",
   "execution_count": null,
   "id": "c459b494",
   "metadata": {},
   "outputs": [],
   "source": [
    "# Análise de candidatos por tipo de escola e renda:"
   ]
  },
  {
   "cell_type": "code",
   "execution_count": null,
   "id": "d64101dc",
   "metadata": {},
   "outputs": [],
   "source": [
    "df[[\"TIPO_ESCOLA\", \"RENDA_MENSAL_FAMILIAR\" ]].value_counts()"
   ]
  },
  {
   "cell_type": "code",
   "execution_count": null,
   "id": "d7c9b7ff",
   "metadata": {},
   "outputs": [],
   "source": [
    "# Candidatos das classes C, D e E são maioria analisando o todo. Entre escolas públicas e privadas,\n",
    "# notamos que as mesmas classes de escolas públicas são maioria em relação às escolas privadas."
   ]
  },
  {
   "cell_type": "code",
   "execution_count": null,
   "id": "b10fb726",
   "metadata": {},
   "outputs": [],
   "source": [
    "# Quantidade de alunos em escolas públicas e particulares:"
   ]
  },
  {
   "cell_type": "code",
   "execution_count": null,
   "id": "bf425b55",
   "metadata": {},
   "outputs": [],
   "source": [
    "df[[\"TIPO_ESCOLA\"]].value_counts()"
   ]
  },
  {
   "cell_type": "code",
   "execution_count": null,
   "id": "1a9592b1",
   "metadata": {},
   "outputs": [],
   "source": [
    "# Quantidade de alunos em escolas públicas e particulares, separados por sexo:"
   ]
  },
  {
   "cell_type": "code",
   "execution_count": null,
   "id": "a3c8e1d3",
   "metadata": {},
   "outputs": [],
   "source": [
    "df.groupby(['SEXO'])['TIPO_ESCOLA'].value_counts()"
   ]
  },
  {
   "cell_type": "code",
   "execution_count": null,
   "id": "af88d0d9",
   "metadata": {},
   "outputs": [],
   "source": [
    "# Como esperado, temos mais pessoas de escolas públicas, tanto do sexo masculino\n",
    "# quanto do sexo feminino."
   ]
  },
  {
   "cell_type": "code",
   "execution_count": null,
   "id": "8bb4128d",
   "metadata": {},
   "outputs": [],
   "source": [
    "# Análise de estudandes classe A:"
   ]
  },
  {
   "cell_type": "code",
   "execution_count": null,
   "id": "45d17d5e",
   "metadata": {},
   "outputs": [],
   "source": [
    "df.groupby(['TIPO_ESCOLA'])['RENDA_MENSAL_FAMILIAR'].value_counts()"
   ]
  },
  {
   "cell_type": "code",
   "execution_count": null,
   "id": "a8d12f2f",
   "metadata": {},
   "outputs": [],
   "source": [
    "# temos mais indivíduos da classe A em colégios privados\n",
    "# quanto comparados em escola pública."
   ]
  },
  {
   "cell_type": "markdown",
   "id": "4b02db4d",
   "metadata": {},
   "source": [
    "**Análise: Qual Estado possui maior quantidade de abstenções?**"
   ]
  },
  {
   "cell_type": "code",
   "execution_count": null,
   "id": "8c297c0b",
   "metadata": {},
   "outputs": [],
   "source": [
    "# criando uma cópia do df1 e selecionando apenas as linhas com \"Nota\" == NaN\n",
    "df_2 = df.copy()\n",
    "df_2 = df_2[df_2[\"NOTA\"].isna()]\n",
    "df_2"
   ]
  },
  {
   "cell_type": "code",
   "execution_count": null,
   "id": "c1fa99a8",
   "metadata": {},
   "outputs": [],
   "source": [
    "df_2 = df_2[['UF_RESIDENCIA']].value_counts()"
   ]
  },
  {
   "cell_type": "code",
   "execution_count": null,
   "id": "d3353d55",
   "metadata": {},
   "outputs": [],
   "source": [
    "df_3 = df[['UF_RESIDENCIA']].value_counts()"
   ]
  },
  {
   "cell_type": "code",
   "execution_count": null,
   "id": "9a95e9a0",
   "metadata": {},
   "outputs": [],
   "source": [
    "df_3"
   ]
  },
  {
   "cell_type": "code",
   "execution_count": null,
   "id": "cf9d8567",
   "metadata": {},
   "outputs": [],
   "source": [
    "# criando um df4 (auxiliar) para comparar totalidade vs abstenções:\n",
    "df_4 = pd.concat([df_3, df_2], axis = 1, join = \"outer\")"
   ]
  },
  {
   "cell_type": "code",
   "execution_count": null,
   "id": "0e522740",
   "metadata": {},
   "outputs": [],
   "source": [
    "df_4"
   ]
  },
  {
   "cell_type": "code",
   "execution_count": null,
   "id": "54d13581",
   "metadata": {
    "scrolled": true
   },
   "outputs": [],
   "source": [
    "# renoamenado as colunas:\n",
    "df_4.columns = [\"TOTAL_CANDIDATOS\", \"ABSTENCOES\"]\n",
    "df_4"
   ]
  },
  {
   "cell_type": "code",
   "execution_count": null,
   "id": "cf741a98",
   "metadata": {
    "scrolled": false
   },
   "outputs": [],
   "source": [
    "# calculando as abstenções em percentual:\n",
    "df_4[\"PERCENTUAL\"] = (df_4.ABSTENCOES / df_4.TOTAL_CANDIDATOS) * 100\n",
    "df_4"
   ]
  },
  {
   "cell_type": "code",
   "execution_count": null,
   "id": "1bd36cf3",
   "metadata": {},
   "outputs": [],
   "source": [
    "# ordenando descending:\n",
    "df_4[[\"PERCENTUAL\"]].sort_values(ascending = False, by = \"PERCENTUAL\")"
   ]
  },
  {
   "cell_type": "code",
   "execution_count": null,
   "id": "916025eb",
   "metadata": {},
   "outputs": [],
   "source": [
    "# calculando a média de abstenções:\n",
    "df_4[\"PERCENTUAL\"].mean()"
   ]
  },
  {
   "cell_type": "code",
   "execution_count": null,
   "id": "15a71e01",
   "metadata": {},
   "outputs": [],
   "source": [
    "# TEMOS UMA MÉDIA GERAL DE 27,72% DE ABSTENÇÕES"
   ]
  },
  {
   "cell_type": "markdown",
   "id": "4866a74a",
   "metadata": {},
   "source": [
    "**Análise: Qual Estado (residência) possui a maior nota (na média)?**"
   ]
  },
  {
   "cell_type": "code",
   "execution_count": null,
   "id": "201747bd",
   "metadata": {},
   "outputs": [],
   "source": [
    "df.groupby([\"UF_RESIDENCIA\"])[[\"NOTA\"]].mean().sort_values(ascending = False, by = \"NOTA\")"
   ]
  },
  {
   "cell_type": "markdown",
   "id": "30fdacfb",
   "metadata": {},
   "source": [
    "**Análise: Qual Estado (nascimento) possui a maior nota (na média)?**"
   ]
  },
  {
   "cell_type": "code",
   "execution_count": null,
   "id": "0bcc0854",
   "metadata": {},
   "outputs": [],
   "source": [
    "df.groupby([\"UF_NASCIMENTO\"])[[\"NOTA\"]].mean().sort_values(ascending = False, by = \"NOTA\")"
   ]
  },
  {
   "cell_type": "code",
   "execution_count": null,
   "id": "93369d03",
   "metadata": {},
   "outputs": [],
   "source": [
    "# podemos perceber que SP lidera nas duas ocasiões, com algumas alterações de posição\n",
    "# no decorrer da tabela"
   ]
  },
  {
   "cell_type": "markdown",
   "id": "3d3c7ca0",
   "metadata": {},
   "source": [
    "# 2 - ANÁLISE REMOVENDO OS NaN's"
   ]
  },
  {
   "cell_type": "markdown",
   "id": "47c9f974",
   "metadata": {},
   "source": [
    "# PARTE I"
   ]
  },
  {
   "cell_type": "code",
   "execution_count": null,
   "id": "b4de0332",
   "metadata": {},
   "outputs": [],
   "source": [
    "# Importação\n",
    "import numpy as pd\n",
    "import pandas as pd\n",
    "import pandas_profiling as pp\n",
    "import warnings"
   ]
  },
  {
   "cell_type": "code",
   "execution_count": null,
   "id": "0df1e3b8",
   "metadata": {},
   "outputs": [],
   "source": [
    "# Formatando para 2 casas após a vírgula\n",
    "pd.options.display.float_format= \"{:,.2f}\".format\n",
    "# Ignorando warnings\n",
    "warnings.filterwarnings(\"ignore\")"
   ]
  },
  {
   "cell_type": "code",
   "execution_count": null,
   "id": "58c274e8",
   "metadata": {},
   "outputs": [],
   "source": [
    "# Carregando os dados e viualizando\n",
    "df = pd.read_csv(\"MICRODADOS_ENEM_2019.csv\", encoding='latin-1', sep=\";\")\n",
    "df"
   ]
  },
  {
   "cell_type": "code",
   "execution_count": null,
   "id": "c60de7d4",
   "metadata": {},
   "outputs": [],
   "source": [
    "# Tipo\n",
    "type(df)"
   ]
  },
  {
   "cell_type": "code",
   "execution_count": null,
   "id": "b38d6a3d",
   "metadata": {},
   "outputs": [],
   "source": [
    "# Dimensões\n",
    "print(df.ndim)"
   ]
  },
  {
   "cell_type": "code",
   "execution_count": null,
   "id": "899bad63",
   "metadata": {},
   "outputs": [],
   "source": [
    "print(df.shape)"
   ]
  },
  {
   "cell_type": "code",
   "execution_count": null,
   "id": "96a7b843",
   "metadata": {},
   "outputs": [],
   "source": [
    "print(df.size)"
   ]
  },
  {
   "cell_type": "code",
   "execution_count": null,
   "id": "43818f3e",
   "metadata": {},
   "outputs": [],
   "source": [
    "# ìndice\n",
    "df.index"
   ]
  },
  {
   "cell_type": "code",
   "execution_count": null,
   "id": "c21e7ed2",
   "metadata": {},
   "outputs": [],
   "source": [
    "# Tipo de variáveis\n",
    "df.dtypes"
   ]
  },
  {
   "cell_type": "code",
   "execution_count": null,
   "id": "d3fa7878",
   "metadata": {},
   "outputs": [],
   "source": [
    "# Visualização de dados\n",
    "df.head(10)"
   ]
  },
  {
   "cell_type": "code",
   "execution_count": null,
   "id": "9a85c4bc",
   "metadata": {},
   "outputs": [],
   "source": [
    "df.tail(10)"
   ]
  },
  {
   "cell_type": "code",
   "execution_count": null,
   "id": "448749e8",
   "metadata": {},
   "outputs": [],
   "source": [
    "# Análise\n",
    "df.describe()"
   ]
  },
  {
   "cell_type": "code",
   "execution_count": null,
   "id": "0c0b66b5",
   "metadata": {},
   "outputs": [],
   "source": [
    "df.describe(include='all')"
   ]
  },
  {
   "cell_type": "code",
   "execution_count": null,
   "id": "47e6186a",
   "metadata": {},
   "outputs": [],
   "source": [
    "df.info()"
   ]
  },
  {
   "cell_type": "code",
   "execution_count": null,
   "id": "628299f7",
   "metadata": {},
   "outputs": [],
   "source": [
    "# Nome das colunas\n",
    "df.columns"
   ]
  },
  {
   "cell_type": "code",
   "execution_count": null,
   "id": "54c80b15",
   "metadata": {},
   "outputs": [],
   "source": [
    "# Verificando total de valores NA (missing) por variável\n",
    "df.isna().sum()"
   ]
  },
  {
   "cell_type": "code",
   "execution_count": null,
   "id": "583b1998",
   "metadata": {},
   "outputs": [],
   "source": [
    "# Drop de colunas que não interessam\n",
    "df.drop([\"TP_ANO_CONCLUIU\", \"IN_TREINEIRO\", \"CO_UF_NASCIMENTO\", \"SG_UF_NASCIMENTO\", \"CO_MUNICIPIO_RESIDENCIA\", \"CO_UF_RESIDENCIA\", \"CO_ESCOLA\", \"CO_UF_ESC\", \"CO_UF_PROVA\", 'NU_INSCRICAO', 'NU_ANO', 'TP_NACIONALIDADE', 'CO_MUNICIPIO_NASCIMENTO', 'NO_MUNICIPIO_NASCIMENTO', 'CO_MUNICIPIO_ESC', 'NO_MUNICIPIO_ESC', 'CO_UF_ESC', 'SG_UF_ESC', 'TP_DEPENDENCIA_ADM_ESC', 'TP_LOCALIZACAO_ESC', 'TP_SIT_FUNC_ESC', \"IN_SURDEZ\", 'IN_BAIXA_VISAO', 'IN_CEGUEIRA', \"IN_DEFICIENCIA_AUDITIVA\", \"IN_SURDO_CEGUEIRA\", \"IN_DEFICIENCIA_FISICA\", \"IN_DEFICIENCIA_MENTAL\", \"IN_DEFICIT_ATENCAO\", \"IN_DISLEXIA\", \"IN_DISCALCULIA\", \"IN_AUTISMO\", \"IN_VISAO_MONOCULAR\", \"IN_OUTRA_DEF\", \"IN_GESTANTE\", \"IN_LACTANTE\", \"IN_IDOSO\", \"IN_ESTUDA_CLASSE_HOSPITALAR\", \"IN_SEM_RECURSO\", \"IN_BRAILLE\", \"IN_AMPLIADA_24\", \"IN_AMPLIADA_18\", \"IN_LEDOR\", \"IN_ACESSO\", \"IN_TRANSCRICAO\", \"IN_LIBRAS\", \"IN_TEMPO_ADICIONAL\", \"IN_LEITURA_LABIAL\", \"IN_MESA_CADEIRA_RODAS\", \"IN_MESA_CADEIRA_SEPARADA\", \"IN_APOIO_PERNA\", \"IN_GUIA_INTERPRETE\", \"IN_COMPUTADOR\", \"IN_CADEIRA_ESPECIAL\", \"IN_CADEIRA_CANHOTO\", \"IN_CADEIRA_ACOLCHOADA\", \"IN_PROVA_DEITADO\", \"IN_MOBILIARIO_OBESO\", \"IN_LAMINA_OVERLAY\", \"IN_PROTETOR_AURICULAR\", \"IN_MEDIDOR_GLICOSE\", \"IN_MAQUINA_BRAILE\", \"IN_SOROBAN\", \"IN_MARCA_PASSO\", \"IN_SONDA\", \"IN_MEDICAMENTOS\", \"IN_SALA_INDIVIDUAL\", \"IN_SALA_ESPECIAL\", \"IN_SALA_ACOMPANHANTE\", \"IN_MOBILIARIO_ESPECIFICO\", \"IN_MATERIAL_ESPECIFICO\", \"CO_MUNICIPIO_PROVA\", \"NO_MUNICIPIO_PROVA\", \"CO_UF_PROVA\", \"CO_PROVA_CN\", \"CO_PROVA_CH\", \"CO_PROVA_LC\", \"CO_PROVA_MT\", \"TX_RESPOSTAS_CN\", \"TX_RESPOSTAS_CH\", \"TX_RESPOSTAS_LC\", \"TX_RESPOSTAS_MT\", \"TX_GABARITO_CN\", \"TX_GABARITO_CH\", \"TX_GABARITO_LC\", \"TX_GABARITO_MT\", \"NU_NOTA_COMP1\", \"NU_NOTA_COMP2\", \"NU_NOTA_COMP3\", \"NU_NOTA_COMP4\", \"NU_NOTA_COMP5\", \"Q007\", \"Q010\", \"Q011\", \"Q013\", \"Q014\", \"Q015\", \"Q016\", \"Q017\", \"Q018\", \"Q020\", \"Q021\", \"Q023\", \"TP_ENSINO\", \"TP_PRESENCA_CN\", \"TP_PRESENCA_CH\", \"TP_PRESENCA_LC\", \"TP_PRESENCA_MT\", \"TP_STATUS_REDACAO\", \"TP_ST_CONCLUSAO\"], axis=1, inplace = True)\n",
    "df\n",
    "# TP_ANO_CONCLUIU\n",
    "# IN_TREINEIRO"
   ]
  },
  {
   "cell_type": "code",
   "execution_count": null,
   "id": "ac0776e5",
   "metadata": {},
   "outputs": [],
   "source": [
    "df.memory_usage()"
   ]
  },
  {
   "cell_type": "code",
   "execution_count": null,
   "id": "58a5ef5c",
   "metadata": {},
   "outputs": [],
   "source": [
    "df.info()"
   ]
  },
  {
   "cell_type": "code",
   "execution_count": null,
   "id": "15d0ff99",
   "metadata": {},
   "outputs": [],
   "source": [
    "# Renomeando colunas\n",
    "df.columns = [ \"nom_mun_res\", \"sig_uf_res\", \"idade\", \"sexo\", \"est_civil\", \"cor\", \"tip_esc\", \"nom_social\", \"uf_esc\", \"nota_cien_nat\", \"nota_cien_hum\", \"nota_ling\", \"nota_mat\", \"idioma\", \"nota_red\", \"pai_esc\", \"mae_esc\", \"ocup_pai\", \"ocup_mae\", \"qtde_pes_casa\", \"renda_men\", \"tem_wc\", \"tem_quartos\", \"tem_geladeira\", \"tem_tv\", \"tem_cel\", \"tem_pc\", \"tem_net\"]\n",
    "df.columns\n",
    "# \"cor\", \"ano_concl_em\", \"tip_esc\"\n",
    "# \"tip_esc\", \"treino\", \"nom_social\""
   ]
  },
  {
   "cell_type": "code",
   "execution_count": null,
   "id": "4721f34f",
   "metadata": {},
   "outputs": [],
   "source": [
    "df"
   ]
  },
  {
   "cell_type": "code",
   "execution_count": null,
   "id": "4a47d8ce",
   "metadata": {},
   "outputs": [],
   "source": [
    "df.isna()"
   ]
  },
  {
   "cell_type": "code",
   "execution_count": null,
   "id": "c0f9cc42",
   "metadata": {},
   "outputs": [],
   "source": [
    "# Verificando total de valores NA (missing) por variável\n",
    "df.isna().sum()"
   ]
  },
  {
   "cell_type": "code",
   "execution_count": null,
   "id": "5eb36a13",
   "metadata": {},
   "outputs": [],
   "source": [
    "# Em idade, temos poucos valores ausentes. \n",
    "# Dessa forma, vamos verificar a média e mediana para imputar valores.\n",
    "# Optou-se pela mediana devido aos \"outliers\".\n",
    "# Além de ter poucos NAs."
   ]
  },
  {
   "cell_type": "code",
   "execution_count": null,
   "id": "2815704b",
   "metadata": {},
   "outputs": [],
   "source": [
    "df.idade.max()"
   ]
  },
  {
   "cell_type": "code",
   "execution_count": null,
   "id": "b1ef0168",
   "metadata": {},
   "outputs": [],
   "source": [
    "df.idade.min()"
   ]
  },
  {
   "cell_type": "code",
   "execution_count": null,
   "id": "862943df",
   "metadata": {},
   "outputs": [],
   "source": [
    "df.idade.mean()"
   ]
  },
  {
   "cell_type": "code",
   "execution_count": null,
   "id": "84aa55ff",
   "metadata": {},
   "outputs": [],
   "source": [
    "df.idade.median()"
   ]
  },
  {
   "cell_type": "code",
   "execution_count": null,
   "id": "7a55a2fc",
   "metadata": {},
   "outputs": [],
   "source": [
    "mediana = df.idade.median()\n",
    "media = df.idade.mean()"
   ]
  },
  {
   "cell_type": "code",
   "execution_count": null,
   "id": "3bd0ddca",
   "metadata": {},
   "outputs": [],
   "source": [
    "df['idade'].fillna(mediana, inplace = True)\n",
    "df.isna().sum()"
   ]
  },
  {
   "cell_type": "code",
   "execution_count": null,
   "id": "12f5a79d",
   "metadata": {},
   "outputs": [],
   "source": [
    "# Criando as regiões do Brasil\n",
    "df[\"regiao_br\"] = df.sig_uf_res"
   ]
  },
  {
   "cell_type": "code",
   "execution_count": null,
   "id": "2e1535ee",
   "metadata": {},
   "outputs": [],
   "source": [
    "df[\"regiao_br\"].unique()"
   ]
  },
  {
   "cell_type": "code",
   "execution_count": null,
   "id": "abf71189",
   "metadata": {},
   "outputs": [],
   "source": [
    "df.regiao_br.replace({'PR': \"sul\", 'SP': \"sudeste\", 'PA': \"norte\", 'TO': \"norte\", 'RS': \"sul\", 'AL': \"nordeste\", 'BA': \"nordeste\", 'AP': \"norte\", 'MG': \"sudeste\", 'AM': \"norte\", 'GO': \"centro-oeste\",\n",
    "       'MA': \"nordeste\", 'RJ': \"sudeste\", 'CE': \"nordeste\", 'RO': \"norte\", 'MT': \"centro-oeste\", 'PE': \"nordeste\", 'RN': \"nordeste\", 'AC': \"norte\", 'ES': \"sudeste\", 'PI': \"nordeste\", 'SE': \"nordeste\",\n",
    "       'DF': \"centro-oeste\", 'SC': \"sul\", 'PB': \"nordeste\", 'MS': \"centro-oeste\", 'RR': \"norte\"}, inplace = True)"
   ]
  },
  {
   "cell_type": "code",
   "execution_count": null,
   "id": "ceeda5a6",
   "metadata": {},
   "outputs": [],
   "source": [
    "df[\"regiao_br\"].unique()"
   ]
  },
  {
   "cell_type": "code",
   "execution_count": null,
   "id": "ba458640",
   "metadata": {},
   "outputs": [],
   "source": [
    "# Criando a nota final do Enem\n",
    "df[\"nota_final\"] = ((df.nota_red + df.nota_cien_nat + df.nota_cien_hum + df.nota_ling + df.nota_mat) / 5)\n",
    "df"
   ]
  },
  {
   "cell_type": "code",
   "execution_count": null,
   "id": "14679b45",
   "metadata": {},
   "outputs": [],
   "source": [
    "df.isna().sum()"
   ]
  },
  {
   "cell_type": "code",
   "execution_count": null,
   "id": "c7e8fa11",
   "metadata": {},
   "outputs": [],
   "source": [
    "# Verificando número de faltosos/eliminados:\n",
    "# Total de dados: 5,095,270\n",
    "# Total de nota_final = nan: 1,393,263\n",
    "# Em termos %: (1,393,263 / 5,095,270) * 100 = 27.344242797732015 %\n",
    "faltosos = (1393263 / 5095270) * 100\n",
    "faltosos"
   ]
  },
  {
   "cell_type": "code",
   "execution_count": null,
   "id": "cf2eda6d",
   "metadata": {},
   "outputs": [],
   "source": [
    "df.reset_index(inplace = True)\n",
    "df"
   ]
  },
  {
   "cell_type": "code",
   "execution_count": null,
   "id": "0e0fbe59",
   "metadata": {},
   "outputs": [],
   "source": [
    "df.drop(['index'], axis = 1, inplace = True)\n",
    "df"
   ]
  },
  {
   "cell_type": "markdown",
   "id": "0913032d",
   "metadata": {},
   "source": [
    "# Verificar de imputar valores nas provas!"
   ]
  },
  {
   "cell_type": "code",
   "execution_count": null,
   "id": "3225ca0c",
   "metadata": {},
   "outputs": [],
   "source": [
    "# Agora, salvando os dados:\n",
    "# Salvando em csv\n",
    "df.to_csv('df_trabalhando_I.csv', sep=';', index=False)"
   ]
  },
  {
   "cell_type": "markdown",
   "id": "87da4345",
   "metadata": {},
   "source": [
    "# PARTE II"
   ]
  },
  {
   "cell_type": "code",
   "execution_count": null,
   "id": "cac70764",
   "metadata": {},
   "outputs": [],
   "source": [
    "# Importação\n",
    "import numpy as pd\n",
    "import pandas as pd\n",
    "import pandas_profiling as pp\n",
    "import warnings"
   ]
  },
  {
   "cell_type": "code",
   "execution_count": null,
   "id": "72ee814f",
   "metadata": {},
   "outputs": [],
   "source": [
    "# Formatando para 2 casas após a vírgula\n",
    "pd.options.display.float_format= \"{:,.2f}\".format\n",
    "# Ignorando warnings\n",
    "warnings.filterwarnings(\"ignore\")"
   ]
  },
  {
   "cell_type": "code",
   "execution_count": null,
   "id": "e3f491e7",
   "metadata": {},
   "outputs": [],
   "source": [
    "df = pd.read_csv(\"df_trabalhando_I.csv\", encoding='utf-8', sep=\";\")\n",
    "df"
   ]
  },
  {
   "cell_type": "code",
   "execution_count": null,
   "id": "a6f58bf4",
   "metadata": {},
   "outputs": [],
   "source": [
    "# Removendo linhas que não interessam:\n",
    "# Estado civil \"não informado\"\n",
    "index_names = df[df['est_civil'] == 0 ].index\n",
    "index_names\n",
    "# Deletando as linhas com esses índices do DataFrame\n",
    "df.drop(index_names , inplace=True)\n",
    "df.head(25)"
   ]
  },
  {
   "cell_type": "code",
   "execution_count": null,
   "id": "090ca7f3",
   "metadata": {},
   "outputs": [],
   "source": [
    "# Cor \"não declarado\"\n",
    "index_names = df[df['cor'] == 0 ].index\n",
    "# Deletando as linhas com esses índices do DataFrame\n",
    "df.drop(index_names , inplace=True)"
   ]
  },
  {
   "cell_type": "code",
   "execution_count": null,
   "id": "91f3daef",
   "metadata": {},
   "outputs": [],
   "source": [
    "# Tipo de escola \"não respondeu\"\n",
    "index_names = df[df['tip_esc'] == 0 ].index\n",
    "# Deletando as linhas com esses índices do DataFrame\n",
    "df.drop(index_names , inplace=True)"
   ]
  },
  {
   "cell_type": "code",
   "execution_count": null,
   "id": "c5f07cce",
   "metadata": {},
   "outputs": [],
   "source": [
    "# Escolaridade da mãe \"não sei\"\n",
    "index_names = df[df['mae_esc'] == \"H\" ].index\n",
    "# Deletando as linhas com esses índices do DataFrame\n",
    "df.drop(index_names , inplace=True)"
   ]
  },
  {
   "cell_type": "code",
   "execution_count": null,
   "id": "97b5a019",
   "metadata": {},
   "outputs": [],
   "source": [
    "# Escolaridade do pai \"não sei\"\n",
    "index_names = df[df['pai_esc'] == \"H\" ].index\n",
    "# Deletando as linhas com esses índices do DataFrame\n",
    "df.drop(index_names , inplace=True)"
   ]
  },
  {
   "cell_type": "code",
   "execution_count": null,
   "id": "fb27814b",
   "metadata": {},
   "outputs": [],
   "source": [
    "# Ocupação do pai \"não sei\"\n",
    "index_names = df[df['ocup_pai'] == \"F\" ].index\n",
    "# Deletando as linhas com esses índices do DataFrame\n",
    "df.drop(index_names , inplace=True)"
   ]
  },
  {
   "cell_type": "code",
   "execution_count": null,
   "id": "edb4621a",
   "metadata": {},
   "outputs": [],
   "source": [
    "# Ocupação da mãe \"não sei\"\n",
    "index_names = df[df['ocup_mae'] == \"F\" ].index\n",
    "# Deletando as linhas com esses índices do DataFrame\n",
    "df.drop(index_names , inplace=True)"
   ]
  },
  {
   "cell_type": "code",
   "execution_count": null,
   "id": "a17afec4",
   "metadata": {},
   "outputs": [],
   "source": [
    "# Problemático - Excluir: muitos NAs\n",
    "# Ano de conclusão do ensino médio \"não informado\"\n",
    "# index_names = df[df['ano_concl_em'] == 0 ].index\n",
    "# Deletando as linhas com esses índices do DataFrame\n",
    "# df.drop(index_names , inplace=True)"
   ]
  },
  {
   "cell_type": "code",
   "execution_count": null,
   "id": "d1e64dee",
   "metadata": {},
   "outputs": [],
   "source": [
    "# Excluindo a escolaridade incompleta dos pais\n",
    "index_names = df[df['pai_esc'] == \"B\" ].index\n",
    "# Deletando as linhas com esses índices do DataFrame\n",
    "df.drop(index_names , inplace=True)"
   ]
  },
  {
   "cell_type": "code",
   "execution_count": null,
   "id": "4e7d1f63",
   "metadata": {},
   "outputs": [],
   "source": [
    "index_names = df[df['pai_esc'] == \"C\" ].index\n",
    "# Deletando as linhas com esses índices do DataFrame\n",
    "df.drop(index_names , inplace=True)"
   ]
  },
  {
   "cell_type": "code",
   "execution_count": null,
   "id": "eff4c834",
   "metadata": {},
   "outputs": [],
   "source": [
    "index_names = df[df['mae_esc'] == \"B\" ].index\n",
    "# Deletando as linhas com esses índices do DataFrame\n",
    "df.drop(index_names , inplace=True)"
   ]
  },
  {
   "cell_type": "code",
   "execution_count": null,
   "id": "2c8cc6ec",
   "metadata": {},
   "outputs": [],
   "source": [
    "index_names = df[df['mae_esc'] == \"C\" ].index\n",
    "# Deletando as linhas com esses índices do DataFrame\n",
    "df.drop(index_names , inplace=True)"
   ]
  },
  {
   "cell_type": "code",
   "execution_count": null,
   "id": "e5b5b3ab",
   "metadata": {},
   "outputs": [],
   "source": [
    "index_names = df[df['tip_esc'] == 1 ].index\n",
    "index_names\n",
    "# Deletando as linhas com esses índices do DataFrame\n",
    "df.drop(index_names , inplace=True)"
   ]
  },
  {
   "cell_type": "code",
   "execution_count": null,
   "id": "3298ab6d",
   "metadata": {},
   "outputs": [],
   "source": [
    "# Criando classes pela renda mensal, ocupação e escolaridade (completa) dos pais\n",
    "df.renda_men.replace({'A':\"classe_E\", 'B':\"classe_E\", 'C':\"classe_E\", 'D':\"classe_E\", 'E':\"classe_D\", 'F':\"classe_D\", 'G':\"classe_D\", 'H':\"classe_C\", 'I':\"classe_C\", 'J':\"classe_C\", 'K':\"classe_C\", 'L':\"classe_C\", 'M':\"classe_C\", 'N':\"classe_B\", 'O':\"classe_B\", 'P':\"classe_B\", 'Q':\"classe_A\"}, inplace = True)\n",
    "df.ocup_mae.replace({'A':\"ocup_mae_bai_qua\", 'B':\"ocup_mae_bai_qua\", 'C':\"ocup_mae_med_qual\", 'D':\"ocup_mae_med_qual\", 'E':\"ocup_mae_alt_qual\"}, inplace = True)\n",
    "df.ocup_pai.replace({'A':\"ocup_pai_bai_qua\", 'B':\"ocup_pai_bai_qua\", 'C':\"ocup_pai_med_qual\", 'D':\"ocup_pai_med_qual\", 'E':\"ocup_pai_alt_qual\"}, inplace = True)\n",
    "df.mae_esc.replace({'A':\"mae_analf\", 'D':\"mae_fund_compl\", 'E':\"mae_med_compl\", 'F':\"mae_grad_compl\", 'G':\"mae_pos_compl\"}, inplace = True)\n",
    "df.pai_esc.replace({'A':\"pai_analf\", 'D':\"pai_fund_compl\", 'E':\"pai_med_compl\", 'F':\"pai_grad_compl\", 'G':\"pai_pos_compl\"}, inplace = True)\n",
    "df"
   ]
  },
  {
   "cell_type": "code",
   "execution_count": null,
   "id": "b2a4e8a9",
   "metadata": {},
   "outputs": [],
   "source": [
    "# Transformando diversas variáveis\n",
    "df.idioma.replace({0:\"ingles\", 1:\"espanhol\" }, inplace = True)\n",
    "# df.treino.replace({1:\"sim\", 0:\"não\" }, inplace = True)\n",
    "df.cor.replace({1:\"branca\", 2:\"preta\", 3: \"parda\",  4: \"amarela\", 5: \"indígena\"}, inplace = True)\n",
    "df.est_civil.replace({1:\"solteiro\", 2:\"casado\", 3: \"separado\",  4: \"viúvo\"}, inplace = True)\n",
    "df.nom_social.replace({1:\"sim\", 0:\"não\"}, inplace = True)\n",
    "df.tip_esc.replace({2:\"pública\", 3:\"privada\", 4: \"exterior\"}, inplace = True)\n",
    "df"
   ]
  },
  {
   "cell_type": "code",
   "execution_count": null,
   "id": "b105a183",
   "metadata": {},
   "outputs": [],
   "source": [
    "# Transformando mais variáveis\n",
    "df.tem_net.replace({'A':0, 'B':1}, inplace = True)\n",
    "df.tem_pc.replace({'A':0, 'B':1, 'C':1, 'D':1, 'E':1}, inplace = True)\n",
    "df.tem_cel.replace({'A':0, 'B':1, 'C':1, 'D':1, 'E':1}, inplace = True)\n",
    "df.tem_tv.replace({'A':0, 'B':1, 'C':1, 'D':1, 'E':1}, inplace = True)\n",
    "df.tem_geladeira.replace({'A':0, 'B':1, 'C':1, 'D':1, 'E':1}, inplace = True)\n",
    "df.tem_quartos.replace({'A':0, 'B':1, 'C':1, 'D':1, 'E':1}, inplace = True)\n",
    "df.tem_wc.replace({'A':0, 'B':1, 'C':1, 'D':1, 'E':1}, inplace = True)\n",
    "df"
   ]
  },
  {
   "cell_type": "code",
   "execution_count": null,
   "id": "2055b853",
   "metadata": {},
   "outputs": [],
   "source": [
    "df.tem_net.replace({0: \"não\", 1: \"sim\"}, inplace = True)\n",
    "df.tem_pc.replace({0: \"não\", 1: \"sim\"}, inplace = True)\n",
    "df.tem_cel.replace({0: \"não\", 1: \"sim\"}, inplace = True)\n",
    "df.tem_tv.replace({0: \"não\", 1: \"sim\"}, inplace = True)\n",
    "df.tem_geladeira.replace({0: \"não\", 1: \"sim\"}, inplace = True)\n",
    "df.tem_quartos.replace({0: \"não\", 1: \"sim\"}, inplace = True)\n",
    "df.tem_wc.replace({0: \"não\", 1: \"sim\"}, inplace = True)\n",
    "df"
   ]
  },
  {
   "cell_type": "code",
   "execution_count": null,
   "id": "87084b11",
   "metadata": {},
   "outputs": [],
   "source": [
    "df.isna().sum()"
   ]
  },
  {
   "cell_type": "code",
   "execution_count": null,
   "id": "783f86b2",
   "metadata": {},
   "outputs": [],
   "source": [
    "# Dropando valores NAs (linhas)\n",
    "df.dropna(axis = 0, inplace = True)\n",
    "df"
   ]
  },
  {
   "cell_type": "code",
   "execution_count": null,
   "id": "4f97c5d6",
   "metadata": {},
   "outputs": [],
   "source": [
    "df.isna().sum()"
   ]
  },
  {
   "cell_type": "code",
   "execution_count": null,
   "id": "f4f525c2",
   "metadata": {},
   "outputs": [],
   "source": [
    "df.reset_index(inplace = True)\n",
    "df"
   ]
  },
  {
   "cell_type": "code",
   "execution_count": null,
   "id": "0e4442ea",
   "metadata": {},
   "outputs": [],
   "source": [
    "df.drop(['index'], axis = 1, inplace = True)\n",
    "df"
   ]
  },
  {
   "cell_type": "code",
   "execution_count": null,
   "id": "2e308562",
   "metadata": {},
   "outputs": [],
   "source": [
    "# Agora, salvando os dados:\n",
    "# Salvando em csv\n",
    "df.to_csv('df_trabalhando_II.csv', sep=';', index=False)"
   ]
  },
  {
   "cell_type": "markdown",
   "id": "572c264c",
   "metadata": {},
   "source": [
    "# PARTE III"
   ]
  },
  {
   "cell_type": "markdown",
   "id": "a9f763be",
   "metadata": {},
   "source": [
    "Análises."
   ]
  },
  {
   "cell_type": "code",
   "execution_count": null,
   "id": "ba1c2fa5",
   "metadata": {},
   "outputs": [],
   "source": [
    "# Importação\n",
    "import numpy as pd\n",
    "import pandas as pd\n",
    "import pandas_profiling as pp\n",
    "import warnings"
   ]
  },
  {
   "cell_type": "code",
   "execution_count": null,
   "id": "b3e5c911",
   "metadata": {},
   "outputs": [],
   "source": [
    "# Formatando para 2 casas após a vírgula\n",
    "pd.options.display.float_format= \"{:,.2f}\".format\n",
    "# Ignorando warnings\n",
    "warnings.filterwarnings(\"ignore\")"
   ]
  },
  {
   "cell_type": "code",
   "execution_count": null,
   "id": "baa12331",
   "metadata": {},
   "outputs": [],
   "source": [
    "df = pd.read_csv(\"df_trabalhando_II.csv\", encoding='utf-8', sep=\";\")\n",
    "df"
   ]
  },
  {
   "cell_type": "markdown",
   "id": "7b1ce224",
   "metadata": {},
   "source": [
    "# ANÁLISES INICIAIS: RÁPIDAS"
   ]
  },
  {
   "cell_type": "markdown",
   "id": "208a5e9c",
   "metadata": {},
   "source": [
    "1) Dividir os dados em grupos utilizando um critério\n",
    "\n",
    "2) Aplicar uma função em cada um dos grupos separadamente\n",
    "\n",
    "3) Combinar o resultado em uma estrutura de dados"
   ]
  },
  {
   "cell_type": "markdown",
   "id": "0961b12f",
   "metadata": {},
   "source": [
    "Funções\n",
    "\n",
    "mean, std, max, min, count, sum, var"
   ]
  },
  {
   "cell_type": "code",
   "execution_count": null,
   "id": "eb02d91c",
   "metadata": {},
   "outputs": [],
   "source": [
    "df.corr()"
   ]
  },
  {
   "cell_type": "code",
   "execution_count": null,
   "id": "2c38bdcc",
   "metadata": {},
   "outputs": [],
   "source": [
    "# Por mais que algumas variáveis possam estar correlacionadas com outras, como a intenção é \n",
    "# realizar uma análise exploratória, não tem problema em ter \"resultados\" parecidos."
   ]
  },
  {
   "cell_type": "code",
   "execution_count": null,
   "id": "525ce34c",
   "metadata": {},
   "outputs": [],
   "source": [
    "pp.ProfileReport(df, explorative=True)"
   ]
  },
  {
   "cell_type": "code",
   "execution_count": null,
   "id": "257c77f7",
   "metadata": {},
   "outputs": [],
   "source": [
    "df"
   ]
  },
  {
   "cell_type": "code",
   "execution_count": null,
   "id": "eb1962f9",
   "metadata": {},
   "outputs": [],
   "source": [
    "df.isna().sum()"
   ]
  },
  {
   "cell_type": "code",
   "execution_count": null,
   "id": "b73284ea",
   "metadata": {},
   "outputs": [],
   "source": [
    "df.info()"
   ]
  },
  {
   "cell_type": "code",
   "execution_count": null,
   "id": "738f7124",
   "metadata": {},
   "outputs": [],
   "source": [
    "# Quantidade de pessoas do sexo masculino e feminino que tiveram nota final do Enem 2019\n",
    "\n",
    "# Pessoas do sexo feminino são maioria, representando quase 56%;\n",
    "# Enquanto indivíduos do sexo masculino representam pouco mais de 44%."
   ]
  },
  {
   "cell_type": "code",
   "execution_count": null,
   "id": "4b40e62d",
   "metadata": {},
   "outputs": [],
   "source": [
    "df.sexo.value_counts()"
   ]
  },
  {
   "cell_type": "code",
   "execution_count": null,
   "id": "a4f942ae",
   "metadata": {},
   "outputs": [],
   "source": [
    "fem = (295808 / (295808 + 235827)) * 100\n",
    "fem"
   ]
  },
  {
   "cell_type": "code",
   "execution_count": null,
   "id": "d372a7c7",
   "metadata": {},
   "outputs": [],
   "source": [
    "masc = (235827 / (295808 + 235827)) * 100\n",
    "masc"
   ]
  },
  {
   "cell_type": "code",
   "execution_count": null,
   "id": "c62167bd",
   "metadata": {},
   "outputs": [],
   "source": [
    "# Média de idade\n",
    "\n",
    "# Média de idades das pessoas que fizeram Enem em 2019 é de 17,69 anos."
   ]
  },
  {
   "cell_type": "code",
   "execution_count": null,
   "id": "5d82aba7",
   "metadata": {},
   "outputs": [],
   "source": [
    "df.idade.mean()"
   ]
  },
  {
   "cell_type": "code",
   "execution_count": null,
   "id": "b550b06c",
   "metadata": {},
   "outputs": [],
   "source": [
    "# Média de idade por sexo:\n",
    "\n",
    "# Idades médias muito próximas (meninos (17,72) e meninas (17,67))."
   ]
  },
  {
   "cell_type": "code",
   "execution_count": null,
   "id": "a8bb905a",
   "metadata": {},
   "outputs": [],
   "source": [
    "df.groupby(['sexo']).idade.mean()"
   ]
  },
  {
   "cell_type": "code",
   "execution_count": null,
   "id": "aa11e264",
   "metadata": {},
   "outputs": [],
   "source": []
  },
  {
   "cell_type": "code",
   "execution_count": null,
   "id": "e001b739",
   "metadata": {},
   "outputs": [],
   "source": [
    "# Média de idade por sexo, cor e tipo de escola:\n",
    "\n",
    "# Tanto pessoas do sexo feminino, quanto masculino, \n",
    "# percebe-se que entre os índigenas e pessoas pretas possuem \n",
    "# média de idade maior.\n",
    "# Isso pode indicar algum tipo de dificuldade de acesso a educação e \n",
    "# melhores qualidades de vida por # parte dessas pessoas e, talvez, \n",
    "# até algum tipo de discriminação (podendo ser vividas por ele ou por seus ascendentes)."
   ]
  },
  {
   "cell_type": "code",
   "execution_count": null,
   "id": "8d1c326f",
   "metadata": {},
   "outputs": [],
   "source": [
    "df.groupby(['sexo', \"cor\", \"tip_esc\"]).idade.mean()"
   ]
  },
  {
   "cell_type": "code",
   "execution_count": null,
   "id": "7ad83f8d",
   "metadata": {},
   "outputs": [],
   "source": [
    "# Nota final do Enem 2019 por sexo e tipo de escola:\n",
    "\n",
    "# Em relação a média, percebe-se que as médias dos alunos de escolas privadas\n",
    "# são maiores quando comparados com alunos de escolas públicas.\n",
    "# Isso pode indicar problemas na educação.\n",
    "\n",
    "# Quando olhamos para a menor nota dos alunos, novamente\n",
    "# os discentes da escola particular possuem notas maiores.\n",
    "# Novamente, pode indicar problemas na educação.\n",
    "\n",
    "# Ao olhar a maior nota, mais uma vez, os alunos de escola particular\n",
    "# apresentaram notas maiores quando comparados com os alunos da escola pública.\n",
    "# Vale ressaltar que, entre os meninos, essa diferença foi bem menor, quando \n",
    "# comparado com as meninas.\n",
    "\n",
    "# Já o desvio padrão evidencia que existe uma maior variabilidade das notas\n",
    "# dos alunos da escola pública (ao se comparar com discentes de escolas particulares)."
   ]
  },
  {
   "cell_type": "code",
   "execution_count": null,
   "id": "370caadb",
   "metadata": {},
   "outputs": [],
   "source": [
    "df.groupby(['sexo', \"tip_esc\"])['nota_final'].mean()"
   ]
  },
  {
   "cell_type": "code",
   "execution_count": null,
   "id": "d033e8d6",
   "metadata": {},
   "outputs": [],
   "source": [
    "df.groupby(['sexo', \"tip_esc\"])['nota_final'].min()"
   ]
  },
  {
   "cell_type": "code",
   "execution_count": null,
   "id": "fd9b00f3",
   "metadata": {},
   "outputs": [],
   "source": [
    "df.groupby(['sexo', \"tip_esc\"])['nota_final'].max()"
   ]
  },
  {
   "cell_type": "code",
   "execution_count": null,
   "id": "c2dfbeb9",
   "metadata": {},
   "outputs": [],
   "source": [
    "df.groupby(['sexo', \"tip_esc\"])['nota_final'].std()"
   ]
  },
  {
   "cell_type": "code",
   "execution_count": null,
   "id": "2e45b377",
   "metadata": {},
   "outputs": [],
   "source": [
    "# Nota final do Enem 2019 por sexo, cor e tipo de escola:\n",
    "\n",
    "# Mais uma vez, os indígenas e pessoas da cor preta possuem as menores notas.\n",
    "# Indivíduos de escolas particulares evidenciam as maiores notas."
   ]
  },
  {
   "cell_type": "code",
   "execution_count": null,
   "id": "ff467349",
   "metadata": {},
   "outputs": [],
   "source": [
    "df.groupby(['sexo', 'cor', \"tip_esc\"])['nota_final'].mean()"
   ]
  },
  {
   "cell_type": "code",
   "execution_count": null,
   "id": "a10fb970",
   "metadata": {},
   "outputs": [],
   "source": [
    "# Média da nota final por classe:\n",
    "\n",
    "# Pessoas de classes mais altas, apresentaram as maiores médias.\n",
    "# Isso pode evidenciar melhores condições de acesso a n fatores."
   ]
  },
  {
   "cell_type": "code",
   "execution_count": null,
   "id": "8c0e7b6d",
   "metadata": {},
   "outputs": [],
   "source": [
    "df.groupby([\"renda_men\"])['nota_final'].mean()"
   ]
  },
  {
   "cell_type": "code",
   "execution_count": null,
   "id": "4ba1bf0c",
   "metadata": {},
   "outputs": [],
   "source": [
    "# Média da nota final por classe e sexo:\n",
    "\n",
    "# Mais uma vez, rendas maiores permitem acesso a educação de melhor qualidade.\n",
    "# As notas dos meninos e das meninas, para cada faixa de renda, são bem parecidas."
   ]
  },
  {
   "cell_type": "code",
   "execution_count": null,
   "id": "c6c04d54",
   "metadata": {},
   "outputs": [],
   "source": [
    "df.groupby([\"renda_men\", \"sexo\"])['nota_final'].mean()"
   ]
  },
  {
   "cell_type": "code",
   "execution_count": null,
   "id": "32764167",
   "metadata": {},
   "outputs": [],
   "source": [
    "# Desagregando por notas\n",
    "# Nota média por prova do Enem 2019 por sexo e tipo de escola:\n",
    "\n",
    "# Mais uma vez, verificou-se que as notas dos alunos de escolas privadas são maiores\n",
    "# que a dos alunos de escola públicas.\n",
    "# Isso corrobora com as análises anteriores."
   ]
  },
  {
   "cell_type": "code",
   "execution_count": null,
   "id": "d5ed840f",
   "metadata": {},
   "outputs": [],
   "source": [
    "df.groupby(['sexo', \"tip_esc\"])['nota_red', \"nota_cien_nat\", \"nota_cien_hum\", \"nota_ling\", \"nota_mat\"].mean()"
   ]
  },
  {
   "cell_type": "code",
   "execution_count": null,
   "id": "63abb1f9",
   "metadata": {},
   "outputs": [],
   "source": [
    "# Considerando acesso a lazer, saneamento, local adequado para dormir e acesso a geladeira,\n",
    "# na nota média final do Enem 2019.\n",
    "\n",
    "# Percebeu-se que quem possui acesso a esses itens, apresenta um desempenho melhor na nota.\n",
    "# Isso pode ser explicado pelo fato de uma melhor qualidade de vida, além de contribuir \n",
    "# para o capital humano."
   ]
  },
  {
   "cell_type": "code",
   "execution_count": null,
   "id": "ad046b15",
   "metadata": {},
   "outputs": [],
   "source": [
    "df.groupby([\"tem_wc\"])['nota_final'].mean()"
   ]
  },
  {
   "cell_type": "code",
   "execution_count": null,
   "id": "fcd2191c",
   "metadata": {},
   "outputs": [],
   "source": [
    "df.groupby([\"tem_quartos\"])['nota_final'].mean()"
   ]
  },
  {
   "cell_type": "code",
   "execution_count": null,
   "id": "b54d6b7f",
   "metadata": {},
   "outputs": [],
   "source": [
    "df.groupby([\"tem_geladeira\"])['nota_final'].mean()"
   ]
  },
  {
   "cell_type": "code",
   "execution_count": null,
   "id": "a98bf30c",
   "metadata": {},
   "outputs": [],
   "source": [
    "df.groupby([\"tem_tv\"])['nota_final'].mean()"
   ]
  },
  {
   "cell_type": "code",
   "execution_count": null,
   "id": "dce9c4e4",
   "metadata": {},
   "outputs": [],
   "source": [
    "df.groupby([\"tem_cel\"])['nota_final'].mean()"
   ]
  },
  {
   "cell_type": "code",
   "execution_count": null,
   "id": "698c8501",
   "metadata": {},
   "outputs": [],
   "source": [
    "df.groupby([ \"tem_pc\"])['nota_final'].mean()"
   ]
  },
  {
   "cell_type": "code",
   "execution_count": null,
   "id": "4ead51c8",
   "metadata": {},
   "outputs": [],
   "source": [
    "df.groupby([\"tem_net\"])['nota_final'].mean()"
   ]
  },
  {
   "cell_type": "code",
   "execution_count": null,
   "id": "48d8aac9",
   "metadata": {},
   "outputs": [],
   "source": [
    "df.groupby([\"tem_pc\", \"tem_net\"])['nota_final'].mean()"
   ]
  },
  {
   "cell_type": "code",
   "execution_count": null,
   "id": "57230f0b",
   "metadata": {},
   "outputs": [],
   "source": [
    "df.groupby([\"tem_cel\", \"tem_net\"])['nota_final'].mean()"
   ]
  },
  {
   "cell_type": "code",
   "execution_count": null,
   "id": "09d9f921",
   "metadata": {},
   "outputs": [],
   "source": [
    "# Ocupação dos pais e a nota final\n",
    "\n",
    "# Comparando a ocupação dos pais, levando em consideração o seu nível educacional,\n",
    "# é possível verificar que, quanto maior a escolaridade da mãe, maior tende a ser\n",
    "# o desempenho dos filhos na nota do Enem.\n",
    "# Isso pode ser explicado pelo fato das mães incentivarem mais os filhos no campo\n",
    "# educacional.\n",
    "# Além disso, utilizar a escolaridade da mãe como proxy para a escolaridade dos\n",
    "# filhos, é uma prática muito utilizada nas pesquisas científicas. "
   ]
  },
  {
   "cell_type": "code",
   "execution_count": null,
   "id": "a3b278c1",
   "metadata": {},
   "outputs": [],
   "source": [
    "df.groupby([\"ocup_pai\"])['nota_final'].mean()"
   ]
  },
  {
   "cell_type": "code",
   "execution_count": null,
   "id": "1bbd54ef",
   "metadata": {},
   "outputs": [],
   "source": [
    "df.groupby([\"ocup_mae\"])['nota_final'].mean()"
   ]
  },
  {
   "cell_type": "code",
   "execution_count": null,
   "id": "c8749ffe",
   "metadata": {},
   "outputs": [],
   "source": [
    "# Nome social e nota do final\n",
    "\n",
    "# Uma pessoa que adota o nome social, a chance dela ter sofrido algum tipo de \n",
    "# bullying na escola deve ter sido grande.\n",
    "# Dessa forma, quando a pessoa adota o nome social, a mesma tende a se sentir melhor,\n",
    "# um sentimento de pertencimento, pois agora ela começa a ser vista como ela desejou ser.\n",
    "# Psicologicamente, a adoção desse nome social, permite uma espécie de ânimo\n",
    "# para a pessoa e, por isso, ela tende a fazer uma prova melhor.\n",
    "# O mesmo ocorre quando desagregamos a nota final por tipo de prova."
   ]
  },
  {
   "cell_type": "code",
   "execution_count": null,
   "id": "68d16224",
   "metadata": {},
   "outputs": [],
   "source": [
    "df.groupby([\"nom_social\"])['nota_final'].mean()"
   ]
  },
  {
   "cell_type": "code",
   "execution_count": null,
   "id": "172097e8",
   "metadata": {},
   "outputs": [],
   "source": [
    "df.groupby([\"nom_social\"])['nota_red', \"nota_cien_nat\", \"nota_cien_hum\", \"nota_ling\", \"nota_mat\"].mean()"
   ]
  },
  {
   "cell_type": "code",
   "execution_count": null,
   "id": "42ab62b9",
   "metadata": {},
   "outputs": [],
   "source": [
    "# Quem possui maior renda, tende a apresentar notas maiores,\n",
    "# especialmente quando estudam em colégios privados.\n",
    "# Além disso, pessoas que possuem rendas maiores e que estudam \n",
    "# em colégios públicos, também possuem um desempenho melhor,\n",
    "# quando comparados com demais alunos de colégios públicos.\n",
    "# Um dos motivos que podem explicar esse fato, é que pessoas\n",
    "# com maiores poderes aquisitivos possuem melhores condições e, tendem\n",
    "# a possuir famílias mais estruturadas."
   ]
  },
  {
   "cell_type": "code",
   "execution_count": null,
   "id": "b66d5694",
   "metadata": {},
   "outputs": [],
   "source": [
    "df.groupby([\"tip_esc\", \"renda_men\"])['nota_final'].mean()"
   ]
  },
  {
   "cell_type": "code",
   "execution_count": null,
   "id": "570c1239",
   "metadata": {},
   "outputs": [],
   "source": [
    "# Nota final na prova por região brasileira\n",
    "\n",
    "# A região Sudeste apresenta a maior nota final, seguida pela região Sul.\n",
    "# Isso pode evidenciar disparidades na educação entre as regiões brasileiras.\n",
    "# Além disso, dependendo da localidade, o acesso a educação\n",
    "# tende a ser mais difícil, principalmente na região norte,\n",
    "# que apresentou a menor nota."
   ]
  },
  {
   "cell_type": "code",
   "execution_count": null,
   "id": "cf4bcc47",
   "metadata": {},
   "outputs": [],
   "source": [
    "df.groupby([\"regiao_br\"])['nota_final'].mean()"
   ]
  },
  {
   "cell_type": "code",
   "execution_count": null,
   "id": "98a3ea00",
   "metadata": {},
   "outputs": [],
   "source": [
    "# Quando analisamos as notas por região e tipo de escola, \n",
    "# é possível verificar que, novamente, as notas de alunos\n",
    "# de escola pública tendem a ser menores quando comparados com colégios particulares.\n",
    "# Porém, agora, a nota da região centro-oeste torna-se maior, seguidos\n",
    "# pelas regiões sul e sudeste - notas muito próximas."
   ]
  },
  {
   "cell_type": "code",
   "execution_count": null,
   "id": "0d8e0f58",
   "metadata": {},
   "outputs": [],
   "source": [
    "df.groupby([\"regiao_br\", \"tip_esc\"])['nota_final'].mean()"
   ]
  },
  {
   "cell_type": "code",
   "execution_count": null,
   "id": "53c69370",
   "metadata": {},
   "outputs": [],
   "source": [
    "# Língua estrangeira escolhida:"
   ]
  },
  {
   "cell_type": "code",
   "execution_count": null,
   "id": "79ec3c62",
   "metadata": {},
   "outputs": [],
   "source": [
    "df[[\"idioma\" ]].value_counts()"
   ]
  },
  {
   "cell_type": "code",
   "execution_count": null,
   "id": "a1bde1fb",
   "metadata": {},
   "outputs": [],
   "source": [
    "# Temos uma maior quantidade de pessoas realizando a prova de inglês,\n",
    "# quando comparado com o espanhol."
   ]
  },
  {
   "cell_type": "code",
   "execution_count": null,
   "id": "cff7a18f",
   "metadata": {},
   "outputs": [],
   "source": [
    "# Candidatos das classes C, D e E são maioria analisando o todo. Entre escolas públicas e privadas,\n",
    "# notamos que as mesmas classes de escolas públicas são maioria em relação às escolas privadas."
   ]
  },
  {
   "cell_type": "code",
   "execution_count": null,
   "id": "bd63b1d9",
   "metadata": {},
   "outputs": [],
   "source": [
    "df[[\"sexo\", \"tip_esc\", \"renda_men\" ]].value_counts()"
   ]
  },
  {
   "cell_type": "code",
   "execution_count": null,
   "id": "ca6cb8fe",
   "metadata": {},
   "outputs": [],
   "source": [
    "# Como esperado, temos mais pessoas solteiras fazendo a prova.\n",
    "# Isso ainda é corroborado pela idade média."
   ]
  },
  {
   "cell_type": "code",
   "execution_count": null,
   "id": "6fd6ef9d",
   "metadata": {},
   "outputs": [],
   "source": [
    "df[[\"est_civil\" ]].value_counts()"
   ]
  },
  {
   "cell_type": "code",
   "execution_count": null,
   "id": "97fa9ece",
   "metadata": {},
   "outputs": [],
   "source": [
    "# Quantidade de candidatos vindos de escolas públicas vs escolas privadas"
   ]
  },
  {
   "cell_type": "code",
   "execution_count": null,
   "id": "32656e89",
   "metadata": {},
   "outputs": [],
   "source": [
    "df[[\"tip_esc\" ]].value_counts()"
   ]
  },
  {
   "cell_type": "code",
   "execution_count": null,
   "id": "810f6df0",
   "metadata": {},
   "outputs": [],
   "source": [
    "# Quantidade de alunos em escolas públicas, separados por sexo:\n",
    "\n",
    "# Como esperado, temos mais pessoas de escolas públicas, tanto do sexo masculino\n",
    "# quanto do sexo feminino."
   ]
  },
  {
   "cell_type": "code",
   "execution_count": null,
   "id": "8fd655f9",
   "metadata": {},
   "outputs": [],
   "source": [
    "df.groupby(['sexo'])['tip_esc'].value_counts()"
   ]
  },
  {
   "cell_type": "code",
   "execution_count": null,
   "id": "322b3243",
   "metadata": {},
   "outputs": [],
   "source": [
    "# Também esperado, existem mais pessoas de classe mais baixa, quando comparado com classes \n",
    "# mais altas."
   ]
  },
  {
   "cell_type": "code",
   "execution_count": null,
   "id": "5a5a5d68",
   "metadata": {},
   "outputs": [],
   "source": [
    "df.groupby(['sexo'])['renda_men'].value_counts()"
   ]
  },
  {
   "cell_type": "code",
   "execution_count": null,
   "id": "7aac61c9",
   "metadata": {},
   "outputs": [],
   "source": [
    "# Em porcentagem:"
   ]
  },
  {
   "cell_type": "code",
   "execution_count": null,
   "id": "5ee37b26",
   "metadata": {},
   "outputs": [],
   "source": [
    "pes_e = ((93761 + 137568 ) / 531635) * 100\n",
    "pes_d = ((62561 + 75585 ) / 531635) * 100\n",
    "pes_c = ((53607 + 57628 ) / 531635) * 100\n",
    "pes_b = ((18038 + 18035 ) / 531635) * 100\n",
    "pes_a = ((7860 + 6992 ) / 531635) * 100\n",
    "print(pes_e, pes_d, pes_c, pes_b, pes_a)\n",
    "\n",
    "43.5127484082124 + 25.98512137086535 + 20.923189782463535 + 6.785294421924817 + 2.7936460165339003\n"
   ]
  },
  {
   "cell_type": "code",
   "execution_count": null,
   "id": "8fd88cd3",
   "metadata": {},
   "outputs": [],
   "source": [
    "# Em termos percentuais, temos mais indivíduos da classe A em colégios privados\n",
    "# quanto comparados em escola pública."
   ]
  },
  {
   "cell_type": "code",
   "execution_count": null,
   "id": "c71d50e4",
   "metadata": {},
   "outputs": [],
   "source": [
    "df.groupby(['tip_esc'])['renda_men'].value_counts()"
   ]
  }
 ],
 "metadata": {
  "kernelspec": {
   "display_name": "Python 3 (ipykernel)",
   "language": "python",
   "name": "python3"
  },
  "language_info": {
   "codemirror_mode": {
    "name": "ipython",
    "version": 3
   },
   "file_extension": ".py",
   "mimetype": "text/x-python",
   "name": "python",
   "nbconvert_exporter": "python",
   "pygments_lexer": "ipython3",
   "version": "3.9.7"
  }
 },
 "nbformat": 4,
 "nbformat_minor": 5
}
