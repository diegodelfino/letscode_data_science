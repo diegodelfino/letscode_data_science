{
 "cells": [
  {
   "cell_type": "markdown",
   "id": "72ed2200-0b78-452b-8ce5-e5a7902dc607",
   "metadata": {},
   "source": [
    "### Mini Projeto 1\n",
    "\n",
    "Você trabalha em uma Rede Social e precisa criar uma estrutura que represente as pessoas que a usam em python (com Programação Orientado a Objetos).\n",
    "É necessário guardar informações das pessoas que utilizam essa rede social:\n",
    "\n",
    "- <s>nome</s> - FEITO\n",
    "- <s>apelido</s> - FEITO\n",
    "- <s>data de nascimento</s> - FEITO\n",
    "- <s>e-mail</s> - FEITO\n",
    "- <s>amigos</s> - FEITO\n",
    "- <s>lista de interesses</s> - FEITO\n",
    "- <s><s>posts</s><s> - FEITO\n",
    "    \n",
    "E além disso, existem algumas funcionalidades que precisamos ter:\n",
    "\n",
    "- <s><s>adicionar um amigo na lista de amigos</s><s> - FEITO\n",
    "- <s><s>adicionar um interesse na lista interesses</s><s> - FEITO\n",
    "- <s><s>postar</s><s> - FEITO\n",
    "- <s><s>calcular a quantidade de amigos</s><s> - FEITO\n",
    "- <s><s>calcular a quantidade de posts</s><s> - FEITO\n",
    "- <s><s>dado um nome, verificar se existe uma pessoa com esse nome na sua lista de amizade</s><s> - FEITO\n",
    "- <s><s>dado uma palavra ou frase, trazer TODOS os posts com aquela palavra (procurar post)</s><s> - FEITO\n",
    "- <s><s>mostrar os posts dos amigos</s><s> - FEITO"
   ]
  },
  {
   "cell_type": "markdown",
   "id": "45471915-8d89-45cb-bbe0-4bf38adcdfd2",
   "metadata": {},
   "source": [
    "_________"
   ]
  },
  {
   "cell_type": "markdown",
   "id": "03f348c3-5d1b-43f5-b5cf-1777e45cf1b1",
   "metadata": {},
   "source": [
    "Parâmetros de correção:\n",
    "\n",
    "- Documentação\n",
    "- Bom nomes de classe, atributos, métodos, etc.\n",
    "- Lógica"
   ]
  },
  {
   "cell_type": "markdown",
   "id": "15ecfcc0-dfc4-49d5-877d-61530276d1b1",
   "metadata": {},
   "source": [
    "_______"
   ]
  },
  {
   "cell_type": "markdown",
   "id": "3b1b820d-cbb6-421f-86fd-821b282e3b84",
   "metadata": {},
   "source": [
    "É importante que você traga os testes que fez para testar as funcionalidades!\n",
    "\n"
   ]
  },
  {
   "cell_type": "markdown",
   "id": "8e929696-c3fa-46d0-bba4-a6cadda7ba8c",
   "metadata": {},
   "source": [
    "______\n"
   ]
  },
  {
   "cell_type": "code",
   "execution_count": 1,
   "id": "0e8cc085-6bc4-4fdb-9685-d057d1af9cbc",
   "metadata": {
    "tags": []
   },
   "outputs": [],
   "source": [
    "class Pessoa:\n",
    "    '''\n",
    "    Classe para Rede Social que cria um usuário, associa amigos, interesses e postagens.\n",
    "    '''\n",
    "    def __init__(self, nome_usuario, apelido, data_nascimento, email):\n",
    "        '''\n",
    "        Construtor que cria um usuário na rede social.\n",
    "        \n",
    "        Parâmetros\n",
    "        ----------\n",
    "        nome_usuario : str\n",
    "            nome do usuário.\n",
    "        apelido: str\n",
    "            apelido do usuário.\n",
    "        data_nascimento = str\n",
    "            data de nascimento do usuário.\n",
    "        email : str\n",
    "            e-mail do usuário.\n",
    "        lista_amigos : list | obj\n",
    "            lista de amigos do usuário.\n",
    "        lista_interesse : list | str\n",
    "            lista de interesses do usuário.\n",
    "        lista_post : list | str \n",
    "            lista de postagens do usuário.\n",
    "        '''\n",
    "        \n",
    "        # Definindo os atributos\n",
    "        self.nome_usuario = nome_usuario\n",
    "        self.apelido = apelido\n",
    "        self.data_nascimento = data_nascimento\n",
    "        self.email = email\n",
    "        \n",
    "        # Criando recursos, através de outros atributos que serão reutilizados \n",
    "        # e guardando-os no construtor\n",
    "        \n",
    "        self.lista_amigos = []\n",
    "        self.lista_interesse = []\n",
    "        self.lista_postagem = []\n",
    "        \n",
    "    def adicionar_amigos(self, amigo):\n",
    "        '''\n",
    "        Adiciona um amigo a lista de amigos do usuário e vice-versa.\n",
    "        \n",
    "        Condição: O usuário não poderá ser seu próprio amigo e cada amigo será adicionado uma vez.\n",
    "        \n",
    "        Parâmetros\n",
    "        ----------\n",
    "        amigo : Pessoa\n",
    "            Amigo que será adicionado a lista de amigos do usuário.\n",
    "        \n",
    "        \n",
    "        '''\n",
    "        if amigo not in self.lista_amigos:\n",
    "            self.lista_amigos.append(amigo)\n",
    "            amigo.lista_amigos.append(self)\n",
    "            \n",
    "    def adicionar_interesse(self, interesse):\n",
    "        '''\n",
    "        Adiciona um interesse a lista de interesses do usuário.\n",
    "        Condição: não serão inseridos interesses já existentes a lista do usuário.\n",
    "        \n",
    "        Parâmetros\n",
    "        ----------\n",
    "        interesse: str\n",
    "            o interesse que o usuário deseja adicionar a sua lista.\n",
    "        lista_interesse: list | str\n",
    "            lista de interesses do usuário.\n",
    "        '''\n",
    "        \n",
    "        # verifica se um interesse já foi adicionado anteriormente pelo usuário,\n",
    "        # se não aconteceu, adiciona o interesse na lista de interesses do usuário.\n",
    "        if interesse.capitalize() not in self.lista_interesse:\n",
    "            self.lista_interesse.append(interesse.capitalize())\n",
    "            \n",
    "    def adicionar_postagem(self, postagem):\n",
    "        ''''\n",
    "        Adiciona uma postagem na lista de postagens do usuário.\n",
    "        \n",
    "        Condição: não serão inseridas postagens já existentes a lista do usuário.\n",
    "        \n",
    "        Parâmetro\n",
    "        ---------\n",
    "        postagem : str\n",
    "            a postagem que o usuário deseja adicionar a sua lista.\n",
    "        lista_postagem : list | str\n",
    "            lista de postagens do usuário.\n",
    "        '''\n",
    "        \n",
    "        # verifica se uma postagem já foi adicionada anteriormente pelo usuário,\n",
    "        # se não aconteceu, adiciona a postagem na lista de postagens do usuário.\n",
    "        \n",
    "        if postagem.capitalize() not in self.lista_postagem:\n",
    "            self.lista_postagem.append(postagem.capitalize())\n",
    "    \n",
    "    \n",
    "    # Não é necessário docstring para os métodos mágicos __repr__ e __srt__\n",
    "    def __repr__(self):\n",
    "        return f'\\nNome: {self.nome_usuario} \\nApelido: {self.apelido} \\nData_nasc: {self.data_nascimento} \\ne-mail: {self.email}'\n",
    "    \n",
    "    \n",
    "    def buscar_amigos(self, amigo_pesquisado):\n",
    "        '''\n",
    "        Localiza se o nome buscado está na lista de amigos do usuário.\n",
    "    \n",
    "        Parâmetro\n",
    "        ---------\n",
    "        amigo_pesquisado : str\n",
    "            amigo do usuário a ser pesquisado.\n",
    "        lista_amigos : list | str\n",
    "            lista de amigos do usuário.\n",
    "            \n",
    "        Saída\n",
    "        -----\n",
    "        Mostra uma mensagem se o nome do pesquisado está na lista de amigos do usuário em referência.\n",
    "        '''\n",
    "        \n",
    "        # entre dentro da lista e pesquisa se o nome pesquisado está na lista de amigos do usuário\n",
    "        # ele irá verificar cada um dos usuários, ou seja, compara o nome com os objetos\n",
    "        # caso de match, ele incrementar o contador\n",
    "        \n",
    "        i = 1 \n",
    "        for amigo in self.lista_amigos:\n",
    "            if amigo_pesquisado in amigo.nome_usuario:\n",
    "                i += 1\n",
    "        \n",
    "        # se o contador for != 1, ele indicará que o nome pesquisado está na lista de amigos do usuário\n",
    "        # se o contador for = 1, ele indicará que o nome pesquisado não está na lista de amigos do usuário\n",
    "        \n",
    "        if i != 1:\n",
    "            print(f'{amigo_pesquisado} está na lista de amigos de {self.nome_usuario}.')\n",
    "        else:\n",
    "            print(f'{amigo_pesquisado} NÃO está na lista de amigos de {self.nome_usuario}.')\n",
    "\n",
    "    def buscar_postagem(self, palavra_pesquisada):\n",
    "        '''\n",
    "        A partir de uma palavra verifica na lista de postagem se ela existe\n",
    "        na lista de postagem do usuário e seus amigos.\n",
    "    \n",
    "        Parâmetro\n",
    "        ---------\n",
    "        palavra_pesquisada: str\n",
    "            palavra a ser pesquisada.\n",
    "        lista_amigos : list | str\n",
    "            lista de amigos do usuário.\n",
    "        lista_postagem : list | str\n",
    "            lista de postagem do self.\n",
    "            \n",
    "        Saída\n",
    "        -----\n",
    "        Mostra as postagens da palavra utilizada na busca associada ao usuário e seus amigos\n",
    "        ou se não for localizada a palavra.\n",
    "        '''\n",
    "        \n",
    "        #COMENTAR\n",
    "        i = 0 \n",
    "        for post in self.lista_postagem:\n",
    "            if palavra_pesquisada.lower() in post.lower():\n",
    "                print(f'{self.nome_usuario} postou: \\n\\t{post}')\n",
    "                i += 1\n",
    "                \n",
    "        #COMENTAR\n",
    "        for amigo in self.lista_amigos:\n",
    "            for post in amigo.lista_postagem:\n",
    "                if palavra_pesquisada.lower() in post.lower():\n",
    "                    print(f'\\nO amigo de {self.nome_usuario}, {amigo.nome_usuario} postou: \\n\\t{post}')\n",
    "                    i += 1\n",
    "        \n",
    "        #COMENTAR\n",
    "        if i == 0:\n",
    "            print(f'\\nPostagem não encontrada para {self.nome_usuario} e seus amigos.')\n",
    "        \n",
    "        print(f'\\n\\tA palavra pesquisada foi: {palavra_pesquisada}')\n",
    "        print(f'\\n\\t----------------------------------------------')\n",
    "        \n",
    "        \n",
    "    def contar_amigos(self):\n",
    "        '''\n",
    "        Conta a quantidade de amigos do usuário.\n",
    "        \n",
    "        Parâmetros\n",
    "        ----------\n",
    "        lista_amigos: list | obj\n",
    "            Acessa os objetos da lista de amigos do usuário.\n",
    "            \n",
    "        Saída\n",
    "        -----\n",
    "        Apresenta a quantidade de objetos da lista de amigos do usuário, ou seja, a quantidade de amigos.\n",
    "        \n",
    "        '''\n",
    "        \n",
    "        # COMENTAR\n",
    "        print(f'{self.nome_usuario} possui {len(self.lista_amigos)} amigo(s).')\n",
    "    \n",
    "    def contar_postagens(self):\n",
    "        '''\n",
    "        Conta a quantidade de postagens realizadas pelo usuário.\n",
    "        \n",
    "        Parâmetros\n",
    "        ----------\n",
    "        lista_postagem: list | str\n",
    "            Acessa os elementos da lista de postagens\n",
    "            \n",
    "        Saída\n",
    "        -----\n",
    "        Apresenta a quantidade de elementos da lista de postagens, ou seja, a quantidade de postagens.\n",
    "        \n",
    "        '''\n",
    "        \n",
    "        # Realizei essa construção para contar a quantidade de postagens\n",
    "        # utilizando o for para percorrer todos os elementos da lista\n",
    "        \n",
    "        # i = 0\n",
    "        # for post in self.lista_postagem:\n",
    "        #    i += 1\n",
    "        # print(f'{self.nome_usuario} postou {i} vez(es).')\n",
    "        \n",
    "        # Porém, realizei essa outra forma de contar o len da lista \n",
    "        # que traz o mesmo resultado e economiza o processo\n",
    "        \n",
    "        print(f'{self.nome_usuario} postou {len(self.lista_postagem)} vez(es).')\n",
    "        \n",
    "        \n",
    "            \n",
    "    def mostrar_postagem_amigo(self):\n",
    "        '''\n",
    "        Mostra as postagens dos amigos do usuários.\n",
    "        \n",
    "        Parâmetros\n",
    "        ----------\n",
    "        lista_amigos : list | obj\n",
    "            Lista de amigos do usuário.\n",
    "        lista_postagem: list | str\n",
    "            Lista de postagens dos amigos do usuário.\n",
    "            \n",
    "        Saída\n",
    "        -----\n",
    "        Mostra todas as postagens dos amigos do usuário.\n",
    "        '''\n",
    "        \n",
    "        # cria um recurso para buscar os amigos do usário\n",
    "        # na sequência mostra o nome do amigo\n",
    "        # acessa e mostra todas as postagens desse amigo\n",
    "        \n",
    "        for amigo in self.lista_amigos:\n",
    "            print(f'\\n\\t----------------------------------------------')\n",
    "            print(f'\\n{amigo.nome_usuario}, amigo(a) de {self.nome_usuario} postou:')\n",
    "            for post in amigo.lista_postagem:\n",
    "                print(f'\\t{post}')"
   ]
  },
  {
   "cell_type": "markdown",
   "id": "ccc3fc3b-b15a-4b19-b365-4ad8945bda3a",
   "metadata": {},
   "source": [
    "_____"
   ]
  },
  {
   "cell_type": "markdown",
   "id": "1b29192c-64a9-4478-96ab-d65a4fb9bebd",
   "metadata": {},
   "source": [
    "### VALIDANDO O MÉTODO CONSTRUTOR e MÉTODO MÁGICO REPR\n",
    "### Criando os usuários"
   ]
  },
  {
   "cell_type": "code",
   "execution_count": 2,
   "id": "fa08a715-8786-4ecd-9dcb-2b07868aa97f",
   "metadata": {},
   "outputs": [
    {
     "name": "stdout",
     "output_type": "stream",
     "text": [
      "Diego Delfino\n",
      "Bruce\n",
      "07/07/1984\n",
      "dzionn@gmail.com\n"
     ]
    }
   ],
   "source": [
    "# Validando o construtor na Classe Pessoa\n",
    "# Criando os objetos | Instânciando, ou seja, criando os usuários.\n",
    "# a apresentação do objeto se dá por conta do método mágico\n",
    "\n",
    "diego = Pessoa(\n",
    "    nome_usuario = 'Diego Delfino', \n",
    "    apelido = 'Bruce', \n",
    "    data_nascimento = '07/07/1984', \n",
    "    email = 'dzionn@gmail.com')\n",
    "\n",
    "evellyn = Pessoa(\n",
    "    nome_usuario = 'Evellyn Jardim', \n",
    "    apelido = 'Vida', \n",
    "    data_nascimento = '03/02/1985', \n",
    "    email = 'evellyn@gmail.com')\n",
    "\n",
    "fabiola = Pessoa(\n",
    "    nome_usuario = 'Fabíola Araujo', \n",
    "    apelido = 'Fabíola', \n",
    "    data_nascimento = '17/04/1982', \n",
    "    email = 'tchandsfda@hotmail.com')\n",
    "\n",
    "william = Pessoa(\n",
    "    nome_usuario = 'William Oliveira', \n",
    "    apelido = 'Will', \n",
    "    data_nascimento = '11/06/1984', \n",
    "    email = 'will@outlook.com')\n",
    "\n",
    "print(diego.nome_usuario)\n",
    "print(diego.apelido)\n",
    "print(diego.data_nascimento)\n",
    "print(diego.email)"
   ]
  },
  {
   "cell_type": "code",
   "execution_count": 3,
   "id": "7d4be19c-0b67-4f69-a58b-0bba3519bf57",
   "metadata": {},
   "outputs": [
    {
     "data": {
      "text/plain": [
       "\n",
       "Nome: Diego Delfino \n",
       "Apelido: Bruce \n",
       "Data_nasc: 07/07/1984 \n",
       "e-mail: dzionn@gmail.com"
      ]
     },
     "execution_count": 3,
     "metadata": {},
     "output_type": "execute_result"
    }
   ],
   "source": [
    "# validando a representação do objeto\n",
    "\n",
    "diego"
   ]
  },
  {
   "cell_type": "markdown",
   "id": "093169ee-56d6-4b82-9956-c397752e6f94",
   "metadata": {},
   "source": [
    "_____"
   ]
  },
  {
   "cell_type": "markdown",
   "id": "55a3cc85-ca4e-4192-a3fd-a60cb6afcbe5",
   "metadata": {},
   "source": [
    "### VALIDANDO O MÉTODO adicionar_amigos\n",
    "### Adicionando amigos"
   ]
  },
  {
   "cell_type": "code",
   "execution_count": 4,
   "id": "05517cb7-d92c-4b6a-85a9-ba883dad8dcb",
   "metadata": {},
   "outputs": [],
   "source": [
    "# adicionando amigos à lista_amigos de Diego e vice-versa, Diego na lista de seus amigos\n",
    "\n",
    "diego.adicionar_amigos(amigo = evellyn)\n",
    "diego.adicionar_amigos(amigo = fabiola)\n",
    "diego.adicionar_amigos(amigo = william)"
   ]
  },
  {
   "cell_type": "code",
   "execution_count": 5,
   "id": "23427827-7f73-436e-8610-61843f4b3dd4",
   "metadata": {},
   "outputs": [],
   "source": [
    "# validando a condição que o objeto (amigo), não é adicionado 2 vezes,\n",
    "# poderá ser visto na lista de amigos\n",
    "\n",
    "evellyn.adicionar_amigos(amigo = diego)\n",
    "diego.adicionar_amigos(amigo = evellyn)\n",
    "diego.adicionar_amigos(amigo = fabiola)\n",
    "diego.adicionar_amigos(amigo = william)"
   ]
  },
  {
   "cell_type": "code",
   "execution_count": 6,
   "id": "a86fa7f3-6d6c-43a6-8c0b-e0ba37d772ef",
   "metadata": {},
   "outputs": [],
   "source": [
    "evellyn.adicionar_amigos(amigo = william)"
   ]
  },
  {
   "cell_type": "markdown",
   "id": "a83fcf82-ffb1-4da3-a1a1-81106e1b7543",
   "metadata": {},
   "source": [
    "_______"
   ]
  },
  {
   "cell_type": "markdown",
   "id": "084c095e-fa89-49a8-bb81-f3918c0d4e90",
   "metadata": {},
   "source": [
    "### VALIDANDO O MÉTODO lista_amigos\n",
    "### Listando os amigos"
   ]
  },
  {
   "cell_type": "code",
   "execution_count": 7,
   "id": "e9a75333-35b2-4c00-a973-237f18144b5e",
   "metadata": {
    "tags": []
   },
   "outputs": [
    {
     "data": {
      "text/plain": [
       "[\n",
       " Nome: Evellyn Jardim \n",
       " Apelido: Vida \n",
       " Data_nasc: 03/02/1985 \n",
       " e-mail: evellyn@gmail.com,\n",
       " \n",
       " Nome: Fabíola Araujo \n",
       " Apelido: Fabíola \n",
       " Data_nasc: 17/04/1982 \n",
       " e-mail: tchandsfda@hotmail.com,\n",
       " \n",
       " Nome: William Oliveira \n",
       " Apelido: Will \n",
       " Data_nasc: 11/06/1984 \n",
       " e-mail: will@outlook.com]"
      ]
     },
     "execution_count": 7,
     "metadata": {},
     "output_type": "execute_result"
    }
   ],
   "source": [
    "# Diego possui 3 amigos, \n",
    "# logo 3 objetos\n",
    "# validando a condição que o objeto (amigo), não é adicionado 2 vezes.\n",
    "\n",
    "diego.lista_amigos"
   ]
  },
  {
   "cell_type": "code",
   "execution_count": 8,
   "id": "d4fcf914-d9f9-4a14-9bc0-32292b8eecfb",
   "metadata": {},
   "outputs": [
    {
     "data": {
      "text/plain": [
       "[\n",
       " Nome: Diego Delfino \n",
       " Apelido: Bruce \n",
       " Data_nasc: 07/07/1984 \n",
       " e-mail: dzionn@gmail.com,\n",
       " \n",
       " Nome: William Oliveira \n",
       " Apelido: Will \n",
       " Data_nasc: 11/06/1984 \n",
       " e-mail: will@outlook.com]"
      ]
     },
     "execution_count": 8,
     "metadata": {},
     "output_type": "execute_result"
    }
   ],
   "source": [
    "# Evellyn foi adicionado (vice-versa) a listo do Diego e se tornou amiga de William\n",
    "# logo são 2 objetos\n",
    "\n",
    "evellyn.lista_amigos"
   ]
  },
  {
   "cell_type": "code",
   "execution_count": 9,
   "id": "665c170e-af9b-4788-87f0-1f2e3f794f7d",
   "metadata": {},
   "outputs": [
    {
     "data": {
      "text/plain": [
       "[\n",
       " Nome: Diego Delfino \n",
       " Apelido: Bruce \n",
       " Data_nasc: 07/07/1984 \n",
       " e-mail: dzionn@gmail.com,\n",
       " \n",
       " Nome: Evellyn Jardim \n",
       " Apelido: Vida \n",
       " Data_nasc: 03/02/1985 \n",
       " e-mail: evellyn@gmail.com]"
      ]
     },
     "execution_count": 9,
     "metadata": {},
     "output_type": "execute_result"
    }
   ],
   "source": [
    "# William é amigo de Diego e Evellyn, \n",
    "# logo 2 objetos\n",
    "\n",
    "william.lista_amigos"
   ]
  },
  {
   "cell_type": "code",
   "execution_count": 10,
   "id": "73424fde-1635-4461-a9aa-53c542c69600",
   "metadata": {},
   "outputs": [
    {
     "data": {
      "text/plain": [
       "[\n",
       " Nome: Diego Delfino \n",
       " Apelido: Bruce \n",
       " Data_nasc: 07/07/1984 \n",
       " e-mail: dzionn@gmail.com]"
      ]
     },
     "execution_count": 10,
     "metadata": {},
     "output_type": "execute_result"
    }
   ],
   "source": [
    "# Fabíola é amiga somente de Diego, \n",
    "# logo 1 objeto\n",
    "\n",
    "fabiola.lista_amigos"
   ]
  },
  {
   "cell_type": "markdown",
   "id": "d3ee5d24-cfe2-4c2c-87b0-10e3a1995fc0",
   "metadata": {},
   "source": [
    "__________"
   ]
  },
  {
   "cell_type": "markdown",
   "id": "f67fb8e1-1575-436a-a179-73cafaed9f5a",
   "metadata": {},
   "source": [
    "### VALIDANDO O MÉTODO adicionar_interesse\n",
    "### Adicionando interesses"
   ]
  },
  {
   "cell_type": "code",
   "execution_count": 11,
   "id": "22e208b2-51eb-44a5-a378-96e49a138d2d",
   "metadata": {},
   "outputs": [
    {
     "data": {
      "text/plain": [
       "<bound method Pessoa.adicionar_interesse of \n",
       "Nome: Diego Delfino \n",
       "Apelido: Bruce \n",
       "Data_nasc: 07/07/1984 \n",
       "e-mail: dzionn@gmail.com>"
      ]
     },
     "execution_count": 11,
     "metadata": {},
     "output_type": "execute_result"
    }
   ],
   "source": [
    "# Interesses de diego como objeto\n",
    "# se atentar ao definir o método com nome diferente da lista\n",
    "# assim, o sistema irá instanciar o objeto\n",
    "\n",
    "diego.adicionar_interesse"
   ]
  },
  {
   "cell_type": "code",
   "execution_count": 12,
   "id": "4b2fef4f-4529-408a-8e5b-3ccfa953fe67",
   "metadata": {},
   "outputs": [],
   "source": [
    "diego.adicionar_interesse(interesse = 'filme')\n",
    "diego.adicionar_interesse(interesse = 'natação')\n",
    "diego.adicionar_interesse(interesse = 'estudar')\n",
    "diego.adicionar_interesse(interesse = 'morar fora do país')\n",
    "evellyn.adicionar_interesse(interesse = 'harry potter')\n",
    "evellyn.adicionar_interesse(interesse = 'cristais')\n",
    "evellyn.adicionar_interesse(interesse = 'ter um amor para vida toda')\n",
    "william.adicionar_interesse(interesse = 'plantas')\n",
    "william.adicionar_interesse(interesse = 'vaganismo')\n",
    "william.adicionar_interesse(interesse = 'festas')\n",
    "fabiola.adicionar_interesse(interesse = 'maquiagem')\n",
    "fabiola.adicionar_interesse(interesse = 'dormir')\n",
    "fabiola.adicionar_interesse(interesse = 'academia')"
   ]
  },
  {
   "cell_type": "markdown",
   "id": "f2a98e6e-562e-4914-aa99-fc8c1c530262",
   "metadata": {},
   "source": [
    "___________"
   ]
  },
  {
   "cell_type": "markdown",
   "id": "a586701d-9360-4141-a838-bb5173470123",
   "metadata": {},
   "source": [
    "### VALIDANDO O MÉTODO lista_interesse\n",
    "### Listando os interesses"
   ]
  },
  {
   "cell_type": "code",
   "execution_count": 13,
   "id": "e1685d79-c4cb-4086-8dd5-8711016ceff2",
   "metadata": {},
   "outputs": [
    {
     "name": "stdout",
     "output_type": "stream",
     "text": [
      "['Filme', 'Natação', 'Estudar', 'Morar fora do país']\n",
      "['Harry potter', 'Cristais', 'Ter um amor para vida toda']\n",
      "['Maquiagem', 'Dormir', 'Academia']\n",
      "['Plantas', 'Vaganismo', 'Festas']\n"
     ]
    }
   ],
   "source": [
    "# validando os interesses adicionados à lista de interesses dos usuários\n",
    "\n",
    "print(diego.lista_interesse)\n",
    "print(evellyn.lista_interesse)\n",
    "print(fabiola.lista_interesse)\n",
    "print(william.lista_interesse)"
   ]
  },
  {
   "cell_type": "markdown",
   "id": "6b35d5c5-0de4-466f-8c05-017a8225de79",
   "metadata": {},
   "source": [
    "___________"
   ]
  },
  {
   "cell_type": "markdown",
   "id": "cc049b6a-20c5-4e30-9cb1-99bddf664657",
   "metadata": {},
   "source": [
    "### VALIDANDO O MÉTODO adicionar_postagem\n",
    "### Adicionando postagens"
   ]
  },
  {
   "cell_type": "code",
   "execution_count": 14,
   "id": "4034f6ac-801c-418a-a3a2-b13b4bed2966",
   "metadata": {},
   "outputs": [
    {
     "data": {
      "text/plain": [
       "<bound method Pessoa.adicionar_postagem of \n",
       "Nome: Diego Delfino \n",
       "Apelido: Bruce \n",
       "Data_nasc: 07/07/1984 \n",
       "e-mail: dzionn@gmail.com>"
      ]
     },
     "execution_count": 14,
     "metadata": {},
     "output_type": "execute_result"
    }
   ],
   "source": [
    "# postagem de Diego como objeto\n",
    "\n",
    "diego.adicionar_postagem"
   ]
  },
  {
   "cell_type": "code",
   "execution_count": 15,
   "id": "2ab3d7eb-96af-4e69-9925-be4560b1c0ea",
   "metadata": {},
   "outputs": [],
   "source": [
    "diego.adicionar_postagem(postagem = 'queria sol hoje')\n",
    "evellyn.adicionar_postagem(postagem = 'estou cansada')\n",
    "fabiola.adicionar_postagem(postagem = 'to passando mal')\n",
    "william.adicionar_postagem(postagem = 'você que lute')\n",
    "william.adicionar_postagem(postagem = 'o sol é vida')\n",
    "evellyn.adicionar_postagem(postagem = 'estou querendo beber')\n",
    "evellyn.adicionar_postagem(postagem = 'parei de beber')"
   ]
  },
  {
   "cell_type": "markdown",
   "id": "3133a48f-bc4d-4c25-a430-3df608098280",
   "metadata": {},
   "source": [
    "___________"
   ]
  },
  {
   "cell_type": "markdown",
   "id": "e0d7dadf-e828-4fd5-b578-0c401b40b377",
   "metadata": {},
   "source": [
    "### VALIDANDO O MÉTODO lista_postagem\n",
    "### Listando as postagens"
   ]
  },
  {
   "cell_type": "code",
   "execution_count": 16,
   "id": "33d93e60-9ca4-481a-8781-130dc3447ce9",
   "metadata": {},
   "outputs": [
    {
     "name": "stdout",
     "output_type": "stream",
     "text": [
      "['Queria sol hoje']\n",
      "['Estou cansada', 'Estou querendo beber', 'Parei de beber']\n",
      "['To passando mal']\n",
      "['Você que lute', 'O sol é vida']\n"
     ]
    }
   ],
   "source": [
    "# validando a adição das postagens à lista de postagens dos usuários\n",
    "\n",
    "print(diego.lista_postagem)\n",
    "print(evellyn.lista_postagem)\n",
    "print(fabiola.lista_postagem)\n",
    "print(william.lista_postagem)"
   ]
  },
  {
   "cell_type": "markdown",
   "id": "e95e1a54-af34-4bff-9b1e-d16722497c8b",
   "metadata": {},
   "source": [
    "___________"
   ]
  },
  {
   "cell_type": "markdown",
   "id": "8e3fb8db-e091-47f5-ac75-ec43f60dd2ff",
   "metadata": {},
   "source": [
    "### VALIDANDO O MÉTODO buscar_amigos\n",
    "### Buscando amigos"
   ]
  },
  {
   "cell_type": "code",
   "execution_count": 17,
   "id": "ee99745c-3a1b-45e3-98bf-c00cc6be8a81",
   "metadata": {},
   "outputs": [
    {
     "name": "stdout",
     "output_type": "stream",
     "text": [
      "Diego está na lista de amigos de Evellyn Jardim.\n",
      "Jota NÃO está na lista de amigos de Evellyn Jardim.\n",
      "Fabíola está na lista de amigos de Diego Delfino.\n",
      "Will está na lista de amigos de Diego Delfino.\n",
      "Mari NÃO está na lista de amigos de William Oliveira.\n"
     ]
    }
   ],
   "source": [
    "# Validando o método de buscar amigos na lista de amigos do usuário\n",
    "\n",
    "evellyn.buscar_amigos('Diego')\n",
    "evellyn.buscar_amigos('Jota')\n",
    "diego.buscar_amigos('Fabíola')\n",
    "diego.buscar_amigos('Will')\n",
    "william.buscar_amigos('Mari')"
   ]
  },
  {
   "cell_type": "markdown",
   "id": "8e055941-e1d0-48b8-bb1e-1b8315a08f24",
   "metadata": {},
   "source": [
    "_____________"
   ]
  },
  {
   "cell_type": "markdown",
   "id": "15357b91-710e-440d-82b3-3812c4e4efdb",
   "metadata": {},
   "source": [
    "### VALIDANDO O MÉTODO buscar_postagem\n",
    "### Buscando as postagens"
   ]
  },
  {
   "cell_type": "code",
   "execution_count": 18,
   "id": "063a51e3-cdbe-4b10-a0c4-1a2675b8b73d",
   "metadata": {},
   "outputs": [
    {
     "name": "stdout",
     "output_type": "stream",
     "text": [
      "Diego Delfino postou: \n",
      "\tQueria sol hoje\n",
      "\n",
      "O amigo de Diego Delfino, William Oliveira postou: \n",
      "\tO sol é vida\n",
      "\n",
      "\tA palavra pesquisada foi: sol\n",
      "\n",
      "\t----------------------------------------------\n",
      "\n",
      "O amigo de Evellyn Jardim, Diego Delfino postou: \n",
      "\tQueria sol hoje\n",
      "\n",
      "O amigo de Evellyn Jardim, William Oliveira postou: \n",
      "\tO sol é vida\n",
      "\n",
      "\tA palavra pesquisada foi: sol\n",
      "\n",
      "\t----------------------------------------------\n"
     ]
    }
   ],
   "source": [
    "# validando o método de buscar postagem do usuário e seus amigos.\n",
    "\n",
    "diego.buscar_postagem('sol')\n",
    "evellyn.buscar_postagem('sol')"
   ]
  },
  {
   "cell_type": "code",
   "execution_count": 19,
   "id": "1481dd1e-2c2b-4ab1-acfd-fc42dbeaffb7",
   "metadata": {},
   "outputs": [
    {
     "name": "stdout",
     "output_type": "stream",
     "text": [
      "\n",
      "Postagem não encontrada para Diego Delfino e seus amigos.\n",
      "\n",
      "\tA palavra pesquisada foi: amada\n",
      "\n",
      "\t----------------------------------------------\n"
     ]
    }
   ],
   "source": [
    "# validando o método de buscar postagem do usuário e seus amigos.\n",
    "\n",
    "diego.buscar_postagem('amada')"
   ]
  },
  {
   "cell_type": "markdown",
   "id": "a04ed801-dfc4-45a4-8be1-902761483f54",
   "metadata": {},
   "source": [
    "_____________"
   ]
  },
  {
   "cell_type": "markdown",
   "id": "baacc366-977c-4f0a-b70e-0132d8523ae9",
   "metadata": {},
   "source": [
    "### VALIDANDO O MÉTODO contar_amigos\n",
    "### Contando amigos"
   ]
  },
  {
   "cell_type": "code",
   "execution_count": 20,
   "id": "912c696c-37c8-4b10-a5a4-485ebb5eb89f",
   "metadata": {},
   "outputs": [
    {
     "name": "stdout",
     "output_type": "stream",
     "text": [
      "Diego Delfino possui 3 amigo(s).\n",
      "Fabíola Araujo possui 1 amigo(s).\n",
      "Evellyn Jardim possui 2 amigo(s).\n",
      "William Oliveira possui 2 amigo(s).\n"
     ]
    }
   ],
   "source": [
    "# validando a contagem de amigos.\n",
    "\n",
    "diego.contar_amigos()\n",
    "fabiola.contar_amigos()\n",
    "evellyn.contar_amigos()\n",
    "william.contar_amigos()"
   ]
  },
  {
   "cell_type": "markdown",
   "id": "15c2ce63-3d47-44b2-b840-06104547fed8",
   "metadata": {},
   "source": [
    "__________"
   ]
  },
  {
   "cell_type": "markdown",
   "id": "5044a9fb-4e45-4be2-8925-58cde509a257",
   "metadata": {},
   "source": [
    "### VALIDANDO O MÉTODO contar_postagens\n",
    "### Contando as postagens"
   ]
  },
  {
   "cell_type": "code",
   "execution_count": 21,
   "id": "6ca2863b-ecfc-4214-b752-f675f9ec9800",
   "metadata": {},
   "outputs": [
    {
     "name": "stdout",
     "output_type": "stream",
     "text": [
      "Diego Delfino postou 1 vez(es).\n",
      "Fabíola Araujo postou 1 vez(es).\n",
      "Evellyn Jardim postou 3 vez(es).\n",
      "William Oliveira postou 2 vez(es).\n"
     ]
    }
   ],
   "source": [
    "# validando a contagem de amigos.\n",
    "\n",
    "diego.contar_postagens()\n",
    "fabiola.contar_postagens()\n",
    "evellyn.contar_postagens()\n",
    "william.contar_postagens()"
   ]
  },
  {
   "cell_type": "markdown",
   "id": "33ec6692-f79c-4e53-8bb8-3e37d5382689",
   "metadata": {},
   "source": [
    "____________"
   ]
  },
  {
   "cell_type": "markdown",
   "id": "b40c428f-f935-40e1-9a5c-df143d1b0921",
   "metadata": {},
   "source": [
    "### VALIDANDO O MÉTODO mostrar_postagem_amigo\n",
    "### Mostrando as postagens dos amigos"
   ]
  },
  {
   "cell_type": "code",
   "execution_count": 22,
   "id": "d0350401-6f25-40a2-a9dd-d650179a5c0a",
   "metadata": {},
   "outputs": [
    {
     "name": "stdout",
     "output_type": "stream",
     "text": [
      "\n",
      "\t----------------------------------------------\n",
      "\n",
      "Evellyn Jardim, amigo(a) de Diego Delfino postou:\n",
      "\tEstou cansada\n",
      "\tEstou querendo beber\n",
      "\tParei de beber\n",
      "\n",
      "\t----------------------------------------------\n",
      "\n",
      "Fabíola Araujo, amigo(a) de Diego Delfino postou:\n",
      "\tTo passando mal\n",
      "\n",
      "\t----------------------------------------------\n",
      "\n",
      "William Oliveira, amigo(a) de Diego Delfino postou:\n",
      "\tVocê que lute\n",
      "\tO sol é vida\n",
      "\n",
      "\t----------------------------------------------\n",
      "\n",
      "Diego Delfino, amigo(a) de Fabíola Araujo postou:\n",
      "\tQueria sol hoje\n"
     ]
    }
   ],
   "source": [
    "# validando mostrar a postagem dos amigos\n",
    "\n",
    "diego.mostrar_postagem_amigo()\n",
    "fabiola.mostrar_postagem_amigo()"
   ]
  },
  {
   "cell_type": "markdown",
   "id": "d7f5e44f-0ef5-4719-816e-6319b64f5def",
   "metadata": {},
   "source": [
    "---------------------------------------------\n",
    "### FIM !"
   ]
  }
 ],
 "metadata": {
  "kernelspec": {
   "display_name": "Python 3",
   "language": "python",
   "name": "python3"
  },
  "language_info": {
   "codemirror_mode": {
    "name": "ipython",
    "version": 3
   },
   "file_extension": ".py",
   "mimetype": "text/x-python",
   "name": "python",
   "nbconvert_exporter": "python",
   "pygments_lexer": "ipython3",
   "version": "3.8.8"
  }
 },
 "nbformat": 4,
 "nbformat_minor": 5
}
