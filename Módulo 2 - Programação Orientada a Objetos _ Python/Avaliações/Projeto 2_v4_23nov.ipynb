{
 "cells": [
  {
   "cell_type": "markdown",
   "metadata": {},
   "source": [
    "# Organizando uma eleição\n",
    "(créditos ao professor Rafael)"
   ]
  },
  {
   "cell_type": "markdown",
   "metadata": {},
   "source": [
    "O último ano foi extremamente desafiador para você. Além de estarmos vivendo uma pandemia que aumentou nossa preocupação com a nossa própria vida e com nossos entes queridos e estarmos obrigados a passar mais tempo em casa para garantir nossa segurança, você se matriculou em um curso de programação e ciência de dados para mudar de rumo em sua carreira!\n",
    "\n",
    "O _timing_ pareceu ideal: mais tempo em casa, mais tempo para estudar. Porém, você esbarrou em algumas dificuldades. O condomínio está em reforma, e você passa o dia ao som de marretadas no piso. Durante a noite, no horário da sua aula online, seus vizinhos - um casal passando por dificuldades na relação - costumam discutir em voz alta. A discussão deles frequentemente acorda o bebê do outro vizinho e todos os cachorros do andar no prédio. Deixar para estudar no final de semana não ajuda, pois o filho adolescente da família do apartamento logo acima do seu costuma trazer os colegas de banda para ensaiar. \n",
    "\n",
    "A situação se tornou insustentável, e o síndico - que é o mesmo senhorzinho desde que você se mudou para esse condomínio, há mais de 10 anos - não toma atitudes e não gosta de ser perturbado. Chegou a hora de organizar uma eleição para um novo síndico, e você tomou a iniciativa de montar um sistema eletrônico para auxiliar na votação."
   ]
  },
  {
   "cell_type": "markdown",
   "metadata": {},
   "source": [
    "## Entidades envolvidas\n",
    "\n",
    "Podemos imaginar as seguintes entidades envolvidas na eleição:\n",
    "\n",
    "* **Morador**: representa cada uma das pessoas que moram no prédio. Possui um nome, um Apartamento e é capaz de depositar um voto em um Candidato em uma Urna.\n",
    "* **Candidato**: é um tipo especial de Morador. Possui tudo o que o morador possui, mas também possui um número que será usado para representá-lo na Urna e uma contagem individual de votos.\n",
    "* **Apartamento**: representa cada uma das unidades do prédio. Possui uma lista de moradores e um status indicando se ele já votou ou não. Cada apartamento tem direito a exatamente 1 voto. Se a sua filha já votou, você não pode mais votar!\n",
    "* **Urna**: coleciona votos. Ela possui uma coleção de candidatos e uma coleção de moradores (lembrando que o candidato também conta como morador!). Ela armazena a quantidade de votos de cada candidato e é capaz de incrementar essa quantidade ao receber um voto novo. Ela também possui uma coleção de apartamentos e é capaz de determinar quais apartamentos já votaram (mas não qual apartamento votou em cada candidato - o voto é secreto). Quando o último apartamento votar, ela publica os resultados e declara o vencedor.\n",
    "\n",
    "Vamos pensar juntos em meios de implementar cada uma das classes."
   ]
  },
  {
   "cell_type": "markdown",
   "metadata": {},
   "source": [
    "### Morador\n",
    "\n",
    "A classe mais básica de nossa eleição, representando cada uma das pessoas que habitam no condomínio. O morador obrigatoriamente possui um nome e um Apartamento.\n",
    "\n",
    "Seu construtor pode ou não receber uma STRING contendo o nome, e pode ou não receber um OBJETO Apartamento. Caso ele não receba um nome, deverá solicitar a digitação de um através do input. Caso ele não receba um objeto Apartamento, deverá pedir por input o número do apartamento e criar o objeto.\n",
    "\n",
    "O nome e apartamento digitados ou recebidos deverão se tornar ATRIBUTOS DO OBJETO.\n",
    "\n",
    "Nosso objeto também deverá possuir um MÉTODO PARA VOTAR. Ele deverá receber um OBJETO Urna e pode receber um número inteiro correspondente ao número de um candidato ou, caso não receba, irá ler o número pelo teclado. Ela deverá primeiro verificar se o seu apartamento já votou, e caso não tenha, ela irá chamar o método de acrescentar voto na Urna, informando o número de seu candidato e passando seu objeto apartamento. Caso contrário, ela exibirá uma mensagem alertando que esse apartamento já votou."
   ]
  },
  {
   "cell_type": "code",
   "execution_count": 42,
   "metadata": {},
   "outputs": [],
   "source": [
    "class Morador:\n",
    "    def __init__(self, nome=None, apartamento=None, cpf=None):\n",
    "        '''\n",
    "        Construtor\n",
    "\n",
    "        Parâmetros\n",
    "        ----------\n",
    "        nome : str\n",
    "            O nome do morador. Pode ser declarado ou digitado posteriormente\n",
    "        apartamento : int\n",
    "            O número do apartamento. Pode ser declarado ou digitado.\n",
    "        cpf : int\n",
    "            O CPF do morador\n",
    "        '''\n",
    "        \n",
    "        if nome == None: #Solicita a digitação do nome caso o mesmo não seja declarado\n",
    "            nome = input('Digite o nome do morador: ')\n",
    "        self.nome = nome\n",
    "        \n",
    "        if apartamento == None: #Solitica a digitação do numero do ap caso não seja declarado\n",
    "            apartamento = input('Digite o numero do apartamento')\n",
    "            if not isinstance (apartamento, int): #Método para garantir que o apartamento digitado será um número inteiro\n",
    "                raise ValueError(\"ERRO: DIGITE APENAS O NÚMERO DO APARTAMENTO\")\n",
    "        self.apartamento = apartamento\n",
    "# ALTERADO\n",
    "\n",
    "        self.cpf=cpf\n",
    "    \n",
    "    def __repr__(self): #Método para representação do objeto da classe Morador\n",
    "        return f'{self.nome}, Ap. {self.apartamento}'\n",
    "\n",
    "    def votar (self,voto): #Método para realizar o voto (A CONSTRUIR)\n",
    "        pass\n"
   ]
  },
  {
   "cell_type": "code",
   "execution_count": 43,
   "metadata": {},
   "outputs": [
    {
     "name": "stdin",
     "output_type": "stream",
     "text": [
      "Digite o numero do apartamento 3\n"
     ]
    },
    {
     "ename": "ValueError",
     "evalue": "ERRO: DIGITE APENAS O NÚMERO DO APARTAMENTO",
     "output_type": "error",
     "traceback": [
      "\u001b[0;31m---------------------------------------------------------------------------\u001b[0m",
      "\u001b[0;31mValueError\u001b[0m                                Traceback (most recent call last)",
      "\u001b[0;32m<ipython-input-43-ed97d493eb6c>\u001b[0m in \u001b[0;36m<module>\u001b[0;34m\u001b[0m\n\u001b[0;32m----> 1\u001b[0;31m \u001b[0mdiego\u001b[0m \u001b[0;34m=\u001b[0m \u001b[0mMorador\u001b[0m\u001b[0;34m(\u001b[0m\u001b[0mnome\u001b[0m\u001b[0;34m=\u001b[0m\u001b[0;34m'Diego'\u001b[0m\u001b[0;34m,\u001b[0m \u001b[0mcpf\u001b[0m\u001b[0;34m=\u001b[0m \u001b[0;36m123\u001b[0m\u001b[0;34m)\u001b[0m\u001b[0;34m\u001b[0m\u001b[0;34m\u001b[0m\u001b[0m\n\u001b[0m",
      "\u001b[0;32m<ipython-input-42-258bf23178c3>\u001b[0m in \u001b[0;36m__init__\u001b[0;34m(self, nome, apartamento, cpf)\u001b[0m\n\u001b[1;32m     21\u001b[0m             \u001b[0mapartamento\u001b[0m \u001b[0;34m=\u001b[0m \u001b[0minput\u001b[0m\u001b[0;34m(\u001b[0m\u001b[0;34m'Digite o numero do apartamento'\u001b[0m\u001b[0;34m)\u001b[0m\u001b[0;34m\u001b[0m\u001b[0;34m\u001b[0m\u001b[0m\n\u001b[1;32m     22\u001b[0m             \u001b[0;32mif\u001b[0m \u001b[0;32mnot\u001b[0m \u001b[0misinstance\u001b[0m \u001b[0;34m(\u001b[0m\u001b[0mapartamento\u001b[0m\u001b[0;34m,\u001b[0m \u001b[0mint\u001b[0m\u001b[0;34m)\u001b[0m\u001b[0;34m:\u001b[0m \u001b[0;31m#Método para garantir que o apartamento digitado será um número inteiro\u001b[0m\u001b[0;34m\u001b[0m\u001b[0;34m\u001b[0m\u001b[0m\n\u001b[0;32m---> 23\u001b[0;31m                 \u001b[0;32mraise\u001b[0m \u001b[0mValueError\u001b[0m\u001b[0;34m(\u001b[0m\u001b[0;34m\"ERRO: DIGITE APENAS O NÚMERO DO APARTAMENTO\"\u001b[0m\u001b[0;34m)\u001b[0m\u001b[0;34m\u001b[0m\u001b[0;34m\u001b[0m\u001b[0m\n\u001b[0m\u001b[1;32m     24\u001b[0m         \u001b[0mself\u001b[0m\u001b[0;34m.\u001b[0m\u001b[0mapartamento\u001b[0m \u001b[0;34m=\u001b[0m \u001b[0mapartamento\u001b[0m\u001b[0;34m\u001b[0m\u001b[0;34m\u001b[0m\u001b[0m\n\u001b[1;32m     25\u001b[0m \u001b[0;31m# ALTERADO\u001b[0m\u001b[0;34m\u001b[0m\u001b[0;34m\u001b[0m\u001b[0;34m\u001b[0m\u001b[0m\n",
      "\u001b[0;31mValueError\u001b[0m: ERRO: DIGITE APENAS O NÚMERO DO APARTAMENTO"
     ]
    }
   ],
   "source": [
    "diego = Morador(nome='Diego', cpf= 123)"
   ]
  },
  {
   "cell_type": "code",
   "execution_count": 39,
   "metadata": {
    "tags": []
   },
   "outputs": [
    {
     "data": {
      "text/plain": [
       "Diego, Ap. 44"
      ]
     },
     "execution_count": 39,
     "metadata": {},
     "output_type": "execute_result"
    }
   ],
   "source": [
    "diego"
   ]
  },
  {
   "cell_type": "markdown",
   "metadata": {},
   "source": [
    "### Candidato\n",
    "\n",
    "Objetos da classe Candidato são, necessariamente, moradores. Eles possuem as mesmas informações e as mesmas ações que um morador. O que isso significa em programação orientada a objeto?\n",
    "\n",
    "Ele possui outros dois atributos: o seu número que será usado para identificá-lo na Urna e sua contagem de votos. Ambos devem ser inicializados com valor 0. \n",
    "\n",
    "Ele deve oferecer métodos para que seu número seja configurado (quando cadastrarmos o candidato na Urna, ela irá fornecer um número para ele), bem como para que sua contagem de votos seja atualizada (ao final da votação, a Urna irá atualizar a contagem de todos os candidatos)."
   ]
  },
  {
   "cell_type": "code",
   "execution_count": 2,
   "metadata": {},
   "outputs": [],
   "source": [
    "class Candidato(Morador):\n",
    "    def __init__(self,nome=None,apartamento=None,cpf=None):\n",
    "        super().__init__(nome,apartamento,cpf)\n",
    "        '''\n",
    "        Construtor\n",
    "\n",
    "        Parametros\n",
    "        ----------\n",
    "        nome : str\n",
    "            O nome do candidato, herdado da classe Morador\n",
    "        apartamento : int\n",
    "            O apartamento do candidato, herdado da classe Morador\n",
    "        cpf : int\n",
    "            O CPF do candidato, herdado da classe Morador\n",
    "        votos : int\n",
    "            O número de votos que o candidato recebeu\n",
    "        identificador : int\n",
    "            O número de identificação do candidato\n",
    "        '''\n",
    "        self.votos=0\n",
    "        self.identificador=0\n",
    "    \n",
    "    def __repr__(self):\n",
    "        return f\"{self.nome}, Candidato(a), Ap. {self.apartamento}, Número {self.identificador}\"\n",
    "    \n",
    "    def define_identificador(self,numero_urna):\n",
    "        '''\n",
    "        Método para definir o número de identificação do usuário\n",
    "\n",
    "        Parametros\n",
    "        ----------\n",
    "        numero_urna : int\n",
    "            Número de identificação, a ser dado pelo objeto da classe Urna\n",
    "\n",
    "        '''\n",
    "        self.identificador=numero_urna"
   ]
  },
  {
   "cell_type": "markdown",
   "metadata": {},
   "source": [
    "### Apartamento\n",
    "\n",
    "Objetos da classe Apartamento irão agregar objetos Morador. Isso significa que um de seus atributos será uma lista de moradores. Quando um Apartamento é criado, sua lista começará vazia. O Apartamento deve oferecer métodos para adicionar moradores novos (recebe um objeto Morador e adiciona à lista) e para visualizar seus moradores.\n",
    "\n",
    "Cada apartamento tem direito a exatamente um voto na eleição para síndico. Portanto, cada objeto também deve ter um atributo indicando se aquele apartamento já votou ou não. A classe deve fornecer meios para que a esse atributo possa ser atualizado, pois quando um morador votar, a urna irá alterar esse atributo registrando que o apartamento já votou."
   ]
  },
  {
   "cell_type": "code",
   "execution_count": 3,
   "metadata": {},
   "outputs": [],
   "source": [
    "class Apartamento:\n",
    "    def __init__(self, numero_ap):\n",
    "        '''\n",
    "        Construtor\n",
    "\n",
    "        Parametros\n",
    "        ----------\n",
    "        numero_ap : int\n",
    "            O número do apartamento a ser cadastrado\n",
    "        registrou_voto : bool\n",
    "            Verificação se algum morador do apartamento votou\n",
    "        lista_moradores : list\n",
    "            Lista com os moradores (Objetos da classe Morador) do apartamento\n",
    "        '''\n",
    "        \n",
    "        self.numero_ap = numero_ap\n",
    "        self.__registrou_voto = False \n",
    "        self.lista_moradores=[]\n",
    "        \n",
    "\n",
    "    def mostra_moradores(self):\n",
    "        for i in range (len(self.lista_moradores)):\n",
    "            print (self.lista_moradores[i])               \n",
    "            \n",
    "    def __repr__(self):\n",
    "        return f\"Apartamento {self.numero_ap} - Moradores: {self.lista_moradores}\"\n",
    "        \n",
    "    def incluir_novo_morador(self, novo_morador): \n",
    "        '''\n",
    "        Método para incluir um morador na lista de moradores\n",
    "\n",
    "        Parametros\n",
    "        ----------\n",
    "        novo_morador : Morador\n",
    "            Objeto da classe Morador a ser incluido no apartamento\n",
    "        '''\n",
    "        self.lista_moradores.append(novo_morador)\n",
    "\n",
    "    def registra_voto(self):\n",
    "        self.__registrou_voto=True"
   ]
  },
  {
   "cell_type": "markdown",
   "metadata": {},
   "source": [
    "### Urna\n",
    "A classe mais complexa do projeto. Ela é responsável por boa parte da lógica da nossa eleição.\n",
    "\n",
    "Seu construtor deverá criar como atributos uma coleção de apartamentos e outra de candidatos - escolha a estrutura de dados que julgar mais adequada.\n",
    "\n",
    "A classe deve fornecer métodos que permitam o cadastro de apartamentos (recebendo como parâmetro objetos Apartamento já existentes) e candidatos (idem). Ao receber um candidato para cadastro, ela deverá gerar um número **único** para representar esse candidato na eleição e irá ajustar esse atributo diretamente no objeto candidato.\n",
    "\n",
    "Ela também deve ter um método para receber um voto, que deve receber um objeto apartamento e o número de um candidato. Ela deve atualizar a contagem de voto do candidato cujo número foi recebido, e marcar aquele apartamento como já votado. Se o apartamento que votou era o último que ainda podia votar, a urna deve imediatamente imprimir os resultados.\n",
    "\n",
    "Bole uma maneira que a urna possa sinalizar para o programa principal se ela já encerrou a votação ou não."
   ]
  },
  {
   "cell_type": "code",
   "execution_count": 4,
   "metadata": {},
   "outputs": [],
   "source": [
    "class Urna:\n",
    "    numero_candidatos=0\n",
    "    def __init__(self):\n",
    "        '''\n",
    "        Construtor\n",
    "\n",
    "        Parametros\n",
    "        ----------\n",
    "        lista_apartamentos : list\n",
    "            Lista dos apartamentos participantes na votação\n",
    "        lista_ap_votantes : list\n",
    "            Lista dos apartamentos que ja votaram\n",
    "        lista_candidatos : dict\n",
    "            Dicionário dos candidatos participantes {objeto:identificador}\n",
    "        lista_candidatos_votos : dict\n",
    "            Dicionário dos candidatos e respectivos votos {objeto:votos}\n",
    "        '''\n",
    "        self.lista_apartamentos=[]\n",
    "        self.lista_ap_votantes=[]\n",
    "        self.lista_candidatos={}\n",
    "        self.lista_candidatos_votos={}\n",
    "    \n",
    "    def adiciona_candidato(self,candidato):\n",
    "        Urna.numero_candidatos+=1\n",
    "        candidato.define_identificador(Urna.numero_candidatos)\n",
    "        self.lista_candidatos.update({Urna.numero_candidatos:candidato})\n",
    "        \n",
    "    def adiciona_apartamento(self,apartamento):\n",
    "        self.lista_apartamentos.append(apartamento)\n",
    "\n",
    "    def recebe_voto(self,apartamento,candidato):\n",
    "        '''\n",
    "        Método para receber os votos\n",
    "\n",
    "        Parametros\n",
    "        ----------\n",
    "        apartamento : Apartamento\n",
    "            Objeto da classe Apartamento que realizará o voto\n",
    "        candidato : Candidato\n",
    "            Objeto da classe Candidato que irá receber um voto\n",
    "        '''\n",
    "        self.lista_ap_votantes.append(apartamento)\n",
    "        candidato.votos+=1\n",
    "        apartamento.registra_voto()\n",
    "    \n",
    "    def lista_votos_totais(self):\n",
    "        for candidato in self.lista_candidatos_votos:\n",
    "            print (f\"Candidato: {candidato.nome} - Votos: {self.lista_candidatos_votos[candidato]}\")\n",
    "    \n",
    "    def mostra_vencedor(self):\n",
    "        for candidato in self.lista_candidatos_votos:\n",
    "            if self.lista_candidatos_votos[candidato] == max(self.lista_candidatos_votos.values()):\n",
    "                print (f\"Candidato vencedor: {candidato.nome} - Votos: {self.lista_candidatos_votos[candidato]}\")\n",
    "\n",
    "    def verifica_votacao(self):\n",
    "        if len(self.lista_apartamentos)==len(self.lista_ap_votantes):\n",
    "            for candidato in self.lista_candidatos:\n",
    "                self.lista_candidatos_votos.update({candidato:candidato.votos})\n",
    "            return f\"{self.lista_votos_totais()} \\n{self.mostra_vencedor()}\"\n",
    "            \n",
    "\n",
    "\n",
    "\n",
    "        \n"
   ]
  },
  {
   "cell_type": "markdown",
   "metadata": {},
   "source": [
    "## O programa principal\n",
    "\n",
    "Seu programa principal terá 3 etapas - fique à vontade para modularizar essas etapas com o auxílio de funções, ou mesmo utilizar outras classes se julgar necessário.\n",
    "\n",
    "* Cadastro: o programa deverá ler informações sobre cada pessoa e ir criando os objetos Morador/Candidato e Apartamento correspondentes. Lembre-se de sempre perguntar se a próxima pessoa a ser lida é ou não candidata para decidir a melhor forma de instanciá-la no sistema.\n",
    "\n",
    "* Configuração: o programa deverá utilizar as informações obtidasna etapa anterior para criar uma urna.\n",
    "\n",
    "* Votação: o programa ficará em loop permitindo que diferentes moradores votem (ou tentem votar). Nessa etapa, o programa deve ser capaz de identificar qual o morador votando e utilizar os métodos criados previamente para realizar o voto. Quando a classe Urna informar que a votação acabou, o loop deve ser encerrado."
   ]
  },
  {
   "cell_type": "code",
   "execution_count": 5,
   "metadata": {},
   "outputs": [
    {
     "name": "stdout",
     "output_type": "stream",
     "text": [
      "ELEIÇÕES DO CONDOMÍNIO UZAI'S RESIDENCE\n"
     ]
    },
    {
     "name": "stdin",
     "output_type": "stream",
     "text": [
      "Digite a opção desejada: \n",
      "1 - NOVO CADASTRO \n",
      "2 - VER CADASTRO \n",
      "3 - VOTAÇÃO \n",
      "4 - SAIR \n",
      ": 1\n"
     ]
    },
    {
     "name": "stdout",
     "output_type": "stream",
     "text": [
      "NOVO CADASTRO!\n"
     ]
    },
    {
     "name": "stdin",
     "output_type": "stream",
     "text": [
      "Digite o nome do morador:  Rafael\n",
      "Digite o número do apartamento:  101\n",
      "Digite o número do CPF:  999999999\n",
      "O Morador é candidato? (S/N):  n\n",
      "Digite a opção desejada: \n",
      "1 - NOVO CADASTRO \n",
      "2 - VER CADASTRO \n",
      "3 - VOTAÇÃO \n",
      "4 - SAIR \n",
      ": 2\n"
     ]
    },
    {
     "name": "stdout",
     "output_type": "stream",
     "text": [
      "Opção ainda não implementada\n"
     ]
    },
    {
     "name": "stdin",
     "output_type": "stream",
     "text": [
      "Digite a opção desejada: \n",
      "1 - NOVO CADASTRO \n",
      "2 - VER CADASTRO \n",
      "3 - VOTAÇÃO \n",
      "4 - SAIR \n",
      ": 4\n"
     ]
    },
    {
     "name": "stdout",
     "output_type": "stream",
     "text": [
      "{101: Apartamento 101 - Moradores: [Rafael, Ap. 101]}\n"
     ]
    }
   ],
   "source": [
    "def testainteiro(numero):\n",
    "    while True: #Método para garantir que será digitado um número inteiro\n",
    "                try:\n",
    "                    numero=int(numero)\n",
    "                    return numero\n",
    "                except:\n",
    "                    numero = input(\"ERRO: DIGITE APENAS NUMEROS \")\n",
    "\n",
    "print (\"ELEIÇÕES DO CONDOMÍNIO UZAI'S RESIDENCE\")\n",
    "opcao_geral='' #Variável para selecionar uma opção no programa, inicia vazia e depois recebe um número\n",
    "urna=Urna() #Inicia uma instância da classe Urna\n",
    "dicionario_cadastro_morador={} #Dicionario para armazenar os objetos das classes morador e candidato e suas referencias (cpf:objeto)\n",
    "dicionario_cadastro_ap={}#Dicionario para armazenar os objetos da classe apartamento e suas referencias (numero:objeto)\n",
    "while opcao_geral!='4':\n",
    "    opcao_geral = input (\"Digite a opção desejada: \\n1 - NOVO CADASTRO \\n2 - VER CADASTRO \\n3 - VOTAÇÃO \\n4 - SAIR \\n:\")\n",
    "    if opcao_geral=='1':\n",
    "        opcao_candidato=''\n",
    "        print (\"NOVO CADASTRO!\")\n",
    "        nome=input(\"Digite o nome do morador: \")  \n",
    "        ap=testainteiro(input(\"Digite o número do apartamento: \"))\n",
    "        cpf=testainteiro(input(\"Digite o número do CPF sem traço e pontos: \"))\n",
    "        opcao_candidato=input(\"O Morador é candidato? (S/N): \").upper()\n",
    "        while opcao_candidato!='S' and opcao_candidato!='N':\n",
    "            opcao_candidato=input(\"Por favor, digite apenas S ou N: \").upper()\n",
    "        if cpf not in dicionario_cadastro_morador: #se o cpf não tiver sido criado como objeto, salva no dicionário de cadastro\n",
    "            objetomorador=Morador(nome,ap,cpf) #Cria objeto Morador com nome genérico e os dados digitados\n",
    "            dicionario_cadastro_morador.update({cpf:objetomorador}) #Salva no dicionario o objeto criado e a referencia                       \n",
    "            if opcao_candidato=='S': #Caso seja candidato, cria objeto da classe candidato e salva no dicionario de cadastro    \n",
    "                urna.adiciona_candidato(objetomorador) #chama o método de adicionar candidato na classe urna\n",
    "            if ap not in dicionario_cadastro_ap: #Fazer o cadastro de apartamentos. Verifica se o ap digitado ja foi cadastrado\n",
    "                objetoap=Apartamento(ap) #cria um objeto apartamento sob o nome genérico objetoap\n",
    "                dicionario_cadastro_ap.update({ap:objetoap}) #salva no dicionario o objeto criado e o numero como referencia\n",
    "                objetoap.incluir_novo_morador(objetomorador) #inclui o morador criado no apartamento criado\n",
    "                urna.adiciona_apartamento(objetoap) #adiciona o apartamento na lista de apartamentos da classe urna\n",
    "            else:\n",
    "                dicionario_cadastro_ap[ap].incluir_novo_morador(objetomorador) #caso o ap ja exista, apenas adiciona o morador a ele\n",
    "        else:\n",
    "            print(\"CPF já cadastrado!\")\n",
    "\n",
    "    elif opcao_geral=='2':\n",
    "        print(\"Opção ainda não implementada\")\n",
    "    \n",
    "    elif opcao_geral=='3':\n",
    "        print(\"Opção ainda não implementada\")\n",
    "\n",
    "print (dicionario_cadastro_ap) #Linha apenas para verificar a funcionalidade do cadastro\n",
    "#CONTINUA...\n",
    "\n",
    "            \n",
    "                    \n",
    "\n",
    "            \n",
    "\n",
    "            \n",
    "        \n",
    "\n"
   ]
  },
  {
   "cell_type": "markdown",
   "metadata": {},
   "source": [
    "## Dicas\n",
    "\n",
    "* Métodos mágicos: no mínimo uma _representação imprimível_ dos objetos de cada classe seria desejável para facilitar a sua vida. No caso de um morador, podemos imprimir seu nome e número do apartamento. No caso de um candidato, poderíamos incluir o número da urna. No caso do apartamento, seria legal imprimir todos os moradores. E no caso da urna, podemos ter dois casos: antes da votação acabar, apenas a lista de apartamentos que já votou deveria ser impressa. Após o término da votação, ela deveria imprimir quantos votos cada candidato recebeu e qual deles venceu.\n",
    "\n",
    "* Arquivos e testes: note que vocês sempre foram orientados a passar dados por parâmetros **ou** digitá-los. Se você bolar um esquema inteligente com arquivos em formato padronizado (como CSV) e organizar direitinho seu programa principal, você consegue gerar um único arquivo com todos os moradores e suas respectivas informações (número do apartamento, se é ou não candidato e em quem gostaria de votar) e automatizar completamente as etapas do seu programa.\n",
    "\n",
    "* Segurança adicional: atualmente, cada apartamento armazena a informação se já votou ou não. Mas e se o apartamento pudesse alterar essa informação e enganar a urna? Você pode colocar uma camada redundante de segurança fazendo com que a urna TAMBÉM controle quais apartamentos já votaram. Mesmo que o apartamento diga que não votou, se a urna está registrando que ele votou, então um hipotético segundo voto deve ser recusado. Veja se consegue pensar em outras possíveis falhas de segurança em potencial no programa. Lembre-se sempre de pensar do ponto de vista de uma classe e \"desconfiar\" das outras.\n",
    "\n",
    "* Criatividade: os enunciados trazem o **mínimo** que você precisa fazer para que o seu programa funcione como foi planejado. Isso não impede que você crie outros métodos, acrescente informações que possam ser úteis e até mesmo crie outras classes para modelar melhor outros fatores que poderiam ser considerados na organização da sua eleição.\n"
   ]
  },
  {
   "cell_type": "markdown",
   "metadata": {},
   "source": [
    "## Bônus: representação visual dos votos\n",
    "\n",
    "A função abaixo gera um gráfico de barras mostrando quantos votos cada candidato teve! Cole-a em sua classe Urna e faça os devidos ajustes para que ela use os atributos da Urna ao invés dos parâmetros utilizados. \n",
    "\n",
    "O programinha na célula seguinte apenas ilustra o funcionamento da função.\n"
   ]
  },
  {
   "cell_type": "code",
   "execution_count": 6,
   "metadata": {},
   "outputs": [],
   "source": [
    "import matplotlib.pyplot as plt\n",
    "\n",
    "def graficoVotos(candidatos, votos):\n",
    "    plt.bar(candidatos, votos)\n",
    "    plt.title('Resultado das eleições')\n",
    "    plt.xlabel('Candidatos')\n",
    "    plt.ylabel('Votos')\n",
    "    "
   ]
  },
  {
   "cell_type": "code",
   "execution_count": 7,
   "metadata": {},
   "outputs": [
    {
     "data": {
      "image/png": "[encoded data removed]",
      "text/plain": [
       "<Figure size 432x288 with 1 Axes>"
      ]
     },
     "metadata": {
      "needs_background": "light"
     },
     "output_type": "display_data"
    }
   ],
   "source": [
    "candidatos = ['Python', 'JavaScript', 'HTML']\n",
    "votos = [8, 3, 4]\n",
    "\n",
    "graficoVotos(candidatos, votos)"
   ]
  },
  {
   "cell_type": "code",
   "execution_count": null,
   "metadata": {},
   "outputs": [],
   "source": []
  }
 ],
 "metadata": {
  "kernelspec": {
   "display_name": "Python 3",
   "language": "python",
   "name": "python3"
  },
  "language_info": {
   "codemirror_mode": {
    "name": "ipython",
    "version": 3
   },
   "file_extension": ".py",
   "mimetype": "text/x-python",
   "name": "python",
   "nbconvert_exporter": "python",
   "pygments_lexer": "ipython3",
   "version": "3.8.8"
  }
 },
 "nbformat": 4,
 "nbformat_minor": 4
}
