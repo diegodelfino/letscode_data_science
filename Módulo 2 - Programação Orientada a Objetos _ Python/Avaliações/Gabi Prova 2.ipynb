{
 "cells": [
  {
   "cell_type": "code",
   "execution_count": 7,
   "id": "047fd130-c2f9-4269-8730-51401edbc22b",
   "metadata": {},
   "outputs": [],
   "source": [
    "class Apartamento:\n",
    "    def __init__(self, numero_ap = None, lista_moradores = None):\n",
    "        self.numero_ap = numero_ap\n",
    "        self.registrou_voto = False \n",
    "        \n",
    "        if (lista_moradores is None):\n",
    "            self.lista_moradores = []\n",
    "            \n",
    "        if (numero_ap is None):\n",
    "            self.numero_ap = int(input(\"Digite o numero do seu ap\"))\n",
    "                   \n",
    "            \n",
    "    def imprimir_moradores():\n",
    "        print(f\"Os moradores do apartamento {self.numero_ap} são: {self.lista_moradores}\")\n",
    "        \n",
    "    def incluir_novo_morador(self, novo_morador): \n",
    "        self.lista_moradores.append(novo_morador)\n",
    "        \n",
    "    def __repr__(self):\n",
    "        return f'\\nNome: {self.nome} \\nApto: {self.numero_ap}'\n",
    "        "
   ]
  },
  {
   "cell_type": "code",
   "execution_count": 12,
   "id": "9267fc0f-9041-43a4-9d8e-2274230d327e",
   "metadata": {},
   "outputs": [],
   "source": [
    "class Morador:\n",
    "    def __init__(self, nome, apartamento):\n",
    "        self.nome = nome\n",
    "        self.apartamento = Apartamento\n",
    "        \n",
    "    def __repr__(self):\n",
    "        return f'\\nNome: {self.nome} \\nApto: {self.apartamento}'"
   ]
  },
  {
   "cell_type": "code",
   "execution_count": 13,
   "id": "45b38c5c-ee70-48e8-be55-672853534eb1",
   "metadata": {},
   "outputs": [
    {
     "data": {
      "text/plain": [
       "__main__.Apartamento"
      ]
     },
     "execution_count": 13,
     "metadata": {},
     "output_type": "execute_result"
    }
   ],
   "source": [
    "casa16 = Apartamento(16)\n",
    "casa16\n",
    "gabi = Morador(\"Gabi\", casa16)\n",
    "\n",
    "gabi.apartamento"
   ]
  },
  {
   "cell_type": "code",
   "execution_count": null,
   "id": "ed141525-1bf7-43de-a79d-4286cc464e31",
   "metadata": {},
   "outputs": [],
   "source": []
  }
 ],
 "metadata": {
  "kernelspec": {
   "display_name": "Python 3",
   "language": "python",
   "name": "python3"
  },
  "language_info": {
   "codemirror_mode": {
    "name": "ipython",
    "version": 3
   },
   "file_extension": ".py",
   "mimetype": "text/x-python",
   "name": "python",
   "nbconvert_exporter": "python",
   "pygments_lexer": "ipython3",
   "version": "3.8.8"
  }
 },
 "nbformat": 4,
 "nbformat_minor": 5
}
