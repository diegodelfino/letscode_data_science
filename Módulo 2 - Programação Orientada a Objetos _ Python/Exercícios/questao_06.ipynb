{
 "cells": [
  {
   "cell_type": "markdown",
   "id": "636cf46b-c745-4eeb-8eb8-78f95231111a",
   "metadata": {},
   "source": [
    "## Questão #6\n",
    "\n",
    "Enunciado\n",
    "\n",
    "O módulo time possui a função time.sleep(x), que faz seu programa “dormir” por x segundos. Utilizando essa função, crie uma classe Cronômetro e faça um programa que cronometre o tempo."
   ]
  },
  {
   "cell_type": "code",
   "execution_count": 7,
   "id": "cbc94886-06ce-4c75-8b3f-85ee504803bc",
   "metadata": {},
   "outputs": [
    {
     "name": "stdin",
     "output_type": "stream",
     "text": [
      "Digite quantos segundos serão cronometrados:  5\n"
     ]
    },
    {
     "name": "stdout",
     "output_type": "stream",
     "text": [
      "5\n",
      "4\n",
      "3\n",
      "2\n",
      "1\n",
      "Acabou o tempo. Foram 5 segundos!\n"
     ]
    }
   ],
   "source": [
    "import time\n",
    "\n",
    "class Cronometro:\n",
    "    def __init__(self, segundos = None):\n",
    "        '''\n",
    "        Construtor\n",
    "        \n",
    "        Paramatro\n",
    "        ---------\n",
    "        segundos : int\n",
    "            O segundos da classe\n",
    "        '''\n",
    "        self.segundos = segundos\n",
    "        \n",
    "    # Metódo de representação da questão 13\n",
    "    def __repr__(self):\n",
    "        return f'Quantidade de segundos definido: {self.segundo}'\n",
    "\n",
    "    def cronometrar(self):\n",
    "        '''\n",
    "        Cronometra os segundos definido\n",
    "        '''\n",
    "        if (self.segundos is None):\n",
    "            self.segundos = int(input(\"Digite quantos segundos serão cronometrados: \"))\n",
    "        for contagem in range (self.segundos,0,-1):\n",
    "            print (contagem)\n",
    "            time.sleep(1)\n",
    "        print(f\"Acabou o tempo. Foram {self.segundos} segundos!\")\n",
    "        \n",
    "relogio = Cronometro()\n",
    "relogio.cronometrar()"
   ]
  },
  {
   "cell_type": "code",
   "execution_count": null,
   "id": "34d90f8c-3404-4108-8857-79bac03911d0",
   "metadata": {},
   "outputs": [],
   "source": []
  }
 ],
 "metadata": {
  "kernelspec": {
   "display_name": "Python 3",
   "language": "python",
   "name": "python3"
  },
  "language_info": {
   "codemirror_mode": {
    "name": "ipython",
    "version": 3
   },
   "file_extension": ".py",
   "mimetype": "text/x-python",
   "name": "python",
   "nbconvert_exporter": "python",
   "pygments_lexer": "ipython3",
   "version": "3.8.8"
  }
 },
 "nbformat": 4,
 "nbformat_minor": 5
}
