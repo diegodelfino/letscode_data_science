{
 "cells": [
  {
   "cell_type": "markdown",
   "id": "5fee2c99-27bc-488e-b3a3-588d8cc48866",
   "metadata": {},
   "source": [
    "## Questão #4\n"
   ]
  },
  {
   "cell_type": "markdown",
   "id": "43b99399-5bbc-4bf8-8478-cd6a33d2e114",
   "metadata": {},
   "source": [
    "Enunciado\n",
    "Crie uma classe Televisor cujos atributos são:\n",
    "\n",
    "a. fabricante;\n",
    "\n",
    "b. modelo;\n",
    "\n",
    "c. canal atual;\n",
    "\n",
    "d. lista de canais; e\n",
    "\n",
    "e. volume.\n",
    "\n",
    "Faça métodos para aumentar/diminuir volume, trocar o canal e sintonizar um novo canal, que adiciona um novo canal à lista de canais (somente se esse canal não estiver nessa lista). No atributo lista de canais, devem estar armazenados todos os canais já sintonizados dessa TV.\n",
    "\n",
    "Obs.: O volume não pode ser menor que zero e maior que cem; só se pode trocar para um canal que já esteja na lista de canais."
   ]
  },
  {
   "cell_type": "code",
   "execution_count": 3,
   "id": "f84c05a0-419d-4e98-a04a-f066b66679cc",
   "metadata": {},
   "outputs": [],
   "source": [
    "class Televisor:\n",
    "    '''\n",
    "    Classe Televisor\n",
    "    '''\n",
    "    def __init__(self, fabricante, modelo, canal_atual, volume):\n",
    "        '''\n",
    "        Cria um televisor\n",
    "        fabricante : str\n",
    "            Fabricante do televisor\n",
    "        modelo : str\n",
    "            Modelo do televisor\n",
    "        canal_atual : int\n",
    "            Canal de configuração inicial\n",
    "        volume : int\n",
    "            Volume atual do televisor\n",
    "        '''\n",
    "        self.fabricante = fabricante\n",
    "        self.modelo = modelo\n",
    "        self.volume = volume\n",
    "        self.canal = canal_atual\n",
    "        \n",
    "        self.lista_canais = []\n",
    "        if (canal_atual not in self.lista_canais):\n",
    "            self.lista_canais.append(self.canal)\n",
    "\n",
    "    # Não é necessário docstring para os métodos mágicos __repr__ e __srt__\n",
    "    def __repr__(self):\n",
    "        return f'fabricante: {self.fabricante} modelo: {self.modelo}'\n",
    "\n",
    "    def alterar_volume (self, volume):\n",
    "        '''\n",
    "        Aumentar ou diminui o volume.\n",
    "        \n",
    "        Parâmetro\n",
    "        ---------\n",
    "        volume : int\n",
    "            Número do volume\n",
    "        Condição: O volume deve ser configurado entre 0 e 100\n",
    "        '''\n",
    "        if volume >= 0 and volume <= 100:\n",
    "            self.volume = volume\n",
    "            return (f'O volume do televisor {self.modelo} agora está {volume}.')\n",
    "        else:\n",
    "            return ('O volume deve ser entre 0 e 100')\n",
    "            \n",
    "    def sintonizar_canal(self, canal):\n",
    "        '''\n",
    "        Sintoniza os canais e o acrescenta a lista de canais\n",
    "        \n",
    "        Parâmetros\n",
    "        ---------\n",
    "        canal : int\n",
    "            Canal a ser sintonizado\n",
    "        '''\n",
    "        if (canal not in self.lista_canais):    \n",
    "            self.lista_canais.append(canal)\n",
    "            \n",
    "    def trocar_canal(self, novo_canal):\n",
    "        '''\n",
    "        Troca de canal e o acrescenta a lista de canais\n",
    "        \n",
    "        Parâmetros\n",
    "        ----------\n",
    "        novo_canal : int\n",
    "            Substitui o canal atual e, se não estiver sintonizado, será acrescentado a lista\n",
    "        '''\n",
    "        self.canal = novo_canal\n",
    "        if (novo_canal not in self.lista_canais):\n",
    "            self.lista_canais.append(novo_canal)"
   ]
  },
  {
   "cell_type": "code",
   "execution_count": 4,
   "id": "c0e01a13-2242-4269-819a-75de237aec56",
   "metadata": {},
   "outputs": [],
   "source": [
    "# instanciando o objeto\n",
    "\n",
    "Mac = Televisor(\n",
    "    fabricante = 'Apple',\n",
    "    modelo = 'MacBook Air',\n",
    "    canal_atual= 4,\n",
    "    volume = 1)"
   ]
  },
  {
   "cell_type": "code",
   "execution_count": 5,
   "id": "0a5e9a3b-2415-4030-a113-15acb29542ae",
   "metadata": {},
   "outputs": [
    {
     "data": {
      "text/plain": [
       "'O volume do televisor MacBook Air agora está 99.'"
      ]
     },
     "execution_count": 5,
     "metadata": {},
     "output_type": "execute_result"
    }
   ],
   "source": [
    "# validando o método alterar_volume\n",
    "\n",
    "Mac.alterar_volume(99)"
   ]
  },
  {
   "cell_type": "code",
   "execution_count": 6,
   "id": "c7510430-3f66-4013-a5bb-db049761284c",
   "metadata": {},
   "outputs": [
    {
     "name": "stdout",
     "output_type": "stream",
     "text": [
      "A lista de canais é: [4]\n",
      "Após sintonizado, a lista de canais é: [4, 10]\n"
     ]
    }
   ],
   "source": [
    "# validando o método sintonizar_canal\n",
    "\n",
    "print(f'A lista de canais é: {Mac.lista_canais}')\n",
    "Mac.sintonizar_canal(10)\n",
    "print(f'Após sintonizado, a lista de canais é: {Mac.lista_canais}')"
   ]
  },
  {
   "cell_type": "code",
   "execution_count": 7,
   "id": "a2ccbe25-dffd-45de-8d02-7718456f6fa9",
   "metadata": {},
   "outputs": [
    {
     "data": {
      "text/plain": [
       "[4, 10]"
      ]
     },
     "execution_count": 7,
     "metadata": {},
     "output_type": "execute_result"
    }
   ],
   "source": [
    "# validando o atributo lista_canais\n",
    "\n",
    "Mac.lista_canais"
   ]
  },
  {
   "cell_type": "code",
   "execution_count": 8,
   "id": "1256526a-1a55-46ff-8d24-ad46f9d8a5e9",
   "metadata": {},
   "outputs": [
    {
     "name": "stdout",
     "output_type": "stream",
     "text": [
      "O canal era 4.\n",
      "O canal foi trocado para 6.\n",
      "A lista atual de canais é [4, 10, 6].\n"
     ]
    }
   ],
   "source": [
    "# validando o método troca de canal\n",
    "\n",
    "print(f'O canal era {Mac.canal}.')\n",
    "Mac.trocar_canal(6)\n",
    "print(f'O canal foi trocado para {Mac.canal}.')\n",
    "print(f'A lista atual de canais é {Mac.lista_canais}.')"
   ]
  },
  {
   "cell_type": "code",
   "execution_count": 9,
   "id": "c0b2e5cd-51de-47da-ad2f-2009a9f4d8b7",
   "metadata": {},
   "outputs": [
    {
     "name": "stdout",
     "output_type": "stream",
     "text": [
      "O volume do televisor MacBook Air agora está 5.\n",
      "O volume deve ser entre 0 e 100\n",
      "O volume deve ser entre 0 e 100\n"
     ]
    }
   ],
   "source": [
    "# validando o método alterar_volume\n",
    "\n",
    "print(Mac.alterar_volume(5))\n",
    "print(Mac.alterar_volume(-5))\n",
    "print(Mac.alterar_volume(105))"
   ]
  },
  {
   "cell_type": "code",
   "execution_count": null,
   "id": "08de0b1c-de2b-421b-b333-33bf0b041186",
   "metadata": {},
   "outputs": [],
   "source": []
  },
  {
   "cell_type": "code",
   "execution_count": null,
   "id": "6c21002a-e0e1-4dc6-b7c2-4fb7f2dcf055",
   "metadata": {},
   "outputs": [],
   "source": []
  }
 ],
 "metadata": {
  "kernelspec": {
   "display_name": "Python 3",
   "language": "python",
   "name": "python3"
  },
  "language_info": {
   "codemirror_mode": {
    "name": "ipython",
    "version": 3
   },
   "file_extension": ".py",
   "mimetype": "text/x-python",
   "name": "python",
   "nbconvert_exporter": "python",
   "pygments_lexer": "ipython3",
   "version": "3.8.8"
  }
 },
 "nbformat": 4,
 "nbformat_minor": 5
}
