{
 "cells": [
  {
   "cell_type": "markdown",
   "id": "ae80a779-e3d9-4ffb-bcf8-6d8c393eeb17",
   "metadata": {},
   "source": [
    "## Questão #1\n",
    "\n",
    "Enunciado\n",
    "Crie uma classe Bola cujos atributos são cor e raio. Crie um método que imprime a cor da bola. Crie um método para calcular a área dessa bola. Crie um método para calcular o volume da bola. Crie um objeto dessa classe e calcule a área e o volume, imprimindo ambos em seguida.\n",
    "\n",
    "Obs.:\n",
    "\n",
    "Área da esfera = 4*3.14*r*r;\n",
    "\n",
    "Volume da esfera = 4*3.14*r*r*r/3"
   ]
  },
  {
   "cell_type": "code",
   "execution_count": 28,
   "id": "9fe78c51-911a-4139-a9d2-6e176f722ffd",
   "metadata": {},
   "outputs": [],
   "source": [
    "PI = 3.14\n",
    "\n",
    "class Bola:\n",
    "    '''\n",
    "    Classe que cria uma bola\n",
    "    '''\n",
    "    def __init__(self, cor, raio):\n",
    "        '''\n",
    "        Construtor cria a cor e o raio da bola.\n",
    "        \n",
    "        Parâmetros\n",
    "        ----------\n",
    "        cor : str\n",
    "            cor da bola.\n",
    "        raio : float\n",
    "            raio da bola.\n",
    "        '''\n",
    "        self.cor = cor\n",
    "        self.raio = raio\n",
    "        \n",
    "        # a partir do objeto criado com os métodos abaixo\n",
    "        self.area = self.calcular_area()\n",
    "        self.volume = self.calcular_volume()\n",
    "    \n",
    "    # Não é necessário docstring para os métodos mágicos __repr__ e __srt__\n",
    "    def __repr__(self):\n",
    "        return f'cor: {self.cor} \\nraio: {self.raio}'\n",
    "    \n",
    "    def imprimir_cor(self):\n",
    "        '''\n",
    "        Imprime a cor da bola (self).\n",
    "        '''\n",
    "        print(f'A cor da bola é {self.cor}')\n",
    "    \n",
    "    def calcular_area(self):\n",
    "        '''\n",
    "        Calcula a área de uma circuferência.\n",
    "        '''\n",
    "        area = 4*PI*self.raio*self.raio\n",
    "        return area\n",
    "        \n",
    "    def calcular_volume(self):\n",
    "        '''\n",
    "        Calcula o volume de uma esfera.\n",
    "        '''\n",
    "        esfera = (4/3)*PI*self.raio*self.raio*self.raio\n",
    "        return esfera"
   ]
  },
  {
   "cell_type": "markdown",
   "id": "0d6fd3d7-fe88-4213-bdc9-f9f1ccb2a29d",
   "metadata": {},
   "source": [
    "______"
   ]
  },
  {
   "cell_type": "markdown",
   "id": "6a80c384-e6a3-49ad-9261-bf3d706d1251",
   "metadata": {},
   "source": [
    "### VALIDANDO O MÉTODO CONSTRUTOR e MÉTODO MÁGICO REPR\n",
    "### Criando as bolas"
   ]
  },
  {
   "cell_type": "code",
   "execution_count": 29,
   "id": "2a587a33-839f-4503-ba98-b73414bd06b4",
   "metadata": {},
   "outputs": [],
   "source": [
    "bola = Bola(\n",
    "    cor = 'verde',\n",
    "    raio = 4)\n",
    "\n",
    "bola1 = Bola(\n",
    "    cor = 'vermelha',\n",
    "    raio = 5.6)"
   ]
  },
  {
   "cell_type": "code",
   "execution_count": 30,
   "id": "d8170d9f-f4cc-48a8-88a6-e78f27fab08b",
   "metadata": {},
   "outputs": [
    {
     "data": {
      "text/plain": [
       "cor: verde \n",
       "raio: 4"
      ]
     },
     "execution_count": 30,
     "metadata": {},
     "output_type": "execute_result"
    }
   ],
   "source": [
    "# objeto bola criado\n",
    "\n",
    "bola"
   ]
  },
  {
   "cell_type": "code",
   "execution_count": 31,
   "id": "27fc21fd-247f-4e3d-89d3-cd7516c74c6b",
   "metadata": {},
   "outputs": [
    {
     "data": {
      "text/plain": [
       "cor: vermelha \n",
       "raio: 5.6"
      ]
     },
     "execution_count": 31,
     "metadata": {},
     "output_type": "execute_result"
    }
   ],
   "source": [
    "# objeto bola1 criado\n",
    "\n",
    "bola1"
   ]
  },
  {
   "cell_type": "markdown",
   "id": "ca90f67d-79f4-4d84-83fe-14d3d04b0b34",
   "metadata": {},
   "source": [
    "_______"
   ]
  },
  {
   "cell_type": "markdown",
   "id": "d509c49a-e37d-4342-9e48-624b4dd01b72",
   "metadata": {},
   "source": [
    "### VALIDANDO O MÉTODO imprimir_cor\n",
    "### Imprime a cor da bola"
   ]
  },
  {
   "cell_type": "code",
   "execution_count": 32,
   "id": "34a8b8df-9271-4d8a-bb38-8907ef8ecc28",
   "metadata": {},
   "outputs": [
    {
     "name": "stdout",
     "output_type": "stream",
     "text": [
      "A cor da bola é verde\n"
     ]
    }
   ],
   "source": [
    "# validando o método de imprimir a cor da bola\n",
    "\n",
    "bola.imprimir_cor()"
   ]
  },
  {
   "cell_type": "markdown",
   "id": "13deee69-cd99-4635-a9c6-25699623eb4a",
   "metadata": {},
   "source": [
    "____________"
   ]
  },
  {
   "cell_type": "markdown",
   "id": "f7671528-e3cd-437e-86ba-bf65ae6a4807",
   "metadata": {},
   "source": [
    "### VALIDANDO O MÉTODO calcular_area\n",
    "### Cria o objeto área"
   ]
  },
  {
   "cell_type": "code",
   "execution_count": 33,
   "id": "71599f88-7040-435f-9125-cdc349524c33",
   "metadata": {},
   "outputs": [
    {
     "data": {
      "text/plain": [
       "200.96"
      ]
     },
     "execution_count": 33,
     "metadata": {},
     "output_type": "execute_result"
    }
   ],
   "source": [
    "# validando o método área\n",
    "\n",
    "bola.area"
   ]
  },
  {
   "cell_type": "markdown",
   "id": "b5733f2c-92df-483e-8a55-3b6e69f55ee0",
   "metadata": {},
   "source": [
    "___________"
   ]
  },
  {
   "cell_type": "markdown",
   "id": "3d23c230-011e-4024-8140-4e2806d69a40",
   "metadata": {},
   "source": [
    "### VALIDANDO O MÉTODO calcular_volume\n",
    "### Cria o objeto volume"
   ]
  },
  {
   "cell_type": "code",
   "execution_count": 34,
   "id": "73bbbacd-0c11-4879-bfa6-52cf5c2e6a22",
   "metadata": {},
   "outputs": [
    {
     "data": {
      "text/plain": [
       "267.94666666666666"
      ]
     },
     "execution_count": 34,
     "metadata": {},
     "output_type": "execute_result"
    }
   ],
   "source": [
    "# validando o método volume\n",
    "\n",
    "bola.volume"
   ]
  },
  {
   "cell_type": "markdown",
   "id": "71ad3076-ed17-4f84-9eb7-1629706b2201",
   "metadata": {},
   "source": [
    "_______"
   ]
  },
  {
   "cell_type": "markdown",
   "id": "b632869f-838f-45bb-a34c-c513221ca88a",
   "metadata": {},
   "source": [
    "## Printando a área e volume"
   ]
  },
  {
   "cell_type": "code",
   "execution_count": 8,
   "id": "f98602b7-394e-4a76-9075-57792151ba1a",
   "metadata": {},
   "outputs": [
    {
     "name": "stdout",
     "output_type": "stream",
     "text": [
      "A área da bola é 200.96m2\n",
      "O volume da bola é 267.95m3\n"
     ]
    }
   ],
   "source": [
    "print(f'A área da bola é {bola.area:.5}m2')\n",
    "print(f'O volume da bola é {bola.volume:.5}m3')"
   ]
  },
  {
   "cell_type": "markdown",
   "id": "d4efb743-73fe-486b-b79d-c6d7264b103a",
   "metadata": {},
   "source": [
    "## FIM!"
   ]
  }
 ],
 "metadata": {
  "kernelspec": {
   "display_name": "Python 3",
   "language": "python",
   "name": "python3"
  },
  "language_info": {
   "codemirror_mode": {
    "name": "ipython",
    "version": 3
   },
   "file_extension": ".py",
   "mimetype": "text/x-python",
   "name": "python",
   "nbconvert_exporter": "python",
   "pygments_lexer": "ipython3",
   "version": "3.8.8"
  }
 },
 "nbformat": 4,
 "nbformat_minor": 5
}
