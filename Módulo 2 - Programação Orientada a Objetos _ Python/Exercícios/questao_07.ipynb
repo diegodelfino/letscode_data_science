{
 "cells": [
  {
   "cell_type": "markdown",
   "id": "d69fe2ac-028a-4f3c-b95d-661f8a9d5f0d",
   "metadata": {},
   "source": [
    "## Questão #7\n",
    "\n",
    "Enunciado\n",
    "\n",
    "Crie uma modelagem de classes para uma agenda capaz de armazenar contatos. Através dessa agenda é possível incluir, remover, buscar e listar contatos já cadastrados."
   ]
  },
  {
   "cell_type": "code",
   "execution_count": 52,
   "id": "3be20edb-cc64-494b-97f7-e3641bad59c9",
   "metadata": {},
   "outputs": [],
   "source": [
    "class Agenda:\n",
    "    # necessário dicionário externo ao método construtor, pois\n",
    "    # senão, ele ira subscrever o contato cada vez que um novo objeto for criado\n",
    "    contatos = {}\n",
    "    \n",
    "    def __init__(self, contato, telefone):\n",
    "        '''\n",
    "        Método construtor\n",
    "        \n",
    "        Parâmetro\n",
    "        ---------\n",
    "        contato : str\n",
    "            Nome do contato\n",
    "        telefone : str\n",
    "            Telefone do contato\n",
    "        '''\n",
    "        # definindo os atributos do método construtor\n",
    "        self.contato = contato\n",
    "        self.telefone = telefone\n",
    "        \n",
    "        # define um dicionário e insere o contato no dicionário\n",
    "        Agenda.contatos.update({self:[self.contato,self.telefone]})\n",
    "        \n",
    "        # método __repr__ para representar o objeto\n",
    "    def __repr__(self):\n",
    "        return f'Contato {self.contato}, Telefone: {self.telefone}'\n",
    "        \n",
    "        # método para incluir o contato na agenda\n",
    "        # que irá chamar o construtor para criar o objeto com os parâmetros/atributos da classe\n",
    "        \n",
    "    def incluir_contato(nome, telefone):\n",
    "        '''\n",
    "        Método que chama o construtor e cria o contato com os parâmetros/atributos da classe\n",
    "        \n",
    "        Parâmetros\n",
    "        ----------\n",
    "        nome : str\n",
    "            Nome do contato\n",
    "        telefone : int\n",
    "            Telefone do contato\n",
    "        '''\n",
    "        if nome not in Agenda.contatos:\n",
    "            return Agenda(nome, telefone)\n",
    "        \n",
    "    @staticmethod\n",
    "    def remover_contato(nome):\n",
    "        '''\n",
    "        Método que chama o construtor e remove o contato no dicionário de contatos\n",
    "        \n",
    "        Parâmetro\n",
    "        ---------\n",
    "        nome : str\n",
    "            Nome do contato\n",
    "        '''\n",
    "        for nome_existente in Agenda.contatos:\n",
    "            if nome == Agenda.contatos[nome_existente][0]:\n",
    "                del Agenda.contatos[nome_existente]\n",
    "                print('Contato foi removido da agenda')\n",
    "            else:\n",
    "                print('Contato não existe')\n",
    "            break\n",
    "            \n",
    "    # @staticmethod significa: quando esse método é chamado, não passamos uma instância d\n",
    "    # a classe para ele (como fazemos normalmente com os métodos). \n",
    "    # Isso significa que você pode colocar uma função dentro de uma classe, \n",
    "    # mas não pode acessar a instância dessa classe (isso é útil quando o método não usa a instância).\n",
    "    \n",
    "    @staticmethod\n",
    "    def buscar_contato(nome):\n",
    "        '''\n",
    "        Busca o contato na lista de contatos\n",
    "        \n",
    "        Parâmetro\n",
    "        ---------\n",
    "        nome : str\n",
    "            Nome do contato\n",
    "        '''\n",
    "        for nome_existente in Agenda.contatos:\n",
    "            if nome == Agenda.contatos[nome_existente][0]:\n",
    "                print (f'Nome: {Agenda.contatos[nome_existente][0]}, Telefone: {Agenda.contatos[nome_existente][1]}')\n",
    "    \n",
    "    @staticmethod\n",
    "    def listar_contatos():\n",
    "        '''\n",
    "        Listar todos os contatos cadastrados\n",
    "        '''\n",
    "        for nome_existente in Agenda.contatos:\n",
    "            print (f'Nome: {Agenda.contatos[nome_existente][0]}, Telefone: {Agenda.contatos[nome_existente][1]}')"
   ]
  },
  {
   "cell_type": "code",
   "execution_count": 53,
   "id": "866f6bcc-e4f3-4b0c-9f94-09c3a7e513ad",
   "metadata": {},
   "outputs": [
    {
     "data": {
      "text/plain": [
       "Contato Evellyn, Telefone: 21982838888"
      ]
     },
     "execution_count": 53,
     "metadata": {},
     "output_type": "execute_result"
    }
   ],
   "source": [
    "# validando o método incluir_contato\n",
    "\n",
    "Agenda.incluir_contato('Evellyn', 11982838888)\n",
    "Agenda.incluir_contato('Diego', 11982839001)\n",
    "Agenda.incluir_contato('Wladimir', 55982839001)\n",
    "Agenda.incluir_contato('Arthur', 88982839001)\n",
    "Agenda.incluir_contato('Evellyn', 21982838888)"
   ]
  },
  {
   "cell_type": "code",
   "execution_count": 54,
   "id": "c6e81b0e-6e86-48c1-b375-b7a3f31462fb",
   "metadata": {},
   "outputs": [
    {
     "name": "stdout",
     "output_type": "stream",
     "text": [
      "Nome: Evellyn, Telefone: 11982838888\n",
      "Nome: Diego, Telefone: 11982839001\n",
      "Nome: Wladimir, Telefone: 55982839001\n",
      "Nome: Arthur, Telefone: 88982839001\n",
      "Nome: Evellyn, Telefone: 21982838888\n"
     ]
    }
   ],
   "source": [
    "# validando o método lista_contatos\n",
    "\n",
    "Agenda.listar_contatos()"
   ]
  },
  {
   "cell_type": "code",
   "execution_count": 55,
   "id": "c25019a4-081f-4e00-9699-4daa413fb8a6",
   "metadata": {},
   "outputs": [
    {
     "name": "stdout",
     "output_type": "stream",
     "text": [
      "Nome: Evellyn, Telefone: 11982838888\n",
      "Nome: Evellyn, Telefone: 21982838888\n"
     ]
    }
   ],
   "source": [
    "# validando o método buscar_contato\n",
    "\n",
    "Agenda.buscar_contato('Evellyn')"
   ]
  },
  {
   "cell_type": "code",
   "execution_count": 56,
   "id": "4b3c0169-20bd-4d70-8875-0e575ec5f65f",
   "metadata": {},
   "outputs": [
    {
     "name": "stdout",
     "output_type": "stream",
     "text": [
      "Contato foi removido da agenda\n",
      "Contato foi removido da agenda\n",
      "Contato não existe\n",
      "Contato não existe\n",
      "Nome: Wladimir, Telefone: 55982839001\n",
      "Nome: Arthur, Telefone: 88982839001\n",
      "Nome: Evellyn, Telefone: 21982838888\n"
     ]
    }
   ],
   "source": [
    "# validando o método remover_contato\n",
    "\n",
    "Agenda.remover_contato('Evellyn')\n",
    "Agenda.remover_contato('Diego')\n",
    "Agenda.remover_contato('Fádua')\n",
    "Agenda.remover_contato('Diego')\n",
    "Agenda.listar_contatos()"
   ]
  },
  {
   "cell_type": "code",
   "execution_count": null,
   "id": "10e30ece-601e-4d14-bbe9-b7adc05d0c99",
   "metadata": {},
   "outputs": [],
   "source": []
  },
  {
   "cell_type": "code",
   "execution_count": null,
   "id": "baea4436-0ee4-4205-9898-17dd95993ecb",
   "metadata": {},
   "outputs": [],
   "source": []
  }
 ],
 "metadata": {
  "kernelspec": {
   "display_name": "Python 3",
   "language": "python",
   "name": "python3"
  },
  "language_info": {
   "codemirror_mode": {
    "name": "ipython",
    "version": 3
   },
   "file_extension": ".py",
   "mimetype": "text/x-python",
   "name": "python",
   "nbconvert_exporter": "python",
   "pygments_lexer": "ipython3",
   "version": "3.8.8"
  }
 },
 "nbformat": 4,
 "nbformat_minor": 5
}
