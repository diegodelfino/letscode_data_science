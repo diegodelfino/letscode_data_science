{
 "cells": [
  {
   "cell_type": "markdown",
   "id": "9a46ff3b-50d1-4e39-b483-4c87b77a3ab3",
   "metadata": {},
   "source": [
    "## Questão #10\n",
    "\n",
    "Enunciado\n",
    "\n",
    "Crie uma classe ContaCorrente com os atributos cliente (que deve ser um objeto da classe Cliente) e saldo. Crie métodos para depósito, saque e transferência. Os métodos de saque e transferência devem verificar se é possível realizar a transação."
   ]
  },
  {
   "cell_type": "code",
   "execution_count": 5,
   "id": "0f48963e-576b-4443-bf7b-d346759b62ae",
   "metadata": {},
   "outputs": [],
   "source": [
    "class Cliente:\n",
    "    def __init__(self, nome, idade, email):\n",
    "        '''\n",
    "        Método construtor\n",
    "        \n",
    "        Parâmetros\n",
    "        ----------\n",
    "        nome : str\n",
    "            Nome do cliente\n",
    "        idade : int\n",
    "            Idade do cliente\n",
    "        email : str\n",
    "            e-mail do cliente\n",
    "        '''\n",
    "        \n",
    "        # atributos do método\n",
    "        self.nome = nome\n",
    "        self.idade = idade\n",
    "        self.email = email\n",
    "    \n",
    "    # Método de representação do Cliente\n",
    "    def __repr__(self):\n",
    "        return f'Nome: {self.nome}\\n\\nIdade: {self.idade}\\n\\nE-mail: {self.email}'\n",
    "    \n",
    "class ContaCorrente:\n",
    "    def __init__(self, cliente, saldo=0):\n",
    "        '''\n",
    "        Cria uma conta corrente para o objeto Cliente.\n",
    "        cliente : obj\n",
    "            Cliente criado na classe Cliente\n",
    "        saldo : float\n",
    "            Saldo do cliente na criação da conta corrente\n",
    "        '''\n",
    "        \n",
    "        # self.cliente é o cliente criado na classe Cliente\n",
    "        # A self (conta corrente) é atribuida ao cliente já existente\n",
    "        # saldo é um atributo privado\n",
    "        \n",
    "        self.cliente = cliente\n",
    "        cliente.ContaCorrente = self\n",
    "        self.__saldo = saldo\n",
    "        \n",
    "    # criado o método para acessar o saldo da self (conta corrente)    \n",
    "    @property    \n",
    "    def saldo(self):\n",
    "        return self.__saldo\n",
    "    \n",
    "    # método de representação do cliente + saldo da self (conta corrente)\n",
    "    # self.cliente.nome, apresentará somente o nome\n",
    "    \n",
    "    def __repr__(self):\n",
    "        return f'Nome: {self.cliente}\\n\\nSALDO: {self.__saldo}'\n",
    "\n",
    "    def depositar(self, valor_deposito):\n",
    "        '''\n",
    "        Realizar deposito no self (conta corrente)\n",
    "        valor_deposito : float\n",
    "            Valor do deposito\n",
    "        '''\n",
    "        # verifica o saldo do self (conta corrente) e incrementa com valor (deposito)\n",
    "        self.__saldo += valor_deposito\n",
    "        \n",
    "    def sacar(self, valor_saque):\n",
    "        '''\n",
    "        Realizar saque no self (conta corrente)\n",
    "        valor_saque : float\n",
    "            Valor do saque\n",
    "        '''\n",
    "        # verifica se o valor de saque é suficiente no saldo\n",
    "        # subtrai o valor do saldo\n",
    "        # senão, informa que o saldo é insuficiente\n",
    "        if self.__saldo - valor_saque >= 0:\n",
    "            self.__saldo -= valor_saque\n",
    "        else:\n",
    "            print('Saldo não é suficiente para o saque.')\n",
    "            \n",
    "    def transferir(self, other, valor_transferencia):\n",
    "        '''\n",
    "        Realizar transferencia para outro self (outra conta corrente)\n",
    "        valor_transferencia : float\n",
    "            Valor a ser transferido\n",
    "        '''\n",
    "        # verifica se o valor de transferência é suficiente no saldo\n",
    "        # subtrai o valor do saldo\n",
    "        # incrementa o valor no saldo do other\n",
    "        # senão, informa que o saldo é insuficiente\n",
    "        if self.__saldo - valor_transferencia >= 0:\n",
    "            self.__saldo -= valor_transferencia\n",
    "            other.__saldo += valor_transferencia\n",
    "        else:\n",
    "            print('Saldo insuficiente para realizar transferência')\n",
    "  "
   ]
  },
  {
   "cell_type": "code",
   "execution_count": 6,
   "id": "d6608249-f2aa-4558-8cd6-a4c8e56dbd95",
   "metadata": {},
   "outputs": [],
   "source": [
    "# criando os clientes Diego e Evellyn\n",
    "\n",
    "diego = Cliente('Diego', 37, 'dzionn@gmail.com')\n",
    "evellyn = Cliente ('Evellyn', 36, 'evellyn@gmail.com')"
   ]
  },
  {
   "cell_type": "code",
   "execution_count": 7,
   "id": "27bbcd67-7492-4e94-8d52-9a33afcbb189",
   "metadata": {},
   "outputs": [
    {
     "name": "stdout",
     "output_type": "stream",
     "text": [
      "Nome: Nome: Diego\n",
      "\n",
      "Idade: 37\n",
      "\n",
      "E-mail: dzionn@gmail.com\n",
      "\n",
      "SALDO: 0\n",
      "Nome: Nome: Evellyn\n",
      "\n",
      "Idade: 36\n",
      "\n",
      "E-mail: evellyn@gmail.com\n",
      "\n",
      "SALDO: 0\n"
     ]
    }
   ],
   "source": [
    "# criando as contas correntes de Diego e Evellyn\n",
    "\n",
    "A0001 = ContaCorrente(diego)\n",
    "A0002 = ContaCorrente(evellyn)\n",
    "\n",
    "# apresenta o saldo atual das contas de Diego e Evellyn\n",
    "print(A0001)\n",
    "print(A0002)"
   ]
  },
  {
   "cell_type": "code",
   "execution_count": 8,
   "id": "5a0094d8-15a5-447b-ab62-fc25ff985f32",
   "metadata": {},
   "outputs": [
    {
     "name": "stdout",
     "output_type": "stream",
     "text": [
      "Nome: Nome: Diego\n",
      "\n",
      "Idade: 37\n",
      "\n",
      "E-mail: dzionn@gmail.com\n",
      "\n",
      "SALDO: 500\n",
      "Nome: Nome: Evellyn\n",
      "\n",
      "Idade: 36\n",
      "\n",
      "E-mail: evellyn@gmail.com\n",
      "\n",
      "SALDO: 0\n"
     ]
    }
   ],
   "source": [
    "# validando o método sacar\n",
    "A0001.depositar(500)\n",
    "\n",
    "# apresenta o saldo atual das contas de Diego e Evellyn\n",
    "print(A0001)\n",
    "print(A0002)"
   ]
  },
  {
   "cell_type": "code",
   "execution_count": 9,
   "id": "0402ab1c-4ac7-4190-be46-63685fc8e01f",
   "metadata": {},
   "outputs": [
    {
     "name": "stdout",
     "output_type": "stream",
     "text": [
      "Nome: Nome: Diego\n",
      "\n",
      "Idade: 37\n",
      "\n",
      "E-mail: dzionn@gmail.com\n",
      "\n",
      "SALDO: 300\n",
      "Nome: Nome: Evellyn\n",
      "\n",
      "Idade: 36\n",
      "\n",
      "E-mail: evellyn@gmail.com\n",
      "\n",
      "SALDO: 200\n"
     ]
    }
   ],
   "source": [
    "# validando o método transferir\n",
    "A0001.transferir(A0002, 200)\n",
    "\n",
    "# apresenta o saldo atual das contas de Diego e Evellyn\n",
    "print(A0001)\n",
    "print(A0002)"
   ]
  },
  {
   "cell_type": "code",
   "execution_count": 10,
   "id": "89762c33-d21f-4674-9b72-ebf611a02ef3",
   "metadata": {},
   "outputs": [
    {
     "name": "stdout",
     "output_type": "stream",
     "text": [
      "Nome: Nome: Diego\n",
      "\n",
      "Idade: 37\n",
      "\n",
      "E-mail: dzionn@gmail.com\n",
      "\n",
      "SALDO: 300\n",
      "Nome: Nome: Evellyn\n",
      "\n",
      "Idade: 36\n",
      "\n",
      "E-mail: evellyn@gmail.com\n",
      "\n",
      "SALDO: 150\n"
     ]
    }
   ],
   "source": [
    "# validando o método sacar\n",
    "A0002.sacar(50)\n",
    "\n",
    "# apresenta o saldo atual das contas de Diego e Evellyn\n",
    "print(A0001)\n",
    "print(A0002)"
   ]
  }
 ],
 "metadata": {
  "kernelspec": {
   "display_name": "Python 3",
   "language": "python",
   "name": "python3"
  },
  "language_info": {
   "codemirror_mode": {
    "name": "ipython",
    "version": 3
   },
   "file_extension": ".py",
   "mimetype": "text/x-python",
   "name": "python",
   "nbconvert_exporter": "python",
   "pygments_lexer": "ipython3",
   "version": "3.8.8"
  }
 },
 "nbformat": 4,
 "nbformat_minor": 5
}
