{
 "cells": [
  {
   "cell_type": "markdown",
   "id": "fcfa09e7-6633-4d68-bb35-ab7c9a5818b7",
   "metadata": {},
   "source": [
    "## Questão #5\n",
    "\n",
    "Enunciado\n",
    "\n",
    "Crie uma classe ControleRemoto cujo atributo é televisão (isso é, recebe um objeto da classe do exercício 4). Crie métodos para aumentar/diminuir volume, trocar o canal e sintonizar um novo canal, que adiciona um novo canal à lista de canais (somente se esse canal não estiver nessa lista)."
   ]
  },
  {
   "cell_type": "code",
   "execution_count": 42,
   "id": "ac422fa1-792b-445f-8a77-ce53a96c9466",
   "metadata": {},
   "outputs": [],
   "source": [
    "class Televisor:\n",
    "    '''\n",
    "    Classe Televisor\n",
    "    '''\n",
    "    def __init__(self, fabricante, modelo, canal_atual, volume):\n",
    "        '''\n",
    "        Cria um televisor\n",
    "        fabricante : str\n",
    "            Fabricante do televisor\n",
    "        modelo : str\n",
    "            Modelo do televisor\n",
    "        canal_atual : int\n",
    "            Canal de configuração inicial\n",
    "        volume : int\n",
    "            Volume atual do televisor\n",
    "        '''\n",
    "        self.fabricante = fabricante\n",
    "        self.modelo = modelo\n",
    "        self.volume = volume\n",
    "        self.canal = canal_atual\n",
    "        \n",
    "        self.lista_canais = []\n",
    "        if (canal_atual not in self.lista_canais):\n",
    "            self.lista_canais.append(self.canal)\n",
    "    # Não é necessário docstring para os métodos mágicos __repr__ e __srt__\n",
    "    def __repr__(self):\n",
    "        return f'fabricante: {self.fabricante} modelo: {self.modelo}'\n",
    "            \n",
    "class ControleRemoto:\n",
    "    def __init__(self, Televisor):\n",
    "        '''\n",
    "        Cria um controle remoto\n",
    "\n",
    "        Parâmetros\n",
    "        -----------\n",
    "        Televisor : obj\n",
    "            Classe Televisor que instancia o ControleRemot\n",
    "        '''\n",
    "        self.televisor = Televisor        \n",
    "        \n",
    "    def alterar_volume (self, volume):\n",
    "        '''\n",
    "        Aumentar ou diminui o volume.\n",
    "        \n",
    "        Parâmetro\n",
    "        ---------\n",
    "        volume : int\n",
    "            Número do volume\n",
    "        Condição: O volume deve ser configurado entre 0 e 100\n",
    "        '''\n",
    "        if volume >= 0 and volume <= 100:\n",
    "            self.volume = volume\n",
    "            return (f'O volume do televisor {self.televisor} agora está {volume}.')\n",
    "        else:\n",
    "            return ('O volume deve ser entre 0 e 100')\n",
    "            \n",
    "    def sintonizar_canal(self, canal):\n",
    "        '''\n",
    "        Sintoniza os canais e o acrescenta a lista de canais\n",
    "        \n",
    "        Parâmetros\n",
    "        ---------\n",
    "        canal : int\n",
    "            Canal a ser sintonizado\n",
    "        '''\n",
    "        if (canal not in self.televisor.lista_canais):    \n",
    "            self.televisor.lista_canais.append(canal)\n",
    "            \n",
    "    def trocar_canal(self, novo_canal):\n",
    "        '''\n",
    "        Troca de canal e o acrescenta a lista de canais\n",
    "        \n",
    "        Parâmetros\n",
    "        ----------\n",
    "        novo_canal : int\n",
    "            Substitui o canal atual e, se não estiver sintonizado, será acrescentado a lista\n",
    "        '''\n",
    "        self.televisor.canal = novo_canal\n",
    "        if (novo_canal not in self.televisor.lista_canais):\n",
    "            self.televisor.lista_canais.append(novo_canal)"
   ]
  },
  {
   "cell_type": "code",
   "execution_count": 43,
   "id": "1a68ac54-33b3-4418-b068-fa7b4ecf8890",
   "metadata": {},
   "outputs": [],
   "source": [
    "# instanciando o objeto na Classe Televisor\n",
    "\n",
    "tvquarto = Televisor(\n",
    "    fabricante = 'TLC',\n",
    "    modelo = '55 polegadas',\n",
    "    canal_atual = 5,\n",
    "    volume = 12)"
   ]
  },
  {
   "cell_type": "code",
   "execution_count": 44,
   "id": "03ac68ac-52e0-4808-b6a1-2ce9f017ce06",
   "metadata": {},
   "outputs": [
    {
     "data": {
      "text/plain": [
       "'O volume do televisor fabricante: TLC modelo: 55 polegadas agora está 10.'"
      ]
     },
     "execution_count": 44,
     "metadata": {},
     "output_type": "execute_result"
    }
   ],
   "source": [
    "# criando o objeto controle remoto para a tv do quarto\n",
    "\n",
    "controletv = ControleRemoto(tvquarto)\n",
    "controletv.alterar_volume(10)"
   ]
  },
  {
   "cell_type": "code",
   "execution_count": 45,
   "id": "2a2c328f-d156-4de1-9500-5b067be57f39",
   "metadata": {},
   "outputs": [
    {
     "name": "stdout",
     "output_type": "stream",
     "text": [
      "A lista de canais é: [5]\n",
      "Após sintonizado, a lista de canais é: [5, 10]\n"
     ]
    }
   ],
   "source": [
    "# validando o método sintonizar_canal pelo controle remoto\n",
    "\n",
    "print(f'A lista de canais é: {tvquarto.lista_canais}')\n",
    "controletv.sintonizar_canal(10)\n",
    "print(f'Após sintonizado, a lista de canais é: {tvquarto.lista_canais}')"
   ]
  },
  {
   "cell_type": "code",
   "execution_count": 46,
   "id": "6752394e-30ae-499c-ba19-f66c73ffc66c",
   "metadata": {},
   "outputs": [
    {
     "data": {
      "text/plain": [
       "[5, 10]"
      ]
     },
     "execution_count": 46,
     "metadata": {},
     "output_type": "execute_result"
    }
   ],
   "source": [
    "# validando o atributo lista_canais na tv do quarto\n",
    "\n",
    "tvquarto.lista_canais"
   ]
  },
  {
   "cell_type": "code",
   "execution_count": 47,
   "id": "189fd781-d63b-461a-af5b-0cf644df5667",
   "metadata": {},
   "outputs": [
    {
     "name": "stdout",
     "output_type": "stream",
     "text": [
      "O canal era 5.\n",
      "O canal foi trocado para 6.\n",
      "A lista atual de canais é [5, 10, 6].\n"
     ]
    }
   ],
   "source": [
    "# validando o método troca de canal pelo controle remoto na tv do quarto\n",
    "\n",
    "print(f'O canal era {tvquarto.canal}.')\n",
    "controletv.trocar_canal(6)\n",
    "print(f'O canal foi trocado para {tvquarto.canal}.')\n",
    "print(f'A lista atual de canais é {tvquarto.lista_canais}.')"
   ]
  },
  {
   "cell_type": "code",
   "execution_count": 48,
   "id": "a57ac9ed-12a4-40a6-88f4-4bd10472a471",
   "metadata": {},
   "outputs": [
    {
     "name": "stdout",
     "output_type": "stream",
     "text": [
      "O volume do televisor fabricante: TLC modelo: 55 polegadas agora está 5.\n",
      "O volume deve ser entre 0 e 100\n",
      "O volume deve ser entre 0 e 100\n"
     ]
    }
   ],
   "source": [
    "# validando o método alterar_volume pelo controle remoto\n",
    "\n",
    "print(controletv.alterar_volume(5))\n",
    "print(controletv.alterar_volume(-5))\n",
    "print(controletv.alterar_volume(105))"
   ]
  },
  {
   "cell_type": "code",
   "execution_count": null,
   "id": "e80fde6c-ff77-47e5-a3ad-68be594b6a43",
   "metadata": {},
   "outputs": [],
   "source": []
  }
 ],
 "metadata": {
  "kernelspec": {
   "display_name": "Python 3",
   "language": "python",
   "name": "python3"
  },
  "language_info": {
   "codemirror_mode": {
    "name": "ipython",
    "version": 3
   },
   "file_extension": ".py",
   "mimetype": "text/x-python",
   "name": "python",
   "nbconvert_exporter": "python",
   "pygments_lexer": "ipython3",
   "version": "3.8.8"
  }
 },
 "nbformat": 4,
 "nbformat_minor": 5
}
