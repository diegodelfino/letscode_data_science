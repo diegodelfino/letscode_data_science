{
 "cells": [
  {
   "cell_type": "markdown",
   "id": "72c016c4-15ca-498c-abd1-54df91518da3",
   "metadata": {},
   "source": [
    "## Questão #3\n"
   ]
  },
  {
   "cell_type": "markdown",
   "id": "a974949a-fa99-4b54-b9d1-194b3845a022",
   "metadata": {},
   "source": [
    "Crie uma classe Funcionario cujos atributos são nome e e-mail. Guarde as horas trabalhadas em um dicionário cujas chaves são o mês em questão e, em outro dicionário, guarde o salário por hora relativo ao mês em questão. Crie um método que retorna o salário mensal do funcionário."
   ]
  },
  {
   "cell_type": "code",
   "execution_count": 88,
   "id": "55222559-bbc4-4567-896b-0638b5cd30d2",
   "metadata": {},
   "outputs": [],
   "source": [
    "class Funcionario:\n",
    "    '''\n",
    "    Classe Funcionário\n",
    "    '''\n",
    "    \n",
    "    def __init__(self, nome, email):\n",
    "        '''\n",
    "        Cria um funcionário\n",
    "        \n",
    "        Parâmetros\n",
    "        ----------\n",
    "        nome : str\n",
    "            nome do funcionário\n",
    "        email : str\n",
    "            email do funcionário\n",
    "        '''\n",
    "        self.nome = nome\n",
    "        self.email = email\n",
    "        self.horas_trabalhadas = {}\n",
    "        self.salario_hora = {}\n",
    "    \n",
    "    def lancar_horas_mes(self, mes, quantidade_horas):\n",
    "        '''\n",
    "        Lança a quantidade de horas do mês\n",
    "        \n",
    "        Parâmetros\n",
    "        ----------\n",
    "        mês : str\n",
    "            mês vigente, exemplo: \"07/2021\"\n",
    "        quantidade_horas : float\n",
    "            quantidade de horas trabalhadas no mês vigente\n",
    "        '''\n",
    "        self.horas_trabalhadas[mes] = quantidade_horas\n",
    "        \n",
    "    def definir_salario_hora_mes(self, mes, valor_salario_hora):\n",
    "        '''\n",
    "        Define o valor salário hora no mês vigente\n",
    "        \n",
    "        Parâmetros\n",
    "        ----------\n",
    "        mes : str\n",
    "            mês vigente, exemplo: \"07/2021\"\n",
    "        valor_salario_hora: float\n",
    "            valor em hora do salário no mês vigente\n",
    "        '''\n",
    "        self.salario_hora[mes] = valor_salario_hora\n",
    "        \n",
    "    def calcular_salario(self, mes):\n",
    "        '''\n",
    "        Calcula o salário no mês vigente\n",
    "        \n",
    "        Parâmetros\n",
    "        ----------\n",
    "        mes : str\n",
    "            mês vigente, exemplo: \"07/2021\"\n",
    "            \n",
    "        Retorno\n",
    "        -------\n",
    "        out : float\n",
    "            Salário no mês vigente\n",
    "            Retorna 0 se não trabalhou no mês\n",
    "            ou se o mês não está cadastrado.\n",
    "        '''\n",
    "        if (mes in self.salario_hora and\n",
    "           mes in self.horas_trabalhadas):\n",
    "            calculo_salario = self.salario_hora[mes] * self.horas_trabalhadas[mes]\n",
    "            return f'{calculo_salario:.7}'\n",
    "        print ('Salário ou horas não cadastrado no mês solicitado')"
   ]
  },
  {
   "cell_type": "code",
   "execution_count": 89,
   "id": "952e7c84-0b55-4aac-bbc7-337a43e04508",
   "metadata": {},
   "outputs": [],
   "source": [
    "diego = Funcionario(\n",
    "    nome = 'Diego',\n",
    "    email = 'dzionn@gmail.com')"
   ]
  },
  {
   "cell_type": "code",
   "execution_count": 90,
   "id": "1f1f78b2-add8-4613-b7a8-5cc02ffb5c97",
   "metadata": {},
   "outputs": [
    {
     "data": {
      "text/plain": [
       "'Diego'"
      ]
     },
     "execution_count": 90,
     "metadata": {},
     "output_type": "execute_result"
    }
   ],
   "source": [
    "diego.nome"
   ]
  },
  {
   "cell_type": "code",
   "execution_count": 91,
   "id": "7f516eef-5b0f-4a20-9895-2ded306a7b58",
   "metadata": {},
   "outputs": [],
   "source": [
    "diego.definir_salario_hora_mes('07/2021', 68.18)\n",
    "diego.lancar_horas_mes('07/2021', 220)"
   ]
  },
  {
   "cell_type": "code",
   "execution_count": 92,
   "id": "4cee498d-c6c8-459c-bd6b-223e280790c7",
   "metadata": {},
   "outputs": [
    {
     "data": {
      "text/plain": [
       "'14999.6'"
      ]
     },
     "execution_count": 92,
     "metadata": {},
     "output_type": "execute_result"
    }
   ],
   "source": [
    "diego.calcular_salario('07/2021')"
   ]
  },
  {
   "cell_type": "code",
   "execution_count": 93,
   "id": "bf677538-72d6-45bc-987e-5e1b5eaa4ea4",
   "metadata": {},
   "outputs": [
    {
     "name": "stdout",
     "output_type": "stream",
     "text": [
      "Salário ou horas não cadastrado no mês solicitado\n"
     ]
    }
   ],
   "source": [
    "diego.calcular_salario('06/2021')"
   ]
  }
 ],
 "metadata": {
  "kernelspec": {
   "display_name": "Python 3",
   "language": "python",
   "name": "python3"
  },
  "language_info": {
   "codemirror_mode": {
    "name": "ipython",
    "version": 3
   },
   "file_extension": ".py",
   "mimetype": "text/x-python",
   "name": "python",
   "nbconvert_exporter": "python",
   "pygments_lexer": "ipython3",
   "version": "3.8.8"
  }
 },
 "nbformat": 4,
 "nbformat_minor": 5
}
