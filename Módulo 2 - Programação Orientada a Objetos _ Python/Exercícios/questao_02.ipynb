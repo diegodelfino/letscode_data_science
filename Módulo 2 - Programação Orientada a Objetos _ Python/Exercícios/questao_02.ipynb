{
 "cells": [
  {
   "cell_type": "markdown",
   "id": "9f123266-51dd-422b-b281-a4d1c23512a8",
   "metadata": {},
   "source": [
    "## Questão #2\n",
    "\n",
    "Enunciado\n",
    "Crie uma classe Retângulo cujos atributos são lado_a e lado_b. Crie um método para calcular a área desse retângulo. Crie um objeto dessa classe e calcule a área e a imprima em seguida.\n"
   ]
  },
  {
   "cell_type": "code",
   "execution_count": 51,
   "id": "0d13f90e-462e-4a55-9edd-0728b1dd2942",
   "metadata": {},
   "outputs": [],
   "source": [
    "class Retangulo:\n",
    "    '''\n",
    "    Classe que calcula área do retângulo\n",
    "    '''\n",
    "    def __init__(self, lado_a, lado_b):\n",
    "        '''\n",
    "        lado_a : float\n",
    "            lado A do retângulo\n",
    "        labo_b : float\n",
    "            lado B do retângulo\n",
    "        '''\n",
    "        self.lado_a = lado_a\n",
    "        self.lado_b = lado_b\n",
    "        \n",
    "        # a partir do objeto criado com o método abaixo\n",
    "        self.area = self.calcular_area()\n",
    "        \n",
    "    # Não é necessário docstring para os métodos mágicos __repr__ e __srt__    \n",
    "    def __repr__(self):\n",
    "        return f'Lado A tem {self.lado_a}m e o lado B tem {self.lado_b}m'\n",
    "    \n",
    "    def calcular_area(self):\n",
    "        '''\n",
    "        Calcula a área do retângulo\n",
    "        '''\n",
    "        area = self.lado_a * self.lado_b\n",
    "        return f'A área do retangulo tem {area}m2'"
   ]
  },
  {
   "cell_type": "code",
   "execution_count": 52,
   "id": "b9091de1-8144-42b1-934a-6bb5ded97482",
   "metadata": {},
   "outputs": [
    {
     "data": {
      "text/plain": [
       "Lado A tem 4m e o lado B tem 5m"
      ]
     },
     "execution_count": 52,
     "metadata": {},
     "output_type": "execute_result"
    }
   ],
   "source": [
    "retangulo = Retangulo(\n",
    "    lado_a = 4,\n",
    "    lado_b = 5)\n",
    "\n",
    "retangulo"
   ]
  },
  {
   "cell_type": "code",
   "execution_count": 54,
   "id": "76d54870-9d81-40c6-a028-6eef7e39b254",
   "metadata": {},
   "outputs": [
    {
     "data": {
      "text/plain": [
       "'A área do retangulo tem 20m2'"
      ]
     },
     "execution_count": 54,
     "metadata": {},
     "output_type": "execute_result"
    }
   ],
   "source": [
    "retangulo.area"
   ]
  }
 ],
 "metadata": {
  "kernelspec": {
   "display_name": "Python 3",
   "language": "python",
   "name": "python3"
  },
  "language_info": {
   "codemirror_mode": {
    "name": "ipython",
    "version": 3
   },
   "file_extension": ".py",
   "mimetype": "text/x-python",
   "name": "python",
   "nbconvert_exporter": "python",
   "pygments_lexer": "ipython3",
   "version": "3.8.8"
  }
 },
 "nbformat": 4,
 "nbformat_minor": 5
}
