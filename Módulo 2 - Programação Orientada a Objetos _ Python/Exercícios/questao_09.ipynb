{
 "cells": [
  {
   "cell_type": "markdown",
   "id": "74a8bf23-1fa7-4edc-b169-8afa0e899aa4",
   "metadata": {},
   "source": [
    "## Questão #9\n",
    "\n",
    "Enunciado\n",
    "\n",
    "Com base no exercício anterior, crie um sistema de cadastro e a classe Cliente. Seu programa deve perguntar se o usuário quer cadastrar um novo cliente, alterar um cadastro ou sair.\n",
    "\n",
    "Dica: Você pode fazer esse exercício criando uma classe Sistema, que irá controlar o sistema de cadastros. Essa classe deve ter o atributo cadastro e os métodos para imprimir os cadastrados, cadastrar um novo cliente, alterar um cadastro ou sair."
   ]
  },
  {
   "cell_type": "code",
   "execution_count": null,
   "id": "1876d7c6-1bac-4327-8dc3-5a1b3594fb2c",
   "metadata": {
    "tags": []
   },
   "outputs": [
    {
     "name": "stdout",
     "output_type": "stream",
     "text": [
      "Escolha uma das opções do menu\n"
     ]
    }
   ],
   "source": [
    "class Cliente:\n",
    "    # dicionário de grupo de clientes que garanta a referencia para o objeto criado\n",
    "    grupo_clientes = {}\n",
    "    def __init__(self, nome, idade, email):\n",
    "        '''\n",
    "        Método construtor\n",
    "        \n",
    "        Parâmetros\n",
    "        ----------\n",
    "        nome : str\n",
    "            Nome do cliente\n",
    "        idade : int\n",
    "            Idade do cliente\n",
    "        email : str\n",
    "            e-mail do cliente\n",
    "        '''\n",
    "        \n",
    "        # atributos do método\n",
    "        self.nome = nome\n",
    "        self.idade = idade\n",
    "        self.email = email\n",
    "        # realizando adição dos objetos criados no dicionário\n",
    "        # referenciando o e-mail como chave de identificação do objeto\n",
    "        Cliente.grupo_clientes.update({self.email:[self.nome, self.idade, self.email]})\n",
    "        \n",
    "    def __repr__(self):\n",
    "        return f'Nome: {self.nome}\\nIdade: {self.idade}\\nE-mail: {self.email}\\n'\n",
    "\n",
    "class Sistema():\n",
    "    '''\n",
    "    Uma classe simples para controlar a classe Clientes.\n",
    "    Não será utilizado o método construtor, pois não serão atribuitos objetos a essa classe.\n",
    "    '''\n",
    "    def adicionar_cliente(nome, idade, email):\n",
    "        '''\n",
    "        Método para chamar os atributos da classe Cliente.\n",
    "        '''\n",
    "        return Cliente(nome, idade, email)\n",
    "    \n",
    "    @staticmethod\n",
    "    def modificar_cliente(identificador, nome, idade, email):\n",
    "        '''\n",
    "        Método estático para editar informações na base de dados do cadastro do cliente.\n",
    "        \n",
    "        Parâmetros\n",
    "        ----------\n",
    "        identificador : obj\n",
    "            Objeto criado na classe Clientes que será editado\n",
    "        nome : str\n",
    "            Nome do cliente\n",
    "        idade : int\n",
    "            Idade do cliente\n",
    "        email : int\n",
    "            e-mail do cliente\n",
    "        '''\n",
    "        Cliente.grupo_clientes.update({identificador:[nome, idade, email]})\n",
    "\n",
    "    @staticmethod\n",
    "    def imprime_clientes():\n",
    "        '''\n",
    "        Método estático para apresentar lista de clientes\n",
    "        '''\n",
    "        print(f'\\nTotal de clientes cadastrados:', len(Cliente.grupo_clientes), '\\n')\n",
    "        for elementos in Cliente.grupo_clientes:\n",
    "            print(f'Nome: {Cliente.grupo_clientes[elementos][0]}')\n",
    "            print(f'Idade: {Cliente.grupo_clientes[elementos][1]}')\n",
    "            print(f'e-mail: {Cliente.grupo_clientes[elementos][2]}\\n')\n",
    "\n",
    "opcao_menu = ''\n",
    "print('Escolha uma das opções do menu')\n",
    "\n",
    "# def valida_inteiro(idade):\n",
    "#         if (not isinstance(idade, int) or idade<0):\n",
    "#             try:\n",
    "#                 idade = int(idade)\n",
    "#             except:\n",
    "#                 raise ValueError('A idade deve ser inteiro.')     \n",
    "        \n",
    "while opcao_menu != '4':\n",
    "    opcao_menu = input('1. Adicionar cliente\\n2. Modificar cadastro\\n3. Mostrar clientes\\n4. Sair\\n\\n')\n",
    "\n",
    "    if opcao_menu == '1':\n",
    "        nome = input('\\n1.1-Insira o nome do cliente: ')\n",
    "        idade = int(input('1.2-Insira a idade do cliente: '))\n",
    "        email = input('1.3-Insira o e-mail do cliente: ')\n",
    "        identificador = email\n",
    "\n",
    "    # no dicionário ele percorre todas as chaves, assim não há necessidade de indicar a posição\n",
    "        if identificador not in Cliente.grupo_clientes:\n",
    "            Sistema.adicionar_cliente(nome, idade, email)\n",
    "            print('Cliente adicionado com sucesso.\\n')\n",
    "            print(f'Adicionado a chave {Cliente.grupo_clientes[identificador]}\\n')\n",
    "        else:\n",
    "            print('Cliente já possui cadastro.\\n')\n",
    "\n",
    "    #Modificar cadastro\n",
    "    elif opcao_menu == '2':\n",
    "        identificador = input('\\n2.1-Insira o e-mail do cadastro:')\n",
    "        if identificador in Cliente.grupo_clientes:\n",
    "            nome = input('2.2-Insira o nome a ser alterado: ')\n",
    "            idade = int(input('2.3-Insira a idade a ser alterada: '))\n",
    "            email = identificador\n",
    "            print('2.4-e-mail não pode ser modificado. Para alterar o e-mail faça novo cadastro.')\n",
    "            Sistema.modificar_cliente(identificador, nome, idade, email)\n",
    "            print('\\nNome e/ou idade alterado(s) com sucesso.\\n')\n",
    "            print(f'\\nModificado o cadastro para: {Cliente.grupo_clientes[identificador]}\\n')\n",
    "        else:   \n",
    "            print('\\ne-mail não localizado no cadastro.')\n",
    "\n",
    "    elif opcao_menu == '3':\n",
    "        Sistema.imprime_clientes()\n",
    "\n",
    "    # if = se, elif = senão se, else = senão\n",
    "    elif opcao_menu == '4':\n",
    "        print('\\nAté logo. Volte sempre!\\n')\n",
    "        break\n",
    "    else:\n",
    "        print('Ocorreu um erro\\n')"
   ]
  },
  {
   "cell_type": "code",
   "execution_count": null,
   "id": "887eba8a-2beb-460e-ab15-9ded60c8a28d",
   "metadata": {
    "tags": []
   },
   "outputs": [],
   "source": [
    "# criando o objeto pela classe Clientes\n",
    "diego = Cliente('Diego', 37, 'dzionn@gmail.com')\n",
    "evellyn = Cliente('Diego', 37, '2')\n",
    "AG = Cliente('Diego', 37, '3')"
   ]
  },
  {
   "cell_type": "code",
   "execution_count": null,
   "id": "47000b79-f20f-4d80-8598-ac40c8cc25c2",
   "metadata": {},
   "outputs": [],
   "source": [
    "# criando o objeto pela classe Sistema\n",
    "# perceba que não foi criado uma variável para o objeto\n",
    "Sistema.adicionar_cliente('Evellyn', 36, 'evellyn@gmail.com')\n",
    "\n",
    "# assim, na criação de um novo cliente, o objeto irá sobrepor esse objeto criado\n",
    "Sistema.adicionar_cliente('Mari', 64, 'mari1957@gmail.com')"
   ]
  },
  {
   "cell_type": "code",
   "execution_count": null,
   "id": "bfa978c0-2c67-4589-b790-fbb860cfacc4",
   "metadata": {},
   "outputs": [],
   "source": [
    "# validando a adição dos objetos criados no dicionário com a referencia do email\n",
    "print(Cliente.grupo_clientes)"
   ]
  },
  {
   "cell_type": "code",
   "execution_count": null,
   "id": "9ff101e5-ee28-4c1f-80e5-21b0212913e2",
   "metadata": {},
   "outputs": [],
   "source": [
    "Cliente.grupo_clientes"
   ]
  },
  {
   "cell_type": "code",
   "execution_count": null,
   "id": "11e2c9b4-a582-40c2-82e8-2193fe2b1364",
   "metadata": {},
   "outputs": [],
   "source": [
    "Sistema.imprime_clientes()"
   ]
  },
  {
   "cell_type": "code",
   "execution_count": null,
   "id": "4b712dd5-d14d-4f40-a762-458d28fd1ee5",
   "metadata": {},
   "outputs": [],
   "source": []
  }
 ],
 "metadata": {
  "kernelspec": {
   "display_name": "Python 3",
   "language": "python",
   "name": "python3"
  },
  "language_info": {
   "codemirror_mode": {
    "name": "ipython",
    "version": 3
   },
   "file_extension": ".py",
   "mimetype": "text/x-python",
   "name": "python",
   "nbconvert_exporter": "python",
   "pygments_lexer": "ipython3",
   "version": "3.8.8"
  }
 },
 "nbformat": 4,
 "nbformat_minor": 5
}
