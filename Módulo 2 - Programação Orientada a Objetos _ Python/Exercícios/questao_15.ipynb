{
 "cells": [
  {
   "cell_type": "markdown",
   "id": "305395e8-24f0-4111-b2a8-1422a7c3305e",
   "metadata": {},
   "source": [
    "## Questão #15\n",
    "\n",
    "Enunciado\n",
    "Crie uma classe Quadrado, filha da classe Retângulo do exercício 2."
   ]
  },
  {
   "cell_type": "code",
   "execution_count": 38,
   "id": "2145cce0-a319-4d72-a022-520c8a8a033e",
   "metadata": {},
   "outputs": [],
   "source": [
    "class Retangulo:\n",
    "    '''\n",
    "    Classe que calcula área do retângulo\n",
    "    '''\n",
    "    def __init__(self, lado_a, lado_b):\n",
    "        '''\n",
    "        lado_a : float\n",
    "            lado A do retângulo\n",
    "        labo_b : float\n",
    "            lado B do retângulo\n",
    "        '''\n",
    "        self.lado_a = lado_a\n",
    "        self.lado_b = lado_b\n",
    "        \n",
    "        # a partir do objeto criado com o método abaixo\n",
    "        self.area = self.calcular_area()\n",
    "        \n",
    "    # Não é necessário docstring para os métodos mágicos __repr__ e __srt__    \n",
    "    def __repr__(self):\n",
    "        return f'Lado A tem {self.lado_a}m e o lado B tem {self.lado_b}m'\n",
    "    \n",
    "    def calcular_area(self):\n",
    "        '''\n",
    "        Calcula a área do retângulo\n",
    "        '''\n",
    "        area = self.lado_a * self.lado_b\n",
    "        return f'A área tem {area:.4}m2'"
   ]
  },
  {
   "cell_type": "code",
   "execution_count": 39,
   "id": "f96fb568-4457-42c0-90a9-f2c2faa36945",
   "metadata": {},
   "outputs": [],
   "source": [
    "class Quadrado(Retangulo):\n",
    "    '''\n",
    "    Classe que herda classe Retangulo e calcula área do Quadrado\n",
    "    '''\n",
    "    # definindo o construtor da Classe Quadrado\n",
    "    def __init__(self, lado):\n",
    "        '''\n",
    "        Calcula a área do quadrado\n",
    "        \n",
    "        Parâmetros\n",
    "        ----------\n",
    "        lado : float\n",
    "            Valor de um dos lados do quadrado\n",
    "        '''\n",
    "        # herdando os atributos da Classe Retangulo\n",
    "        super().__init__(lado, lado)"
   ]
  },
  {
   "cell_type": "code",
   "execution_count": 40,
   "id": "72c60bb1-0384-4401-a753-26b0be548109",
   "metadata": {},
   "outputs": [],
   "source": [
    "quadrado = Quadrado(lado = 2.2)"
   ]
  },
  {
   "cell_type": "code",
   "execution_count": 41,
   "id": "451a24ab-2cea-45e8-8110-09e7692507a4",
   "metadata": {},
   "outputs": [
    {
     "data": {
      "text/plain": [
       "'A área tem 4.84m2'"
      ]
     },
     "execution_count": 41,
     "metadata": {},
     "output_type": "execute_result"
    }
   ],
   "source": [
    "quadrado.calcular_area()"
   ]
  },
  {
   "cell_type": "code",
   "execution_count": null,
   "id": "11854067-b131-4619-9e68-d12a769af909",
   "metadata": {},
   "outputs": [],
   "source": []
  }
 ],
 "metadata": {
  "kernelspec": {
   "display_name": "Python 3",
   "language": "python",
   "name": "python3"
  },
  "language_info": {
   "codemirror_mode": {
    "name": "ipython",
    "version": 3
   },
   "file_extension": ".py",
   "mimetype": "text/x-python",
   "name": "python",
   "nbconvert_exporter": "python",
   "pygments_lexer": "ipython3",
   "version": "3.8.8"
  }
 },
 "nbformat": 4,
 "nbformat_minor": 5
}
