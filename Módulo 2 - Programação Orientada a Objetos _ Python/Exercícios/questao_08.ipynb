{
 "cells": [
  {
   "cell_type": "markdown",
   "id": "9e72e767-7c6f-4e84-9e5c-0d1ba17f51be",
   "metadata": {},
   "source": [
    "## Questão #8\n",
    "\n",
    "Enunciado\n",
    "\n",
    "Crie uma classe Cliente cujos atributos são nome, idade e e-mail. Construa um método que imprima as informações tal como abaixo:\n",
    "\n",
    "Nome: Fulano de Tal\n",
    "\n",
    "Idade: 40\n",
    "\n",
    "E-mail: fulano@mail.com\n"
   ]
  },
  {
   "cell_type": "code",
   "execution_count": 16,
   "id": "3a6d02da-ef7b-4581-a7b6-9c2cf3407f24",
   "metadata": {
    "tags": []
   },
   "outputs": [],
   "source": [
    "class Cliente:\n",
    "    def __init__(self, nome, idade, email):\n",
    "        '''\n",
    "        Método construtor\n",
    "        \n",
    "        Parâmetros\n",
    "        ----------\n",
    "        nome : str\n",
    "            Nome do cliente\n",
    "        idade : int\n",
    "            Idade do cliente\n",
    "        email : str\n",
    "            e-mail do cliente\n",
    "        '''\n",
    "        \n",
    "        # atributos do método\n",
    "        self.nome = nome\n",
    "        self.idade = idade\n",
    "        self.email = email\n",
    "        \n",
    "    def __repr__(self):\n",
    "        return f'Nome: {self.nome}\\nIdade: {self.idade}\\nE-mail: {self.email}\\n'"
   ]
  },
  {
   "cell_type": "code",
   "execution_count": 18,
   "id": "fe04016c-0655-465e-b6cc-16d2a96c63e3",
   "metadata": {},
   "outputs": [
    {
     "name": "stdout",
     "output_type": "stream",
     "text": [
      "Nome: Diego\n",
      "Idade: 37\n",
      "E-mail: dzionn@gmail.com\n",
      "\n"
     ]
    }
   ],
   "source": [
    "# criando o objeto\n",
    "diego = Cliente('Diego', 37, 'dzionn@gmail.com')\n",
    "\n",
    "# apresentando o objeto\n",
    "print(diego)"
   ]
  }
 ],
 "metadata": {
  "kernelspec": {
   "display_name": "Python 3",
   "language": "python",
   "name": "python3"
  },
  "language_info": {
   "codemirror_mode": {
    "name": "ipython",
    "version": 3
   },
   "file_extension": ".py",
   "mimetype": "text/x-python",
   "name": "python",
   "nbconvert_exporter": "python",
   "pygments_lexer": "ipython3",
   "version": "3.8.8"
  }
 },
 "nbformat": 4,
 "nbformat_minor": 5
}
