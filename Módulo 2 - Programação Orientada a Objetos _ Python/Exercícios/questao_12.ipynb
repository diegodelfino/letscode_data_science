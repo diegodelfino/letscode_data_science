{
 "cells": [
  {
   "cell_type": "markdown",
   "id": "f3e81e5e-7ecc-4f89-8de5-4a250785f26e",
   "metadata": {},
   "source": [
    "## Questão #12\n",
    "\n",
    "Enunciado\n",
    "Crie uma classe Data cujos atributos são dia, mês e ano. Implemente métodos _ repr _ e para comparação: igualdade (==) e desigualdades (!=, <=, >=, < e >)."
   ]
  },
  {
   "cell_type": "code",
   "execution_count": 11,
   "id": "d2d57a78-6602-4d6b-b9c5-77f573213696",
   "metadata": {},
   "outputs": [
    {
     "name": "stdout",
     "output_type": "stream",
     "text": [
      "771984 1161957 251955\n",
      "07/07/1984 11/06/1957 02/05/1955\n",
      "True\n",
      "True\n",
      "True\n",
      "True\n",
      "False\n"
     ]
    }
   ],
   "source": [
    "class Data:\n",
    "    def __init__(self, dia, mes, ano):\n",
    "        '''\n",
    "        Construtor\n",
    "\n",
    "        Parâmetros:\n",
    "        ----------\n",
    "        dia : int\n",
    "            Dia da data, exemplo : \"01\"\n",
    "        mes : int\n",
    "            Mês da data, exemplo : \"12\"\n",
    "        ano : int\n",
    "            Ano da data, exemplo : \"2021\"\n",
    "\n",
    "        Output: The init will raise errors if any of the entries isn't integer or out of range for a possible date.           \n",
    "        '''\n",
    "        if (not isinstance (dia, int)) or ( dia < 1 or dia > 31):  \n",
    "            raise ValueError(\"Dia deve ser inteiro entre 1 e 31\") \n",
    "        if (not isinstance (mes, int)) or (mes < 1 or mes > 12): \n",
    "            raise ValueError(\"Mês deve ser inteiro entre 1 e 12\")  \n",
    "        if (not isinstance (ano, int)) or ( ano < 0):\n",
    "            raise ValueError(\"Ano deve ser inteiro e positivo\")\n",
    "        \n",
    "        self.dia = dia\n",
    "        self.mes = mes\n",
    "        self.ano = ano\n",
    "                                           \n",
    "    def __repr__(self):\n",
    "        return f\"{self.dia:02d}/{self.mes:02d}/{self.ano}\"\n",
    "\n",
    "    def data_formatada(self):\n",
    "        return(f\"{self.dia}{self.mes}{self.ano}\")\n",
    "\n",
    "    def __eq__(self, other):\n",
    "        return self.data_formatada() == other.data_formatada()\n",
    "    \n",
    "    def __lt__(self, other):\n",
    "        return self.data_formatada() < other.data_formatada()\n",
    "    \n",
    "    def __le__(self, other):\n",
    "        return self.data_formatada() <= other.data_formatada()\n",
    "    \n",
    "    def __gt__(self, other):\n",
    "        return self.data_formatada () > other.data_formatada()\n",
    "    \n",
    "    def __ge__(self, other):\n",
    "        return self.data_formatada() >= other.data_formatada()\n",
    "\n",
    "# instanciando as datas\n",
    "data1 = Data(7, 7, 1984)\n",
    "data2 = Data(11, 6, 1957)\n",
    "data3 = Data(2, 5, 1955)\n",
    "\n",
    "# validando o método data_formatada\n",
    "print(data1.data_formatada(), data2.data_formatada(), data3.data_formatada())\n",
    "\n",
    "# validando o método de representação, __repr__\n",
    "print(data1, data2, data3)\n",
    "\n",
    "# validando o método de ==, __eq__\n",
    "print(data1 == data1)\n",
    "\n",
    "# validando o método de <, __lt__\n",
    "print(data2 < data3)\n",
    "\n",
    "# validando o método de <=, __le__\n",
    "print(data3 <= data1)\n",
    "\n",
    "# validando o método de >, __gt__\n",
    "print(data1 > data2)\n",
    "\n",
    "# validando o método de >=, __ge__\n",
    "print(data2 >= data3)"
   ]
  },
  {
   "cell_type": "code",
   "execution_count": null,
   "id": "061ccdf8-179c-40c9-af66-63c970fb3a87",
   "metadata": {},
   "outputs": [],
   "source": []
  }
 ],
 "metadata": {
  "kernelspec": {
   "display_name": "Python 3",
   "language": "python",
   "name": "python3"
  },
  "language_info": {
   "codemirror_mode": {
    "name": "ipython",
    "version": 3
   },
   "file_extension": ".py",
   "mimetype": "text/x-python",
   "name": "python",
   "nbconvert_exporter": "python",
   "pygments_lexer": "ipython3",
   "version": "3.8.8"
  }
 },
 "nbformat": 4,
 "nbformat_minor": 5
}
