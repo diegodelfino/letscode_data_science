{
 "cells": [
  {
   "cell_type": "markdown",
   "id": "f1bf9619-49bd-4dcc-85e6-11cfea451210",
   "metadata": {},
   "source": [
    "## Questão #14\n",
    "\n",
    "Enunciado\n",
    "\n",
    "Faça uma classe ContaVip que difere da ContaCorrente por ter cheque especial (novo atributo) e é filha da classe ContaCorrente. Você precisa implementar os métodos para saque, transferência ou depósito?"
   ]
  },
  {
   "cell_type": "code",
   "execution_count": 1,
   "id": "ece523e7-fa23-4835-9a5b-63d3a63759e9",
   "metadata": {},
   "outputs": [],
   "source": [
    "class Cliente:\n",
    "    def __init__(self, nome, idade, email):\n",
    "        '''\n",
    "        Método construtor\n",
    "        \n",
    "        Parâmetros\n",
    "        ----------\n",
    "        nome : str\n",
    "            Nome do cliente\n",
    "        idade : int\n",
    "            Idade do cliente\n",
    "        email : str\n",
    "            e-mail do cliente\n",
    "        '''\n",
    "        \n",
    "        # atributos do método\n",
    "        self.nome = nome\n",
    "        self.idade = idade\n",
    "        self.email = email\n",
    "    \n",
    "    # Método de representação do Cliente\n",
    "    def __repr__(self):\n",
    "        return f'Nome: {self.nome}\\nIdade: {self.idade}\\nE-mail: {self.email}'\n",
    "    \n",
    "class ContaCorrente:\n",
    "    def __init__(self, cliente, saldo=0):\n",
    "        '''\n",
    "        Cria uma conta corrente para o objeto Cliente.\n",
    "        cliente : obj\n",
    "            Cliente criado na classe Cliente\n",
    "        saldo : float\n",
    "            Saldo do cliente na criação da conta corrente\n",
    "        '''\n",
    "        \n",
    "        # self.cliente é o cliente criado na classe Cliente\n",
    "        # A self (conta corrente) é atribuida ao cliente já existente\n",
    "        # saldo é um atributo privado\n",
    "        \n",
    "        self.cliente = cliente\n",
    "        cliente.ContaCorrente = self\n",
    "        self.__saldo = float(saldo)\n",
    "        \n",
    "    # criado o método para acessar o saldo da self (conta corrente)    \n",
    "    @property    \n",
    "    def saldo(self):\n",
    "        return self.__saldo\n",
    "    \n",
    "    # método de representação do cliente + saldo da self (conta corrente)\n",
    "    # self.cliente.nome, apresentará somente o nome\n",
    "    \n",
    "    def __repr__(self):\n",
    "        return f'Nome: {self.cliente}\\nSALDO: {self.__saldo}\\n'\n",
    "\n",
    "    def depositar(self, valor_deposito):\n",
    "        '''\n",
    "        Realizar deposito no self (conta corrente)\n",
    "        valor_deposito : float\n",
    "            Valor do deposito\n",
    "        '''\n",
    "        # verifica o saldo do self (conta corrente) e incrementa com valor (deposito)\n",
    "        self.__saldo += valor_deposito\n",
    "        \n",
    "    def sacar(self, valor_saque):\n",
    "        '''\n",
    "        Realizar saque no self (conta corrente)\n",
    "        valor_saque : float\n",
    "            Valor do saque\n",
    "        '''\n",
    "        # verifica se o valor de saque é suficiente no saldo\n",
    "        # subtrai o valor do saldo\n",
    "        # senão, informa que o saldo é insuficiente\n",
    "        if self.__saldo - valor_saque >= 0:\n",
    "            self.__saldo -= valor_saque\n",
    "        else:\n",
    "            print('Saldo não é suficiente para o saque.')\n",
    "            \n",
    "    def transferir(self, other, valor_transferencia):\n",
    "        '''\n",
    "        Realizar transferencia para outro self (outra conta corrente)\n",
    "        valor_transferencia : float\n",
    "            Valor a ser transferido\n",
    "        '''\n",
    "        # verifica se o valor de transferência é suficiente no saldo\n",
    "        # subtrai o valor do saldo\n",
    "        # incrementa o valor no saldo do other\n",
    "        # senão, informa que o saldo é insuficiente\n",
    "        if self.__saldo - valor_transferencia >= 0:\n",
    "            self.__saldo -= valor_transferencia\n",
    "            other.__saldo += valor_transferencia\n",
    "        else:\n",
    "            print('Saldo insuficiente para realizar transferência')"
   ]
  },
  {
   "cell_type": "code",
   "execution_count": 2,
   "id": "8d350fd8-319d-4184-b490-9358d128438b",
   "metadata": {},
   "outputs": [],
   "source": [
    "class ContaVip(ContaCorrente):\n",
    "    '''\n",
    "    Herança da classe ContaCorrente\n",
    "    '''\n",
    "    def __init__(self, cliente, saldo=0, limite=0):\n",
    "        super().__init__(cliente, saldo)\n",
    "        self.limite = float(limite)\n",
    "        '''\n",
    "        Método construtor\n",
    "        \n",
    "        Parâmetros\n",
    "        ----------\n",
    "        nome : str\n",
    "            Nome do cliente\n",
    "        saldo : float\n",
    "            Saldo da conta corrente\n",
    "        cheque_especial: float\n",
    "            Valor de limite em conta corrente\n",
    "        '''\n",
    "        \n",
    "    def __repr__(self):\n",
    "        return f'Nome: {self.cliente}\\nSALDO: {self.saldo}, Limite:{self.limite}\\n'     \n",
    "        \n",
    "    def sacar(self, valor_saque):\n",
    "        '''\n",
    "        Realizar saque no self (conta corrente)\n",
    "        valor_saque : float\n",
    "            Valor do saque\n",
    "        '''\n",
    "        # verifica se o valor de saque é suficiente no saldo\n",
    "        # subtrai o valor do saldo\n",
    "        # senão, informa que o saldo é insuficiente\n",
    "        if ((self.saldo + self.limite) - valor_saque >= 0):\n",
    "            self.depositar(-valor_saque)\n",
    "        else:\n",
    "            print('Saldo não é suficiente para o saque.')\n",
    "            \n",
    "    def transferir(self, other, valor_transferencia):\n",
    "        '''\n",
    "        Realizar transferencia para outro self (outra conta corrente)\n",
    "        valor_transferencia : float\n",
    "            Valor a ser transferido\n",
    "        '''\n",
    "        # verifica se o valor de transferência é suficiente no saldo\n",
    "        # subtrai o valor do saldo\n",
    "        # incrementa o valor no saldo do other\n",
    "        # senão, informa que o saldo é insuficiente\n",
    "        if ((self.saldo + self.limite) - valor_transferencia >= 0):\n",
    "            self.depositar(-valor_transferencia)\n",
    "            other.depositar(valor_transferencia)\n",
    "        else:\n",
    "            print('Saldo insuficiente para realizar transferência')"
   ]
  },
  {
   "cell_type": "code",
   "execution_count": 3,
   "id": "64c0379d-61dd-4108-87ca-cc926fabd3ef",
   "metadata": {},
   "outputs": [],
   "source": [
    "# criando os clientes Diego e Evellyn\n",
    "\n",
    "diego = Cliente('Diego', 37, 'dzionn@gmail.com')\n",
    "evellyn = Cliente ('Evellyn', 36, 'evellyn@gmail.com')"
   ]
  },
  {
   "cell_type": "code",
   "execution_count": 4,
   "id": "b161b786-9fe1-4c16-a617-d11981a5e68b",
   "metadata": {},
   "outputs": [
    {
     "name": "stdout",
     "output_type": "stream",
     "text": [
      "Nome: Nome: Diego\n",
      "Idade: 37\n",
      "E-mail: dzionn@gmail.com\n",
      "SALDO: 0.0, Limite:1000.0\n",
      "\n",
      "Nome: Nome: Evellyn\n",
      "Idade: 36\n",
      "E-mail: evellyn@gmail.com\n",
      "SALDO: 0.0\n",
      "\n"
     ]
    }
   ],
   "source": [
    "# criando a conta da Evellyn e conta Vip de Diego com um limite\n",
    "\n",
    "A0001 = ContaVip(diego, limite = '1000')\n",
    "A0002 = ContaCorrente(evellyn)\n",
    "\n",
    "# apresenta o saldo atual das contas de Diego e Evellyn\n",
    "print(A0001)\n",
    "print(A0002)"
   ]
  },
  {
   "cell_type": "code",
   "execution_count": 5,
   "id": "a077b956-4bef-4b5e-8304-6aeda303af67",
   "metadata": {},
   "outputs": [
    {
     "name": "stdout",
     "output_type": "stream",
     "text": [
      "Nome: Nome: Diego\n",
      "Idade: 37\n",
      "E-mail: dzionn@gmail.com\n",
      "SALDO: 500.0, Limite:1000.0\n",
      "\n",
      "Nome: Nome: Evellyn\n",
      "Idade: 36\n",
      "E-mail: evellyn@gmail.com\n",
      "SALDO: 0.0\n",
      "\n"
     ]
    }
   ],
   "source": [
    "# validando o método sacar como visão do limite \n",
    "A0001.depositar(500)\n",
    "\n",
    "# apresenta o saldo atual das contas de Diego e Evellyn\n",
    "print(A0001)\n",
    "print(A0002)"
   ]
  },
  {
   "cell_type": "code",
   "execution_count": 6,
   "id": "b0d6ff51-c467-4715-b2f2-0e2d52eaa058",
   "metadata": {},
   "outputs": [
    {
     "name": "stdout",
     "output_type": "stream",
     "text": [
      "Nome: Nome: Diego\n",
      "Idade: 37\n",
      "E-mail: dzionn@gmail.com\n",
      "SALDO: 300.0, Limite:1000.0\n",
      "\n",
      "Nome: Nome: Evellyn\n",
      "Idade: 36\n",
      "E-mail: evellyn@gmail.com\n",
      "SALDO: 200.0\n",
      "\n"
     ]
    }
   ],
   "source": [
    "# validando o método transferir  como visão do limite \n",
    "A0001.transferir(A0002, 200)\n",
    "\n",
    "# apresenta o saldo atual das contas de Diego e Evellyn\n",
    "print(A0001)\n",
    "print(A0002)"
   ]
  },
  {
   "cell_type": "code",
   "execution_count": 7,
   "id": "477afd36-f10b-47fb-b8cc-a005d71709cb",
   "metadata": {},
   "outputs": [
    {
     "name": "stdout",
     "output_type": "stream",
     "text": [
      "Nome: Nome: Diego\n",
      "Idade: 37\n",
      "E-mail: dzionn@gmail.com\n",
      "SALDO: -500.0, Limite:1000.0\n",
      "\n",
      "Nome: Nome: Evellyn\n",
      "Idade: 36\n",
      "E-mail: evellyn@gmail.com\n",
      "SALDO: 200.0\n",
      "\n"
     ]
    }
   ],
   "source": [
    "# validando o método sacar como visão do limite \n",
    "A0001.sacar(800)\n",
    "\n",
    "# apresenta o saldo atual das contas de Diego e Evellyn\n",
    "print(A0001)\n",
    "print(A0002)"
   ]
  }
 ],
 "metadata": {
  "kernelspec": {
   "display_name": "Python 3",
   "language": "python",
   "name": "python3"
  },
  "language_info": {
   "codemirror_mode": {
    "name": "ipython",
    "version": 3
   },
   "file_extension": ".py",
   "mimetype": "text/x-python",
   "name": "python",
   "nbconvert_exporter": "python",
   "pygments_lexer": "ipython3",
   "version": "3.8.8"
  }
 },
 "nbformat": 4,
 "nbformat_minor": 5
}
