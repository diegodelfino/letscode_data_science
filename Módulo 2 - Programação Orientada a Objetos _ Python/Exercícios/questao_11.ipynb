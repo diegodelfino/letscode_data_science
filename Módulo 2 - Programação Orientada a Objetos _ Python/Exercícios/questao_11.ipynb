{
 "cells": [
  {
   "cell_type": "markdown",
   "id": "6972277a-b698-495b-ae71-9477ae7c3485",
   "metadata": {},
   "source": [
    "## Questão #11\n",
    "\n",
    "Enunciado\n",
    "\n",
    "Crie uma classe Fração cujos atributos são numerador (número de cima) e denominador (número de baixo).\n",
    "\n",
    "Implemente os métodos de adição, subtração, multiplicação, divisão que retornam objetos do tipo Fração.\n",
    "\n",
    "Implemente também o método _ repr _.\n",
    "\n",
    "Implemente métodos para comparação: igualdade (==) e desigualdades (!=, <=, >=, < e >)."
   ]
  },
  {
   "cell_type": "code",
   "execution_count": 123,
   "id": "909ffdaf-4657-4ac7-9c52-305b33a1c3fd",
   "metadata": {},
   "outputs": [],
   "source": [
    "class Fracao:\n",
    "    '''\n",
    "    Classe de aritmética de frações\n",
    "    '''\n",
    "    def __init__(self, numerador, denominador):\n",
    "        '''\n",
    "        Calcula adição, subtração, multiplicação e divisão de frações\n",
    "\n",
    "        Parâmetros\n",
    "        ----------\n",
    "        numerador : float\n",
    "            numerador (número de cima) da fração\n",
    "        denomiador : float\n",
    "            denominador (número de baixo) da fração\n",
    "        '''\n",
    "        \n",
    "        # primeira verificação, denominador da fração não pode ser 0.\n",
    "        if(denominador == 0):\n",
    "            raise ValueError('Não é possível denominador 0')\n",
    "        \n",
    "        # setando os atributos do método construtor\n",
    "        self.numerador = numerador\n",
    "        self.denominador = denominador\n",
    "        \n",
    "    def valor(self):\n",
    "        '''\n",
    "        Transforma a fração para número decimal.\n",
    "        '''\n",
    "        return self.numerador/self.denominador\n",
    "        \n",
    "        # método mágico de representação do objeto\n",
    "    def __repr__(self):\n",
    "        return f'{self.numerador}/{self.denominador}'\n",
    "    \n",
    "    def __add__(self, other):\n",
    "        '''\n",
    "        Adição de frações\n",
    "        '''\n",
    "#         num = self.numerador*other.denominador +\\\n",
    "#         self.denominador*other.numerador\n",
    "        \n",
    "        den = self.denominador*other.denominador\n",
    "        \n",
    "        num = int(den/self.denominador)*self.numerador +\\\n",
    "        int(den/other.denominador)*other.numerador\n",
    "\n",
    "        return f'A adicão em decimal é {den/num:.2} e em fração {Fracao(num, den)}' \n",
    "    \n",
    "    def __sub__(self, other):\n",
    "        num = self.numerador*other.denominador -\\\n",
    "        self.denominador*other.numerador\n",
    "        \n",
    "        den = self.denominador*other.denominador\n",
    "        \n",
    "        return f'Em fração a subtração é {Fracao(num, den)}' \n",
    "    \n",
    "    def __mul__(self, other):\n",
    "        num = self.numerador * other.numerador\n",
    "        den = self.denominador * other.denominador\n",
    "        \n",
    "        return f'Em fração a multiplicação é {Fracao(num, den)}' \n",
    "    \n",
    "    def __truediv__(self, other):\n",
    "        num = self.numerador*other.denominador\n",
    "        den = self.denominador*other.numerador\n",
    "        \n",
    "        return f'Em fração a divisão é {Fracao(num, den)}' \n",
    "    \n",
    "    def __eq__(self, other):\n",
    "        return self.valor() == other.valor()\n",
    "    \n",
    "    def __lt__(self, other):\n",
    "        return self.valor() < other.valor()\n",
    "    \n",
    "    def __le__(self, other):\n",
    "        return self.valor() <= other.valor()\n",
    "    \n",
    "    def __gt__(self, other):\n",
    "        return self.valor() > other.valor()  \n",
    "    \n",
    "    def __ge__(self, other):\n",
    "        return self.valor() >= other.valor()"
   ]
  },
  {
   "cell_type": "code",
   "execution_count": 124,
   "id": "ea80afcc-e889-49f1-a700-f0880b8f9df9",
   "metadata": {},
   "outputs": [],
   "source": [
    "# instanciando os objetos, fração 1 e fração 2\n",
    "\n",
    "fra1 = Fracao(numerador = 1,\n",
    "        denominador = 4)\n",
    "\n",
    "fra2 = Fracao(numerador = 1,\n",
    "        denominador = 2)"
   ]
  },
  {
   "cell_type": "code",
   "execution_count": 125,
   "id": "d0677e51-28a7-43b2-b1eb-222770ed1782",
   "metadata": {},
   "outputs": [
    {
     "data": {
      "text/plain": [
       "(0.25, 0.5)"
      ]
     },
     "execution_count": 125,
     "metadata": {},
     "output_type": "execute_result"
    }
   ],
   "source": [
    "# validando o método valor\n",
    "\n",
    "fra1.valor(), fra2.valor()"
   ]
  },
  {
   "cell_type": "code",
   "execution_count": 126,
   "id": "97b6bb26-e418-41a5-8e1d-b9bbd811b77d",
   "metadata": {},
   "outputs": [
    {
     "data": {
      "text/plain": [
       "'A adicão em decimal é 1.3 e em fração 6/8'"
      ]
     },
     "execution_count": 126,
     "metadata": {},
     "output_type": "execute_result"
    }
   ],
   "source": [
    "# validando o método de soma, __add__\n",
    "\n",
    "fra1 + fra2"
   ]
  },
  {
   "cell_type": "code",
   "execution_count": 127,
   "id": "41acebf5-7da8-4435-aba5-cca974d63d67",
   "metadata": {},
   "outputs": [
    {
     "data": {
      "text/plain": [
       "'Em fração a subtração é -2/8'"
      ]
     },
     "execution_count": 127,
     "metadata": {},
     "output_type": "execute_result"
    }
   ],
   "source": [
    "# validando o método de subtração, __sub__\n",
    "\n",
    "fra1 - fra2"
   ]
  },
  {
   "cell_type": "code",
   "execution_count": 128,
   "id": "136d7875-a149-4111-a08f-bf2dbba73cc6",
   "metadata": {},
   "outputs": [
    {
     "data": {
      "text/plain": [
       "'Em fração a multiplicação é 1/8'"
      ]
     },
     "execution_count": 128,
     "metadata": {},
     "output_type": "execute_result"
    }
   ],
   "source": [
    "# validando o método de multimplicação, __mul__\n",
    "\n",
    "fra1 * fra2"
   ]
  },
  {
   "cell_type": "code",
   "execution_count": 129,
   "id": "4d891474-58c9-4401-be68-e5a411a3dc9d",
   "metadata": {},
   "outputs": [
    {
     "data": {
      "text/plain": [
       "'Em fração a divisão é 2/4'"
      ]
     },
     "execution_count": 129,
     "metadata": {},
     "output_type": "execute_result"
    }
   ],
   "source": [
    "# validando o método de divisão, __truediv__\n",
    "\n",
    "fra1 / fra2"
   ]
  },
  {
   "cell_type": "code",
   "execution_count": 130,
   "id": "4b993406-0e0f-4119-b632-bf8a57c001e8",
   "metadata": {},
   "outputs": [
    {
     "data": {
      "text/plain": [
       "(False, True, True, False, False)"
      ]
     },
     "execution_count": 130,
     "metadata": {},
     "output_type": "execute_result"
    }
   ],
   "source": [
    "# validando o método de ==, __eq__\n",
    "\n",
    "# validando o método de <, __lt__\n",
    "\n",
    "# validando o método de <=, __le__\n",
    "\n",
    "# validando o método de >, __gt__\n",
    "\n",
    "# validando o método de >=, __ge__\n",
    "\n",
    "fra1 == fra2, fra1 < fra2, fra1 <= fra2, fra1 > fra2, fra1 >= fra2"
   ]
  }
 ],
 "metadata": {
  "kernelspec": {
   "display_name": "Python 3",
   "language": "python",
   "name": "python3"
  },
  "language_info": {
   "codemirror_mode": {
    "name": "ipython",
    "version": 3
   },
   "file_extension": ".py",
   "mimetype": "text/x-python",
   "name": "python",
   "nbconvert_exporter": "python",
   "pygments_lexer": "ipython3",
   "version": "3.8.8"
  }
 },
 "nbformat": 4,
 "nbformat_minor": 5
}
